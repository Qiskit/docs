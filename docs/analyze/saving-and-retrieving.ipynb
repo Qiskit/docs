{
 "cells": [
  {
   "cell_type": "markdown",
   "id": "539f98fa-9ccc-472a-99da-ebe6382243dc",
   "metadata": {},
   "source": [
    "# Saving and retrieving Qiskit objects\n",
    "\n",
    "Quantum workflows often take a while to complete so must run over many sessions. Restarting your Python kernel means you'll lose any circuits or results stored in memory. To avoid loss of data, you can save quantum circuits to file and retrieve results of past jobs from IBM Quantum so your next session can continue where you left off.\n",
    "\n",
    "## Saving circuits to file\n",
    "\n",
    "Use [QPY serialization](/api/qiskit/qpy) to save your circuit to file. QPY files save the full Qiskit circuit object and are forwards-compatible, meaning they'll be understood by newer versions of Qiskit.\n",
    "\n",
    "To demonstrate, the following cell creates a simple quantum circuit."
   ]
  },
  {
   "cell_type": "code",
   "execution_count": 1,
   "id": "fa58c6e1-1102-4409-80b8-01b02e4e6ee5",
   "metadata": {},
   "outputs": [],
   "source": [
    "from qiskit import QuantumCircuit\n",
    "\n",
    "qc = QuantumCircuit(2)\n",
    "qc.h(0)\n",
    "qc.cx(0,1)\n",
    "qc.measure_all()"
   ]
  },
  {
   "cell_type": "markdown",
   "id": "d208d7a6-d465-4f08-909e-fd6803577700",
   "metadata": {},
   "source": [
    "To save this file to disk, use the `qpy.dump` function. You can also save a list of circuits."
   ]
  },
  {
   "cell_type": "code",
   "execution_count": 2,
   "id": "e02f1f2a-2705-4406-bb1c-c80d436b5110",
   "metadata": {},
   "outputs": [],
   "source": [
    "from qiskit import qpy\n",
    "\n",
    "with open('test.qpy', 'wb') as file:\n",
    "    qpy.dump(qc, file)"
   ]
  },
  {
   "cell_type": "markdown",
   "id": "3af68772-b488-411d-9084-14129b9a9f1d",
   "metadata": {},
   "source": [
    "This circuit is now saved to the file `test.qpy`. If you restart your Python kernel, you can re-load the circuit using the `qpy.load` function. Note that this always returns a list of circuits, even if you only serialized one circuit."
   ]
  },
  {
   "cell_type": "code",
   "execution_count": 3,
   "id": "210d05c8-c9eb-4135-bb3f-94c281708f4b",
   "metadata": {},
   "outputs": [
    {
     "data": {
      "image/png": "[encoded data removed]",
      "text/plain": [
       "<Figure size 580.387x284.278 with 1 Axes>"
      ]
     },
     "execution_count": 3,
     "metadata": {},
     "output_type": "execute_result"
    }
   ],
   "source": [
    "with open('test.qpy', 'rb') as handle:\n",
    "    qc = qpy.load(handle)\n",
    "\n",
    "qc[0].draw('mpl')"
   ]
  },
  {
   "cell_type": "code",
   "execution_count": 4,
   "id": "55d34ab2-1031-49e1-8aea-9794adabd0fc",
   "metadata": {
    "tags": [
     "remove-cell"
    ]
   },
   "outputs": [],
   "source": [
    "# Cleanup the file we created (this cell should be hidden from the user)\n",
    "import pathlib\n",
    "pathlib.Path('test.qpy').unlink()"
   ]
  },
  {
   "cell_type": "markdown",
   "id": "73f23256-6519-47ae-b9e3-700f52a76711",
   "metadata": {},
   "source": [
    "## Retrieving jobs from IBM Quantum\n",
    "\n",
    "IBM Quantum automatically stores results from every job for you to retrieve at a later date. Use this feature to continue quantum programs across kernel restarts and review past results. You can get the ID of a job programatically through its `job_id` method, or you can see all your submitted jobs (and their IDs) at https://quantum.ibm.com/jobs.\n",
    "\n",
    "To demonstrate, the following cell sets up our Qiskit Runtime service and selects a backend."
   ]
  },
  {
   "cell_type": "code",
   "execution_count": 5,
   "id": "5f5aaa14-910f-401c-b109-73ffc2450f3c",
   "metadata": {},
   "outputs": [],
   "source": [
    "from qiskit_ibm_runtime import QiskitRuntimeService, SamplerV2 as Sampler\n",
    "service = QiskitRuntimeService()\n",
    "backend = service.least_busy(operational=True, min_num_qubits=2)\n",
    "sampler = Sampler(backend=backend)"
   ]
  },
  {
   "cell_type": "markdown",
   "id": "02623345-c252-4963-be89-a074d4a10f54",
   "metadata": {},
   "source": [
    "The following cell submits the job and prints its ID."
   ]
  },
  {
   "cell_type": "code",
   "execution_count": 6,
   "id": "721a5198-a650-4db9-b041-b3a569c6dc20",
   "metadata": {
    "tags": [
     "ignore-warnings"
    ]
   },
   "outputs": [
    {
     "name": "stdout",
     "output_type": "stream",
     "text": [
      "co22fda1lo04nv57hjig\n"
     ]
    },
    {
     "name": "stderr",
     "output_type": "stream",
     "text": [
      "/Users/qiskit/.venv/lib/python3.11/site-packages/qiskit_ibm_runtime/qiskit_runtime_service.py:878: UserWarning: Cloud simulators will be deprecated on 15 May 2024. Use the new local testing mode in qiskit-ibm-runtime version 0.22.0 or later to meet your debugging needs.\n",
      "  warnings.warn(warning_message)\n"
     ]
    }
   ],
   "source": [
    "from qiskit import transpile\n",
    "job = sampler.run(transpile(qc, backend), shots=10)\n",
    "my_id = job.job_id()\n",
    "print(my_id)"
   ]
  },
  {
   "cell_type": "markdown",
   "id": "fb271ce3-3e86-476c-ae4e-66df36ba7406",
   "metadata": {},
   "source": [
    "Now we have the job's ID, we can retrieve it in a different session or at a later date using the `service.job` method."
   ]
  },
  {
   "cell_type": "code",
   "execution_count": 7,
   "id": "da02c7ca-803a-4426-8dd0-bbe062c0e9e1",
   "metadata": {},
   "outputs": [
    {
     "data": {
      "text/plain": [
       "PrimitiveResult([PubResult(data=DataBin<>(meas=BitArray(<shape=(), num_shots=10, num_bits=2>)), metadata={'circuit_metadata': {}})], metadata={'version': 2})"
      ]
     },
     "execution_count": 7,
     "metadata": {},
     "output_type": "execute_result"
    }
   ],
   "source": [
    "retrieved_job = service.job(my_id)\n",
    "retrieved_job.result()"
   ]
  },
  {
   "cell_type": "markdown",
   "id": "9aae5f5a-a543-493c-9bc5-5682ba846ab5",
   "metadata": {},
   "source": [
    "### Programatically finding jobs\n",
    "\n",
    "If you don't have a job ID and want to find it programatically rather than visiting https://quantum.ibm.com/jobs, you can use the `QiskitRuntimeService.jobs` method.\n",
    "\n",
    "The following cell finds any jobs submitted in the last hour. The `created_after` argument must be a [`datetime.datetime`](https://docs.python.org/3.8/library/datetime.html#datetime.datetime) object."
   ]
  },
  {
   "cell_type": "code",
   "execution_count": 8,
   "id": "90133394-3259-487f-96b2-3b50e0274064",
   "metadata": {},
   "outputs": [
    {
     "data": {
      "text/plain": [
       "[<RuntimeJob('co22fda1lo04nv57hjig', 'sampler')>,\n",
       " <RuntimeJob('cr222mapcdbg008ttrz0', 'sampler')>]"
      ]
     },
     "execution_count": 8,
     "metadata": {},
     "output_type": "execute_result"
    }
   ],
   "source": [
    "import datetime\n",
    "one_hour_ago = datetime.datetime.now() - datetime.timedelta(hours=1)\n",
    "\n",
    "service = QiskitRuntimeService()\n",
    "service.jobs(created_after=one_hour_ago)"
   ]
  },
  {
   "cell_type": "markdown",
   "id": "60405a95-8d79-4ece-9f36-47299cfa3311",
   "metadata": {},
   "source": [
    "You can also select by backend, job state, session, and more. See the [API documentation](/api/qiskit-ibm-runtime/qiskit_ibm_runtime.QiskitRuntimeService#jobs) for more information."
   ]
  },
  {
   "cell_type": "markdown",
   "id": "211b8c15-5aa3-43f6-82ee-2bd1d49ae8fc",
   "metadata": {},
   "source": [
    "## Saving results to disk\n",
    "\n",
    "You may also want to save results to disk. You can use Python's built-in Pickle library to do this. Note that `PrimitiveResult` objects from `qiskit-ibm-runtime` are not directly serializable, so you must serialize parts of them individually."
   ]
  },
  {
   "cell_type": "code",
   "execution_count": 9,
   "id": "3a3ff817-01c1-47e8-94c6-1ecf2215ef7c",
   "metadata": {},
   "outputs": [],
   "source": [
    "import pickle\n",
    "with open(\"result.pickle\", \"wb\") as file:\n",
    "    measurements = job.result()[0].data.meas.array\n",
    "    pickle.dump(measurements, file)"
   ]
  },
  {
   "cell_type": "markdown",
   "id": "40a9d8e5-c876-47a7-862e-d2ce535a6052",
   "metadata": {},
   "source": [
    "You can then load this array from disk in a separate kernel."
   ]
  },
  {
   "cell_type": "code",
   "execution_count": 10,
   "id": "316aa6f7-faee-4a05-a7b4-02d7bee4d58a",
   "metadata": {},
   "outputs": [
    {
     "name": "stdout",
     "output_type": "stream",
     "text": [
      "[[0]\n",
      " [0]\n",
      " [3]\n",
      " [0]\n",
      " [3]\n",
      " [3]\n",
      " [3]\n",
      " [0]\n",
      " [0]\n",
      " [3]]\n"
     ]
    }
   ],
   "source": [
    "with open(\"result.pickle\", \"rb\") as file:\n",
    "    measurements = pickle.load(file)\n",
    "print(measurements)"
   ]
  },
  {
   "cell_type": "code",
   "execution_count": 11,
   "id": "eae94b73-157b-4751-8dd3-add4cc9efec6",
   "metadata": {
    "tags": [
     "remove-cell"
    ]
   },
   "outputs": [],
   "source": [
    "# Cleanup the file we created (this cell should be hidden from the user)\n",
    "pathlib.Path('result.pickle').unlink()"
   ]
  }
 ],
 "metadata": {
  "description": "Store Qiskit objects on disk or in the cloud so you can continue where you left off",
  "kernelspec": {
   "display_name": "Python 3",
   "language": "python",
   "name": "python3"
  },
  "language_info": {
   "codemirror_mode": {
    "name": "ipython",
    "version": 3
   },
   "file_extension": ".py",
   "mimetype": "text/x-python",
   "name": "python",
   "nbconvert_exporter": "python",
   "pygments_lexer": "ipython3",
   "version": "3"
  },
  "title": "Saving and retrieving Qiskit objects"
 },
 "nbformat": 4,
 "nbformat_minor": 2
}
