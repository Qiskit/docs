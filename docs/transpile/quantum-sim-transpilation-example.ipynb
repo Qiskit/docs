{
 "cells": [
  {
   "cell_type": "markdown",
   "metadata": {},
   "source": [
    "# Example Transpilation Workflow\n",
    "### One-Dimensional Disordered Heisenberg Model\n",
    "\n",
    "As a simple example to demonstrate the workflow of building our own `StagedPassManager`, we will consider the time evolution of a one-dimensional Heisenberg chain."
   ]
  },
  {
   "cell_type": "code",
   "execution_count": 1,
   "metadata": {},
   "outputs": [
    {
     "name": "stdout",
     "output_type": "stream",
     "text": [
      "As Pauli Op:  Pauli('XX')\n",
      "As Sparse Pauli Op:  SparsePauliOp(['XX'],\n",
      "              coeffs=[1.+0.j])\n"
     ]
    }
   ],
   "source": [
    "from qiskit.quantum_info import Pauli, SparsePauliOp\n",
    " \n",
    "operator = Pauli('XX')\n",
    " \n",
    "# equivalent to:\n",
    "X = Pauli('X')\n",
    "operator = X ^ X\n",
    "print(\"As Pauli Op: \", repr(operator))\n",
    " \n",
    "# another alternative is:\n",
    "operator = SparsePauliOp('XX')\n",
    "print(\"As Sparse Pauli Op: \", repr(operator))"
   ]
  },
  {
   "cell_type": "code",
   "execution_count": null,
   "metadata": {},
   "outputs": [],
   "source": []
  }
 ],
 "metadata": {
  "kernelspec": {
   "display_name": "Python 3",
   "language": "python",
   "name": "python3"
  },
  "language_info": {
   "codemirror_mode": {
    "name": "ipython",
    "version": 3
   },
   "file_extension": ".py",
   "mimetype": "text/x-python",
   "name": "python",
   "nbconvert_exporter": "python",
   "pygments_lexer": "ipython3",
   "version": "3.12.1"
  }
 },
 "nbformat": 4,
 "nbformat_minor": 2
}
