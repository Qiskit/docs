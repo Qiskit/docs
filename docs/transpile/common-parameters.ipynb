{
 "cells": [
  {
   "cell_type": "markdown",
   "id": "fbce2fd6-c79e-4e90-9074-6cde8a09b517",
   "metadata": {},
   "source": [
    "# Commonly used parameters for transpilation\n",
    "\n",
    "Following are some of the more commonly used parameters for local transpilation using the `transpile()` method.\n",
    "\n",
    "<span id=\"approx-degree\"></span>\n",
    "## Approximation degree\n",
    "\n",
    "You can use the approximation degree to specify how closely you want the resultant circuit to match the desired (input) circuit.  This is a float in the range (0.0 - 1.0), where 0.0 is maximum approximation and 1.0 (default) is no approximation. Smaller values trade output accuracy for ease of execution (that is, fewer gates).  The default value is 1.0.\n",
    "\n",
    "In two-qubit unitary synthesis (used in initial stages of all levels and for optimization stage with optimization level 3), this value specifies the target fidelity of the output decomposition. That is, how much error is introduced when a matrix representation of a circuit is converted to discrete gates. If the approximation degree is a lower value (more approximation), the output circuit from synthesis will differ more from the input matrix, but will also likely have fewer gates (because any arbitrary two-qubit operation can be decomposed perfectly with at most three CX gates) and is easier to run.\n",
    "\n",
    "When the approximation degree is less than 1.0, circuits with one or two CX gates might be synthesized, leading to less error from the hardware, but more from the approximation. Since CX is the most expensive gate in terms of error, it might be beneficial to decrease the number of them at the cost of fidelity in synthesis (this technique was used to increase quantum volume on IBM&reg; devices: [Validating quantum computers using randomized model circuits](https://arxiv.org/abs/1811.12926)).\n",
    "\n",
    "As an example, we generate a random two-qubit `UnitaryGate` which will be synthesized in the initial stage. Setting the `approximation_degree` less than 1.0 might generate an approximate circuit. We must also specify the `basis_gates` to let the synthesis method know which gates it can use for the approximate synthesis."
   ]
  },
  {
   "cell_type": "markdown",
   "id": "9b2001f9-ffdb-4ce3-8fb7-0a5dae6f2c12",
   "metadata": {},
   "source": [
    "```python\n",
    "from qiskit import QuantumCircuit, transpile\n",
    "from qiskit.circuit.library import UnitaryGate\n",
    "from qiskit.quantum_info import random_unitary\n",
    "\n",
    "UU = random_unitary(4, seed=12345)\n",
    "rand_U = UnitaryGate(UU)\n",
    "\n",
    "qc = QuantumCircuit(2)\n",
    "qc.append(rand_U, range(2))\n",
    "approx_qc = transpile(qc, approximation_degree=0.85, basis_gates=[\"sx\", \"rz\", \"cx\"])\n",
    "print(approx_qc.count_ops()[\"cx\"])\n",
    "```"
   ]
  },
  {
   "cell_type": "markdown",
   "id": "6f067d6e-0157-43fc-8cb2-c86855b6bdac",
   "metadata": {},
   "source": [
    "This yields an output of `2` because the approximation requires fewer CX gates.\n",
    "\n",
    "<span id=\"seed\"></span>\n",
    "## Seed transpiler\n",
    "\n",
    "The seed transpiler argument sets the random seed for the stochastic parts of the transpiler, used for reproducibility. Due to the stochastic nature of the transpiler if you run `transpile()` multiple times with the same configuration you are not guaranteed to get the same output each time. So if you are experimenting with transpilation and require the same transpiled output every time you can do so by setting the `seed_transpiler` argument.\n",
    "\n",
    "Example:"
   ]
  },
  {
   "cell_type": "markdown",
   "id": "eb2dd622-accd-4525-a1eb-ba0607dc1124",
   "metadata": {},
   "source": [
    "```python\n",
    "optimized_1 = transpile(qc, seed_transpiler=11, optimization_level=1)\n",
    "```"
   ]
  },
  {
   "cell_type": "markdown",
   "id": "42afd995-a69c-4e2b-ac69-f30d97167c4c",
   "metadata": {},
   "source": [
    "<span id=\"init-layout\"></span>\n",
    "## Initial layout\n",
    "\n",
    "Specifies the initial position of virtual qubits on physical qubits. If this layout makes the circuit compatible with the `coupling_map` constraints, it will be used. The final layout is not guaranteed to be the same, as the transpiler might permute qubits through swaps or other means. Multiple formats are supported:\n",
    "\n",
    "    * Layout instance\n",
    "    * Dict\n",
    "      - virtual to physical:\n",
    "        ```python\n",
    "        {qr[0]: 0,\n",
    "        qr[1]: 3,\n",
    "        qr[2]: 5}\n",
    "        ```\n",
    "      - physical to virtual:\n",
    "        ```python\n",
    "        {0: qr[0],\n",
    "        3: qr[1],\n",
    "         5: qr[2]}\n",
    "        ```\n",
    "\n",
    "    * List\n",
    "      - virtual to physical:\n",
    "        ```python\n",
    "        [0, 3, 5]  # virtual qubits are ordered (in addition to named)\n",
    "        ```\n",
    "      - physical to virtual:\n",
    "        ```python\n",
    "        [qr[0], None, None, qr[1], None, qr[2]]\n",
    "        ```\n",
    "\n",
    "\n",
    "<span id=\"xx-method\"></span>\n",
    "## *_method\n",
    "\n",
    "These options influence how the transpiler works and are used to try and get better, different, or specific output from the transpiler.\n",
    "\n",
    "* `init_method` (str) - The plugin to use for the initialization stage.\n",
    "\n",
    "* `layout_method` (str) - The layout selection pass (`trivial`, `dense`, `noise_adaptive`, `sabre`). This can also be the external plugin name to use for the layout stage.\n",
    "\n",
    "* `optimization_method` (str) - The plugin to use for the optimization stage.\n",
    "\n",
    "* `routing_method` (str) - Name of routing pass (`basic`, `lookahead`, `stochastic`, `sabre`, `none`). This can also be the external plugin name to use for the routing stage.\n",
    "\n",
    "* `scheduling_method` (str) - Name of scheduling pass. This can also be the external plugin name to use for the scheduling stage.\n",
    "  * `as_soon_as_possible`: Schedule instructions greedily: as early as possible on a qubit resource (alias: `asap`).\n",
    "  * `as_late_as_possible`: Schedule instructions late.  That is, keep qubits in the ground state when possible (alias: `alap`).\n",
    "\n",
    "* `translation_method` (str) - Name of translation pass (`unroller`, `translator`, `synthesis`). This can also be the external plugin name to use for the translation stage.\n",
    "\n",
    "* `unitary_synthesis_method` (str) - The name of the unitary synthesis method to use. By default `default` is used.\n",
    "\n",
    "<Admonition>\n",
    "  To see a list of all installed plugins for a given stage, run [`list_stage_plugins(\"stage_name\")`](https://docs.quantum.ibm.com/api/qiskit/transpiler_plugins#plugin-api). For example, if you want to see a list of all installed plugins for the routing stage, run `list_stage_plugins(routing)`.\n",
    "</Admonition>\n",
    "\n",
    "## Next steps\n",
    "\n",
    "<Admonition type=\"tip\" title=\"Recommendation\">\n",
    "    - Review the [Default options and configuration settings](defaults-and-configuration-options) topic.\n",
    "    - Learn how to [Set the optimization level.](set-optimization)\n",
    "    - Try the [Submit transpiled circuits](https://learning.quantum.ibm.com/tutorial/submit-transpiled-circuits) tutorial.\n",
    "    - Review the [Transpile API documentation.](/api/qiskit/transpiler)\n",
    "\n",
    "</Admonition>"
   ]
  }
 ],
 "metadata": {
  "description": "Overview of commonly used parameters controlling quantum circuit transpilation in Qiskit.",
  "kernelspec": {
   "display_name": "Python 3",
   "language": "python",
   "name": "python3"
  },
  "language_info": {
   "codemirror_mode": {
    "name": "ipython",
    "version": 3
   },
   "file_extension": ".py",
   "mimetype": "text/x-python",
   "name": "python",
   "nbconvert_exporter": "python",
   "pygments_lexer": "ipython3",
   "version": "3"
  },
  "title": "Commonly used parameters for transpilation"
 },
 "nbformat": 4,
 "nbformat_minor": 5
}
