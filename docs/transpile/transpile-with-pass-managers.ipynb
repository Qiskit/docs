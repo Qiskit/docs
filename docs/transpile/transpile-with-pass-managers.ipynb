{
 "cells": [
  {
   "cell_type": "markdown",
   "id": "3ddf2ebe-0338-43fa-9f71-2da99f188839",
   "metadata": {},
   "source": [
    "# Transpile with pass managers\n",
    "\n",
    "The recommended way to transpile a circuit is to create a staged pass manager and then execute its `run` method with the circuit as input. This page explains how to transpile quantum circuits this way."
   ]
  },
  {
   "cell_type": "markdown",
   "id": "629848a9-2bd4-43c6-bf92-56399a6c3cc3",
   "metadata": {},
   "source": [
    "## What is a (staged) pass manager?\n",
    "\n",
    "In the context of Qiskit SDK, transpilation refers to the process of transforming an input circuit into a form that is suitable for execution on a quantum device. Transpilation typically occurs in a sequence of steps called transpiler passes. The circuit is processed by each transpiler pass in sequence, with the output of one pass becoming the input to the next. For example, one pass could go through the circuit and merge all consecutive sequences of single-qubit gates, and then the next pass could synthesize these gates into the basis set of the target device. The transpiler passes included with Qiskit are located in the [qiskit.transpiler.passes](/api/qiskit/transpiler_passes) module.\n",
    "\n",
    "A pass manager is an object that stores a list of transpiler passes and can execute them on a circuit. Create a pass manager by initializing a [`PassManager`](/api/qiskit/qiskit.transpiler.PassManager) with a list of transpiler passes. To run the transpilation on a circuit, call the [run](/api/qiskit/qiskit.transpiler.PassManager#run) method with a circuit as input.\n",
    "\n",
    "A staged pass manager is a special kind of pass manager that represents a level of abstraction above that of a normal pass manager. While a normal pass manager is composed of several transpiler passes, a staged pass manager is composed of several *pass managers*. This is a useful abstraction because transpilation typically happens in discrete stages, as described in [Transpiler stages](transpiler-stages), with each stage being represented by a pass manager. Staged pass managers are represented by the [`StagedPassManager`](/api/qiskit/qiskit.transpiler.StagedPassManager) class. The rest of this page describes how to create and customize (staged) pass managers."
   ]
  },
  {
   "cell_type": "markdown",
   "id": "23784364-388a-47d6-be91-d800fcd3972f",
   "metadata": {},
   "source": [
    "## Generate a preset staged pass manager\n",
    "\n",
    "To create a preset staged pass manager with reasonable defaults, use the [`generate_preset_pass_manager`](/api/qiskit/transpiler_preset#qiskit.transpiler.preset_passmanagers.generate_preset_pass_manager) function:"
   ]
  },
  {
   "cell_type": "code",
   "execution_count": 1,
   "id": "d5a5740b-ce7d-4c32-9ce4-950fd3efc761",
   "metadata": {},
   "outputs": [],
   "source": [
    "from qiskit.transpiler.preset_passmanagers import generate_preset_pass_manager\n",
    "from qiskit_ibm_runtime import QiskitRuntimeService\n",
    "\n",
    "service = QiskitRuntimeService()\n",
    "backend = service.backend(\"ibm_brisbane\")\n",
    "pass_manager = generate_preset_pass_manager(optimization_level=3, backend=backend)"
   ]
  },
  {
   "cell_type": "markdown",
   "id": "72033d62-7783-4123-a198-0d71c0452142",
   "metadata": {},
   "source": [
    "See [Transpilation defaults and configuration options](defaults-and-configuration-options) for a description of the possible arguments to the `generate_preset_pass_manager` function. The arguments to `generate_preset_pass_manager` match the arguments to the [`transpile`](/api/qiskit/compiler#qiskit.compiler.transpile) function.\n",
    "\n",
    "If the preset pass managers don't fulfill your needs, customize transpilation by creating (staged) pass managers or even transpilation passes. The rest of this page describes how to create pass managers. For instructions on how to create transpilation passes, see [Write your own transpiler pass](custom-transpiler-pass)."
   ]
  },
  {
   "cell_type": "markdown",
   "id": "9a64323a-677d-407b-88f9-3a736ece461b",
   "metadata": {},
   "source": [
    "## Create your own pass manager\n",
    "\n",
    "The [qiskit.transpiler.passes](/api/qiskit/transpiler_passes) module includes many transpiler passes that can be used to create pass managers. To create a pass manager, initialize a `PassManager` with a list of passes. For example, the following code creates a transpiler pass that merges adjacent two-qubit gates and then synthesizes them into a basis of [$R_y$](/api/qiskit/qiskit.circuit.library.RYGate), [$R_z$](/api/qiskit/qiskit.circuit.library.RZGate), and [$R_{xx}$](/api/qiskit/qiskit.circuit.library.RXXGate),  gates."
   ]
  },
  {
   "cell_type": "code",
   "execution_count": 2,
   "id": "364a39b7-4002-40b9-a351-6fdf038285a9",
   "metadata": {},
   "outputs": [],
   "source": [
    "from qiskit.transpiler import PassManager\n",
    "from qiskit.transpiler.passes import (\n",
    "    Collect2qBlocks,\n",
    "    ConsolidateBlocks,\n",
    "    UnitarySynthesis,\n",
    ")\n",
    "\n",
    "basis_gates = [\"rx\", \"ry\", \"rxx\"]\n",
    "translate = PassManager(\n",
    "    [\n",
    "        Collect2qBlocks(),\n",
    "        ConsolidateBlocks(basis_gates=basis_gates),\n",
    "        UnitarySynthesis(basis_gates),\n",
    "    ]\n",
    ")"
   ]
  },
  {
   "cell_type": "markdown",
   "id": "b7661224-b40b-472e-a05f-ad3aecae95f2",
   "metadata": {},
   "source": [
    "To demonstrate this pass manager in action, test it on a two-qubit circuit consisting of a Hadamard followed by two adjacent CX gates:"
   ]
  },
  {
   "cell_type": "code",
   "execution_count": 3,
   "id": "5511fafe-df07-4f2a-ac94-351d0f5173ec",
   "metadata": {},
   "outputs": [
    {
     "data": {
      "image/png": "[encoded data removed]",
      "text/plain": [
       "<Figure size 370.906x200.667 with 1 Axes>"
      ]
     },
     "execution_count": 3,
     "metadata": {},
     "output_type": "execute_result"
    }
   ],
   "source": [
    "from qiskit import QuantumRegister, QuantumCircuit\n",
    "\n",
    "qubits = QuantumRegister(2, name=\"q\")\n",
    "circuit = QuantumCircuit(qubits)\n",
    "\n",
    "a, b = qubits\n",
    "circuit.h(a)\n",
    "circuit.cx(a, b)\n",
    "circuit.cx(b, a)\n",
    "\n",
    "circuit.draw(\"mpl\")"
   ]
  },
  {
   "cell_type": "markdown",
   "id": "84c6a8f8-9068-49ac-b3fd-22286fb4dd31",
   "metadata": {},
   "source": [
    "To run the pass manager on the circuit, call the `run` method."
   ]
  },
  {
   "cell_type": "code",
   "execution_count": 4,
   "id": "0e5ea5b7-06ea-48a6-a55f-3112cc168cd5",
   "metadata": {},
   "outputs": [
    {
     "data": {
      "image/png": "[encoded data removed]",
      "text/plain": [
       "<Figure size 1039.79x200.667 with 1 Axes>"
      ]
     },
     "execution_count": 4,
     "metadata": {},
     "output_type": "execute_result"
    }
   ],
   "source": [
    "translated = translate.run(circuit)\n",
    "translated.draw(\"mpl\")"
   ]
  },
  {
   "cell_type": "markdown",
   "id": "ac95a9b3-d7f3-4642-89d6-3e441e32860c",
   "metadata": {},
   "source": [
    "For a more advanced example that shows how to create a pass manager to implement the error suppression technique known as dynamical decoupling, see [Create a pass manager for dynamical decoupling](dynamical-decoupling-pass-manager)."
   ]
  },
  {
   "cell_type": "markdown",
   "id": "f603920b-91c6-4cf5-8779-06a49b8b72eb",
   "metadata": {},
   "source": [
    "## Create a staged pass manager\n",
    "\n",
    "A `StagedPassManager` is a pass manager that is composed of individual stages, where each stage is defined by a `PassManager` instance. You can create a `StagedPassManager` by specifying the desired stages. For example, the following code creates a staged pass manager with two stages, `init` and `translation`. The `translation` stage is defined by the pass manager that was created previously."
   ]
  },
  {
   "cell_type": "code",
   "execution_count": 5,
   "id": "37c9e60c-75f8-40d7-b217-04507d0f891c",
   "metadata": {},
   "outputs": [],
   "source": [
    "from qiskit.transpiler import PassManager, StagedPassManager\n",
    "from qiskit.transpiler.passes import UnitarySynthesis, Unroll3qOrMore\n",
    "\n",
    "basis_gates = [\"rx\", \"ry\", \"rxx\"]\n",
    "init = PassManager([UnitarySynthesis(basis_gates, min_qubits=3), Unroll3qOrMore()])\n",
    "staged_pm = StagedPassManager(\n",
    "    stages=[\"init\", \"translation\"], init=init, translation=translate\n",
    ")"
   ]
  },
  {
   "cell_type": "markdown",
   "id": "ac0b6ed2-f6e0-43c7-a0a4-417f41e8fe67",
   "metadata": {},
   "source": [
    "There is no limit on the number of stages you can put in a staged pass manager.\n",
    "\n",
    "Another useful way to create a staged pass manager is to begin with a preset staged pass manager and then swap out some of the stages. For example, the following code generates a preset pass manager with optimization level 3, and then specifies a custom `pre_layout` stage."
   ]
  },
  {
   "cell_type": "code",
   "execution_count": 6,
   "id": "d8da9eee-d499-42ab-bc12-df9f887d1207",
   "metadata": {},
   "outputs": [],
   "source": [
    "import numpy as np\n",
    "from qiskit.circuit.library import HGate, PhaseGate, RXGate, TdgGate, TGate\n",
    "from qiskit.transpiler.passes import CXCancellation, InverseCancellation\n",
    "\n",
    "pass_manager = generate_preset_pass_manager(3, backend)\n",
    "inverse_gate_list = [\n",
    "    HGate(),\n",
    "    (RXGate(np.pi / 4), RXGate(-np.pi / 4)),\n",
    "    (PhaseGate(np.pi / 4), PhaseGate(-np.pi / 4)),\n",
    "    (TGate(), TdgGate()),\n",
    "]\n",
    "logical_opt = PassManager(\n",
    "    [\n",
    "        CXCancellation(),\n",
    "        InverseCancellation(inverse_gate_list),\n",
    "    ]\n",
    ")\n",
    "\n",
    "# Add pre-layout stage to run extra logical optimization\n",
    "pass_manager.pre_layout = logical_opt"
   ]
  },
  {
   "cell_type": "markdown",
   "id": "4faa9855-450d-4015-a1d7-5d478ee3001d",
   "metadata": {},
   "source": [
    "The [stage generator functions](/api/qiskit/transpiler_preset#stage-generator-functions) might be useful for constructing custom pass managers.\n",
    "They generate stages that provide common functionality used in many pass managers.\n",
    "For example, [`generate_embed_passmanager`](/api/qiskit/transpiler_preset#qiskit.transpiler.preset_passmanagers.common.generate_embed_passmanager) can be used to generate a stage\n",
    "to \"embed\" a selected initial `Layout` from a layout pass to the specified target device.\n",
    "\n",
    "## Next steps\n",
    "\n",
    "<Admonition type=\"tip\" title=\"Recommendation\">\n",
    "    - [Write a custom transpiler pass](custom-transpiler-pass).\n",
    "    - [Create a pass manager for dynamical decoupling](dynamical-decoupling-pass-manager).\n",
    "    - To learn how to use the `transpile` function, start with the [Transpilation default settings and configuration options](defaults-and-configuration-options) topic.\n",
    "    - Try the [Submit transpiled circuits](https://learning.quantum.ibm.com/tutorial/submit-transpiled-circuits) tutorial.\n",
    "    - See the [Transpile API documentation.](https://docs.quantum-computing.ibm.com/api/qiskit/transpiler)\n",
    "</Admonition>"
   ]
  }
 ],
 "metadata": {
  "celltoolbar": "Raw Cell Format",
  "description": "How to transpile quantum circuits using pass managers in Qiskit.",
  "kernelspec": {
   "display_name": "Python 3",
   "language": "python",
   "name": "python3"
  },
  "language_info": {
   "codemirror_mode": {
    "name": "ipython",
    "version": 3
   },
   "file_extension": ".py",
   "mimetype": "text/x-python",
   "name": "python",
   "nbconvert_exporter": "python",
   "pygments_lexer": "ipython3",
   "version": "3"
  },
  "title": "Transpile with pass managers"
 },
 "nbformat": 4,
 "nbformat_minor": 4
}
