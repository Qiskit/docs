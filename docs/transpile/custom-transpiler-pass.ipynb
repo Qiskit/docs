{
 "cells": [
  {
   "cell_type": "markdown",
   "metadata": {},
   "source": [
    "## Transpiler Passes\n",
    "\n",
    "Transpiler passes are classified into one of two classes: Analysis passes and Transformation passes. Passes in general work with the Directed Acyclic Graph (DAG) **TODO: insert link here** and the `property_set`, a dictionary-like object for storing properties determined by analysis passes. Analysis passes work with the DAG, but are not allowed to modify it. This contrasts with transformation passes, which do modify the DAG, and can read (but not write to) `property_set`. "
   ]
  },
  {
   "cell_type": "markdown",
   "metadata": {},
   "source": [
    "## Internals\n",
    "\n",
    "**TODO: put something here, but I do not know what**"
   ]
  },
  {
   "cell_type": "markdown",
   "metadata": {},
   "source": [
    "## Pauli Twirling\n",
    "\n",
    "As an example we construct a transpiler pass that adds Pauli twirls. Pauli twirling is an error suppression strategy that randomizes how the qubits experience noisy channels, which we assume to be two-qubit gates below (because they are much more error-prone than single-qubit gates). However, the Pauli twirls do not effect the actual operation of the two-qubit gate, they are chosen such that those applied *before* the two-qubit gate (to the left) are countered by those applied *after* the two-qubit gate (to the right). In this sense, the two-qubit operations are identical but the way they are performed is different. One benefit of Pauli twirling is that it turns coherent errors into stochastic errors, which can be improved by averaging more.\n",
    "\n",
    "Transpiler passes act on the DAG (directed acyclic graph **TODO: include link**), and the important method to override is `.run()`, which takes the DAG as the input. Here we will also add the initialization of pairs of Paulis that preserve the operation of each two-qubit gate. This is done with the helped method `build_twirl_set` that goes through each two-qubit Pauli (as obtained from `pauli_basis(2)`) and finding the other Pauli that preserves the operation. \n",
    "\n",
    "From the DAG we can collect runs/nodes (**TODO: what really is the difference between these**), which provides the set of every gate with a given name in the DAG. **TODO: what other ways can you search, like `.bfs_successors` and such? Does this belong here or in the DAG doc?**. Here, we wish to replace each node, representing an instruction, with a subcircuit which we build as a mini DAG. The mini DAG has a two-qubit quantum register added to it, and operations are added here with `apply_operation_back`, which places the `Instruction` on the output of the mini DAG (whereas `apply_operation_front` would place it on the input of the mini DAG). The node is then substituted by the mini DAG with `substitute_node_with_dag`, and the process continues over each instance of `CXGate` and `ECRGate` in the DAG (corresponding to the two-qubit basis gates on IBM backends)."
   ]
  },
  {
   "cell_type": "code",
   "execution_count": 1,
   "metadata": {},
   "outputs": [],
   "source": [
    "from qiskit.dagcircuit import DAGCircuit\n",
    "from qiskit.circuit import Gate, QuantumCircuit, QuantumRegister\n",
    "from qiskit.circuit.library import CXGate, ECRGate\n",
    "from qiskit.transpiler.basepasses import TransformationPass\n",
    "from qiskit.quantum_info import Operator, pauli_basis\n",
    "\n",
    "import numpy as np\n",
    "\n",
    "from typing import Iterable, Optional"
   ]
  },
  {
   "cell_type": "code",
   "execution_count": 2,
   "metadata": {},
   "outputs": [],
   "source": [
    "class PauliTwirl(TransformationPass):\n",
    "    \"\"\"Add Pauli twirls to two-qubit gates.\"\"\"\n",
    "\n",
    "    def __init__(\n",
    "        self,\n",
    "        gates_to_twirl: Optional[Iterable[Gate]] = None,\n",
    "    ):\n",
    "        \"\"\"\n",
    "        Args:\n",
    "            gates_to_twirl: Names of gates to twirl. The default behavior is to twirl all\n",
    "                two-qubit basis gates.\n",
    "        \"\"\"\n",
    "        if gates_to_twirl is None:\n",
    "            gates_to_twirl = [CXGate(), ECRGate()]\n",
    "        self.gates_to_twirl = gates_to_twirl\n",
    "        self.build_twirl_set()\n",
    "        super().__init__()\n",
    "\n",
    "    def build_twirl_set(self):\n",
    "        self.twirl_set = {}\n",
    "        for twirl_gate in self.gates_to_twirl:\n",
    "            twirl_list = []\n",
    "            for pauli_left in pauli_basis(2):\n",
    "                for pauli_right in pauli_basis(2):\n",
    "                    if (Operator(pauli_left) @ Operator(twirl_gate)).equiv(Operator(twirl_gate) @ pauli_right):\n",
    "                        twirl_list.append((pauli_left, pauli_right))\n",
    "\n",
    "            self.twirl_set[twirl_gate.name] = twirl_list\n",
    "\n",
    "    def run(\n",
    "        self,\n",
    "        dag: DAGCircuit,\n",
    "    ) -> DAGCircuit:\n",
    "        for twirl_gate in self.gates_to_twirl:\n",
    "            for run in dag.collect_runs(twirl_gate.name):\n",
    "                for node in run:\n",
    "                    pidx = np.random.randint(0, len(self.twirl_set[twirl_gate.name]),)\n",
    "                    mini_dag = DAGCircuit()\n",
    "                    register = QuantumRegister(2)\n",
    "\n",
    "                    mini_dag.add_qreg(register)\n",
    "                    mini_dag.apply_operation_back(self.twirl_set[twirl_gate.name][pidx][0].to_instruction(), [register[0], register[1]])\n",
    "                    mini_dag.apply_operation_back(node.op, [register[0], register[1]])\n",
    "                    mini_dag.apply_operation_back(self.twirl_set[twirl_gate.name][pidx][1].to_instruction(), [register[0], register[1]])\n",
    "                    dag.substitute_node_with_dag(node, mini_dag)\n",
    "\n",
    "        return dag"
   ]
  },
  {
   "cell_type": "markdown",
   "metadata": {},
   "source": [
    "Consider a simple circuit with `cx`s and `ecr`s."
   ]
  },
  {
   "cell_type": "code",
   "execution_count": 3,
   "metadata": {},
   "outputs": [
    {
     "data": {
      "image/png": "[encoded data removed]",
      "text/plain": [
       "<Figure size 327.397x204.68 with 1 Axes>"
      ]
     },
     "execution_count": 3,
     "metadata": {},
     "output_type": "execute_result"
    }
   ],
   "source": [
    "qc = QuantumCircuit(3)\n",
    "qc.cx(0, 1)\n",
    "qc.ecr(1, 2)\n",
    "qc.ecr(1, 0)\n",
    "qc.cx(2, 1)\n",
    "qc.draw('mpl', style='iqp')"
   ]
  },
  {
   "cell_type": "markdown",
   "metadata": {},
   "source": [
    "Since we are applying a single pass, we can use the shorthand for `PassManager(PauliTwirl()).run(qc)` to generate 50 randomized circuits. "
   ]
  },
  {
   "cell_type": "code",
   "execution_count": 4,
   "metadata": {},
   "outputs": [],
   "source": [
    "twirled_qcs = [PauliTwirl()(qc) for _ in range(50)]"
   ]
  },
  {
   "cell_type": "markdown",
   "metadata": {},
   "source": [
    "We can see that each two-qubit gate is now sandwiched between two Paulis."
   ]
  },
  {
   "cell_type": "code",
   "execution_count": 5,
   "metadata": {},
   "outputs": [
    {
     "data": {
      "image/png": "[encoded data removed]",
      "text/plain": [
       "<Figure size 1290.6x204.68 with 1 Axes>"
      ]
     },
     "execution_count": 5,
     "metadata": {},
     "output_type": "execute_result"
    }
   ],
   "source": [
    "twirled_qcs[-1].decompose(reps=0).draw('mpl', style='iqp')"
   ]
  },
  {
   "cell_type": "markdown",
   "metadata": {},
   "source": [
    "And confirming that the operators are actually the same using `Operator` from `qiskit.quantum_info`."
   ]
  },
  {
   "cell_type": "code",
   "execution_count": 6,
   "metadata": {},
   "outputs": [
    {
     "data": {
      "text/plain": [
       "True"
      ]
     },
     "execution_count": 6,
     "metadata": {},
     "output_type": "execute_result"
    }
   ],
   "source": [
    "np.alltrue([Operator(twirled_qc).equiv(qc) for twirled_qc in twirled_qcs])"
   ]
  },
  {
   "cell_type": "code",
   "execution_count": null,
   "metadata": {},
   "outputs": [],
   "source": []
  }
 ],
 "metadata": {
  "kernelspec": {
   "display_name": "qiskit-stable",
   "language": "python",
   "name": "python3"
  },
  "language_info": {
   "codemirror_mode": {
    "name": "ipython",
    "version": 3
   },
   "file_extension": ".py",
   "mimetype": "text/x-python",
   "name": "python",
   "nbconvert_exporter": "python",
   "pygments_lexer": "ipython3",
   "version": "3.9.13"
  }
 },
 "nbformat": 4,
 "nbformat_minor": 2
}
