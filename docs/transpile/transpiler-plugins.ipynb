{
 "cells": [
  {
   "cell_type": "markdown",
   "id": "b09b851c-1be2-437f-b065-c1c5d65bd502",
   "metadata": {},
   "source": [
    "# Transpiler plugins\n",
    "\n",
    "To facilitate the development and reuse of custom transpilation code by the wider community of Qiskit users, Qiskit supports a plugin interface that enables third-party Python packages to declare that they provide extended transpilation functionality accessible via Qiskit.\n",
    "\n",
    "Currently, third-party plugins can provide extended transpilation functionality in three ways:\n",
    "\n",
    "- A [transpiler stage plugin](/api/qiskit/transpiler_plugins) provides a pass manager that can be used in place of one of the [6 stages](transpiler-stages) of a preset staged pass manager: `init`, `layout`, `routing`, `translation`, `optimization`, and `scheduling`.\n",
    "- A [unitary synthesis plugin](/api/qiskit/qiskit.transpiler.passes.synthesis.plugin.UnitarySynthesisPlugin) provides extended functionality for unitary gate synthesis.\n",
    "- A [high-level synthesis plugin](/api/qiskit/qiskit.transpiler.passes.synthesis.plugin.HighLevelSynthesisPlugin) provides extended functionality for synthesizing \"high-level objects\" such as linear functions or Clifford operators. High-level objects are represented by subclasses of the [Operation](/api/qiskit/qiskit.circuit.Operation) class.\n",
    "\n",
    "The rest of the page describes how to list available plugins, install new ones, and use them."
   ]
  },
  {
   "cell_type": "markdown",
   "id": "85bf37c2-9990-463c-9130-5b63a2919b1f",
   "metadata": {},
   "source": [
    "## List available plugins and install new ones\n",
    "\n",
    "Qiskit already includes some built-in plugins for transpilation. To install more, you can use your Python package manager. For example, you might run `pip install qiskit-toqm` to install the [Qiskit TOQM](https://github.com/qiskit-toqm/qiskit-toqm) routing stage plugin. A number of third-party plugins are part of the [Qiskit ecosystem](https://qiskit.github.io/ecosystem/#transpiler_plugin).\n",
    "\n",
    "### List available transpiler stage plugins\n",
    "\n",
    "Use the [list_stage_plugins](/api/qiskit/transpiler_plugins#qiskit.transpiler.preset_passmanagers.plugin.list_stage_plugins) function, passing the name of the stage whose plugins you want to list."
   ]
  },
  {
   "cell_type": "code",
   "execution_count": 1,
   "id": "3e5b167d-aded-46de-8380-398aa49d574d",
   "metadata": {},
   "outputs": [
    {
     "data": {
      "text/plain": [
       "['default', 'dense', 'sabre', 'trivial']"
      ]
     },
     "execution_count": 1,
     "metadata": {},
     "output_type": "execute_result"
    }
   ],
   "source": [
    "from qiskit.transpiler.preset_passmanagers.plugin import list_stage_plugins\n",
    "\n",
    "list_stage_plugins(\"layout\")"
   ]
  },
  {
   "cell_type": "code",
   "execution_count": 2,
   "id": "4c0d77d7-3cb9-4ca5-8809-510fe5099699",
   "metadata": {},
   "outputs": [
    {
     "data": {
      "text/plain": [
       "['basic', 'lookahead', 'none', 'sabre', 'stochastic']"
      ]
     },
     "execution_count": 2,
     "metadata": {},
     "output_type": "execute_result"
    }
   ],
   "source": [
    "list_stage_plugins(\"routing\")"
   ]
  },
  {
   "cell_type": "markdown",
   "id": "61eb0f42-2823-4d3e-9dac-97cbb21cca26",
   "metadata": {},
   "source": [
    " If `qiskit-toqm` were installed, then `toqm` would appear in the list of `routing` plugins."
   ]
  },
  {
   "cell_type": "markdown",
   "id": "07d056c2-bc0e-4459-a822-3ee18fc3f69a",
   "metadata": {},
   "source": [
    "### List available unitary synthesis plugins\n",
    "\n",
    "Use the [unitary_synthesis_plugin_names](/api/qiskit/qiskit.transpiler.passes.synthesis.plugin.unitary_synthesis_plugin_names) function."
   ]
  },
  {
   "cell_type": "code",
   "execution_count": 3,
   "id": "edcd61f8-bedc-4f09-b32e-8c1cb9bc5302",
   "metadata": {},
   "outputs": [
    {
     "data": {
      "text/plain": [
       "['aqc', 'default', 'sk']"
      ]
     },
     "execution_count": 3,
     "metadata": {},
     "output_type": "execute_result"
    }
   ],
   "source": [
    "from qiskit.transpiler.passes.synthesis import unitary_synthesis_plugin_names\n",
    "\n",
    "unitary_synthesis_plugin_names()"
   ]
  },
  {
   "cell_type": "markdown",
   "id": "527725bb-6c5b-4b94-bbe4-6dd0a8c6da41",
   "metadata": {},
   "source": [
    "### List available high-level sythesis plugins\n",
    "\n",
    "Use the [high_level_synthesis_plugin_names](/api/qiskit/qiskit.transpiler.passes.synthesis.plugin.high_level_synthesis_plugin_names) function, passing the name of the type of \"high-level object\" to be synthesized. The name corresponds to the [`name`](/api/qiskit/qiskit.circuit.Operation#name) attribute of the [Operation](/api/qiskit/qiskit.circuit.Operation) class representing the type of object being synthesized."
   ]
  },
  {
   "cell_type": "code",
   "execution_count": 4,
   "id": "5d74f2a4-5349-4539-b276-9cce09b831e8",
   "metadata": {},
   "outputs": [
    {
     "data": {
      "text/plain": [
       "['ag', 'bm', 'default', 'greedy', 'layers', 'lnn']"
      ]
     },
     "execution_count": 4,
     "metadata": {},
     "output_type": "execute_result"
    }
   ],
   "source": [
    "from qiskit.transpiler.passes.synthesis import high_level_synthesis_plugin_names\n",
    "\n",
    "high_level_synthesis_plugin_names(\"clifford\")"
   ]
  },
  {
   "cell_type": "markdown",
   "id": "b581176c-ddbb-457b-a4d3-7c7fc62f10b8",
   "metadata": {},
   "source": [
    "You can use the [HighLevelSynthesisPluginManager](/api/qiskit/qiskit.transpiler.passes.synthesis.plugin.HighLevelSynthesisPluginManager) class to list the names of all high-level synthesis plugins:"
   ]
  },
  {
   "cell_type": "code",
   "execution_count": 21,
   "id": "73f4b255-e3d6-4e66-9907-31f0bd4b686d",
   "metadata": {},
   "outputs": [
    {
     "data": {
      "text/plain": [
       "['clifford.ag',\n",
       " 'clifford.bm',\n",
       " 'clifford.default',\n",
       " 'clifford.greedy',\n",
       " 'clifford.layers',\n",
       " 'clifford.lnn',\n",
       " 'linear_function.default',\n",
       " 'linear_function.kms',\n",
       " 'linear_function.pmh',\n",
       " 'permutation.acg',\n",
       " 'permutation.basic',\n",
       " 'permutation.default',\n",
       " 'permutation.kms',\n",
       " 'permutation.token_swapper']"
      ]
     },
     "execution_count": 21,
     "metadata": {},
     "output_type": "execute_result"
    }
   ],
   "source": [
    "from qiskit.transpiler.passes.synthesis.plugin import HighLevelSynthesisPluginManager\n",
    "\n",
    "HighLevelSynthesisPluginManager().plugins.names()"
   ]
  },
  {
   "cell_type": "markdown",
   "id": "32f1ef50-08d8-4cff-8bb0-62b8fc92eb3b",
   "metadata": {},
   "source": [
    "## Use a plugin\n",
    "\n",
    "### Use a transpiler stage plugin\n",
    "\n",
    "To use a transpiler stage plugin, specify its name with the appropriate argument to [`generate_preset_pass_manager`](/api/qiskit/transpiler_preset#generate_preset_pass_manager) or [`transpile`](/api/qiskit/compiler#qiskit.compiler.transpile). The argument is formed by appending `_method` to the name of the transpilation stage. For example, to use the `stochastic` routing plugin, we would specify `stochastic` for the `routing_method` argument:"
   ]
  },
  {
   "cell_type": "code",
   "execution_count": 5,
   "id": "f4b94173-7f4b-4672-9278-2ad8e0824383",
   "metadata": {},
   "outputs": [],
   "source": [
    "from qiskit.transpiler.preset_passmanagers import generate_preset_pass_manager\n",
    "from qiskit_ibm_runtime import QiskitRuntimeService\n",
    "\n",
    "service = QiskitRuntimeService()\n",
    "backend = service.backend(\"ibm_brisbane\")\n",
    "\n",
    "pass_manager = generate_preset_pass_manager(\n",
    "    optimization_level=3, backend=backend, routing_method=\"stochastic\"\n",
    ")"
   ]
  },
  {
   "attachments": {},
   "cell_type": "markdown",
   "id": "18777e17-e228-4824-9a6a-fdfce7b84a97",
   "metadata": {},
   "source": [
    "### Use a unitary synthesis plugin\n",
    "\n",
    "To use a unitary synthesis plugin, specify its name as the `unitary_synthesis_method` argument to [`generate_preset_pass_manager`](/api/qiskit/transpiler_preset#generate_preset_pass_manager) or [`transpile`](/api/qiskit/compiler#qiskit.compiler.transpile):"
   ]
  },
  {
   "cell_type": "code",
   "execution_count": 6,
   "id": "913d409f-b3d6-4808-ba0d-54f11c553f1b",
   "metadata": {},
   "outputs": [],
   "source": [
    "pass_manager = generate_preset_pass_manager(\n",
    "    optimization_level=3,\n",
    "    backend=backend,\n",
    "    unitary_synthesis_method=\"sk\",\n",
    "    unitary_synthesis_plugin_config=dict(basis_gates=[\"cz\", \"id\", \"rz\", \"sx\", \"x\"]),\n",
    ")"
   ]
  },
  {
   "cell_type": "markdown",
   "id": "05a80404-0427-4e6f-b2cc-5b75a7d40e85",
   "metadata": {},
   "source": [
    "Unitary synthesis is used in the `init`, `translation`, and `optimization` stages of the staged pass manager returned by [`generate_preset_pass_manager`](/api/qiskit/transpiler_preset#generate_preset_pass_manager) or used in [`transpile`](/api/qiskit/compiler#qiskit.compiler.transpile). See [Transpiler stages](transpiler-stages) for a description of these stages.\n",
    "\n",
    "Use the `unitary_synthesis_plugin_config` argument, a free-form dictionary, to pass options for the unitary synthesis method. The documentation of the synthesis method should explain the options it supports. See [this list](/api/qiskit/transpiler_synthesis_plugins#unitary-synthesis-plugins-2) for links to the documentation of the built-in unitary synthesis plugins."
   ]
  },
  {
   "attachments": {},
   "cell_type": "markdown",
   "id": "44dbefe5-c489-4764-a19e-0b536a6166ea",
   "metadata": {},
   "source": [
    "### Use a high-level synthesis plugin\n",
    "\n",
    "First, create an [HLSConfig](/api/qiskit/qiskit.transpiler.passes.HLSConfig) to\n",
    "store the names of the plugins to use for various high-level objects. For example:"
   ]
  },
  {
   "cell_type": "code",
   "execution_count": 7,
   "id": "934605a8-ebef-41b9-a84d-d8ac3013b750",
   "metadata": {},
   "outputs": [],
   "source": [
    "from qiskit.transpiler.passes import HLSConfig\n",
    "\n",
    "hls_config = HLSConfig(clifford=[\"layers\"], linear_function=[\"pmh\"])"
   ]
  },
  {
   "cell_type": "markdown",
   "id": "019e529b-99ae-4ea5-a34a-33901f25e112",
   "metadata": {},
   "source": [
    "This code cell creates a high-level synthesis configuration that uses the `layers` plugin\n",
    "for synthesizing [Clifford](/api/qiskit/qiskit.quantum_info.Clifford#clifford) objects and the `pmh` plugin for synthesizing\n",
    "[LinearFunction](/api/qiskit/qiskit.circuit.library.LinearFunction#linearfunction) objects. The names of the keyword arguments correspond to the\n",
    "[`name`](/api/qiskit/qiskit.circuit.Operation#name) attribute of the [Operation](/api/qiskit/qiskit.circuit.Operation) class representing the type of object being synthesized.\n",
    "For each high-level object, the list of given plugins are tried in sequence until one of them\n",
    "succeeds (in the example above, each list only contains a single plugin).\n",
    "\n",
    "In addition to specifying\n",
    "a plugin by its name, you can instead pass a `(name, options)` tuple, where the second element of the tuple is a dictionary containing options for the plugin. The documentation of the synthesis method should explain the options it supports. See [this list](/api/qiskit/transpiler_synthesis_plugins#high-level-synthesis-plugins-2) for links to the documentation of the built-in high-level synthesis plugins.\n",
    "\n",
    "Once you have created the `HLSConfig` object, pass it as the\n",
    "`hls_config` argument to [`generate_preset_pass_manager`](/api/qiskit/transpiler_preset#generate_preset_pass_manager) or [`transpile`](/api/qiskit/compiler#qiskit.compiler.transpile):"
   ]
  },
  {
   "cell_type": "code",
   "execution_count": 8,
   "id": "4de39a1d-3435-4519-b053-b8a14ecf4fe3",
   "metadata": {},
   "outputs": [],
   "source": [
    "pass_manager = generate_preset_pass_manager(\n",
    "    optimization_level=3, backend=backend, hls_config=hls_config\n",
    ")"
   ]
  },
  {
   "cell_type": "markdown",
   "id": "85d7c56f-1313-4a2d-8abe-37a548b514df",
   "metadata": {},
   "source": [
    "High-level synthesis is used in the `init`, `translation`, and `optimization` stages of the staged pass manager returned by [`generate_preset_pass_manager`](/api/qiskit/transpiler_preset#generate_preset_pass_manager) or used in [`transpile`](/api/qiskit/compiler#qiskit.compiler.transpile). See [Transpiler stages](transpiler-stages) for a description of these stages."
   ]
  }
 ],
 "metadata": {
  "description": "How to use transpiler plugins in Qiskit.",
  "kernelspec": {
   "display_name": "Python 3",
   "language": "python",
   "name": "python3"
  },
  "language_info": {
   "codemirror_mode": {
    "name": "ipython",
    "version": 3
   },
   "file_extension": ".py",
   "mimetype": "text/x-python",
   "name": "python",
   "nbconvert_exporter": "python",
   "pygments_lexer": "ipython3",
   "version": "3"
  },
  "title": "Transpiler plugins"
 },
 "nbformat": 4,
 "nbformat_minor": 4
}
