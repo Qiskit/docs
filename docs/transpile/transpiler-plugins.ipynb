{
 "cells": [
  {
   "cell_type": "markdown",
   "id": "f9ba5f6b-49d3-4f23-b955-c263a5f96d0e",
   "metadata": {},
   "source": [
    "# Transpiler plugins\n",
    "\n",
    "To facilitate the development and reuse of custom transpilation code by the wider community of Qiskit users, Qiskit supports a plugin interface that enables third-party Python packages to declare that they provide extended transpilation functionality accessible via Qiskit.\n",
    "\n",
    "Currently, third-party plugins can provide extended transpilation functionality in three ways:\n",
    "\n",
    "- A [transpiler stage plugin](/api/qiskit/transpiler_plugins) provides a pass manager that can be used in place of one of the [6 stages](transpiler-stages) of a preset staged pass manager: `init`, `layout`, `routing`, `translation`, `optimization`, and `scheduling`.\n",
    "- A [unitary synthesis plugin](/api/qiskit/qiskit.transpiler.passes.synthesis.plugin.UnitarySynthesisPlugin) provides extended functionality for unitary gate synthesis.\n",
    "- A [high-level synthesis plugin](/api/qiskit/qiskit.transpiler.passes.synthesis.plugin.HighLevelSynthesisPlugin) provides extended functionality for synthesizing \"high-level objects\" such as linear functions or Clifford operators. High-level objects are represented by subclasses of the [Operation](/api/qiskit/qiskit.circuit.Operation) class.\n",
    "\n",
    "The rest of the page describes how to list available plugins, install new ones, and use them."
   ]
  },
  {
   "cell_type": "markdown",
   "id": "a7cc4e17-fd60-4714-bc24-e97c9a6297c1",
   "metadata": {},
   "source": [
    "## List available plugins and install new ones\n",
    "\n",
    "Qiskit already includes some built-in plugins for transpilation. To install more, you can use your Python package manager. For example, you might run `pip install qiskit-toqm` to install the [Qiskit TOQM](https://github.com/qiskit-toqm/qiskit-toqm) routing stage plugin. A number of third-party plugins are part of the [Qiskit ecosystem](https://qiskit.github.io/ecosystem/), and you can find them on [this page](https://qiskit.github.io/ecosystem/#transpiler_plugin).\n",
    "\n",
    "### List available transpiler stage plugins\n",
    "\n",
    "Use the [list_stage_plugins](/api/qiskit/transpiler_plugins#qiskit.transpiler.preset_passmanagers.plugin.list_stage_plugins) function, passing the name of the stage whose plugins you want to list."
   ]
  },
  {
   "cell_type": "code",
   "execution_count": 1,
   "id": "0f661ec6-bec1-4550-be33-c00c0f518021",
   "metadata": {},
   "outputs": [
    {
     "data": {
      "text/plain": [
       "['default', 'dense', 'sabre', 'trivial']"
      ]
     },
     "execution_count": 1,
     "metadata": {},
     "output_type": "execute_result"
    }
   ],
   "source": [
    "from qiskit.transpiler.preset_passmanagers.plugin import list_stage_plugins\n",
    "\n",
    "list_stage_plugins(\"layout\")"
   ]
  },
  {
   "cell_type": "code",
   "execution_count": 2,
   "id": "01cfd288-5fb5-45dd-a949-b4b1f33bcdeb",
   "metadata": {},
   "outputs": [
    {
     "data": {
      "text/plain": [
       "['basic', 'lookahead', 'none', 'sabre', 'stochastic']"
      ]
     },
     "execution_count": 2,
     "metadata": {},
     "output_type": "execute_result"
    }
   ],
   "source": [
    "list_stage_plugins(\"routing\")"
   ]
  },
  {
   "cell_type": "markdown",
   "id": "482f2f1e-15dc-4106-883e-802e85ab556d",
   "metadata": {},
   "source": [
    " If `qiskit-toqm` were installed, then `toqm` would appear in the list of `routing` plugins."
   ]
  },
  {
   "cell_type": "markdown",
   "id": "845e0bbc-8a7a-4f50-8420-dccebf38169d",
   "metadata": {},
   "source": [
    "### List available unitary synthesis plugins\n",
    "\n",
    "Use the [unitary_synthesis_plugin_names](/api/qiskit/qiskit.transpiler.passes.synthesis.plugin.unitary_synthesis_plugin_names) function."
   ]
  },
  {
   "cell_type": "code",
   "execution_count": 3,
   "id": "12810039-64e3-4389-be24-3f4ff1fc9642",
   "metadata": {},
   "outputs": [
    {
     "data": {
      "text/plain": [
       "['aqc', 'default', 'sk']"
      ]
     },
     "execution_count": 3,
     "metadata": {},
     "output_type": "execute_result"
    }
   ],
   "source": [
    "from qiskit.transpiler.passes.synthesis import unitary_synthesis_plugin_names\n",
    "\n",
    "unitary_synthesis_plugin_names()"
   ]
  },
  {
   "cell_type": "markdown",
   "id": "4fe8731d-f0ec-427e-9b4a-db2b71a2827f",
   "metadata": {},
   "source": [
    "### List available high-level sythesis plugins\n",
    "\n",
    "Use the [high_level_synthesis_plugin_names](/api/qiskit/qiskit.transpiler.passes.synthesis.plugin.high_level_synthesis_plugin_names) function, passing the name of the type of \"high-level object\" to be synthesized. The name corresponds to the [`name`](/api/qiskit/qiskit.circuit.Operation#name) attribute of the [Operation](/api/qiskit/qiskit.circuit.Operation) class representing the type of object being synthesized."
   ]
  },
  {
   "cell_type": "code",
   "execution_count": 4,
   "id": "f103fdd1-a9c3-4c0e-b0b7-d9d02561cba3",
   "metadata": {},
   "outputs": [
    {
     "data": {
      "text/plain": [
       "['ag', 'bm', 'default', 'greedy', 'layers', 'lnn']"
      ]
     },
     "execution_count": 4,
     "metadata": {},
     "output_type": "execute_result"
    }
   ],
   "source": [
    "from qiskit.transpiler.passes.synthesis import high_level_synthesis_plugin_names\n",
    "\n",
    "high_level_synthesis_plugin_names(\"clifford\")"
   ]
  },
  {
   "cell_type": "markdown",
   "id": "6dd1c68f-af34-4887-b297-054b57f20f53",
   "metadata": {},
   "source": [
    "## Use a plugin\n",
    "\n",
    "### Use a transpiler stage plugin\n",
    "\n",
    "To use a transpiler stage plugin, specify its name with the appropriate argument to [`generate_preset_pass_manager`](/api/qiskit/transpiler_preset#generate_preset_pass_manager) or [`transpile`](/api/qiskit/compiler#qiskit.compiler.transpile). The argument is formed by appending `_method` to the name of the transpilation stage. For example, to use the `stochastic` routing plugin, we would specify `stochastic` for the `routing_method` argument:"
   ]
  },
  {
   "cell_type": "code",
   "execution_count": 5,
   "id": "049378d6-20ad-4ef4-9f3c-58311a5944be",
   "metadata": {},
   "outputs": [],
   "source": [
    "from qiskit.transpiler.preset_passmanagers import generate_preset_pass_manager\n",
    "from qiskit_ibm_runtime import QiskitRuntimeService\n",
    "\n",
    "service = QiskitRuntimeService()\n",
    "backend = service.backend(\"ibm_brisbane\")\n",
    "\n",
    "pass_manager = generate_preset_pass_manager(\n",
    "    optimization_level=3, backend=backend, routing_method=\"stochastic\"\n",
    ")"
   ]
  },
  {
   "attachments": {},
   "cell_type": "markdown",
   "id": "b7dee496-07db-4423-8b5d-265c4100c1c1",
   "metadata": {},
   "source": [
    "### Use a unitary synthesis plugin\n",
    "\n",
    "To use a unitary synthesis plugin, specify its name as the `unitary_synthesis_method` argument to [`generate_preset_pass_manager`](/api/qiskit/transpiler_preset#generate_preset_pass_manager) or [`transpile`](/api/qiskit/compiler#qiskit.compiler.transpile):"
   ]
  },
  {
   "cell_type": "code",
   "execution_count": 6,
   "id": "c6f563f0-173d-4937-8969-e08d250a1ddb",
   "metadata": {},
   "outputs": [],
   "source": [
    "pass_manager = generate_preset_pass_manager(\n",
    "    optimization_level=3,\n",
    "    backend=backend,\n",
    "    unitary_synthesis_method=\"sk\",\n",
    "    unitary_synthesis_plugin_config=dict(basis_gates=[\"cz\", \"id\", \"rz\", \"sx\", \"x\"]),\n",
    ")"
   ]
  },
  {
   "cell_type": "markdown",
   "id": "3d8b84f4-3001-4857-a493-cbd6381a6507",
   "metadata": {},
   "source": [
    "Unitary synthesis is used in the `init`, `translation`, and `optimization` stages of the staged pass manager returned by [`generate_preset_pass_manager`](/api/qiskit/transpiler_preset#generate_preset_pass_manager) or used in [`transpile`](/api/qiskit/compiler#qiskit.compiler.transpile).\n",
    "\n",
    "Use the `unitary_synthesis_plugin_config` argument, a free-form dictionary, to pass options for the unitary synthesis method. The documentation of the synthesis method should explain the options it supports. See [this list](/api/qiskit/transpiler_synthesis_plugins#unitary-synthesis-plugins-2) for links to the documentation of the built-in unitary synthesis plugins."
   ]
  },
  {
   "attachments": {},
   "cell_type": "markdown",
   "id": "b213f0d2-d969-4dca-9743-e14475f0e0c2",
   "metadata": {},
   "source": [
    "### Use a high-level synthesis plugin\n",
    "\n",
    "First, create an [HLSConfig](/api/qiskit/qiskit.transpiler.passes.HLSConfig) to\n",
    "store the names of the plugins to use for various high-level objects. For example:"
   ]
  },
  {
   "cell_type": "code",
   "execution_count": 7,
   "id": "a0a45258-d391-4ad2-9e3b-978ce266779f",
   "metadata": {},
   "outputs": [],
   "source": [
    "from qiskit.transpiler.passes import HLSConfig\n",
    "\n",
    "hls_config = HLSConfig(clifford=[\"layers\"], linear_function=[\"pmh\"])"
   ]
  },
  {
   "cell_type": "markdown",
   "id": "e9c39d39-9d42-4a0d-a044-fe0df9445b36",
   "metadata": {},
   "source": [
    "This code cell creates a high-level synthesis configuration that uses the `layers` plugin\n",
    "for synthesizing [Clifford](/api/qiskit/qiskit.quantum_info.Clifford#clifford) objects and the `pmh` plugin for synthesizing\n",
    "[LinearFunction](/api/qiskit/qiskit.circuit.library.LinearFunction#linearfunction) objects. The names of the keyword arguments correspond to the\n",
    "[`name`](/api/qiskit/qiskit.circuit.Operation#name) attribute of the [Operation](/api/qiskit/qiskit.circuit.Operation) class representing the type of object being synthesized.\n",
    "For each high-level object, the list of given plugins are tried in sequence until one of them\n",
    "succeeds (in the example above, each list only contains a single plugin).\n",
    "\n",
    "In addition to specifying\n",
    "a plugin by its name, you can instead pass a `(name, options)` tuple, where the second element of the tuple is a dictionary containing options for the plugin. The documentation of the synthesis method should explain the options it supports. See [this list](/api/qiskit/transpiler_synthesis_plugins#high-level-synthesis-plugins-2) for links to the documentation of the built-in high-level synthesis plugins.\n",
    "\n",
    "Once you have created the `HLSConfig` object, pass it as the\n",
    "`hls_config` argument to [`generate_preset_pass_manager`](/api/qiskit/transpiler_preset#generate_preset_pass_manager) or [`transpile`](/api/qiskit/compiler#qiskit.compiler.transpile):"
   ]
  },
  {
   "cell_type": "code",
   "execution_count": 8,
   "id": "c0eb2d77-d144-4946-960f-49ed08ba517d",
   "metadata": {},
   "outputs": [],
   "source": [
    "pass_manager = generate_preset_pass_manager(\n",
    "    optimization_level=3, backend=backend, hls_config=hls_config\n",
    ")"
   ]
  },
  {
   "cell_type": "markdown",
   "id": "9ef44cf9-fc5b-4beb-af4c-db368c90e312",
   "metadata": {},
   "source": [
    "High-level synthesis is used in the `init`, `translation`, and `optimization` stages of the staged pass manager returned by [`generate_preset_pass_manager`](/api/qiskit/transpiler_preset#generate_preset_pass_manager) or used in [`transpile`](/api/qiskit/compiler#qiskit.compiler.transpile)."
   ]
  }
 ],
 "metadata": {
  "description": "How to use transpiler plugins in Qiskit.",
  "kernelspec": {
   "display_name": "Python 3",
   "language": "python",
   "name": "python3"
  },
  "language_info": {
   "codemirror_mode": {
    "name": "ipython",
    "version": 3
   },
   "file_extension": ".py",
   "mimetype": "text/x-python",
   "name": "python",
   "nbconvert_exporter": "python",
   "pygments_lexer": "ipython3",
   "version": "3"
  },
  "title": "Transpiler plugins"
 },
 "nbformat": 4,
 "nbformat_minor": 4
}
