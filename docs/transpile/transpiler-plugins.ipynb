{
 "cells": [
  {
   "cell_type": "markdown",
   "id": "5aec3ebc-57f6-4472-9dfe-fc8aac585dd9",
   "metadata": {},
   "source": [
    "# Transpiler plugins\n",
    "\n",
    "To facilitate the development and reuse of custom transpilation code by the wider community of Qiskit users, Qiskit supports a plugin interface that enables third-party Python packages to declare that they provide extended transpilation functionality accessible via Qiskit.\n",
    "\n",
    "Currently, third-party plugins can provide extended transpilation functionality in three ways:\n",
    "\n",
    "- A [transpiler stage plugin](/api/qiskit/transpiler_plugins) provides a pass manager that can be used in place of one of the [6 stages](transpiler-stages) of a preset staged pass manager: `init`, `layout`, `routing`, `translation`, `optimization`, and `scheduling`.\n",
    "- A [unitary synthesis plugin](/api/qiskit/qiskit.transpiler.passes.synthesis.plugin.UnitarySynthesisPlugin) provides extended functionality for unitary gate synthesis.\n",
    "- A [high-level synthesis plugin](/api/qiskit/qiskit.transpiler.passes.synthesis.plugin.HighLevelSynthesisPlugin) provides extended functionality for synthesizing \"high-level objects\" such as linear functions or Clifford operators. High-level objects are represented by subclasses of the [Operation](/api/qiskit/qiskit.circuit.Operation) class.\n",
    "\n",
    "The rest of the page describes how to list available plugins, install new ones, and use them."
   ]
  },
  {
   "cell_type": "markdown",
   "id": "f9c4440b-5e9b-44e3-9228-529ea3b34f48",
   "metadata": {},
   "source": [
    "## List available plugins and install new ones\n",
    "\n",
    "Qiskit already includes some built-in plugins for transpilation. To install more, you can use your Python package manager. For example, you might run `pip install qiskit-toqm` to install the [Qiskit TOQM](https://github.com/qiskit-toqm/qiskit-toqm) routing stage plugin. A number of third-party plugins are part of the [Qiskit ecosystem](https://qiskit.github.io/ecosystem/), and you can find them on [this page](https://qiskit.github.io/ecosystem/#transpiler_plugin).\n",
    "\n",
    "### List available transpiler stage plugins\n",
    "\n",
    "Use the [list_stage_plugins](/api/qiskit/transpiler_plugins#qiskit.transpiler.preset_passmanagers.plugin.list_stage_plugins) function, passing the name of the stage whose plugins you want to list."
   ]
  },
  {
   "cell_type": "code",
   "execution_count": 1,
   "id": "1a3c398e-b48d-4679-bfde-a3773b379b3e",
   "metadata": {},
   "outputs": [
    {
     "data": {
      "text/plain": [
       "['default', 'dense', 'sabre', 'trivial']"
      ]
     },
     "execution_count": 1,
     "metadata": {},
     "output_type": "execute_result"
    }
   ],
   "source": [
    "from qiskit.transpiler.preset_passmanagers.plugin import list_stage_plugins\n",
    "\n",
    "list_stage_plugins(\"layout\")"
   ]
  },
  {
   "cell_type": "code",
   "execution_count": 2,
   "id": "fa2396d9-5c2f-46d7-98e2-5f5295e99853",
   "metadata": {},
   "outputs": [
    {
     "data": {
      "text/plain": [
       "['basic', 'lookahead', 'none', 'sabre', 'stochastic']"
      ]
     },
     "execution_count": 2,
     "metadata": {},
     "output_type": "execute_result"
    }
   ],
   "source": [
    "list_stage_plugins(\"routing\")"
   ]
  },
  {
   "cell_type": "markdown",
   "id": "daca8f8f-ea7a-4da5-a9ea-23f7805fe36d",
   "metadata": {},
   "source": [
    " If `qiskit-toqm` were installed, then `toqm` would appear in the list of `routing` plugins."
   ]
  },
  {
   "cell_type": "markdown",
   "id": "b723ca18-1358-4cf3-90e4-ae79f1db85b9",
   "metadata": {},
   "source": [
    "### List available unitary synthesis plugins\n",
    "\n",
    "Use the [unitary_synthesis_plugin_names](/api/qiskit/qiskit.transpiler.passes.synthesis.plugin.unitary_synthesis_plugin_names) function."
   ]
  },
  {
   "cell_type": "code",
   "execution_count": 3,
   "id": "8535f628-25a9-4651-81de-0ba7aac1e938",
   "metadata": {},
   "outputs": [
    {
     "data": {
      "text/plain": [
       "['aqc', 'default', 'sk']"
      ]
     },
     "execution_count": 3,
     "metadata": {},
     "output_type": "execute_result"
    }
   ],
   "source": [
    "from qiskit.transpiler.passes.synthesis import unitary_synthesis_plugin_names\n",
    "\n",
    "unitary_synthesis_plugin_names()"
   ]
  },
  {
   "cell_type": "markdown",
   "id": "5f31164d-a82d-4da3-98b9-39fba6fa3791",
   "metadata": {},
   "source": [
    "### List available high-level sythesis plugins\n",
    "\n",
    "Use the [high_level_synthesis_plugin_names](/api/qiskit/qiskit.transpiler.passes.synthesis.plugin.high_level_synthesis_plugin_names) function, passing the name of the type of \"high-level object\" to be synthesized. The name corresponds to the [`name`](/api/qiskit/qiskit.circuit.Operation#name) attribute of the [Operation](/api/qiskit/qiskit.circuit.Operation) class representing the type of object being synthesized."
   ]
  },
  {
   "cell_type": "code",
   "execution_count": 4,
   "id": "d8a3f89f-2157-4c4b-9812-8c5bab7172a8",
   "metadata": {},
   "outputs": [
    {
     "data": {
      "text/plain": [
       "['ag', 'bm', 'default', 'greedy', 'layers', 'lnn']"
      ]
     },
     "execution_count": 4,
     "metadata": {},
     "output_type": "execute_result"
    }
   ],
   "source": [
    "from qiskit.transpiler.passes.synthesis import high_level_synthesis_plugin_names\n",
    "\n",
    "high_level_synthesis_plugin_names(\"clifford\")"
   ]
  },
  {
   "cell_type": "markdown",
   "id": "8db6f96e-a03f-4364-8bb7-fa195a9408ac",
   "metadata": {},
   "source": [
    "You can use the [HighLevelSynthesisPluginManager](/api/qiskit/qiskit.transpiler.passes.synthesis.plugin.HighLevelSynthesisPluginManager) class to list the names of all high-level synthesis plugins:"
   ]
  },
  {
   "cell_type": "code",
   "execution_count": 21,
   "id": "b5eaa297-fea8-4a48-9d4a-c247a9d38aa9",
   "metadata": {},
   "outputs": [
    {
     "data": {
      "text/plain": [
       "['clifford.ag',\n",
       " 'clifford.bm',\n",
       " 'clifford.default',\n",
       " 'clifford.greedy',\n",
       " 'clifford.layers',\n",
       " 'clifford.lnn',\n",
       " 'linear_function.default',\n",
       " 'linear_function.kms',\n",
       " 'linear_function.pmh',\n",
       " 'permutation.acg',\n",
       " 'permutation.basic',\n",
       " 'permutation.default',\n",
       " 'permutation.kms',\n",
       " 'permutation.token_swapper']"
      ]
     },
     "execution_count": 21,
     "metadata": {},
     "output_type": "execute_result"
    }
   ],
   "source": [
    "from qiskit.transpiler.passes.synthesis.plugin import HighLevelSynthesisPluginManager\n",
    "\n",
    "HighLevelSynthesisPluginManager().plugins.names()"
   ]
  },
  {
   "cell_type": "markdown",
   "id": "79f983c1-495a-4e9e-9fb8-80aa55ea1966",
   "metadata": {},
   "source": [
    "## Use a plugin\n",
    "\n",
    "### Use a transpiler stage plugin\n",
    "\n",
    "To use a transpiler stage plugin, specify its name with the appropriate argument to [`generate_preset_pass_manager`](/api/qiskit/transpiler_preset#generate_preset_pass_manager) or [`transpile`](/api/qiskit/compiler#qiskit.compiler.transpile). The argument is formed by appending `_method` to the name of the transpilation stage. For example, to use the `stochastic` routing plugin, we would specify `stochastic` for the `routing_method` argument:"
   ]
  },
  {
   "cell_type": "code",
   "execution_count": 5,
   "id": "bf81a38d-a9d4-4e98-936c-5edf8181c2ad",
   "metadata": {},
   "outputs": [],
   "source": [
    "from qiskit.transpiler.preset_passmanagers import generate_preset_pass_manager\n",
    "from qiskit_ibm_runtime import QiskitRuntimeService\n",
    "\n",
    "service = QiskitRuntimeService()\n",
    "backend = service.backend(\"ibm_brisbane\")\n",
    "\n",
    "pass_manager = generate_preset_pass_manager(\n",
    "    optimization_level=3, backend=backend, routing_method=\"stochastic\"\n",
    ")"
   ]
  },
  {
   "attachments": {},
   "cell_type": "markdown",
   "id": "2e3dc574-618c-4386-a8af-fb3261e98dc9",
   "metadata": {},
   "source": [
    "### Use a unitary synthesis plugin\n",
    "\n",
    "To use a unitary synthesis plugin, specify its name as the `unitary_synthesis_method` argument to [`generate_preset_pass_manager`](/api/qiskit/transpiler_preset#generate_preset_pass_manager) or [`transpile`](/api/qiskit/compiler#qiskit.compiler.transpile):"
   ]
  },
  {
   "cell_type": "code",
   "execution_count": 6,
   "id": "49e7a6ca-3596-474a-a943-68f49149019a",
   "metadata": {},
   "outputs": [],
   "source": [
    "pass_manager = generate_preset_pass_manager(\n",
    "    optimization_level=3,\n",
    "    backend=backend,\n",
    "    unitary_synthesis_method=\"sk\",\n",
    "    unitary_synthesis_plugin_config=dict(basis_gates=[\"cz\", \"id\", \"rz\", \"sx\", \"x\"]),\n",
    ")"
   ]
  },
  {
   "cell_type": "markdown",
   "id": "dd23f4e2-6042-4fb6-a919-d376a0195ff5",
   "metadata": {},
   "source": [
    "Unitary synthesis is used in the `init`, `translation`, and `optimization` stages of the staged pass manager returned by [`generate_preset_pass_manager`](/api/qiskit/transpiler_preset#generate_preset_pass_manager) or used in [`transpile`](/api/qiskit/compiler#qiskit.compiler.transpile).\n",
    "\n",
    "Use the `unitary_synthesis_plugin_config` argument, a free-form dictionary, to pass options for the unitary synthesis method. The documentation of the synthesis method should explain the options it supports. See [this list](/api/qiskit/transpiler_synthesis_plugins#unitary-synthesis-plugins-2) for links to the documentation of the built-in unitary synthesis plugins."
   ]
  },
  {
   "attachments": {},
   "cell_type": "markdown",
   "id": "1f664d6e-670c-40c2-994b-be980656605c",
   "metadata": {},
   "source": [
    "### Use a high-level synthesis plugin\n",
    "\n",
    "First, create an [HLSConfig](/api/qiskit/qiskit.transpiler.passes.HLSConfig) to\n",
    "store the names of the plugins to use for various high-level objects. For example:"
   ]
  },
  {
   "cell_type": "code",
   "execution_count": 7,
   "id": "3a8e775b-749c-44e8-9767-5c0e5233a096",
   "metadata": {},
   "outputs": [],
   "source": [
    "from qiskit.transpiler.passes import HLSConfig\n",
    "\n",
    "hls_config = HLSConfig(clifford=[\"layers\"], linear_function=[\"pmh\"])"
   ]
  },
  {
   "cell_type": "markdown",
   "id": "85bd015c-8697-40e2-b06f-3ef4762d8bc0",
   "metadata": {},
   "source": [
    "This code cell creates a high-level synthesis configuration that uses the `layers` plugin\n",
    "for synthesizing [Clifford](/api/qiskit/qiskit.quantum_info.Clifford#clifford) objects and the `pmh` plugin for synthesizing\n",
    "[LinearFunction](/api/qiskit/qiskit.circuit.library.LinearFunction#linearfunction) objects. The names of the keyword arguments correspond to the\n",
    "[`name`](/api/qiskit/qiskit.circuit.Operation#name) attribute of the [Operation](/api/qiskit/qiskit.circuit.Operation) class representing the type of object being synthesized.\n",
    "For each high-level object, the list of given plugins are tried in sequence until one of them\n",
    "succeeds (in the example above, each list only contains a single plugin).\n",
    "\n",
    "In addition to specifying\n",
    "a plugin by its name, you can instead pass a `(name, options)` tuple, where the second element of the tuple is a dictionary containing options for the plugin. The documentation of the synthesis method should explain the options it supports. See [this list](/api/qiskit/transpiler_synthesis_plugins#high-level-synthesis-plugins-2) for links to the documentation of the built-in high-level synthesis plugins.\n",
    "\n",
    "Once you have created the `HLSConfig` object, pass it as the\n",
    "`hls_config` argument to [`generate_preset_pass_manager`](/api/qiskit/transpiler_preset#generate_preset_pass_manager) or [`transpile`](/api/qiskit/compiler#qiskit.compiler.transpile):"
   ]
  },
  {
   "cell_type": "code",
   "execution_count": 8,
   "id": "e3ceb56b-7910-4e99-bc38-ed81ba9fdb55",
   "metadata": {},
   "outputs": [],
   "source": [
    "pass_manager = generate_preset_pass_manager(\n",
    "    optimization_level=3, backend=backend, hls_config=hls_config\n",
    ")"
   ]
  },
  {
   "cell_type": "markdown",
   "id": "f72797af-c104-4938-bd1d-9e7e248fd6f6",
   "metadata": {},
   "source": [
    "High-level synthesis is used in the `init`, `translation`, and `optimization` stages of the staged pass manager returned by [`generate_preset_pass_manager`](/api/qiskit/transpiler_preset#generate_preset_pass_manager) or used in [`transpile`](/api/qiskit/compiler#qiskit.compiler.transpile)."
   ]
  }
 ],
 "metadata": {
  "description": "How to use transpiler plugins in Qiskit.",
  "kernelspec": {
   "display_name": "Python 3",
   "language": "python",
   "name": "python3"
  },
  "language_info": {
   "codemirror_mode": {
    "name": "ipython",
    "version": 3
   },
   "file_extension": ".py",
   "mimetype": "text/x-python",
   "name": "python",
   "nbconvert_exporter": "python",
   "pygments_lexer": "ipython3",
   "version": "3"
  },
  "title": "Transpiler plugins"
 },
 "nbformat": 4,
 "nbformat_minor": 4
}
