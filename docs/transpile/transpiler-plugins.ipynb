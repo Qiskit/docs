{
 "cells": [
  {
   "cell_type": "markdown",
   "id": "795be283-a243-4adb-a106-5ef0bb743c07",
   "metadata": {},
   "source": [
    "# Transpiler plugins\n",
    "\n",
    "To facilitate the development and reuse of custom transpilation code by the wider community of Qiskit users, Qiskit supports a plugin interface that enables third-party Python packages to declare that they provide extended transpilation functionality accessible via Qiskit.\n",
    "\n",
    "Currently, third-party plugins can provide extended transpilation functionality in three ways:\n",
    "\n",
    "- A [transpiler stage plugin](/api/qiskit/transpiler_plugins) provides a pass manager that can be used in place of one of the [6 stages](transpiler-stages) of a preset staged pass manager: `init`, `layout`, `routing`, `translation`, `optimization`, and `scheduling`.\n",
    "- A [unitary synthesis plugin](/api/qiskit/qiskit.transpiler.passes.synthesis.plugin.UnitarySynthesisPlugin) provides extended functionality for unitary gate synthesis.\n",
    "- A [high-level synthesis plugin](/api/qiskit/qiskit.transpiler.passes.synthesis.plugin.HighLevelSynthesisPlugin) provides extended functionality for synthesizing \"high-level objects\" such as linear functions or Clifford operators. High-level objects are represented by subclasses of the [Operation](/api/qiskit/qiskit.circuit.Operation) class.\n",
    "\n",
    "The rest of the page describes how to list available plugins, install new ones, and use them."
   ]
  },
  {
   "cell_type": "markdown",
   "id": "bdf51a04-6dc3-475e-af4a-95a7a6587a3d",
   "metadata": {},
   "source": [
    "## List available plugins and install new ones\n",
    "\n",
    "Qiskit already includes some built-in plugins for transpilation. To install more, you can use your Python package manager. For example, you might run `pip install qiskit-toqm` to install the [Qiskit TOQM](https://github.com/qiskit-toqm/qiskit-toqm) routing stage plugin. A number of third-party plugins are part of the [Qiskit ecosystem](https://qiskit.github.io/ecosystem/), and you can find them on [this page](https://qiskit.github.io/ecosystem/#transpiler_plugin).\n",
    "\n",
    "### List available transpiler stage plugins\n",
    "\n",
    "Use the [list_stage_plugins](/api/qiskit/transpiler_plugins#qiskit.transpiler.preset_passmanagers.plugin.list_stage_plugins) function, passing the name of the stage whose plugins you want to list."
   ]
  },
  {
   "cell_type": "code",
   "execution_count": 1,
   "id": "0869bac8-7c98-4be6-a1c0-653432ff1964",
   "metadata": {},
   "outputs": [
    {
     "data": {
      "text/plain": [
       "['default', 'dense', 'sabre', 'trivial']"
      ]
     },
     "execution_count": 1,
     "metadata": {},
     "output_type": "execute_result"
    }
   ],
   "source": [
    "from qiskit.transpiler.preset_passmanagers.plugin import list_stage_plugins\n",
    "\n",
    "list_stage_plugins(\"layout\")"
   ]
  },
  {
   "cell_type": "code",
   "execution_count": 2,
   "id": "5007f1ed-8468-45e5-a896-70e251e5539d",
   "metadata": {},
   "outputs": [
    {
     "data": {
      "text/plain": [
       "['basic', 'lookahead', 'none', 'sabre', 'stochastic']"
      ]
     },
     "execution_count": 2,
     "metadata": {},
     "output_type": "execute_result"
    }
   ],
   "source": [
    "list_stage_plugins(\"routing\")"
   ]
  },
  {
   "cell_type": "markdown",
   "id": "bc902820-8c51-429f-a53e-b10b079c09af",
   "metadata": {},
   "source": [
    " If `qiskit-toqm` were installed, then `toqm` would appear in the list of `routing` plugins."
   ]
  },
  {
   "cell_type": "markdown",
   "id": "b233e6c7-9aec-48ba-9dad-27ce1360e013",
   "metadata": {},
   "source": [
    "### List available unitary synthesis plugins\n",
    "\n",
    "Use the [unitary_synthesis_plugin_names](/api/qiskit/qiskit.transpiler.passes.synthesis.plugin.unitary_synthesis_plugin_names) function."
   ]
  },
  {
   "cell_type": "code",
   "execution_count": 3,
   "id": "161e2446-0d6b-4bac-86ee-7f2409246e7b",
   "metadata": {},
   "outputs": [
    {
     "data": {
      "text/plain": [
       "['aqc', 'default', 'sk']"
      ]
     },
     "execution_count": 3,
     "metadata": {},
     "output_type": "execute_result"
    }
   ],
   "source": [
    "from qiskit.transpiler.passes.synthesis import unitary_synthesis_plugin_names\n",
    "\n",
    "unitary_synthesis_plugin_names()"
   ]
  },
  {
   "cell_type": "markdown",
   "id": "f9f6f6be-ef00-4300-9877-1d9b81e82c33",
   "metadata": {},
   "source": [
    "### List available high-level sythesis plugins\n",
    "\n",
    "Use the [high_level_synthesis_plugin_names](/api/qiskit/qiskit.transpiler.passes.synthesis.plugin.high_level_synthesis_plugin_names) function, passing the name of the type of \"high-level object\" to be synthesized. The name corresponds to the [`name`](/api/qiskit/qiskit.circuit.Operation#name) attribute of the [Operation](/api/qiskit/qiskit.circuit.Operation) class representing the type of object being synthesized."
   ]
  },
  {
   "cell_type": "code",
   "execution_count": 4,
   "id": "3542155e-cfd6-4571-b62b-ee44df18e087",
   "metadata": {},
   "outputs": [
    {
     "data": {
      "text/plain": [
       "['ag', 'bm', 'default', 'greedy', 'layers', 'lnn']"
      ]
     },
     "execution_count": 4,
     "metadata": {},
     "output_type": "execute_result"
    }
   ],
   "source": [
    "from qiskit.transpiler.passes.synthesis import high_level_synthesis_plugin_names\n",
    "\n",
    "high_level_synthesis_plugin_names(\"clifford\")"
   ]
  },
  {
   "cell_type": "markdown",
   "id": "b8b96b12-9301-4a55-8f70-52b4136e6a05",
   "metadata": {},
   "source": [
    "You can use the [HighLevelSynthesisPluginManager](/api/qiskit/qiskit.transpiler.passes.synthesis.plugin.HighLevelSynthesisPluginManager) class to list the names of all high-level synthesis plugins:"
   ]
  },
  {
   "cell_type": "code",
   "execution_count": 21,
   "id": "c5f9defb-521c-4634-871f-3ac0ab7e6faf",
   "metadata": {},
   "outputs": [
    {
     "data": {
      "text/plain": [
       "['clifford.ag',\n",
       " 'clifford.bm',\n",
       " 'clifford.default',\n",
       " 'clifford.greedy',\n",
       " 'clifford.layers',\n",
       " 'clifford.lnn',\n",
       " 'linear_function.default',\n",
       " 'linear_function.kms',\n",
       " 'linear_function.pmh',\n",
       " 'permutation.acg',\n",
       " 'permutation.basic',\n",
       " 'permutation.default',\n",
       " 'permutation.kms',\n",
       " 'permutation.token_swapper']"
      ]
     },
     "execution_count": 21,
     "metadata": {},
     "output_type": "execute_result"
    }
   ],
   "source": [
    "from qiskit.transpiler.passes.synthesis.plugin import HighLevelSynthesisPluginManager\n",
    "\n",
    "HighLevelSynthesisPluginManager().plugins.names()"
   ]
  },
  {
   "cell_type": "markdown",
   "id": "242c557f-4e3c-4f7e-a417-a497fc6da3e6",
   "metadata": {},
   "source": [
    "## Use a plugin\n",
    "\n",
    "### Use a transpiler stage plugin\n",
    "\n",
    "To use a transpiler stage plugin, specify its name with the appropriate argument to [`generate_preset_pass_manager`](/api/qiskit/transpiler_preset#generate_preset_pass_manager) or [`transpile`](/api/qiskit/compiler#qiskit.compiler.transpile). The argument is formed by appending `_method` to the name of the transpilation stage. For example, to use the `stochastic` routing plugin, we would specify `stochastic` for the `routing_method` argument:"
   ]
  },
  {
   "cell_type": "code",
   "execution_count": 5,
   "id": "76738594-1ded-4a68-8d1e-8f23f91f0c9e",
   "metadata": {},
   "outputs": [],
   "source": [
    "from qiskit.transpiler.preset_passmanagers import generate_preset_pass_manager\n",
    "from qiskit_ibm_runtime import QiskitRuntimeService\n",
    "\n",
    "service = QiskitRuntimeService()\n",
    "backend = service.backend(\"ibm_brisbane\")\n",
    "\n",
    "pass_manager = generate_preset_pass_manager(\n",
    "    optimization_level=3, backend=backend, routing_method=\"stochastic\"\n",
    ")"
   ]
  },
  {
   "attachments": {},
   "cell_type": "markdown",
   "id": "777f43c2-9802-4b61-8a8d-a5370fa25431",
   "metadata": {},
   "source": [
    "### Use a unitary synthesis plugin\n",
    "\n",
    "To use a unitary synthesis plugin, specify its name as the `unitary_synthesis_method` argument to [`generate_preset_pass_manager`](/api/qiskit/transpiler_preset#generate_preset_pass_manager) or [`transpile`](/api/qiskit/compiler#qiskit.compiler.transpile):"
   ]
  },
  {
   "cell_type": "code",
   "execution_count": 6,
   "id": "247807c2-ab7b-46df-aa96-53739c227e00",
   "metadata": {},
   "outputs": [],
   "source": [
    "pass_manager = generate_preset_pass_manager(\n",
    "    optimization_level=3,\n",
    "    backend=backend,\n",
    "    unitary_synthesis_method=\"sk\",\n",
    "    unitary_synthesis_plugin_config=dict(basis_gates=[\"cz\", \"id\", \"rz\", \"sx\", \"x\"]),\n",
    ")"
   ]
  },
  {
   "cell_type": "markdown",
   "id": "c32c5ff8-e072-490a-b835-3836022f9907",
   "metadata": {},
   "source": [
    "Unitary synthesis is used in the `init`, `translation`, and `optimization` stages of the staged pass manager returned by [`generate_preset_pass_manager`](/api/qiskit/transpiler_preset#generate_preset_pass_manager) or used in [`transpile`](/api/qiskit/compiler#qiskit.compiler.transpile). See [Transpiler stages](transpiler-stages) for a description of these stages.\n",
    "\n",
    "Use the `unitary_synthesis_plugin_config` argument, a free-form dictionary, to pass options for the unitary synthesis method. The documentation of the synthesis method should explain the options it supports. See [this list](/api/qiskit/transpiler_synthesis_plugins#unitary-synthesis-plugins-2) for links to the documentation of the built-in unitary synthesis plugins."
   ]
  },
  {
   "attachments": {},
   "cell_type": "markdown",
   "id": "78436237-1bbf-43cb-91d5-bc2f67eb72e7",
   "metadata": {},
   "source": [
    "### Use a high-level synthesis plugin\n",
    "\n",
    "First, create an [HLSConfig](/api/qiskit/qiskit.transpiler.passes.HLSConfig) to\n",
    "store the names of the plugins to use for various high-level objects. For example:"
   ]
  },
  {
   "cell_type": "code",
   "execution_count": 7,
   "id": "21de4399-2aa4-4432-b758-5e9c2d66d79b",
   "metadata": {},
   "outputs": [],
   "source": [
    "from qiskit.transpiler.passes import HLSConfig\n",
    "\n",
    "hls_config = HLSConfig(clifford=[\"layers\"], linear_function=[\"pmh\"])"
   ]
  },
  {
   "cell_type": "markdown",
   "id": "cc2e87c5-80da-42ce-a1f1-700a749d9e3f",
   "metadata": {},
   "source": [
    "This code cell creates a high-level synthesis configuration that uses the `layers` plugin\n",
    "for synthesizing [Clifford](/api/qiskit/qiskit.quantum_info.Clifford#clifford) objects and the `pmh` plugin for synthesizing\n",
    "[LinearFunction](/api/qiskit/qiskit.circuit.library.LinearFunction#linearfunction) objects. The names of the keyword arguments correspond to the\n",
    "[`name`](/api/qiskit/qiskit.circuit.Operation#name) attribute of the [Operation](/api/qiskit/qiskit.circuit.Operation) class representing the type of object being synthesized.\n",
    "For each high-level object, the list of given plugins are tried in sequence until one of them\n",
    "succeeds (in the example above, each list only contains a single plugin).\n",
    "\n",
    "In addition to specifying\n",
    "a plugin by its name, you can instead pass a `(name, options)` tuple, where the second element of the tuple is a dictionary containing options for the plugin. The documentation of the synthesis method should explain the options it supports. See [this list](/api/qiskit/transpiler_synthesis_plugins#high-level-synthesis-plugins-2) for links to the documentation of the built-in high-level synthesis plugins.\n",
    "\n",
    "Once you have created the `HLSConfig` object, pass it as the\n",
    "`hls_config` argument to [`generate_preset_pass_manager`](/api/qiskit/transpiler_preset#generate_preset_pass_manager) or [`transpile`](/api/qiskit/compiler#qiskit.compiler.transpile):"
   ]
  },
  {
   "cell_type": "code",
   "execution_count": 8,
   "id": "b1e6e330-c51e-40fe-85a1-d10c98f0450d",
   "metadata": {},
   "outputs": [],
   "source": [
    "pass_manager = generate_preset_pass_manager(\n",
    "    optimization_level=3, backend=backend, hls_config=hls_config\n",
    ")"
   ]
  },
  {
   "cell_type": "markdown",
   "id": "41dbe866-95b1-4e6f-bd26-21e292afb87f",
   "metadata": {},
   "source": [
    "High-level synthesis is used in the `init`, `translation`, and `optimization` stages of the staged pass manager returned by [`generate_preset_pass_manager`](/api/qiskit/transpiler_preset#generate_preset_pass_manager) or used in [`transpile`](/api/qiskit/compiler#qiskit.compiler.transpile). See [Transpiler stages](transpiler-stages) for a description of these stages."
   ]
  }
 ],
 "metadata": {
  "description": "How to use transpiler plugins in Qiskit.",
  "kernelspec": {
   "display_name": "Python 3",
   "language": "python",
   "name": "python3"
  },
  "language_info": {
   "codemirror_mode": {
    "name": "ipython",
    "version": 3
   },
   "file_extension": ".py",
   "mimetype": "text/x-python",
   "name": "python",
   "nbconvert_exporter": "python",
   "pygments_lexer": "ipython3",
   "version": "3"
  },
  "title": "Transpiler plugins"
 },
 "nbformat": 4,
 "nbformat_minor": 4
}
