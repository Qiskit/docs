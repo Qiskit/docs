{
 "cells": [
  {
   "cell_type": "markdown",
   "metadata": {},
   "source": [
    "# Customizing a transpilation pipeline\n",
    "\n",
    "In the [Transpiler stages](transpiler-stages) topic we went over the default behavior of the transpiler and the various stages that compose a transpilation pipeline.  Qiskit allows you to create custom transpilation workflows using: the `PassManager` and `StagedPassManager` objects, writing your own bespoke transpiler passes, and installing them as plugins.  Here we will take a more careful look at the `PassManager` and `StagedPassManager` objects to customize which passes are executed at what stage and walk through a few examples.\n"
   ]
  },
  {
   "cell_type": "markdown",
   "metadata": {},
   "source": [
    "## Utilizing the StagedPassManager\n",
    "\n",
    "This class enables building a transpilation pipeline from a set of stages.  Each `StagedPassManager` contains a list of stages which are executed in a fixed order, with each stage specified by its own `PassManager` instance.  Each stage can also be prepended or appended with a `pre_<stage name>` and `post_<stage name>` which are particularly useful if you would like to add other `PassManagers` that contain conditional logic and programatically control the flow of passes.\n",
    "\n",
    "Note that when using a `StagedPassManager` you are not able to modify the individual passes, only the stages and their associated passes or passmanagers.  The default stages are the same that have been specified in previous sections:\n",
    "\n",
    "1. `init` - any initial passes that are run before we start embedding the circuit to the backend\n",
    "1. `layout` - This stage runs layout and maps the virtual qubits in the circuit to the physical qubits on a backend\n",
    "1.  `routing` - This stage runs after a layout has been run and will insert any necessary gates to move the qubit states around until it can be run on backend’s coupling map.\n",
    "1.  `translation` - Perform the basis gate translation, in other words translate the gates in the circuit to the target backend’s basis set\n",
    "    optimization - The main optimization loop, this will typically run in a loop trying to optimize the circuit until a condition (such as fixed depth) is reached.\n",
    "1.  `scheduling` - Any hardware aware scheduling passes\n",
    "\n",
    "\n",
    "Let's look at a quick example:"
   ]
  },
  {
   "cell_type": "code",
   "execution_count": 14,
   "metadata": {},
   "outputs": [
    {
     "name": "stdout",
     "output_type": "stream",
     "text": [
      "pre_init\n",
      "init\n",
      "post_init\n",
      "pre_translation\n",
      "translation\n",
      "post_translation\n"
     ]
    }
   ],
   "source": [
    "from qiskit.transpiler.passes import (\n",
    "    UnitarySynthesis,\n",
    "    Collect2qBlocks,\n",
    "    ConsolidateBlocks,\n",
    "    UnitarySynthesis,\n",
    "    Unroll3qOrMore\n",
    ")\n",
    "from qiskit.transpiler import PassManager, StagedPassManager\n",
    "\n",
    "basis_gates = [\"rx\", \"ry\", \"rxx\"]\n",
    "init = PassManager([UnitarySynthesis(basis_gates, min_qubits=3), Unroll3qOrMore()])\n",
    "translate = PassManager(\n",
    "    [\n",
    "        Collect2qBlocks(),\n",
    "        ConsolidateBlocks(basis_gates=basis_gates),\n",
    "        UnitarySynthesis(basis_gates),\n",
    "    ]\n",
    ")\n",
    "\n",
    "staged_pm = StagedPassManager(\n",
    "    stages=[\"init\", \"translation\"], init=init, translation=translate\n",
    ")\n",
    "\n",
    "for stage in staged_pm.expanded_stages:\n",
    "    print(stage)\n"
   ]
  },
  {
   "cell_type": "markdown",
   "metadata": {},
   "source": [
    "The code above will create a new `StagedPassManager` that has 2 stages, `init` and `translation`.  These stages will be executed in order and any stage set to `None` will be skipped.  This list is immutable and stored as a tuple once the `StagedPassManager` is instantiated.  Additionally, if a stage is provided multiple times (i.e. at different relative positions), the associated passes, including `pre_` and `post_`, will run once per declaration in the order they were declared.  If a `PassManager` is being used for more than 1 stage (e.g. a `Pass` covers both Layout and Routing) you will want to set that to the earliest stage in the sequence it covers."
   ]
  },
  {
   "cell_type": "markdown",
   "metadata": {},
   "source": [
    "## Using your own PassManager\n",
    "\n",
    "In addition to modifying the preset pass managers, it is also possible to build an entirely custom pipeline for optimizing your quantum circuits. The purpose of the `PassManager` object is to execute one or more *passes* on a quantum circuit.  All of the available passes within Qiskit can be found from `qiskit.transpiler.passes`.  You are also free to write your own passes for the passmanager to use or utilize passes which are installed as plugins which are covered later in this document.\n",
    "\n",
    "\n",
    "The [`StagedGeneratorFunctions`](../api/qiskit/transpiler_preset.md#stage-generator-functions) may also be useful for you when constructing custom passmanagers.  They generate stages which provide common functionality used in many passmanagers.  For example, `generate_embed_passmanager()` can be used to generate a stage to \"embed\" a selected initial Layout from a layout pass to the specified target device."
   ]
  },
  {
   "cell_type": "code",
   "execution_count": 6,
   "metadata": {},
   "outputs": [
    {
     "data": {
      "text/plain": [
       "['ALAPSchedule',\n",
       " 'ALAPScheduleAnalysis',\n",
       " 'ASAPSchedule',\n",
       " 'ASAPScheduleAnalysis',\n",
       " 'AlignMeasures',\n",
       " 'ApplyLayout',\n",
       " 'BIPMapping',\n",
       " 'BarrierBeforeFinalMeasurements',\n",
       " 'BasicSwap',\n",
       " 'BasisTranslator',\n",
       " 'CSPLayout',\n",
       " 'CXCancellation',\n",
       " 'CXDirection',\n",
       " 'CheckCXDirection',\n",
       " 'CheckGateDirection',\n",
       " 'CheckMap',\n",
       " 'Collect1qRuns',\n",
       " 'Collect2qBlocks',\n",
       " 'CollectCliffords',\n",
       " 'CollectLinearFunctions',\n",
       " 'CollectMultiQBlocks',\n",
       " 'CommutationAnalysis',\n",
       " 'CommutativeCancellation',\n",
       " 'CommutativeInverseCancellation',\n",
       " 'Commuting2qGateRouter',\n",
       " 'ConsolidateBlocks',\n",
       " 'ConstrainedReschedule',\n",
       " 'ContainsInstruction',\n",
       " 'ConvertConditionsToIfOps',\n",
       " 'CountOps',\n",
       " 'CountOpsLongestPath',\n",
       " 'CrosstalkAdaptiveSchedule',\n",
       " 'DAGFixedPoint',\n",
       " 'DAGLongestPath',\n",
       " 'Decompose',\n",
       " 'DenseLayout',\n",
       " 'Depth',\n",
       " 'DynamicalDecoupling',\n",
       " 'EchoRZXWeylDecomposition',\n",
       " 'EnlargeWithAncilla',\n",
       " 'Error',\n",
       " 'FixedPoint',\n",
       " 'FullAncillaAllocation',\n",
       " 'GateDirection',\n",
       " 'GatesInBasis',\n",
       " 'HighLevelSynthesis',\n",
       " 'HoareOptimizer',\n",
       " 'InstructionDurationCheck',\n",
       " 'InverseCancellation',\n",
       " 'Layout2qDistance',\n",
       " 'LayoutTransformation',\n",
       " 'LinearFunctionsSynthesis',\n",
       " 'LinearFunctionsToPermutations',\n",
       " 'LookaheadSwap',\n",
       " 'MergeAdjacentBarriers',\n",
       " 'MinimumPoint',\n",
       " 'NoiseAdaptiveLayout',\n",
       " 'NumTensorFactors',\n",
       " 'Optimize1qGates',\n",
       " 'Optimize1qGatesDecomposition',\n",
       " 'Optimize1qGatesSimpleCommutation',\n",
       " 'OptimizeCliffords',\n",
       " 'OptimizeSwapBeforeMeasure',\n",
       " 'PadDelay',\n",
       " 'PadDynamicalDecoupling',\n",
       " 'PulseGates',\n",
       " 'RZXCalibrationBuilder',\n",
       " 'RZXCalibrationBuilderNoEcho',\n",
       " 'RemoveBarriers',\n",
       " 'RemoveDiagonalGatesBeforeMeasure',\n",
       " 'RemoveFinalMeasurements',\n",
       " 'RemoveResetInZeroState',\n",
       " 'ResetAfterMeasureSimplification',\n",
       " 'ResourceEstimation',\n",
       " 'SabreLayout',\n",
       " 'SabreSwap',\n",
       " 'SetIOLatency',\n",
       " 'SetLayout',\n",
       " 'Size',\n",
       " 'SolovayKitaev',\n",
       " 'SolovayKitaevSynthesis',\n",
       " 'StochasticSwap',\n",
       " 'TemplateOptimization',\n",
       " 'TimeUnitConversion',\n",
       " 'TranslateParameterizedGates',\n",
       " 'TrivialLayout',\n",
       " 'UnitarySynthesis',\n",
       " 'Unroll3qOrMore',\n",
       " 'UnrollCustomDefinitions',\n",
       " 'UnrollForLoops',\n",
       " 'Unroller',\n",
       " 'VF2Layout',\n",
       " 'VF2PostLayout',\n",
       " 'ValidatePulseGates',\n",
       " 'Width']"
      ]
     },
     "execution_count": 6,
     "metadata": {},
     "output_type": "execute_result"
    }
   ],
   "source": [
    "from qiskit.transpiler import passes\n",
    "\n",
    "[pass_ for pass_ in dir(passes) if pass_[0].isupper()]"
   ]
  },
  {
   "cell_type": "markdown",
   "metadata": {},
   "source": [
    "A `PassManager` can be created using a list of passes to execute, or, once instantiated, can have passes appended to it."
   ]
  },
  {
   "cell_type": "code",
   "execution_count": 15,
   "metadata": {},
   "outputs": [
    {
     "data": {
      "image/png": "[encoded data removed]",
      "text/plain": [
       "<Figure size 203.885x284.278 with 1 Axes>"
      ]
     },
     "execution_count": 15,
     "metadata": {},
     "output_type": "execute_result"
    }
   ],
   "source": [
    "from qiskit import QuantumCircuit\n",
    "from qiskit.compiler import transpile\n",
    "from qiskit.transpiler import PassManager\n",
    "\n",
    "\n",
    "circ = QuantumCircuit(3)\n",
    "circ.ccx(0, 1, 2)\n",
    "circ.draw(output='mpl', style='clifford')"
   ]
  },
  {
   "cell_type": "code",
   "execution_count": 16,
   "metadata": {},
   "outputs": [
    {
     "name": "stderr",
     "output_type": "stream",
     "text": [
      "/home/kaelyn/projects/Notes/qiskit-documentation/.venv/lib64/python3.11/site-packages/qiskit/visualization/circuit/matplotlib.py:266: FutureWarning: The default matplotlib drawer scheme will be changed to \"iqp\" in a following release. To silence this warning, specify the current default explicitly as style=\"clifford\", or the new default as style=\"iqp\".\n",
      "  self._style, def_font_ratio = load_style(self._style)\n"
     ]
    },
    {
     "data": {
      "image/png": "[encoded data removed]",
      "text/plain": [
       "<Figure size 1040x284.278 with 1 Axes>"
      ]
     },
     "execution_count": 16,
     "metadata": {},
     "output_type": "execute_result"
    }
   ],
   "source": [
    "from qiskit.transpiler.passes import Unroll3qOrMore\n",
    "pass_ = Unroll3qOrMore()\n",
    "pm = PassManager(pass_)\n",
    "new_circ = pm.run(circ)\n",
    "new_circ.draw(output='mpl', style='clifford')\n",
    "\n",
    "# Add in another pass as example to decompose to backend basis gates\n"
   ]
  },
  {
   "cell_type": "markdown",
   "metadata": {},
   "source": [
    "`PassManagers` can also include control flow instructions to programatically execute different passes.  Once instantiated, new passes can be appended by the `PassManager.append()` method and can include a dictionary of flow controller plugins such as the [`DoWhileContoller`](../api/qiskit/qiskit.transpiler.DoWhileController.md) or [`ConditionalController`](../api/qiskit/qiskit.transpiler.ConditionalController.md).  (*this need more explanation*)"
   ]
  },
  {
   "cell_type": "markdown",
   "metadata": {},
   "source": [
    "## Building & Using Custom Plugins\n",
    "\n",
    "In this section we'll discuss installing and utilizing custom plugins, as well as writing your own from a `PassManager` object....\n",
    "\n",
    "Look to the page on writing [transpiler plugins](https://qiskit.org/documentation/apidoc/transpiler_plugins.html#plugin-api)"
   ]
  },
  {
   "cell_type": "markdown",
   "metadata": {},
   "source": []
  }
 ],
 "metadata": {
  "celltoolbar": "Raw Cell Format",
  "description": "Overview of transpiler stages and the PassManager",
  "kernelspec": {
   "display_name": "qiskit-wKX2ZNlv-py3.11",
   "language": "python",
   "name": "python3"
  },
  "language_info": {
   "codemirror_mode": {
    "name": "ipython",
    "version": 3
   },
   "file_extension": ".py",
   "mimetype": "text/x-python",
   "name": "python",
   "nbconvert_exporter": "python",
   "pygments_lexer": "ipython3",
   "version": "3.11.6"
  },
  "title": "Transpiler Stages & the PassManager"
 },
 "nbformat": 4,
 "nbformat_minor": 2
}
