{
 "cells": [
  {
   "cell_type": "markdown",
   "metadata": {},
   "source": [
    "# Customizing transpilation"
   ]
  },
  {
   "cell_type": "markdown",
   "metadata": {},
   "source": [
    "## Working with Preset Pass Managers\n",
    "\n",
    "Qiskit includes functions to build preset [`PassManager`](/api/qiskit/qiskit.transpiler.PassManager) objects.\n",
    "These preset passmanagers are used by the [`transpile`](/api/qiskit/qiskit.utils.QuantumInstance#transpile) function\n",
    "for each optimization level. There are 4 optimization levels ranging from 0 to 3, where higher\n",
    "optimization levels take more time and computational effort but may yield a\n",
    "more optimal circuit.\n",
    "Optimization level 0 is intended for device characterization experiments and, as such, only\n",
    "maps the input circuit to the constraints of the target backend, without\n",
    "performing any optimizations. Optimization level 3 spends the most effort to optimize the circuit.\n",
    "However, as many of the optimization techniques in the transpiler are heuristic based, spending more\n",
    "computational effort does not always result in an improvement in the quality of the output\n",
    "circuit.\n",
    "\n",
    "If you'd like to work directly with a\n",
    "preset pass manager you can use the [`generate_preset_pass_manager`](/api/qiskit/transpiler_preset#qiskit.transpiler.preset_passmanagers.generate_preset_pass_manager)\n",
    "function to easily generate one. For example, the following code generates a [`StagedPassManager`](/api/qiskit/qiskit.transpiler.StagedPassManager) object for optimization level 3\n",
    "targeting the [`FakeLagosV2`](/api/qiskit/qiskit.providers.fake_provider.FakeLagosV2) backend (equivalent to what is used internally\n",
    "by `transpile` with `backend=FakeLagosV2()` and `optimization_level=3`)."
   ]
  },
  {
   "cell_type": "code",
   "execution_count": 1,
   "metadata": {},
   "outputs": [],
   "source": [
    "from qiskit.transpiler.preset_passmanagers import generate_preset_pass_manager\n",
    "from qiskit.providers.fake_provider import FakeLagosV2\n",
    "\n",
    "backend = FakeLagosV2()\n",
    "pass_manager = generate_preset_pass_manager(3, backend)"
   ]
  },
  {
   "cell_type": "markdown",
   "metadata": {},
   "source": [
    "You can use this just like you would any other `PassManager`. However,\n",
    "because it is a `StagedPassManager` it also makes it easy to compose and/or\n",
    "replace stages of the pipeline. For example, if you wanted to run a custom scheduling\n",
    "stage using dynamical decoupling (via the [`PadDynamicalDecoupling`](https://docs.quantum-computing.ibm.com/api/qiskit-ibm-provider/qiskit_ibm_provider.transpiler.passes.scheduling.PadDynamicalDecoupling) pass) and\n",
    "also add initial logical optimization prior to routing, you would do something like this:"
   ]
  },
  {
   "cell_type": "code",
   "execution_count": 3,
   "metadata": {},
   "outputs": [],
   "source": [
    "import numpy as np\n",
    "from qiskit.circuit.library import HGate, PhaseGate, RXGate, TdgGate, TGate, XGate\n",
    "from qiskit.transpiler import PassManager\n",
    "from qiskit.transpiler.passes import (\n",
    "    ALAPScheduleAnalysis,\n",
    "    CXCancellation,\n",
    "    InverseCancellation,\n",
    "    PadDynamicalDecoupling,\n",
    ")\n",
    "\n",
    "backend_durations = backend.target.durations()\n",
    "dd_sequence = [XGate(), XGate()]\n",
    "scheduling_pm = PassManager(\n",
    "    [\n",
    "        ALAPScheduleAnalysis(backend_durations),\n",
    "        PadDynamicalDecoupling(backend_durations, dd_sequence),\n",
    "    ]\n",
    ")\n",
    "inverse_gate_list = [\n",
    "    HGate(),\n",
    "    (RXGate(np.pi / 4), RXGate(-np.pi / 4)),\n",
    "    (PhaseGate(np.pi / 4), PhaseGate(-np.pi / 4)),\n",
    "    (TGate(), TdgGate()),\n",
    "]\n",
    "logical_opt = PassManager(\n",
    "    [\n",
    "        CXCancellation(),\n",
    "        InverseCancellation(inverse_gate_list),\n",
    "    ]\n",
    ")\n",
    "\n",
    "\n",
    "# Add pre-layout stage to run extra logical optimization\n",
    "pass_manager.pre_layout = logical_opt\n",
    "# Set scheduling stage to custom pass manager\n",
    "pass_manager.scheduling = scheduling_pm"
   ]
  },
  {
   "cell_type": "markdown",
   "metadata": {},
   "source": [
    "Now, when the staged pass manager is run via the [`StagedPassManager.run`](/api/qiskit/qiskit.transpiler.StagedPassManager#run) method, the `logical_opt` pass manager will be called before the `layout` stage, and the `scheduling_pm` pass manager will be used for the `scheduling` stage instead of the default."
   ]
  },
  {
   "cell_type": "markdown",
   "metadata": {},
   "source": [
    "## Custom Pass Managers\n",
    "\n",
    "In addition to modifying preset pass managers, it is also possible to construct a pass manager to build an entirely custom pipeline for transforming input circuits. You can use the [`StagedPassManager`](/api/qiskit/qiskit.transpiler.StagedPassManager) class directly to do this. You can define arbitrary stage names and populate them with a [`PassManager`](/api/qiskit/qiskit.transpiler.PassManager) instance. For example, the following code creates a new `StagedPassManager` that has 2 stages, `init` and `translation`."
   ]
  },
  {
   "cell_type": "code",
   "execution_count": 19,
   "metadata": {},
   "outputs": [],
   "source": [
    "from qiskit.transpiler import PassManager, StagedPassManager\n",
    "from qiskit.transpiler.passes import (\n",
    "    Collect2qBlocks,\n",
    "    ConsolidateBlocks,\n",
    "    UnitarySynthesis,\n",
    "    Unroll3qOrMore,\n",
    ")\n",
    "\n",
    "basis_gates = [\"rx\", \"ry\", \"rxx\"]\n",
    "init = PassManager([UnitarySynthesis(basis_gates, min_qubits=3), Unroll3qOrMore()])\n",
    "translate = PassManager(\n",
    "    [\n",
    "        Collect2qBlocks(),\n",
    "        ConsolidateBlocks(basis_gates=basis_gates),\n",
    "        UnitarySynthesis(basis_gates),\n",
    "    ]\n",
    ")\n",
    "\n",
    "staged_pm = StagedPassManager(\n",
    "    stages=[\"init\", \"translation\"], init=init, translation=translate\n",
    ")"
   ]
  },
  {
   "cell_type": "markdown",
   "metadata": {},
   "source": [
    "There is no limit on the number of stages you can put in a `StagedPassManager`.\n",
    "\n",
    "The [stage generator functions](/api/qiskit/transpiler_preset#stage-generator-functions) functions may be useful for the construction of custom pass managers.\n",
    "They generate stages which provide common functionality used in many pass managers.\n",
    "For example, [`generate_embed_passmanager`](/api/qiskit/transpiler_preset#qiskit.transpiler.preset_passmanagers.common.generate_embed_passmanager) can be used to generate a stage\n",
    "to \"embed\" a selected initial `Layout` from a layout pass to the specified target device."
   ]
  }
 ],
 "metadata": {
  "celltoolbar": "Raw Cell Format",
  "description": "Overview of transpiler stages and the PassManager",
  "kernelspec": {
   "display_name": "qiskit-wKX2ZNlv-py3.11",
   "language": "python",
   "name": "python3"
  },
  "language_info": {
   "codemirror_mode": {
    "name": "ipython",
    "version": 3
   },
   "file_extension": ".py",
   "mimetype": "text/x-python",
   "name": "python",
   "nbconvert_exporter": "python",
   "pygments_lexer": "ipython3",
   "version": "3.10.12"
  },
  "title": "Transpiler Stages & the PassManager"
 },
 "nbformat": 4,
 "nbformat_minor": 2
}
