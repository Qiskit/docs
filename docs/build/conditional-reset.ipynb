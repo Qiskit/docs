{
 "cells": [
  {
   "attachments": {},
   "cell_type": "markdown",
   "metadata": {},
   "source": [
    "# Conditional reset"
   ]
  },
  {
   "attachments": {},
   "cell_type": "markdown",
   "metadata": {},
   "source": [
    "IBM Quantum systems support the `reset` instruction in Qiskit. This allows users to reset qubits into the ground state (`|0>`) with high fidelity. These instructions are comprised of a not-gate conditioned on the measurement outcome of the qubit, and demonstrate the real-time compute power of the IBM Quantum systems. They can be explored for the reuse of qubits in a circuit, to yield an increase in system throughput, and provide fidelity improvements over standard cavity-cooling methods. \n",
    "\n",
    "Here we provide several examples demonstrating how to use the `reset` instruction. "
   ]
  },
  {
   "attachments": {},
   "cell_type": "markdown",
   "metadata": {},
   "source": [
    "\n",
    "We can define the delay time between programs by using the `rep_delay` parameter. Reducing `rep_delay` enables faster executions and finer control over jobs. Users can choose from a continuous backend `rep_delay_range`. We will review these flags in this tutorial.\n",
    "\n",
    "\n",
    "Qubit initialization can also be turned off. This tutorial demonstrates how this manifests itself through poor thermalization of the qubit to the ground state in conjunction with a small `rep_delay`."
   ]
  },
  {
   "cell_type": "code",
   "execution_count": 27,
   "metadata": {},
   "outputs": [],
   "source": [
    "import numpy as np\n",
    "import matplotlib.pyplot as plt\n",
    "\n",
    "import qiskit\n",
    "from qiskit import IBMQ, QuantumCircuit, execute, assemble, schedule, transpile\n",
    "from qiskit.providers.ibmq.job import job_monitor\n",
    "from qiskit.tools.visualization import plot_histogram"
   ]
  },
  {
   "attachments": {},
   "cell_type": "markdown",
   "metadata": {},
   "source": [
    "## Loading the IBM Quantum Account"
   ]
  },
  {
   "cell_type": "code",
   "execution_count": null,
   "metadata": {},
   "outputs": [],
   "source": [
    "IBMQ.load_account()\n",
    "\n",
    "# Replace with your provider.\n",
    "provider = IBMQ.get_provider(group='deployed')\n",
    "# ibmq_paris supports conditional reset.\n",
    "backend = provider.get_backend('ibmq_paris')\n",
    "\n",
    "config = backend.configuration()"
   ]
  },
  {
   "attachments": {},
   "cell_type": "markdown",
   "metadata": {},
   "source": [
    "Here, `config` is the `backend.configuration()` that will be referenced throughout this tutorial."
   ]
  },
  {
   "attachments": {},
   "cell_type": "markdown",
   "metadata": {},
   "source": [
    "## Reset instruction"
   ]
  },
  {
   "attachments": {},
   "cell_type": "markdown",
   "metadata": {},
   "source": [
    "We begin by demonstrating the `reset` instruction."
   ]
  },
  {
   "attachments": {},
   "cell_type": "markdown",
   "metadata": {},
   "source": [
    "### Single-qubit reset experiment"
   ]
  },
  {
   "attachments": {},
   "cell_type": "markdown",
   "metadata": {},
   "source": [
    "We perform the following sequences of one-qubit operations: `h -> x -> measure` and `h -> reset -> x -> measure`. Without reset, the expected result of the first circuit is $\\frac{1}{\\sqrt{2}}\\left(|0\\rangle+|1\\rangle\\right)$ and a uniform distribution of `0` and `1` bits at the output. However, when the `reset` is included, the superposition prepared by the Hadamard gate is reset to $|0\\rangle$ and the X-gate performs a bit flip to $|1\\rangle$.\n",
    "\n",
    "Below we define both of these circuits, and allow for a variable number of `reset` operations to be performed."
   ]
  },
  {
   "cell_type": "code",
   "execution_count": 31,
   "metadata": {},
   "outputs": [],
   "source": [
    "h_x_circ = QuantumCircuit(1, 1)\n",
    "h_x_circ.h(0)\n",
    "h_x_circ.x(0)\n",
    "h_x_circ.measure(0, 0)\n",
    "\n",
    "def h_reset_x_circ(n_resets):\n",
    "    \"\"\"Do h, then n_resets reset instructions, then x on a single qubit.\"\"\"\n",
    "    qc = QuantumCircuit(1, 1)\n",
    "    qc.h(0)\n",
    "    qc.reset([0]*n_resets)\n",
    "    qc.x(0)\n",
    "    qc.measure(0,0)\n",
    "    return qc"
   ]
  },
  {
   "attachments": {},
   "cell_type": "markdown",
   "metadata": {},
   "source": [
    "We run this experiment on qubit 0, with 0, 1, 3, and 5 `reset` operations. We see clear improvement after a single reset and further improvement with 3 resets. By 5 resets the improvement in the qubit state preparation has mostly saturated, and the final fidelity is close to the measurement fidelity of the qubit under consideration. "
   ]
  },
  {
   "cell_type": "code",
   "execution_count": 32,
   "metadata": {},
   "outputs": [
    {
     "name": "stdout",
     "output_type": "stream",
     "text": [
      "Job Status: job has successfully run\n"
     ]
    }
   ],
   "source": [
    "circs0 = [h_x_circ, h_reset_x_circ(1), h_reset_x_circ(3), h_reset_x_circ(5)]\n",
    "job1q_0 = execute(circs0, backend, initial_layout=[0])\n",
    "job_monitor(job1q_0)"
   ]
  },
  {
   "cell_type": "code",
   "execution_count": 33,
   "metadata": {},
   "outputs": [
    {
     "data": {
      "image/png": "[encoded data removed]",
      "text/plain": [
       "<Figure size 648x432 with 1 Axes>"
      ]
     },
     "execution_count": 33,
     "metadata": {},
     "output_type": "execute_result"
    }
   ],
   "source": [
    "counts1 = job1q_0.result().get_counts()\n",
    "\n",
    "legend_1q = ['h -> x', 'h -> reset -> x', 'h -> 3*reset -> x', 'h -> 5*reset -> x' ]\n",
    "plot_histogram(counts1, legend=legend_1q, figsize=(9, 6))"
   ]
  },
  {
   "attachments": {},
   "cell_type": "markdown",
   "metadata": {},
   "source": [
    "### Multi-qubit reset experiment"
   ]
  },
  {
   "attachments": {},
   "cell_type": "markdown",
   "metadata": {},
   "source": [
    "The next experiment tests multi-qubit circuits. A complex circuit is considered with the possibility of multiple `reset` instructions in the middle. The expected result is given by the Aer qasm simulator (it can also be verified analytically). \n",
    "\n",
    "Without any `reset` instructions, we expect a unifrom distribution across 4 of the computational basis states ($|000\\rangle$, $|001\\rangle$, $|010\\rangle$, $|011\\rangle$). With `reset` added, we expect nearly all counts in the $|010\\rangle$ state.\n",
    "\n",
    "Once again, we run the circuit with 0, 1, and 3 `reset` instructions. We see an improvement for 1 reset and further improvement for 3 resets."
   ]
  },
  {
   "attachments": {},
   "cell_type": "markdown",
   "metadata": {},
   "source": [
    "<div class=\"alert alert-block alert-info\">\n",
    "**Note:**   \n",
    "\n",
    "The `reset` operation can be time intensive, so when working with multiple qubits it is important to be careful how `reset` instructions are done.\n",
    "\n",
    "The backend will attempt to merge resets following standard commutation rules. However, if you attempt many resets on each individual qubit and they cannot be merged, it may lead to some states being favored as much of the qubit's T1 time is being used up. If you see results tending towards a single state as the number of resets increases, consider reducing the number of resets or performing the resets adjacent to one another. \n",
    "</div>"
   ]
  },
  {
   "cell_type": "code",
   "execution_count": 34,
   "metadata": {},
   "outputs": [],
   "source": [
    "def multiq_custom_circ(n_resets):\n",
    "    \"\"\"Multi-qubit circuit on qubits 0, 1, 2 with ``n_resets`` reset instructions used.\"\"\"\n",
    "    qc = QuantumCircuit(3, 3)\n",
    "    qc.h(0)\n",
    "    qc.h(1)\n",
    "    qc.h(2)\n",
    "    qc.reset([0]*n_resets)\n",
    "    qc.cx(0, 2)\n",
    "    qc.reset([1]*n_resets)\n",
    "    qc.x(1)\n",
    "    qc.measure(range(2), range(2))\n",
    "    return qc"
   ]
  },
  {
   "cell_type": "code",
   "execution_count": 35,
   "metadata": {},
   "outputs": [],
   "source": [
    "multiq_circs = [multiq_custom_circ(0), multiq_custom_circ(1), multiq_custom_circ(3)]"
   ]
  },
  {
   "cell_type": "code",
   "execution_count": 36,
   "metadata": {},
   "outputs": [
    {
     "name": "stdout",
     "output_type": "stream",
     "text": [
      "No reset sim counts, custom circ:  {'000': 241, '001': 258, '010': 279, '011': 246}\n",
      "1 Reset sim counts, custom circ:  {'010': 1024}\n"
     ]
    }
   ],
   "source": [
    "# verify expected output\n",
    "from qiskit import Aer\n",
    "job_multiq_sim = execute(multiq_circs, \n",
    "                         backend=Aer.get_backend('qasm_simulator'))\n",
    "counts_multiq_sim = job_multiq_sim.result().get_counts()\n",
    "print(\"No reset sim counts, custom circ: \", counts_multiq_sim[0])\n",
    "print(\"1 Reset sim counts, custom circ: \", counts_multiq_sim[1])"
   ]
  },
  {
   "cell_type": "code",
   "execution_count": 37,
   "metadata": {},
   "outputs": [
    {
     "name": "stdout",
     "output_type": "stream",
     "text": [
      "Job Status: job has successfully run\n"
     ]
    }
   ],
   "source": [
    "job_multiq = execute(multiq_circs, backend)\n",
    "job_monitor(job_multiq)"
   ]
  },
  {
   "cell_type": "code",
   "execution_count": 39,
   "metadata": {},
   "outputs": [
    {
     "data": {
      "image/png": "[encoded data removed]",
      "text/plain": [
       "<Figure size 648x432 with 1 Axes>"
      ]
     },
     "execution_count": 39,
     "metadata": {},
     "output_type": "execute_result"
    }
   ],
   "source": [
    "counts_multiq = job_multiq.result().get_counts()\n",
    "legend_multiq = ['no reset', '1 reset', '3 resets']\n",
    "plot_histogram(counts_multiq, legend=legend_multiq, figsize=(9, 6))"
   ]
  },
  {
   "attachments": {},
   "cell_type": "markdown",
   "metadata": {},
   "source": [
    "## Repetition delay and removing qubit initialization at the start of programs"
   ]
  },
  {
   "attachments": {},
   "cell_type": "markdown",
   "metadata": {},
   "source": [
    "This section covers two new features: Setting the repetition delay, and removing qubit initialization at the start of circuits. \n",
    "\n",
    "The repetition delay defines the delay time between circuit executions. For instance, if you run a job with 5 circuits, the repetition delay (`rep_delay` for short) defines how long the backend is idle for between the conclusion of one circuit and start of the next. This parameter provides finer grained control over the execution of your quantum circuits on IBM Quantum systems.\n",
    "\n",
    "Shortening `rep_delay` can reduce execution time, and therefore reduce the sensitivity of your experiment to long term drifts in hardware parameter variations. However, setting too short a time may yield poorly initialized qubits.\n",
    "\n",
    "With the smaller `rep_delay`, users may prefer to initialize circuits themselves via the `reset` instruction introduced above. For this reason, we have added a flag `init_qubits` which determines whether the default backend initialization sequence will be inserted. This allows users to work with \"dirty qubits\" and perform experiments with non-initialized states.\n",
    "\n",
    "<div class=\"alert alert-block alert-info\">\n",
    "\n",
    "    \n",
    "**Note:** If `init_qubits` is set to false and you want qubits to start in the ground state, you must insert resets at the start of your circuit. Otherwise, qubits will begin with their state from the previous shot (after undergoing some thermalization process for the interval between shots as set by `rep_delay`). Note that the first shot of the first circuit may still be in the thermal ground state due to a longer delay existing during the loading of your job to hardware.\n",
    "</div>"
   ]
  },
  {
   "attachments": {},
   "cell_type": "markdown",
   "metadata": {},
   "source": [
    "In order to use `rep_delay`, we must check if the backend supports it. This is controlled by a flag in the backend configuration `dynamic_reprate_enabled`."
   ]
  },
  {
   "cell_type": "code",
   "execution_count": 41,
   "metadata": {},
   "outputs": [
    {
     "data": {
      "text/plain": [
       "True"
      ]
     },
     "execution_count": 41,
     "metadata": {},
     "output_type": "execute_result"
    }
   ],
   "source": [
    "config.dynamic_reprate_enabled"
   ]
  },
  {
   "attachments": {},
   "cell_type": "markdown",
   "metadata": {},
   "source": [
    "Since dynamic rep rates are enabled on this device, we can proceed with specifying the delay time.\n",
    "\n",
    "The backend specifies an allowed range of delay times, given by `rep_delay_range`. Having a continuous range provides users with fine-grained control of the delays. A default is also returned by the backend as `default_rep_delay`."
   ]
  },
  {
   "cell_type": "code",
   "execution_count": 42,
   "metadata": {},
   "outputs": [
    {
     "name": "stdout",
     "output_type": "stream",
     "text": [
      "Range of delay times: [0.0, 0.0005]s\n",
      "Default delay time: 0.00045999999999999996s\n"
     ]
    }
   ],
   "source": [
    "print(f\"Range of delay times: {config.rep_delay_range}s\")\n",
    "print(f\"Default delay time: {config.default_rep_delay}s\")"
   ]
  },
  {
   "attachments": {},
   "cell_type": "markdown",
   "metadata": {},
   "source": [
    "We conduct a simple experiment to demonstrate the effect of `rep_delay` as follows:\n",
    "\n",
    "1. Turn off qubit initialization using `init_qubits=False`.\n",
    "2. Set `rep_delay` to something small (we use `rep_delay=0.005e-6 s`). \n",
    "3. Define a `dirty_q_circ()` method which puts the qubits in an unpredictable state.\n",
    "4. Run the dirty circuit and then run some known circuit with a defined result.\n",
    "\n",
    "The dirty circuit puts the qubits in an unknown state and then, since `rep_delay` is small and qubits are not initialized, we get an unpredictable (and often bad) result for our known circuit.\n",
    "\n",
    "We \"fix\" this by modifying the known circuit to add some number of resets to the front of the circuit, thus initializing our qubits manually.\n",
    "\n",
    "The circuits we run are `(some number of resets), measure` and `x, (some number of resets), measure`.\n",
    "\n",
    "When no resets are inserted, we see a poor result in each case. However, with resets inserted we observe results closer to what we expect (all `0`'s for the `measure` and all `1`'s for the `x, measure`)."
   ]
  },
  {
   "cell_type": "code",
   "execution_count": 49,
   "metadata": {},
   "outputs": [],
   "source": [
    "def dirty_q_circ():\n",
    "    \"\"\"Circuit to give bad qubit initialization.\"\"\"\n",
    "    # does random x rotation\n",
    "    qc = QuantumCircuit(1, 1)\n",
    "    theta = np.random.uniform(0, 2*np.pi)\n",
    "    qc.rx(theta, 0)\n",
    "    qc.measure(0, 0)\n",
    "    return qc\n",
    "\n",
    "def reset_x_circ(n_resets):\n",
    "    \"\"\"Reset, x circuit.\"\"\"\n",
    "    qc = QuantumCircuit(1, 1)\n",
    "    for _ in range(n_resets):\n",
    "        qc.reset(0)\n",
    "    qc.x(0)\n",
    "    qc.measure(0, 0)\n",
    "    return qc\n",
    "\n",
    "def reset_meas_circ(n_resets):\n",
    "    \"\"\"Reset, measure circuit.\"\"\"\n",
    "    qc = QuantumCircuit(1, 1)\n",
    "    for _ in range(n_resets):\n",
    "        qc.reset(0)\n",
    "    qc.measure(0, 0)\n",
    "    return qc"
   ]
  },
  {
   "cell_type": "code",
   "execution_count": 44,
   "metadata": {},
   "outputs": [],
   "source": [
    "circs_no_init = [dirty_q_circ(), reset_meas_circ(0),  # 1\n",
    "                 dirty_q_circ(), reset_x_circ(0),  # 3\n",
    "                 dirty_q_circ(), reset_meas_circ(1),  # 5\n",
    "                 dirty_q_circ(), reset_x_circ(1),  # 7\n",
    "                 dirty_q_circ(), reset_meas_circ(3),  # 9\n",
    "                 dirty_q_circ(), reset_x_circ(3)] # 11"
   ]
  },
  {
   "attachments": {},
   "cell_type": "markdown",
   "metadata": {},
   "source": [
    "`rep_delay` can be specified in `execute()` or `assemble()`. We choose `assemble()` so that we can print and verify our `rep_delay` in the `qobj.config`. Also note that `init_qubits=False`."
   ]
  },
  {
   "cell_type": "code",
   "execution_count": 50,
   "metadata": {},
   "outputs": [
    {
     "name": "stdout",
     "output_type": "stream",
     "text": [
      "Job Status: job has successfully run\n"
     ]
    }
   ],
   "source": [
    "job_no_init = execute(circs_no_init, backend, init_qubits=False, optimization_level=0, rep_delay=0.005e-6)\n",
    "job_monitor(job_no_init)"
   ]
  },
  {
   "attachments": {},
   "cell_type": "markdown",
   "metadata": {},
   "source": [
    "Like `rep_delay`, `init_qubits` can be set in `execute()` or `assemble()`."
   ]
  },
  {
   "cell_type": "code",
   "execution_count": 51,
   "metadata": {},
   "outputs": [],
   "source": [
    "counts_no_init = job_no_init.result().get_counts()\n",
    "legend_no_init = ['0 resets', '1 reset', '3 resets']"
   ]
  },
  {
   "cell_type": "code",
   "execution_count": 53,
   "metadata": {},
   "outputs": [
    {
     "data": {
      "image/png": "[encoded data removed]",
      "text/plain": [
       "<Figure size 648x432 with 1 Axes>"
      ]
     },
     "execution_count": 53,
     "metadata": {},
     "output_type": "execute_result"
    }
   ],
   "source": [
    "plot_histogram([counts_no_init[1], counts_no_init[5], counts_no_init[9]], \n",
    "                legend=legend_no_init, title='meas w/ dirty qubits', figsize=(9,6))"
   ]
  },
  {
   "cell_type": "code",
   "execution_count": 54,
   "metadata": {},
   "outputs": [
    {
     "data": {
      "image/png": "[encoded data removed]",
      "text/plain": [
       "<Figure size 648x432 with 1 Axes>"
      ]
     },
     "execution_count": 54,
     "metadata": {},
     "output_type": "execute_result"
    }
   ],
   "source": [
    "plot_histogram([counts_no_init[3], counts_no_init[7], counts_no_init[11]], \n",
    "                legend=legend_no_init, title='x w/ dirty qubits', figsize=(9,6))"
   ]
  },
  {
   "attachments": {},
   "cell_type": "markdown",
   "metadata": {},
   "source": [
    "Next, we consider how measurement fidelity varies with `rep_delay` when we add a `reset` at the beginning versus when we don't.\n",
    "\n",
    "We replace `dirty_q_circ()` with an `x` gate as this is as far as we can get from $|0>$. We then run either `measure` or `reset, measure`. The `rep_delay` is varied from `0.005-350 us`, with 10 data points (you can run more, but it will take longer). \n",
    "\n",
    "Qubit initialization is again turned off. \n",
    "\n",
    "With a `reset`, the measurement fidelity is above 90% for all `rep_delay`s (the fidelity here is defined by the probability of measuring a `0`). However, without the `reset`, the fidelity begins low and steadily rises as `rep_delay` increases. This is because increasing `rep_delay` gives the qubit more time to cool back to its ground state."
   ]
  },
  {
   "cell_type": "code",
   "execution_count": 56,
   "metadata": {},
   "outputs": [],
   "source": [
    "def x_circ():\n",
    "    qc = QuantumCircuit(1, 1)\n",
    "    qc.x(0)\n",
    "    qc.measure(0, 0)\n",
    "    return qc\n",
    "\n",
    "circs_no_reset = [x_circ(), reset_meas_circ(0)]\n",
    "circs_reset = [x_circ(), reset_meas_circ(1)]\n",
    "circs_no_reset = qiskit.transpile(circs_no_reset, backend=backend, optimization_level=0)\n",
    "circs_reset = qiskit.transpile(circs_reset, backend=backend, optimization_level=0)"
   ]
  },
  {
   "attachments": {},
   "cell_type": "markdown",
   "metadata": {},
   "source": [
    "We have used `optimization_level=0` to avoid the `RemoveResetInZeroState` optimization pass from Qiskit (see [here](/api/qiskit/qiskit.transpiler.passes.RemoveResetInZeroState)). There is an open Qiskit issue discussing how best to align this pass with the new `reset` capabilities (see [here](https://github.com/Qiskit/qiskit-terra/issues/5127))."
   ]
  },
  {
   "cell_type": "code",
   "execution_count": 57,
   "metadata": {},
   "outputs": [
    {
     "name": "stdout",
     "output_type": "stream",
     "text": [
      "rep_delays (us): [5.00000000e-09 3.88933333e-05 7.77816667e-05 1.16670000e-04\n",
      " 1.55558333e-04 1.94446667e-04 2.33335000e-04 2.72223333e-04\n",
      " 3.11111667e-04 3.50000000e-04]s\n"
     ]
    }
   ],
   "source": [
    "# NOTE: If you run into an issue running more than 5 concurrent jobs, simply split up the loop.\n",
    "no_reset_jobs = []\n",
    "reset_jobs = []\n",
    "rep_delays = np.linspace(0.005e-6, 350e-6, 10)  # rep delays to use in sec\n",
    "print(f\"rep_delays (us): {rep_delays}s\")\n",
    "\n",
    "for rep_delay in rep_delays:\n",
    "    qobj_no_reset = assemble(circs_no_reset, backend, init_qubits=False, optimization_level=0, rep_delay=rep_delay)\n",
    "    qobj_reset = assemble(circs_reset, backend, init_qubits=False, optimization_level=0, rep_delay=rep_delay)\n",
    "    job_no_reset = backend.run(qobj_no_reset)\n",
    "    job_reset = backend.run(qobj_reset)\n",
    "    no_reset_jobs.append(job_no_reset)\n",
    "    reset_jobs.append(job_reset)"
   ]
  },
  {
   "cell_type": "code",
   "execution_count": 58,
   "metadata": {},
   "outputs": [],
   "source": [
    "def prob0(counts):\n",
    "    \"\"\"Probability of 0 from a counts dict of the form {'0': int, '1': int}.\"\"\"\n",
    "    zero_counts = counts.get('0', 0)\n",
    "    total_counts = zero_counts + counts.get('1', 0)\n",
    "    return zero_counts / total_counts"
   ]
  },
  {
   "cell_type": "code",
   "execution_count": 59,
   "metadata": {},
   "outputs": [],
   "source": [
    "# this could take few minutes\n",
    "no_reset_counts = [no_reset_jobs[i].result().get_counts()[1] for i in range(10)]\n",
    "reset_counts = [reset_jobs[i].result().get_counts()[1] for i in range(10)]\n",
    "\n",
    "no_reset_prob0 = [prob0(counts) for counts in no_reset_counts]\n",
    "reset_prob0 = [prob0(counts) for counts in reset_counts]"
   ]
  },
  {
   "cell_type": "code",
   "execution_count": 60,
   "metadata": {},
   "outputs": [
    {
     "data": {
      "image/png": "[encoded data removed]",
      "text/plain": [
       "<Figure size 432x288 with 1 Axes>"
      ]
     },
     "metadata": {
      "needs_background": "light"
     },
     "output_type": "display_data"
    }
   ],
   "source": [
    "plt.plot(rep_delays*1e6, no_reset_prob0, '.', label='no reset')\n",
    "plt.plot(rep_delays*1e6, reset_prob0, '.', label='reset')\n",
    "plt.legend()\n",
    "plt.xlabel('rep_delay (us)')\n",
    "plt.ylabel('Success probability ($\\Pr(|0>)$)')\n",
    "plt.title('Reset vs. no reset measurement fidelity as function of program delay')\n",
    "plt.show()"
   ]
  },
  {
   "cell_type": "code",
   "execution_count": null,
   "metadata": {},
   "outputs": [],
   "source": [
    "import qiskit.tools.jupyter\n",
    "%qiskit_version_table"
   ]
  },
  {
   "cell_type": "code",
   "execution_count": null,
   "metadata": {},
   "outputs": [],
   "source": [
    "%qiskit_copyright"
   ]
  }
 ],
 "metadata": {
  "description": "Conditional reset",
  "kernelspec": {
   "display_name": "Python 3",
   "language": "python",
   "name": "python3"
  },
  "language_info": {
   "codemirror_mode": {
    "name": "ipython",
    "version": 3
   },
   "file_extension": ".py",
   "mimetype": "text/x-python",
   "name": "python",
   "nbconvert_exporter": "python",
   "pygments_lexer": "ipython3",
   "version": "3.7.9"
  },
  "title": "Conditional reset"
 },
 "nbformat": 4,
 "nbformat_minor": 2
}
