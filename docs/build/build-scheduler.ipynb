{
 "cells": [
  {
   "cell_type": "code",
   "execution_count": null,
   "metadata": {},
   "outputs": [],
   "source": []
  },
  {
   "cell_type": "markdown",
   "metadata": {},
   "source": [
    "## Build pulse schedules\n",
    "\n",
    "Pulse gates define a low-level, exact representation for a circuit gate. A single operation can be implemented with a pulse program, which is comprised of multiple low-level instructions.  Regardless of how the program is used, the syntax for building the program is the same. Read on to learn how!"
   ]
  },
  {
   "cell_type": "markdown",
   "metadata": {},
   "source": [
    "**Important:** For IBM devices, pulse programs are used as subroutines to describe gates. IBM devices do not accept full programs in this format. "
   ]
  },
  {
   "cell_type": "markdown",
   "metadata": {},
   "source": [
    "Pulse programs, which are called `Schedule`s, describe instruction sequences for the control electronics. We build `Schedule`s using the Pulse Builder. It's easy to initialize a schedule:"
   ]
  },
  {
   "cell_type": "code",
   "execution_count": null,
   "metadata": {},
   "outputs": [
    {
     "data": {
      "text/plain": [
       "ScheduleBlock(, name=\"my_example\", transform=AlignLeft())"
      ]
     },
     "metadata": {},
     "output_type": "display_data"
    }
   ],
   "source": [
    "from qiskit import pulse\n",
    "\n",
    "with pulse.build(name='my_example') as my_program:\n",
    "    # Add instructions here\n",
    "    pass\n",
    "\n",
    "my_program"
   ]
  },
  {
   "cell_type": "markdown",
   "metadata": {},
   "source": [
    "You can see that there are no instructions yet. The next section of this page will explain each of the instructions you might add to a schedule, and the last section will describe various _alignment contexts_, which determine how instructions are placed in time relative to one another."
   ]
  },
  {
   "cell_type": "markdown",
   "metadata": {},
   "source": [
    "### `Schedule` Instructions\n",
    "\n",
    " - [delay(duration, channel)](#delay)\n",
    " - [play(pulse, channel)](#play)\n",
    " - [set_frequency(frequency, channel)](#set_frequency)\n",
    " - [shift_phase(phase, channel)](#shift_phase)\n",
    " - [acquire(duration, channel, mem_slot, reg_slot)](#acquire)\n",
    "\n",
    "Each instruction type has its own set of operands. As you can see above, they each include at least one `Channel` to specify where the instruction will be applied.\n",
    "\n",
    "**Channels** are labels for signal lines from the control hardware to the quantum chip.\n",
    "\n",
    " - `DriveChannel`s are typically used for _driving_ single qubit rotations,\n",
    " - `ControlChannel`s are typically used for multi-qubit gates or additional drive lines for tunable qubits, \n",
    " - `MeasureChannel`s are specific to transmitting pulses which stimulate readout, and\n",
    " - `AcquireChannel`s are used to trigger digitizers which collect readout signals.\n",
    " \n",
    "`DriveChannel`s, `ControlChannel`s, and `MeasureChannel`s are all `PulseChannel`s; this means that they support _transmitting_ pulses, whereas the `AcquireChannel` is a receive channel only and cannot play waveforms.\n",
    "\n",
    "For the following examples, we will create one `DriveChannel` instance for each `Instruction` that accepts a `PulseChannel`. Channels take one integer `index` argument. Except for `ControlChannel`s, the index maps trivially to the qubit label."
   ]
  },
  {
   "cell_type": "code",
   "execution_count": null,
   "metadata": {},
   "outputs": [],
   "source": [
    "from qiskit.pulse import DriveChannel\n",
    "\n",
    "channel = DriveChannel(0)"
   ]
  },
  {
   "cell_type": "markdown",
   "metadata": {},
   "source": [
    "The pulse `Schedule` is independent of the backend it runs on. However, we can build our program in a context that is aware of the target backend by supplying it to `pulse.build`. When possible you should supply a backend. By using the channel accessors `pulse.<type>_channel(<idx>)` we can make sure we are only using available device resources."
   ]
  },
  {
   "cell_type": "code",
   "execution_count": null,
   "metadata": {},
   "outputs": [
    {
     "name": "stdout",
     "output_type": "stream",
     "text": [
      "5\n"
     ]
    }
   ],
   "source": [
    "from qiskit.providers.fake_provider import FakeValencia\n",
    "\n",
    "backend = FakeValencia()\n",
    "\n",
    "with pulse.build(backend=backend, name='backend_aware') as backend_aware_program:\n",
    "    channel = pulse.drive_channel(0)\n",
    "    print(pulse.num_qubits())\n",
    "    # Raises an error as backend only has 5 qubits\n",
    "    #pulse.drive_channel(100)"
   ]
  },
  {
   "cell_type": "markdown",
   "metadata": {},
   "source": [
    "### `delay`\n",
    "\n",
    "One of the simplest instructions we can build is `delay`. This is a blocking instruction that tells the control electronics to output no signal on the given channel for the duration specified. It is useful for controlling the timing of other instructions.\n",
    "\n",
    "The duration here and elsewhere is in terms of the backend's cycle time (1 / sample rate), `dt`. It must take an integer value.\n",
    "\n",
    "To add a `delay` instruction, we pass a duration and a channel, where `channel` can be any kind of channel, including `AcquireChannel`. We use `pulse.build` to begin a Pulse Builder context. This automatically schedules our delay into the schedule `delay_5dt`."
   ]
  },
  {
   "cell_type": "code",
   "execution_count": null,
   "metadata": {},
   "outputs": [],
   "source": [
    "with pulse.build(backend) as delay_5dt:\n",
    "    pulse.delay(5, channel)"
   ]
  },
  {
   "cell_type": "markdown",
   "metadata": {},
   "source": [
    "That's all there is to it. Any instruction added after this delay on the same channel will execute five timesteps later than it would have without this delay.\n",
    "\n",
    "### `play`\n",
    "\n",
    "The `play` instruction is responsible for executing _pulses_. It's straightforward to add a play instruction:\n",
    "\n",
    "```\n",
    "with pulse.build() as sched:\n",
    "    pulse.play(pulse, channel)\n",
    "```\n",
    "\n",
    "Let's clarify what the `pulse` argument is and explore a few different ways to build one.\n",
    "\n",
    "#### Pulses\n",
    "\n",
    "A `Pulse` specifies an arbitrary pulse _envelope_. The modulation frequency and phase of the output waveform are controlled by the `set_frequency` and `shift_phase` instructions, which we will cover next.\n",
    "\n",
    "The image below may provide some intuition for why they are specified separately. Think of the pulses which describe their envelopes as input to an arbitrary waveform generator (AWG), a common lab instrument -- this is depicted in the left image. Notice the limited sample rate discritizes the signal. The signal produced by the AWG may be mixed with a continuous sine wave generator. The frequency of its output is controlled by instructions to the sine wave generator; see the middle image. Finally, the signal sent to the qubit is demonstrated by the right side of the image below.\n",
    "\n",
    "**Note**: The hardware may be implemented in other ways, but if we keep the instructions separate, we avoid losing explicit information, such as the value of the modulation frequency.\n",
    "\n",
    "![alt text](pulse_modulation.png \"Pulse modulation image\")\n",
    "\n",
    "There are many methods available to us for building up pulses. Our `library` within Qiskit Pulse contains helpful methods for building `Pulse`s. Let's take for example a simple Gaussian pulse -- a pulse with its envelope described by a sampled Gaussian function. We arbitrarily choose an amplitude of 1, standard deviation $\\sigma$ of 10, and 128 sample points.\n",
    "\n",
    "**Note**: The amplitude norm is arbitrarily limited to `1.0`. Each backend system may also impose further constraints -- for instance, a minimum pulse size of 64. These additional constraints, if available, would be provided through the `BackendConfiguration` which is described [here](https://qiskit.org/documentation/tutorials/circuits_advanced/08_gathering_system_information.html#Configuration)."
   ]
  },
  {
   "cell_type": "code",
   "execution_count": null,
   "metadata": {},
   "outputs": [],
   "source": [
    "from qiskit.pulse import library\n",
    "\n",
    "amp = 1\n",
    "sigma = 10\n",
    "num_samples = 128"
   ]
  },
  {
   "cell_type": "markdown",
   "metadata": {},
   "source": [
    "##### Parametric pulses\n",
    "Let's build our Gaussian pulse using the `Gaussian` parametric pulse. A parametric pulse sends the name of the function and its parameters to the backend, rather than every individual sample. Using parametric pulses makes the jobs you send to the backend much smaller. IBM Quantum backends limit the maximum job size that they accept, so parametric pulses may allow you to run larger programs.\n",
    "\n",
    "Other parametric pulses in the `library` include `GaussianSquare`, `Drag`, and `Constant`.\n",
    "\n",
    "\n",
    "**Note**: The backend is responsible for deciding exactly how to sample the parametric pulses. It is possible to draw parametric pulses, but the samples displayed are not guaranteed to be the same as those executed on the backend."
   ]
  },
  {
   "cell_type": "code",
   "execution_count": null,
   "metadata": {},
   "outputs": [
    {
     "data": {
      "image/png": "[encoded data removed]",
      "text/plain": [
       "<Figure size 936x118.8 with 1 Axes>"
      ]
     },
     "metadata": {},
     "output_type": "display_data"
    }
   ],
   "source": [
    "gaus = pulse.library.Gaussian(num_samples, amp, sigma,\n",
    "                              name=\"Parametric Gaus\")\n",
    "gaus.draw()"
   ]
  },
  {
   "cell_type": "markdown",
   "metadata": {},
   "source": [
    "##### Pulse waveforms described by samples\n",
    "\n",
    "A `Waveform` is a pulse signal specified as an array of time-ordered complex amplitudes, or _samples_. Each sample is played for one cycle, a timestep `dt`, determined by the backend. If we want to know the real-time dynamics of our program, we need to know the value of `dt`. The (zero-indexed) $i^{th}$ sample will play from time `i*dt` up to `(i + 1)*dt`, modulated by the qubit frequency."
   ]
  },
  {
   "cell_type": "code",
   "execution_count": null,
   "metadata": {},
   "outputs": [
    {
     "data": {
      "image/png": "[encoded data removed]",
      "text/plain": [
       "<Figure size 936x118.8 with 1 Axes>"
      ]
     },
     "metadata": {},
     "output_type": "display_data"
    }
   ],
   "source": [
    "import numpy as np\n",
    "\n",
    "times = np.arange(num_samples)\n",
    "gaussian_samples = np.exp(-1/2 *((times - num_samples / 2) ** 2 / sigma**2))\n",
    "\n",
    "gaus = library.Waveform(gaussian_samples, name=\"WF Gaus\")\n",
    "gaus.draw()"
   ]
  },
  {
   "cell_type": "markdown",
   "metadata": {},
   "source": [
    "##### Pulse library functions\n",
    "\n",
    "Our own pulse library has sampling methods to build a `Waveform` from common functions."
   ]
  },
  {
   "cell_type": "code",
   "execution_count": null,
   "metadata": {},
   "outputs": [
    {
     "data": {
      "image/png": "[encoded data removed]",
      "text/plain": [
       "<Figure size 936x118.8 with 1 Axes>"
      ]
     },
     "metadata": {},
     "output_type": "display_data"
    }
   ],
   "source": [
    "gaus = library.gaussian(duration=num_samples, amp=amp, sigma=sigma, name=\"Lib Gaus\")\n",
    "gaus.draw()"
   ]
  },
  {
   "cell_type": "markdown",
   "metadata": {},
   "source": [
    "Regardless of which method you use to specify your `pulse`, `play` is added to your schedule the same way:"
   ]
  },
  {
   "cell_type": "code",
   "execution_count": null,
   "metadata": {},
   "outputs": [
    {
     "data": {
      "image/png": "[encoded data removed]",
      "text/plain": [
       "<Figure size 936x118.8 with 1 Axes>"
      ]
     },
     "metadata": {},
     "output_type": "display_data"
    }
   ],
   "source": [
    "with pulse.build() as schedule:\n",
    "    pulse.play(gaus, channel)\n",
    "schedule.draw()"
   ]
  },
  {
   "cell_type": "markdown",
   "metadata": {},
   "source": [
    "You may also supply a complex list or array directly to `play`"
   ]
  },
  {
   "cell_type": "code",
   "execution_count": null,
   "metadata": {},
   "outputs": [
    {
     "data": {
      "image/png": "[encoded data removed]",
      "text/plain": [
       "<Figure size 936x118.8 with 1 Axes>"
      ]
     },
     "metadata": {},
     "output_type": "display_data"
    }
   ],
   "source": [
    "with pulse.build() as schedule:\n",
    "    pulse.play([0.001*i for i in range(160)], channel)\n",
    "schedule.draw()"
   ]
  },
  {
   "cell_type": "markdown",
   "metadata": {},
   "source": [
    "The `play` instruction gets its duration from its `Pulse`: the duration of a parametrized pulse is an explicit argument, and the duration of a `Waveform` is the number of input samples.\n",
    "\n",
    "### `set_frequency`\n",
    "\n",
    "As explained previously, the output pulse waveform envelope is also modulated by a frequency and phase. Each channel has a [default frequency listed in the backend.defaults()](https://qiskit.org/documentation/tutorials/circuits_advanced/08_gathering_system_information.html#Defaults).\n",
    "\n",
    "The frequency of a channel can be updated at any time within a `Schedule` by the `set_frequency` instruction. It takes a float `frequency` and a `PulseChannel` `channel` as input. All pulses on a channel following a `set_frequency` instruction will be modulated by the given frequency until another `set_frequency` instruction is encountered or until the program ends.\n",
    "\n",
    "The instruction has an implicit duration of `0`. \n",
    "\n",
    "**Note**: The frequencies that can be requested are limited by the total bandwidth and the instantaneous bandwidth of each hardware channel. In the future, these will be reported by the `backend`."
   ]
  },
  {
   "cell_type": "code",
   "execution_count": null,
   "metadata": {},
   "outputs": [],
   "source": [
    "with pulse.build(backend) as schedule:\n",
    "    pulse.set_frequency(4.5e9, channel)"
   ]
  },
  {
   "cell_type": "markdown",
   "metadata": {},
   "source": [
    "### `shift_phase`\n",
    "\n",
    "The `shift_phase` instruction will increase the phase of the frequency modulation by `phase`. Like `set_frequency`, this phase shift will affect all following instructions on the same channel until the program ends. To undo the affect of a `shift_phase`, the negative `phase` can be passed to a new instruction.\n",
    "\n",
    "Like `set_frequency`, the instruction has an implicit duration of `0`."
   ]
  },
  {
   "cell_type": "code",
   "execution_count": null,
   "metadata": {},
   "outputs": [],
   "source": [
    "with pulse.build(backend) as schedule:\n",
    "    pulse.shift_phase(np.pi, channel)"
   ]
  },
  {
   "cell_type": "markdown",
   "metadata": {},
   "source": [
    "### `acquire`\n",
    "\n",
    "The `acquire` instruction triggers data acquisition for readout. It takes a duration, an `AcquireChannel` which maps to the qubit being measured, and a `MemorySlot` or a `RegisterSlot`. The `MemorySlot` is classical memory where the readout result will be stored. The `RegisterSlot` maps to a register in the control electronics which stores the readout result for fast feedback.\n",
    "\n",
    "The `acquire` instructions can also take custom `Discriminator`s and `Kernel`s as keyword arguments."
   ]
  },
  {
   "cell_type": "code",
   "execution_count": null,
   "metadata": {},
   "outputs": [],
   "source": [
    "from qiskit.pulse import Acquire, AcquireChannel, MemorySlot\n",
    "\n",
    "with pulse.build(backend) as schedule:\n",
    "    pulse.acquire(1200, pulse.acquire_channel(0), MemorySlot(0))"
   ]
  }
 ],
 "metadata": {
  "language_info": {
   "name": "python"
  }
 },
 "nbformat": 4,
 "nbformat_minor": 2
}
