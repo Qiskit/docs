{
 "cells": [
  {
   "cell_type": "markdown",
   "id": "bc54d7bc-b2d8-4b30-9b0b-05689e07a463",
   "metadata": {},
   "source": [
    "# Construct circuits"
   ]
  },
  {
   "cell_type": "markdown",
   "id": "c50d8e43-ae82-4e41-8d17-a37332d1bf6d",
   "metadata": {},
   "source": [
    "This page takes a closer look at Qiskit's [`QuantumCircuit`](/api/qiskit/qiskit.circuit.QuantumCircuit) class, including some more advanced methods you can use to create quantum circuits."
   ]
  },
  {
   "cell_type": "markdown",
   "id": "2664d407-aa95-43a3-9101-d3ad58c2df58",
   "metadata": {},
   "source": [
    "## What is a quantum circuit?\n",
    "\n",
    "A simple quantum circuit is a collection of qubits and a list of instructions that act on those qubits. To demonstrate, the following cell creates a new circuit with two new qubits, then displays the circuit's [`qubits`](/api/qiskit/qiskit.circuit.QuantumCircuit#qubits) attribute."
   ]
  },
  {
   "cell_type": "code",
   "execution_count": 1,
   "id": "b410d397-b67d-4f31-90cf-9c1c34c157c5",
   "metadata": {},
   "outputs": [
    {
     "data": {
      "text/plain": [
       "[Qubit(QuantumRegister(2, 'q'), 0), Qubit(QuantumRegister(2, 'q'), 1)]"
      ]
     },
     "execution_count": 1,
     "metadata": {},
     "output_type": "execute_result"
    }
   ],
   "source": [
    "from qiskit import QuantumCircuit\n",
    "\n",
    "qc = QuantumCircuit(2)\n",
    "qc.qubits"
   ]
  },
  {
   "cell_type": "markdown",
   "id": "f5c95cb2-a94f-48f3-b2a6-8ec6c25da5cd",
   "metadata": {},
   "source": [
    "Adding an instruction to the circuit appends the instruction to the circuit's [`data`](/api/qiskit/qiskit.circuit.QuantumCircuit#data) attribute. The following cell output shows `data` is a list of [`CircuitInstruction`](/api/qiskit/qiskit.circuit.CircuitInstruction) objects, each of which has an `operation` attribute, and a `qubits` attribute."
   ]
  },
  {
   "cell_type": "code",
   "execution_count": 2,
   "id": "f7b5573c-b2b2-4cbf-ba55-c53c9221ce71",
   "metadata": {},
   "outputs": [
    {
     "data": {
      "text/plain": [
       "[CircuitInstruction(operation=Instruction(name='x', num_qubits=1, num_clbits=0, params=[]), qubits=(Qubit(QuantumRegister(2, 'q'), 0),), clbits=())]"
      ]
     },
     "execution_count": 2,
     "metadata": {},
     "output_type": "execute_result"
    }
   ],
   "source": [
    "qc.x(0)  # Add X-gate to qubit 0\n",
    "qc.data"
   ]
  },
  {
   "cell_type": "markdown",
   "id": "17a82d8a-b717-44b8-b3f8-ce89e2588261",
   "metadata": {},
   "source": [
    "The easiest way to view this information is through the [`draw`](/api/qiskit/qiskit.circuit.QuantumCircuit#draw) method, which returns a visualization of a circuit. See [Visualize circuits](/build/circuit-visualization) for different ways of displaying quantum circuits."
   ]
  },
  {
   "cell_type": "code",
   "execution_count": 3,
   "id": "43a57258-3e33-4071-8a48-2bf127c8a5be",
   "metadata": {},
   "outputs": [
    {
     "data": {
      "image/png": "[encoded data removed]",
      "text/plain": [
       "<Figure size 203.683x200.667 with 1 Axes>"
      ]
     },
     "execution_count": 3,
     "metadata": {},
     "output_type": "execute_result"
    }
   ],
   "source": [
    "qc.draw(\"mpl\")"
   ]
  },
  {
   "cell_type": "markdown",
   "id": "ab5f4bc9-7d7c-4ee7-b1bc-70a313b4fe29",
   "metadata": {},
   "source": [
    "Circuit instruction objects can contain \"definition\" circuits that describe the instruction in terms of more fundamental instructions. For example, the [X-gate](/api/qiskit/qiskit.circuit.library.XGate) is defined as a specific case of the [U3-gate](/api/qiskit/qiskit.circuit.library.U3Gate), a more general single-qubit gate."
   ]
  },
  {
   "cell_type": "code",
   "execution_count": 4,
   "id": "653e2427-e301-4d2f-84de-1959185ace8e",
   "metadata": {},
   "outputs": [
    {
     "data": {
      "image/png": "[encoded data removed]",
      "text/plain": [
       "<Figure size 185.453x117.056 with 1 Axes>"
      ]
     },
     "execution_count": 4,
     "metadata": {},
     "output_type": "execute_result"
    }
   ],
   "source": [
    "# Draw definition circuit of 0th instruction in `qc`\n",
    "qc.data[0].operation.definition.draw(\"mpl\")"
   ]
  },
  {
   "attachments": {},
   "cell_type": "markdown",
   "id": "ee893af1-db43-449f-bfc4-8f636bd98546",
   "metadata": {},
   "source": [
    "Instructions and circuits are similar in that they both describe operations on bits and qubits, but they have different purposes:\n",
    "\n",
    "- Instructions are treated as fixed, and their methods will usually return new instructions (without mutating the original object).\n",
    "- Circuits are designed to be built over many lines of code, and [`QuantumCircuit`](/api/qiskit/qiskit.circuit.QuantumCircuit) methods often mutate the existing object.\n",
    "\n",
    "The rest of this page illustrates how to manipulate quantum circuits."
   ]
  },
  {
   "cell_type": "markdown",
   "id": "ff4f08f3-48eb-454c-9647-2af505bf79bc",
   "metadata": {},
   "source": [
    "## Build circuits\n",
    "\n",
    "Methods such as [`QuantumCircuit.h`](/api/qiskit/qiskit.circuit.QuantumCircuit#h) and [`QuantumCircuit.cx`](/api/qiskit/qiskit.circuit.QuantumCircuit#cx) add specific instructions to circuits. To add instructions to a circuit more generally, use the [`append`](/api/qiskit/qiskit.circuit.QuantumCircuit#append) method. This takes an instruction and a list of qubits to apply the instruction to. See the [Circuit Library API documentation](/api/qiskit/circuit_library) for a list of supported instructions."
   ]
  },
  {
   "cell_type": "code",
   "execution_count": 5,
   "id": "66813cae-9841-47ea-96b7-8fd7b82e9759",
   "metadata": {},
   "outputs": [
    {
     "data": {
      "image/png": "[encoded data removed]",
      "text/plain": [
       "<Figure size 185.453x117.056 with 1 Axes>"
      ]
     },
     "execution_count": 5,
     "metadata": {},
     "output_type": "execute_result"
    }
   ],
   "source": [
    "from qiskit.circuit.library import HGate\n",
    "\n",
    "qc = QuantumCircuit(1)\n",
    "qc.append(\n",
    "    HGate(),  # New HGate instruction\n",
    "    [0]       # Apply to qubit 0\n",
    ")\n",
    "qc.draw(\"mpl\")"
   ]
  },
  {
   "cell_type": "markdown",
   "id": "bbdbef08-07c0-4fb0-ab3e-ed6efb7a3dc3",
   "metadata": {},
   "source": [
    "To combine two circuits, use the [`compose`](/api/qiskit/qiskit.circuit.QuantumCircuit#compose) method. This accepts another [`QuantumCircuit`](/api/qiskit/qiskit.circuit.QuantumCircuit) and an optional list of qubit mappings.\n",
    "\n",
    "<Admonition type=\"note\">\n",
    "    The [`compose`](/api/qiskit/qiskit.circuit.QuantumCircuit#compose) method returns a new circuit and does **not** mutate either circuit it acts on. To mutate the circuit on which you're calling the [`compose`](/api/qiskit/qiskit.circuit.QuantumCircuit#compose) method, use the argument `inplace=True`.\n",
    "</Admonition>"
   ]
  },
  {
   "cell_type": "code",
   "execution_count": 6,
   "id": "29152dfa-2275-4bc4-aadb-82185b9e0e86",
   "metadata": {},
   "outputs": [
    {
     "data": {
      "image/png": "[encoded data removed]",
      "text/plain": [
       "<Figure size 203.885x367.889 with 1 Axes>"
      ]
     },
     "execution_count": 6,
     "metadata": {},
     "output_type": "execute_result"
    }
   ],
   "source": [
    "qc_a = QuantumCircuit(4)\n",
    "qc_a.x(0)\n",
    "\n",
    "qc_b = QuantumCircuit(2, name=\"qc_b\")\n",
    "qc_b.y(0)\n",
    "qc_b.z(1)\n",
    "\n",
    "# compose qubits (0, 1) of qc_a to qubits (1, 3) of qc_b respectively\n",
    "combined = qc_a.compose(qc_b, qubits=[1, 3])\n",
    "combined.draw(\"mpl\")"
   ]
  },
  {
   "cell_type": "markdown",
   "id": "d4529506-8397-4208-9cfd-31e1a1978741",
   "metadata": {},
   "source": [
    "You might also want to compile circuits into instructions to keep your circuits organized. You can convert a circuit to an instruction by using the [`to_instruction`](/api/qiskit/qiskit.circuit.QuantumCircuit#to_instruction) method, then append this to another circuit as you would any other instruction. The circuit drawn in the following cell is functionally equivalent to the circuit drawn in the previous cell."
   ]
  },
  {
   "cell_type": "code",
   "execution_count": 7,
   "id": "81b682dd-45cb-4492-809e-d9e8ebbf5600",
   "metadata": {},
   "outputs": [
    {
     "data": {
      "image/png": "[encoded data removed]",
      "text/plain": [
       "<Figure size 287.496x367.889 with 1 Axes>"
      ]
     },
     "execution_count": 7,
     "metadata": {},
     "output_type": "execute_result"
    }
   ],
   "source": [
    "inst = qc_b.to_instruction()\n",
    "qc_a.append(inst, [1, 3])\n",
    "qc_a.draw(\"mpl\")"
   ]
  },
  {
   "cell_type": "markdown",
   "id": "6e81c46b-a2d2-430e-9d3d-73e5030e3548",
   "metadata": {},
   "source": [
    "If your circuit is unitary, you can convert it to a [`Gate`](/api/qiskit/qiskit.circuit.Gate)  by using the [`to_gate`](/api/qiskit/qiskit.circuit.QuantumCircuit#to_gate) method. [`Gate`](/api/qiskit/qiskit.circuit.Gate) objects are specific types of instructions that have some extra features, such as the [`control`](/api/qiskit/qiskit.circuit.Gate#control) method, which adds a quantum control."
   ]
  },
  {
   "cell_type": "code",
   "execution_count": 8,
   "id": "ed362e64-d6a4-4dfd-a5cf-5e6bdc7a81b5",
   "metadata": {},
   "outputs": [
    {
     "data": {
      "image/png": "[encoded data removed]",
      "text/plain": [
       "<Figure size 454.719x367.889 with 1 Axes>"
      ]
     },
     "execution_count": 8,
     "metadata": {},
     "output_type": "execute_result"
    }
   ],
   "source": [
    "gate = qc_b.to_gate().control()\n",
    "qc_a.append(gate, [0, 1, 3])\n",
    "qc_a.draw(\"mpl\")"
   ]
  },
  {
   "cell_type": "markdown",
   "id": "ae850362-84eb-4998-a2cf-a93a1be4ac2a",
   "metadata": {},
   "source": [
    "To see what's going on, you can use the [`decompose`](/api/qiskit/qiskit.circuit.QuantumCircuit#decompose) method to expand each instruction into its definition.\n",
    "\n",
    "<Admonition type=\"note\">\n",
    "    The [`decompose`](/api/qiskit/qiskit.circuit.QuantumCircuit#decompose) method returns a new circuit and does **not** mutate the circuit it acts on.\n",
    "</Admonition>"
   ]
  },
  {
   "cell_type": "code",
   "execution_count": 9,
   "id": "3c0633db-929b-4428-a888-7a3d493bd6dd",
   "metadata": {},
   "outputs": [
    {
     "data": {
      "image/png": "[encoded data removed]",
      "text/plain": [
       "<Figure size 538.33x367.889 with 1 Axes>"
      ]
     },
     "execution_count": 9,
     "metadata": {},
     "output_type": "execute_result"
    }
   ],
   "source": [
    "qc_a.decompose().draw(\"mpl\")"
   ]
  },
  {
   "cell_type": "markdown",
   "id": "649fc3fd-caf1-45f1-ad8e-3b5d26ca859b",
   "metadata": {},
   "source": [
    "## Parameterized circuits\n",
    "\n",
    "Many near-term quantum algorithms involve executing many variations of a quantum circuit. Since constructing and optimizing large circuits can be computationally expensive, Qiskit supports **parameterized** circuits. These circuits have undefined parameters, and their values do not need to be defined until just before executing the circuit. This lets you move circuit construction and optimization out of the main program loop.  The following cell creates and displays a parameterized circuit."
   ]
  },
  {
   "cell_type": "code",
   "execution_count": 10,
   "id": "a580552c-d585-4047-99f0-32aafd06e4f3",
   "metadata": {},
   "outputs": [
    {
     "data": {
      "image/png": "[encoded data removed]",
      "text/plain": [
       "<Figure size 269.064x117.056 with 1 Axes>"
      ]
     },
     "execution_count": 10,
     "metadata": {},
     "output_type": "execute_result"
    }
   ],
   "source": [
    "from qiskit.circuit import Parameter\n",
    "angle = Parameter(\"angle\")  # undefined number\n",
    "\n",
    "# Create and optimize circuit once\n",
    "qc = QuantumCircuit(1)\n",
    "qc.rx(angle, 0)\n",
    "\n",
    "from qiskit.transpiler.preset_passmanagers import generate_preset_pass_manager\n",
    "qc = generate_preset_pass_manager(3, basis_gates=['u', 'cx']).run(qc)\n",
    "\n",
    "qc.draw(\"mpl\")"
   ]
  },
  {
   "cell_type": "markdown",
   "id": "a174600b-8f4a-47ca-aa4c-cd16dcbecb7c",
   "metadata": {},
   "source": [
    "The following cell creates many variations of this circuit and displays one of the variations."
   ]
  },
  {
   "cell_type": "code",
   "execution_count": 11,
   "id": "85af6231-921a-4130-99d3-f6998f761df8",
   "metadata": {},
   "outputs": [
    {
     "data": {
      "image/png": "[encoded data removed]",
      "text/plain": [
       "<Figure size 269.064x117.056 with 1 Axes>"
      ]
     },
     "execution_count": 11,
     "metadata": {},
     "output_type": "execute_result"
    }
   ],
   "source": [
    "circuits = []\n",
    "for value in range(100):\n",
    "    circuits.append(\n",
    "        qc.assign_parameters({ angle: value })\n",
    "    )\n",
    "\n",
    "circuits[0].draw(\"mpl\")"
   ]
  },
  {
   "cell_type": "markdown",
   "id": "ede2ff7c-5e68-4458-87b3-887b5b027ee1",
   "metadata": {},
   "source": [
    "You can find a list of a circuit's undefined parameters in its `parameters` attribute."
   ]
  },
  {
   "cell_type": "code",
   "execution_count": 12,
   "id": "0990b840-f8c4-4416-b2b5-9861173a9471",
   "metadata": {},
   "outputs": [
    {
     "data": {
      "text/plain": [
       "ParameterView([Parameter(angle)])"
      ]
     },
     "execution_count": 12,
     "metadata": {},
     "output_type": "execute_result"
    }
   ],
   "source": [
    "qc.parameters"
   ]
  },
  {
   "cell_type": "markdown",
   "id": "5eac95da-6023-4c21-82fe-e74e8161fbbd",
   "metadata": {},
   "source": [
    "To learn about near-term quantum algorithms, take our [Variational algorithm design](https://learning.quantum-computing.ibm.com/course/variational-algorithm-design) course."
   ]
  }
 ],
 "metadata": {
  "description": "How to create and manipulate circuits in Qiskit",
  "kernelspec": {
   "display_name": "Python 3 (ipykernel)",
   "language": "python",
   "name": "python3"
  },
  "language_info": {
   "codemirror_mode": {
    "name": "ipython",
    "version": 3
   },
   "file_extension": ".py",
   "mimetype": "text/x-python",
   "name": "python",
   "nbconvert_exporter": "python",
   "pygments_lexer": "ipython3",
   "version": "3.11.4"
  },
  "title": "Construct circuits"
 },
 "nbformat": 4,
 "nbformat_minor": 5
}
