{
 "cells": [
  {
   "cell_type": "markdown",
   "id": "bc54d7bc-b2d8-4b30-9b0b-05689e07a463",
   "metadata": {},
   "source": [
    "# Circuit construction"
   ]
  },
  {
   "cell_type": "markdown",
   "id": "c50d8e43-ae82-4e41-8d17-a37332d1bf6d",
   "metadata": {},
   "source": [
    "This page takes a closer look at Qiskit's `QuantumCircuit` class, including some more advanced methods you can use to create quantum circuits."
   ]
  },
  {
   "cell_type": "markdown",
   "id": "2664d407-aa95-43a3-9101-d3ad58c2df58",
   "metadata": {},
   "source": [
    "## The `QuantumCircuit` class\n",
    "\n",
    "The simplest quantum circuit is a collection of qubits, and a list of instructions that act on those qubits. For example, the following cell creates a new circuit with two new qubits, then displays the circuit's `qubits` attribute."
   ]
  },
  {
   "cell_type": "code",
   "execution_count": 1,
   "id": "b410d397-b67d-4f31-90cf-9c1c34c157c5",
   "metadata": {},
   "outputs": [
    {
     "data": {
      "text/plain": [
       "[Qubit(QuantumRegister(2, 'q'), 0), Qubit(QuantumRegister(2, 'q'), 1)]"
      ]
     },
     "execution_count": 1,
     "metadata": {},
     "output_type": "execute_result"
    }
   ],
   "source": [
    "from qiskit import QuantumCircuit\n",
    "\n",
    "qc = QuantumCircuit(2)\n",
    "qc.qubits"
   ]
  },
  {
   "cell_type": "markdown",
   "id": "f5c95cb2-a94f-48f3-b2a6-8ec6c25da5cd",
   "metadata": {},
   "source": [
    "When we add an instruction to the circuit, this appends the instruction to the circuit's `data` attribute. The following cell output shows `data` is a list of `CircuitInstruction` objects, each of which has an `operation` attribute, and `qubits` attribute."
   ]
  },
  {
   "cell_type": "code",
   "execution_count": 2,
   "id": "f7b5573c-b2b2-4cbf-ba55-c53c9221ce71",
   "metadata": {},
   "outputs": [
    {
     "data": {
      "text/plain": [
       "[CircuitInstruction(operation=Instruction(name='x', num_qubits=1, num_clbits=0, params=[]), qubits=(Qubit(QuantumRegister(2, 'q'), 0),), clbits=())]"
      ]
     },
     "execution_count": 2,
     "metadata": {},
     "output_type": "execute_result"
    }
   ],
   "source": [
    "qc.x(0)\n",
    "qc.data"
   ]
  },
  {
   "cell_type": "markdown",
   "id": "ab5f4bc9-7d7c-4ee7-b1bc-70a313b4fe29",
   "metadata": {},
   "source": [
    "(TODO: make clearer) Circuit instructions can have a definition circuit, but this isn't required; there must be some fundamental instructions that can't be broken down any more. For example, the X-gate in the circuit defined earlier is defined as a U3-gate with specific angles (TODO).\n",
    "\n",
    "Circuit instructions can be defined in terms of other circuits, but some"
   ]
  },
  {
   "cell_type": "code",
   "execution_count": 3,
   "id": "653e2427-e301-4d2f-84de-1959185ace8e",
   "metadata": {},
   "outputs": [
    {
     "data": {
      "image/png": "[encoded data removed]",
      "text/plain": [
       "<Figure size 185.453x117.056 with 1 Axes>"
      ]
     },
     "execution_count": 3,
     "metadata": {},
     "output_type": "execute_result"
    }
   ],
   "source": [
    "# Get definition of 0th instruction in `qc`\n",
    "x_definition = qc.data[0].operation.definition\n",
    "x_definition.draw('mpl')"
   ]
  },
  {
   "cell_type": "markdown",
   "id": "937186ba-938f-4ae0-b05d-05bc1e1410a7",
   "metadata": {},
   "source": [
    "The rest of this page will show you how to manipulate these quantum circuits."
   ]
  },
  {
   "cell_type": "markdown",
   "id": "ff4f08f3-48eb-454c-9647-2af505bf79bc",
   "metadata": {},
   "source": [
    "## Building circuits\n",
    "\n",
    "TODO: explain gates vs circuits\n",
    "\n",
    "You've probably already seen methods such as `.h` and `.cx` that add gates to circuits. To add gates to a circuit more generally, use the `append` method. This takes an instruction, plus a list of qubits to apply the instruction to. See the [Circuit Library API documentation]() for a list of supported instructions."
   ]
  },
  {
   "cell_type": "code",
   "execution_count": 4,
   "id": "66813cae-9841-47ea-96b7-8fd7b82e9759",
   "metadata": {},
   "outputs": [
    {
     "data": {
      "text/html": [
       "<pre style=\"word-wrap: normal;white-space: pre;background: #fff0;line-height: 1.1;font-family: &quot;Courier New&quot;,Courier,monospace\">   ┌───┐\n",
       "q: ┤ H ├\n",
       "   └───┘</pre>"
      ],
      "text/plain": [
       "   ┌───┐\n",
       "q: ┤ H ├\n",
       "   └───┘"
      ]
     },
     "execution_count": 4,
     "metadata": {},
     "output_type": "execute_result"
    }
   ],
   "source": [
    "from qiskit.circuit.library import HGate\n",
    "\n",
    "qc = QuantumCircuit(1)\n",
    "qc.append(\n",
    "    HGate(),  # new HGate object\n",
    "    [0]       # apply to qubit 0\n",
    ")\n",
    "qc.draw()"
   ]
  },
  {
   "cell_type": "markdown",
   "id": "bbdbef08-07c0-4fb0-ab3e-ed6efb7a3dc3",
   "metadata": {},
   "source": [
    "To combine two circuits, use the `compose` method. This accepts another `QuantumCircuit`, and an optional list of qubit mappings.\n",
    "\n",
    "> **Note:** The `compose` method returns a new circuit and does **not** mutate either circuit it acts on. If you want to mutate, use the argument `inplace=True` to mutate the circuit you call `compose` from."
   ]
  },
  {
   "cell_type": "code",
   "execution_count": 5,
   "id": "29152dfa-2275-4bc4-aadb-82185b9e0e86",
   "metadata": {},
   "outputs": [
    {
     "data": {
      "text/html": [
       "<pre style=\"word-wrap: normal;white-space: pre;background: #fff0;line-height: 1.1;font-family: &quot;Courier New&quot;,Courier,monospace\">     ┌───┐\n",
       "q_0: ┤ X ├\n",
       "     ├───┤\n",
       "q_1: ┤ Y ├\n",
       "     └───┘\n",
       "q_2: ─────\n",
       "     ┌───┐\n",
       "q_3: ┤ Z ├\n",
       "     └───┘</pre>"
      ],
      "text/plain": [
       "     ┌───┐\n",
       "q_0: ┤ X ├\n",
       "     ├───┤\n",
       "q_1: ┤ Y ├\n",
       "     └───┘\n",
       "q_2: ─────\n",
       "     ┌───┐\n",
       "q_3: ┤ Z ├\n",
       "     └───┘"
      ]
     },
     "execution_count": 5,
     "metadata": {},
     "output_type": "execute_result"
    }
   ],
   "source": [
    "qc_a = QuantumCircuit(4)\n",
    "qc_a.x(0)\n",
    "\n",
    "qc_b = QuantumCircuit(2, name=\"qc_b\")\n",
    "qc_b.y(0)\n",
    "qc_b.z(1)\n",
    "\n",
    "# compose qubits (0, 1) of qc_a to qubits (1, 3) of qc_b respectively\n",
    "combined = qc_a.compose(qc_b, qubits=[1, 3])\n",
    "combined.draw()"
   ]
  },
  {
   "cell_type": "markdown",
   "id": "d4529506-8397-4208-9cfd-31e1a1978741",
   "metadata": {},
   "source": [
    "You may also want to compile circuits into instructions to keep your circuits organized. You can convert a circuit to an instruction using the `to_instruction` method, then append this to another circuit as you would any other instruction."
   ]
  },
  {
   "cell_type": "code",
   "execution_count": 6,
   "id": "81b682dd-45cb-4492-809e-d9e8ebbf5600",
   "metadata": {},
   "outputs": [
    {
     "data": {
      "text/html": [
       "<pre style=\"word-wrap: normal;white-space: pre;background: #fff0;line-height: 1.1;font-family: &quot;Courier New&quot;,Courier,monospace\">       ┌───┐  \n",
       "q_0: ──┤ X ├──\n",
       "     ┌─┴───┴─┐\n",
       "q_1: ┤0      ├\n",
       "     │       │\n",
       "q_2: ┤  qc_b ├\n",
       "     │       │\n",
       "q_3: ┤1      ├\n",
       "     └───────┘</pre>"
      ],
      "text/plain": [
       "       ┌───┐  \n",
       "q_0: ──┤ X ├──\n",
       "     ┌─┴───┴─┐\n",
       "q_1: ┤0      ├\n",
       "     │       │\n",
       "q_2: ┤  qc_b ├\n",
       "     │       │\n",
       "q_3: ┤1      ├\n",
       "     └───────┘"
      ]
     },
     "execution_count": 6,
     "metadata": {},
     "output_type": "execute_result"
    }
   ],
   "source": [
    "inst = qc_b.to_instruction()\n",
    "qc_a.append(inst, [1, 3])\n",
    "qc_a.draw()"
   ]
  },
  {
   "cell_type": "markdown",
   "id": "6e81c46b-a2d2-430e-9d3d-73e5030e3548",
   "metadata": {},
   "source": [
    "If your circuit is unitary, then you can convert it to a `Gate` using the `to_gate` method. `Gate` objects are more specific types of instructions that have some extra features, such as the `control` method which add a quantum control.\n",
    "\n",
    "TODO: link to API reference"
   ]
  },
  {
   "cell_type": "code",
   "execution_count": 7,
   "id": "ed362e64-d6a4-4dfd-a5cf-5e6bdc7a81b5",
   "metadata": {},
   "outputs": [
    {
     "data": {
      "text/html": [
       "<pre style=\"word-wrap: normal;white-space: pre;background: #fff0;line-height: 1.1;font-family: &quot;Courier New&quot;,Courier,monospace\">       ┌───┐           \n",
       "q_0: ──┤ X ├──────■────\n",
       "     ┌─┴───┴─┐┌───┴───┐\n",
       "q_1: ┤0      ├┤0      ├\n",
       "     │       ││       │\n",
       "q_2: ┤  qc_b ├┤  qc_b ├\n",
       "     │       ││       │\n",
       "q_3: ┤1      ├┤1      ├\n",
       "     └───────┘└───────┘</pre>"
      ],
      "text/plain": [
       "       ┌───┐           \n",
       "q_0: ──┤ X ├──────■────\n",
       "     ┌─┴───┴─┐┌───┴───┐\n",
       "q_1: ┤0      ├┤0      ├\n",
       "     │       ││       │\n",
       "q_2: ┤  qc_b ├┤  qc_b ├\n",
       "     │       ││       │\n",
       "q_3: ┤1      ├┤1      ├\n",
       "     └───────┘└───────┘"
      ]
     },
     "execution_count": 7,
     "metadata": {},
     "output_type": "execute_result"
    }
   ],
   "source": [
    "gate = qc_b.to_gate().control()\n",
    "qc_a.append(gate, [0, 1, 3])\n",
    "qc_a.draw()"
   ]
  },
  {
   "cell_type": "markdown",
   "id": "ae850362-84eb-4998-a2cf-a93a1be4ac2a",
   "metadata": {},
   "source": [
    "To see what's going on, you can use the `decompose` method to expand each instruction using their definitions.\n",
    "\n",
    "> **Note:** The `decompose` method returns a new circuit and does **not** mutate the circuit it acts on."
   ]
  },
  {
   "cell_type": "code",
   "execution_count": 8,
   "id": "3c0633db-929b-4428-a888-7a3d493bd6dd",
   "metadata": {},
   "outputs": [
    {
     "data": {
      "text/html": [
       "<pre style=\"word-wrap: normal;white-space: pre;background: #fff0;line-height: 1.1;font-family: &quot;Courier New&quot;,Courier,monospace\">     ┌───────────┐                            \n",
       "q_0: ┤ U3(π,0,π) ├────────■───────────■───────\n",
       "     └───┬───┬───┘┌───────┴────────┐  │       \n",
       "q_1: ────┤ Y ├────┤ U(π,π/2,π/2,0) ├──┼───────\n",
       "         └───┘    └────────────────┘  │       \n",
       "q_2: ─────────────────────────────────┼───────\n",
       "         ┌───┐          ┌───┐       ┌─┴─┐┌───┐\n",
       "q_3: ────┤ Z ├──────────┤ H ├───────┤ X ├┤ H ├\n",
       "         └───┘          └───┘       └───┘└───┘</pre>"
      ],
      "text/plain": [
       "     ┌───────────┐                            \n",
       "q_0: ┤ U3(π,0,π) ├────────■───────────■───────\n",
       "     └───┬───┬───┘┌───────┴────────┐  │       \n",
       "q_1: ────┤ Y ├────┤ U(π,π/2,π/2,0) ├──┼───────\n",
       "         └───┘    └────────────────┘  │       \n",
       "q_2: ─────────────────────────────────┼───────\n",
       "         ┌───┐          ┌───┐       ┌─┴─┐┌───┐\n",
       "q_3: ────┤ Z ├──────────┤ H ├───────┤ X ├┤ H ├\n",
       "         └───┘          └───┘       └───┘└───┘"
      ]
     },
     "execution_count": 8,
     "metadata": {},
     "output_type": "execute_result"
    }
   ],
   "source": [
    "qc_a.decompose().draw()"
   ]
  },
  {
   "cell_type": "markdown",
   "id": "649fc3fd-caf1-45f1-ad8e-3b5d26ca859b",
   "metadata": {},
   "source": [
    "## Parameterized circuits\n",
    "\n",
    "Most near-term quantum algorithms run many variations of quantum circuits, tweaking gate parameters to find circuits that create states with certain properties. For these algorithms, you can create circuits with undetermined `Parameter`s that you can assign values to immediately before running the circuit. The following cell creates a circuit with one RX-gate, which rotates its qubit by an undetermined angle."
   ]
  },
  {
   "cell_type": "code",
   "execution_count": 9,
   "id": "676662a3-37e6-4e81-916f-1b91158f392e",
   "metadata": {},
   "outputs": [
    {
     "data": {
      "text/html": [
       "<pre style=\"word-wrap: normal;white-space: pre;background: #fff0;line-height: 1.1;font-family: &quot;Courier New&quot;,Courier,monospace\">   ┌───────────┐\n",
       "q: ┤ Rx(angle) ├\n",
       "   └───────────┘</pre>"
      ],
      "text/plain": [
       "   ┌───────────┐\n",
       "q: ┤ Rx(angle) ├\n",
       "   └───────────┘"
      ]
     },
     "execution_count": 9,
     "metadata": {},
     "output_type": "execute_result"
    }
   ],
   "source": [
    "from qiskit.circuit import Parameter\n",
    "\n",
    "angle = Parameter(\"angle\")  # undetermined number\n",
    "\n",
    "qc = QuantumCircuit(1)\n",
    "qc.rx(angle, 0)\n",
    "qc.draw()"
   ]
  },
  {
   "cell_type": "markdown",
   "id": "ede2ff7c-5e68-4458-87b3-887b5b027ee1",
   "metadata": {},
   "source": [
    "Parameterized circuits help shorten the loop between running circuits and evaluating their results."
   ]
  },
  {
   "cell_type": "code",
   "execution_count": 11,
   "id": "f9888c30-3176-4e50-bc0c-04541ba7445e",
   "metadata": {},
   "outputs": [
    {
     "data": {
      "text/html": [
       "<pre style=\"word-wrap: normal;white-space: pre;background: #fff0;line-height: 1.1;font-family: &quot;Courier New&quot;,Courier,monospace\">   ┌───────┐\n",
       "q: ┤ Rx(0) ├\n",
       "   └───────┘</pre>"
      ],
      "text/plain": [
       "   ┌───────┐\n",
       "q: ┤ Rx(0) ├\n",
       "   └───────┘"
      ]
     },
     "execution_count": 11,
     "metadata": {},
     "output_type": "execute_result"
    }
   ],
   "source": [
    "qc.bind_parameters({ angle: 0 }).draw()"
   ]
  },
  {
   "cell_type": "code",
   "execution_count": 12,
   "id": "0990b840-f8c4-4416-b2b5-9861173a9471",
   "metadata": {},
   "outputs": [
    {
     "data": {
      "text/plain": [
       "ParameterView([Parameter(angle)])"
      ]
     },
     "execution_count": 12,
     "metadata": {},
     "output_type": "execute_result"
    }
   ],
   "source": [
    "qc.parameters"
   ]
  }
 ],
 "metadata": {
  "title": "Construct circuits",
  "description": "How to create and manipulate circuits in Qiskit",
  "kernelspec": {
   "display_name": "Python 3",
   "language": "python",
   "name": "python3"
  },
  "language_info": {
   "codemirror_mode": {
    "name": "ipython",
    "version": 3
   },
   "file_extension": ".py",
   "mimetype": "text/x-python",
   "name": "python",
   "nbconvert_exporter": "python",
   "pygments_lexer": "ipython3",
   "version": "3"
  }
 },
 "nbformat": 4,
 "nbformat_minor": 5
}
