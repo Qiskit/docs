{
 "cells": [
  {
   "cell_type": "markdown",
   "id": "e15111e5-54ea-4a71-b0db-d3f0ae87db22",
   "metadata": {},
   "source": [
    "# Get backend information with Qiskit\n",
    "\n",
    "This page explains how to use Qiskit to find information about your available backends."
   ]
  },
  {
   "cell_type": "markdown",
   "id": "72c7d287-d38e-46a4-aae8-f15bd2a97c4b",
   "metadata": {},
   "source": [
    "## List backends\n",
    "\n",
    "To view the backends you have access to, you can either view a list on the [Compute resources page,](https://quantum.ibm.com/services/resources?tab=yours) or you can use the [`QiskitRuntimeService.backends()`](../api/qiskit-ibm-runtime/qiskit_ibm_runtime.QiskitRuntimeService#backends) method. This method returns a list of [`IBMBackend`](../api/qiskit-ibm-runtime/qiskit_ibm_runtime.IBMBackend) instances:"
   ]
  },
  {
   "cell_type": "code",
   "execution_count": 1,
   "id": "32c5b4d6-151c-49f4-aa54-0cbdd8568e7e",
   "metadata": {},
   "outputs": [
    {
     "data": {
      "text/plain": [
       "[<IBMBackend('ibm_torino')>,\n",
       " <IBMBackend('ibmq_qasm_simulator')>,\n",
       " <IBMBackend('ibmq_kolkata')>,\n",
       " <IBMBackend('ibm_brisbane')>,\n",
       " <IBMBackend('ibm_cusco')>,\n",
       " <IBMBackend('ibm_cairo')>,\n",
       " <IBMBackend('ibm_sherbrooke')>,\n",
       " <IBMBackend('ibm_osaka')>,\n",
       " <IBMBackend('ibmq_mumbai')>,\n",
       " <IBMBackend('ibm_hanoi')>,\n",
       " <IBMBackend('ibm_algiers')>,\n",
       " <IBMBackend('ibm_nazca')>,\n",
       " <IBMBackend('ibm_kyoto')>]"
      ]
     },
     "execution_count": 1,
     "metadata": {},
     "output_type": "execute_result"
    }
   ],
   "source": [
    "# Initialize your account\n",
    "from qiskit_ibm_runtime import QiskitRuntimeService\n",
    "service = QiskitRuntimeService()\n",
    "\n",
    "service.backends()"
   ]
  },
  {
   "cell_type": "markdown",
   "id": "566af9e1-5443-4995-8aa8-cd3604ac3bd1",
   "metadata": {},
   "source": [
    "The [`QiskitRuntimeService.backend()`](../api/qiskit-ibm-runtime/qiskit_ibm_runtime.QiskitRuntimeService#backend) method (note that this is singular: *backend*) takes the name of the backend as the input parameter and returns an [`IBMBackend`](../api/qiskit-ibm-runtime/qiskit_ibm_runtime.IBMBackend) instance representing that particular backend:"
   ]
  },
  {
   "cell_type": "code",
   "execution_count": 2,
   "id": "4b8fdfe8-d23c-4510-8433-92c63d0b870b",
   "metadata": {},
   "outputs": [
    {
     "data": {
      "text/plain": [
       "<IBMBackend('ibmq_qasm_simulator')>"
      ]
     },
     "execution_count": 2,
     "metadata": {},
     "output_type": "execute_result"
    }
   ],
   "source": [
    "service.backend(\"ibmq_qasm_simulator\")"
   ]
  },
  {
   "cell_type": "markdown",
   "id": "4a0c2cb7-f691-4a1d-8017-80fdee45bad6",
   "metadata": {},
   "source": [
    "## Filter backends\n",
    "\n",
    "You can also filter the available backends by their properties. For more general filters, you can make advanced functions using a lambda function. Refer to the [API documentation](../api/qiskit-ibm-runtime/qiskit_ibm_runtime.QiskitRuntimeService#backends) for more details.\n",
    "\n",
    "Let’s try getting only backends that fit these criteria:\n",
    "\n",
    "*   Are real quantum devices (`simulator=False`)\n",
    "*   Are currently operational (`operational=True`)\n",
    "*   Have at least 5 qubits (`min_num_qubits=5`)"
   ]
  },
  {
   "cell_type": "code",
   "execution_count": 3,
   "id": "bb3adc40-7afe-49ce-859f-3ae8849cf1f9",
   "metadata": {},
   "outputs": [
    {
     "data": {
      "text/plain": [
       "[<IBMBackend('ibm_torino')>,\n",
       " <IBMBackend('ibmq_kolkata')>,\n",
       " <IBMBackend('ibm_brisbane')>,\n",
       " <IBMBackend('ibm_cusco')>,\n",
       " <IBMBackend('ibm_cairo')>,\n",
       " <IBMBackend('ibm_sherbrooke')>,\n",
       " <IBMBackend('ibm_osaka')>,\n",
       " <IBMBackend('ibmq_mumbai')>,\n",
       " <IBMBackend('ibm_hanoi')>,\n",
       " <IBMBackend('ibm_algiers')>,\n",
       " <IBMBackend('ibm_nazca')>,\n",
       " <IBMBackend('ibm_kyoto')>]"
      ]
     },
     "execution_count": 3,
     "metadata": {},
     "output_type": "execute_result"
    }
   ],
   "source": [
    "service.backends(simulator=False, operational=True, min_num_qubits=5)"
   ]
  },
  {
   "cell_type": "markdown",
   "id": "1a5d3489-1600-4db5-9e06-c9fbd276a550",
   "metadata": {},
   "source": [
    "A similar method is [`QiskitRuntimeService.least_busy()`](../api/qiskit-ibm-runtime/qiskit_ibm_runtime.QiskitRuntimeService#least_busy), which takes the same filters as `backends()` but returns the backend that matches the filters and has the least number of jobs pending in the queue:"
   ]
  },
  {
   "cell_type": "code",
   "execution_count": 4,
   "id": "0401cda2-4f16-4398-8302-9f2a228dc857",
   "metadata": {},
   "outputs": [
    {
     "data": {
      "text/plain": [
       "<IBMBackend('ibmq_qasm_simulator')>"
      ]
     },
     "execution_count": 4,
     "metadata": {},
     "output_type": "execute_result"
    }
   ],
   "source": [
    "service.least_busy(operational=True, min_num_qubits=5)"
   ]
  },
  {
   "cell_type": "markdown",
   "id": "f50d389d-1da3-4716-a796-5f7fbb2372d2",
   "metadata": {},
   "source": [
    "## Static backend information\n",
    "\n",
    "Some information about a backend does not change regularly, such as its name, version, the number of qubits it has, and the types of features it supports. This information is available as attributes of the `backend` object.\n",
    "\n",
    "The following cell builds a description of a backend."
   ]
  },
  {
   "cell_type": "code",
   "execution_count": 5,
   "id": "1facadbb-00cc-4e8b-adf5-0efabdc0b10c",
   "metadata": {},
   "outputs": [
    {
     "name": "stdout",
     "output_type": "stream",
     "text": [
      "Name: ibm_kyoto\n",
      "Version: 2\n",
      "No. of qubits: 127\n",
      "\n"
     ]
    }
   ],
   "source": [
    "backend = service.backend(\"ibm_kyoto\")\n",
    "\n",
    "print(\n",
    "    f\"Name: {backend.name}\\n\"\n",
    "    f\"Version: {backend.version}\\n\"\n",
    "    f\"No. of qubits: {backend.num_qubits}\\n\"\n",
    ")"
   ]
  },
  {
   "cell_type": "markdown",
   "id": "306a88e2-4cd9-4611-9e48-cf19bdcb209d",
   "metadata": {},
   "source": [
    "For a full list of attributes, see the [`IBMBackend` API documentation](/api/qiskit-ibm-runtime/qiskit_ibm_runtime.IBMBackend)."
   ]
  },
  {
   "cell_type": "markdown",
   "id": "a36f8c19-9242-4fc5-95f2-07612709af57",
   "metadata": {},
   "source": [
    "## Dynamic backend information\n",
    "\n",
    "Backends can also have properties that change whenever the backed is calibrated, such as qubit frequency and operation error rates. Backends are usually calibrated every 24 hours, and their properties update after the calibration sequence completes. These properties can be used when optimizing quantum circuits or to construct noise models for a classical simulator.\n",
    "\n",
    "\n",
    "### Qubit properties\n",
    "\n",
    "The `backend.qubit_properties` method returns information about the qubits' physical attributes. This includes the qubit frequency in GHz and decay times (`t1` and `t2`) in µs."
   ]
  },
  {
   "cell_type": "code",
   "execution_count": 6,
   "id": "e0e91720-d91b-4b82-ba8a-904c4c1d19d3",
   "metadata": {},
   "outputs": [
    {
     "data": {
      "text/plain": [
       "IBMQubitProperties(t1=0.00017203904092813374, t2=2.1371427176398257e-05, frequency=4908732701.303904, anharmonicity=-308028796.19250304)"
      ]
     },
     "execution_count": 6,
     "metadata": {},
     "output_type": "execute_result"
    }
   ],
   "source": [
    "backend.qubit_properties(0)  # properties of qubit 0"
   ]
  },
  {
   "cell_type": "markdown",
   "id": "3e2455b4-99fc-4cc0-bd18-eae4443081a6",
   "metadata": {},
   "source": [
    "### Instruction properties\n",
    "\n",
    "The `backend.target` attribute is a `qiskit.transpiler.Target` object: an object that contains all the information needed to transpile a circuit for that backend. This includes instruction errors and durations. For example, the following cell gets the properties for an [`ecr` gate](/api/qiskit/qiskit.circuit.library.ECRGate) acting between qubits 1 and 0."
   ]
  },
  {
   "cell_type": "code",
   "execution_count": 7,
   "id": "762e4e30-2075-4876-90d0-16818ff7d3ff",
   "metadata": {},
   "outputs": [
    {
     "data": {
      "text/plain": [
       "InstructionProperties(duration=6.6e-07, error=0.018616909675960497, calibration=Schedule ecr)"
      ]
     },
     "execution_count": 7,
     "metadata": {},
     "output_type": "execute_result"
    }
   ],
   "source": [
    "backend.target[\"ecr\"][(1,0)]"
   ]
  },
  {
   "cell_type": "markdown",
   "id": "ee07269d-a4e9-4f6a-a456-69d6250d92d7",
   "metadata": {},
   "source": [
    "The following cell shows the properties for a measurement operation (including the readout error) on qubit 0."
   ]
  },
  {
   "cell_type": "code",
   "execution_count": 8,
   "id": "06ad7e38-0725-4ea8-8bb5-0a2f474ce793",
   "metadata": {},
   "outputs": [
    {
     "data": {
      "text/plain": [
       "InstructionProperties(duration=1.4e-06, error=0.16389999999999993, calibration=Schedule measure)"
      ]
     },
     "execution_count": 8,
     "metadata": {},
     "output_type": "execute_result"
    }
   ],
   "source": [
    "backend.target[\"measure\"][(0,)]"
   ]
  },
  {
   "cell_type": "markdown",
   "id": "50ba9a31-d25e-463f-8659-5c1373294d72",
   "metadata": {},
   "source": [
    "## Next steps\n",
    "\n",
    "<Admonition type=\"tip\" title=\"Recommendations\">\n",
    "    - Try the [Grover's algorithm](https://learning.quantum.ibm.com/tutorial/grovers-algorithm) tutorial.\n",
    "    - Review the [IBMProvider backend API](/api/qiskit-ibm-provider/qiskit_ibm_provider.IBMProvider#backend) reference.\n",
    "    - Review the [QiskitRuntime backend API](/api/qiskit-ibm-runtime/qiskit_ibm_runtime.QiskitRuntimeService#backend) reference.\n",
    "</Admonition>"
   ]
  }
 ],
 "metadata": {
  "description": "Find and filter available backends, get configuration and calibration data programmatically.",
  "kernelspec": {
   "display_name": "Python 3",
   "language": "python",
   "name": "python3"
  },
  "language_info": {
   "codemirror_mode": {
    "name": "ipython",
    "version": 3
   },
   "file_extension": ".py",
   "mimetype": "text/x-python",
   "name": "python",
   "nbconvert_exporter": "python",
   "pygments_lexer": "ipython3",
   "version": "3"
  },
  "title": "Get backend information with Qiskit"
 },
 "nbformat": 4,
 "nbformat_minor": 4
}
