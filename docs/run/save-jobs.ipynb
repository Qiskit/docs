{
 "cells": [
  {
   "cell_type": "markdown",
   "id": "539f98fa-9ccc-472a-99da-ebe6382243dc",
   "metadata": {},
   "source": [
    "# Save and retrieve jobs\n",
    "\n",
    "Quantum workflows often take a while to complete and can run over many sessions. Restarting your Python kernel means you'll lose any results stored in memory. To avoid loss of data, you can save results to file and retrieve results of past jobs from IBM Quantum&trade; so your next session can continue where you left off."
   ]
  },
  {
   "cell_type": "markdown",
   "id": "73f23256-6519-47ae-b9e3-700f52a76711",
   "metadata": {},
   "source": [
    "## Retrieve jobs from IBM Quantum\n",
    "\n",
    "IBM Quantum automatically stores results from every job for you to retrieve at a later date. Use this feature to continue quantum programs across kernel restarts and review past results. You can get the ID of a job programmatically through its `job_id` method, or you can see all your submitted jobs and their IDs through the [Jobs dashboard](https://quantum.ibm.com/jobs).\n",
    "\n",
    "To find a job programatically, use the [`QiskitRuntimeService.jobs`](/api/qiskit-ibm-runtime/qiskit_ibm_runtime.QiskitRuntimeService#jobs) method. The following cell finds any jobs submitted in the last day. The `created_after` argument must be a [`datetime.datetime`](https://docs.python.org/3.8/library/datetime.html#datetime.datetime) object."
   ]
  },
  {
   "cell_type": "code",
   "execution_count": 1,
   "id": "da02c7ca-803a-4426-8dd0-bbe062c0e9e1",
   "metadata": {},
   "outputs": [
    {
     "data": {
      "text/plain": [
       "[<RuntimeJob('cogiau7imm49f6et38a0', 'sampler')>,\n",
       " <RuntimeJob('crgja91qzd5000886v60', 'sampler')>,\n",
       " <RuntimeJob('cogi9gftcirtooeunfe0', 'sampler')>,\n",
       " <RuntimeJob('cogi8qqai5rk2r0u9bu0', 'sampler')>]"
      ]
     },
     "execution_count": 1,
     "metadata": {},
     "output_type": "execute_result"
    }
   ],
   "source": [
    "import datetime\n",
    "from qiskit_ibm_runtime import QiskitRuntimeService\n",
    "\n",
    "one_day_ago = datetime.datetime.now() - datetime.timedelta(days=1)\n",
    "\n",
    "service = QiskitRuntimeService()\n",
    "service.jobs(created_after=one_day_ago)"
   ]
  },
  {
   "cell_type": "markdown",
   "id": "9aae5f5a-a543-493c-9bc5-5682ba846ab5",
   "metadata": {},
   "source": [
    "You can also select by backend, job state, session, and more. For more information, see [`QiskitRuntimeService.jobs`](/api/qiskit-ibm-runtime/qiskit_ibm_runtime.QiskitRuntimeService#jobs) in the API documentation.\n",
    "\n",
    "Once you have the job ID, use the [`QiskitRuntimeService.job`](/api/qiskit-ibm-runtime/qiskit_ibm_runtime.QiskitRuntimeService#job) method to retrieve it."
   ]
  },
  {
   "cell_type": "code",
   "execution_count": null,
   "metadata": {},
   "outputs": [],
   "source": [
    "# Get ID of last job for demonstration\n",
    "job_id = service.jobs()[0].job_id()\n",
    "print(job_id)"
   ]
  },
  {
   "cell_type": "code",
   "execution_count": 2,
   "id": "90133394-3259-487f-96b2-3b50e0274064",
   "metadata": {},
   "outputs": [
    {
     "data": {
      "text/plain": [
       "[<RuntimeJob('cogiau7imm49f6et38a0', 'sampler')>,\n",
       " <RuntimeJob('crgja91qzd5000886v60', 'sampler')>,\n",
       " <RuntimeJob('cogi9gftcirtooeunfe0', 'sampler')>,\n",
       " <RuntimeJob('cogi8qqai5rk2r0u9bu0', 'sampler')>]"
      ]
     },
     "execution_count": 2,
     "metadata": {},
     "output_type": "execute_result"
    }
   ],
   "source": [
    "retrieved_job = service.job(job_id)\n",
    "retrieved_job.result()"
   ]
  },
  {
   "cell_type": "markdown",
   "id": "211b8c15-5aa3-43f6-82ee-2bd1d49ae8fc",
   "metadata": {},
   "source": [
    "## Save results to disk\n",
    "\n",
    "You may also want to save results to disk. To do this, use Python's built-in JSON library with Qiskit IBM Runtime's encoders."
   ]
  },
  {
   "cell_type": "code",
   "execution_count": 3,
   "id": "3a3ff817-01c1-47e8-94c6-1ecf2215ef7c",
   "metadata": {},
   "outputs": [],
   "source": [
    "import json\n",
    "from qiskit_ibm_runtime import RuntimeEncoder\n",
    "with open(\"result.json\", \"w\") as file:\n",
    "    json.dump(retrieved_job.result(), file, cls=RuntimeEncoder)"
   ]
  },
  {
   "cell_type": "markdown",
   "id": "40a9d8e5-c876-47a7-862e-d2ce535a6052",
   "metadata": {},
   "source": [
    "You can then load this array from disk in a separate kernel."
   ]
  },
  {
   "cell_type": "code",
   "execution_count": 4,
   "id": "316aa6f7-faee-4a05-a7b4-02d7bee4d58a",
   "metadata": {},
   "outputs": [
    {
     "data": {
      "text/plain": [
       "array([[1],\n",
       "       [3],\n",
       "       [3],\n",
       "       [2],\n",
       "       [2],\n",
       "       [1],\n",
       "       [2],\n",
       "       [3],\n",
       "       [0],\n",
       "       [3]], dtype=uint8)"
      ]
     },
     "execution_count": 4,
     "metadata": {},
     "output_type": "execute_result"
    }
   ],
   "source": [
    "from qiskit_ibm_runtime import RuntimeDecoder\n",
    "with open(\"result.json\", \"r\") as file:\n",
    "    result = json.load(file, cls=RuntimeDecoder)\n",
    "\n",
    "result[0].data.meas.array  # access measurement data"
   ]
  },
  {
   "cell_type": "code",
   "execution_count": 5,
   "id": "eae94b73-157b-4751-8dd3-add4cc9efec6",
   "metadata": {
    "tags": [
     "remove-cell"
    ]
   },
   "outputs": [],
   "source": [
    "# Cleanup the file we created (this cell should be hidden from the user)\n",
    "import pathlib\n",
    "pathlib.Path('result.json').unlink()"
   ]
  }
 ],
 "metadata": {
  "description": "Store Qiskit objects on disk or in the cloud so you can continue where you left off",
  "kernelspec": {
   "display_name": "Python 3",
   "language": "python",
   "name": "python3"
  },
  "language_info": {
   "codemirror_mode": {
    "name": "ipython",
    "version": 3
   },
   "file_extension": ".py",
   "mimetype": "text/x-python",
   "name": "python",
   "nbconvert_exporter": "python",
   "pygments_lexer": "ipython3",
   "version": "3"
  },
  "title": "Save and retrieve Qiskit objects"
 },
 "nbformat": 4,
 "nbformat_minor": 2
}
