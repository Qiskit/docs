{
 "cells": [
  {
   "cell_type": "markdown",
   "metadata": {},
   "source": [
    "## Getting started with Multi-product formulas (MPF)\n",
    "\n",
    "This guide demonstrates how to use the `qiskit-addon-mpf` package using the time evolution of an Ising model as an example. Building a Multi-Product Formula (MPF) using this package can achieve lower Trotter error on observable measurements. It does so by executing several circuits, each of which evolves the system with a different number of Trotter steps, and recombines \n"
   ]
  },
  {
   "cell_type": "markdown",
   "metadata": {},
   "source": []
  }
 ],
 "metadata": {
  "title": "Getting started with multi-product formulas (MPF)",
  "description": "Get started using the MPF addon using the time evolution of an Ising chain as an example",
  "language_info": {
   "name": "python"
  }
 },
 "nbformat": 4,
 "nbformat_minor": 2
}
