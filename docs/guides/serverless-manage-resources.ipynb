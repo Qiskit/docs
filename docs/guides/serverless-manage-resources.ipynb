{
 "cells": [
  {
   "cell_type": "markdown",
   "metadata": {},
   "source": [
    "# Manage Qiskit Serverless compute and data resources\n",
    "\n",
    "Qiskit Serverless allows you to manage compute and data across your [Qiskit pattern](./intro-to-patterns), including CPUs, QPUs, and other compute accelerators.\n",
    "\n",
    "## Parallel workflows"
   ]
  },
  {
   "cell_type": "markdown",
   "metadata": {},
   "source": [
    "For classical tasks that can be parallelized, use the `@distribute_task` decorater to define compute requirements needed to perform a task. Start by recalling the `transpile_parallel.py` example from the [Write your first Qiskit Serverless program](./serverless-first-program) topic:"
   ]
  },
  {
   "cell_type": "code",
   "execution_count": 1,
   "metadata": {},
   "outputs": [],
   "source": [
    "# This cell is hidden from users\n",
    "from pathlib import Path\n",
    "Path(\"./source_files\").mkdir(exist_ok=True, parents=True)"
   ]
  },
  {
   "cell_type": "code",
   "execution_count": 2,
   "metadata": {},
   "outputs": [
    {
     "name": "stdout",
     "output_type": "stream",
     "text": [
      "Writing ./source_files/transpile_remote.py\n"
     ]
    }
   ],
   "source": [
    "%%writefile ./source_files/transpile_remote.py\n",
    "\n",
    "from qiskit.transpiler.preset_passmanagers import generate_preset_pass_manager\n",
    "from qiskit_ibm_runtime import QiskitRuntimeService\n",
    "from qiskit_serverless import distribute_task\n",
    "\n",
    "service = QiskitRuntimeService()\n",
    "\n",
    "@distribute_task(target={\"cpu\": 1})\n",
    "def transpile_remote(circuit, optimization_level, backend):\n",
    "    \"\"\"Transpiles an abstract circuit (or list of circuits) into an ISA circuit for a given backend.\"\"\"\n",
    "    pass_manager = generate_preset_pass_manager(\n",
    "        optimization_level=optimization_level,\n",
    "\t\tbackend=service.backend(backend)\n",
    "    )\n",
    "    isa_circuit = pass_manager.run(circuit)\n",
    "    return isa_circuit"
   ]
  },
  {
   "cell_type": "markdown",
   "metadata": {},
   "source": [
    "In this example, you decorated the `transpile_remote()` method with `@distribute_task(target={\"cpu\": 1})`. When run, this creates an asynchronous parallel worker task with a single CPU core, and returns with a reference to track the worker. To fetch the result, pass the reference to the `get()` method:"
   ]
  },
  {
   "cell_type": "code",
   "execution_count": 3,
   "metadata": {},
   "outputs": [
    {
     "name": "stdout",
     "output_type": "stream",
     "text": [
      "Appending to ./source_files/transpile_remote.py\n"
     ]
    }
   ],
   "source": [
    "%%writefile --append ./source_files/transpile_remote.py\n",
    "\n",
    "from qiskit_serverless import get, get_arguments, save_result\n",
    "\n",
    "arguments = get_arguments()\n",
    "circuit = arguments.get(\"circuit\")\n",
    "optimization_level = arguments.get(\"optimization_level\")\n",
    "backend = arguments.get(\"backend\")\n",
    "\n",
    "transpile_worker_reference = transpile_remote(\n",
    "    circuit,\n",
    "    optimization_level,\n",
    "    backend\n",
    ")\n",
    "result = get(transpile_worker_reference)\n",
    "save_result(result)"
   ]
  },
  {
   "cell_type": "code",
   "execution_count": 4,
   "metadata": {},
   "outputs": [
    {
     "name": "stdout",
     "output_type": "stream",
     "text": [
      "Appending to ./source_files/transpile_remote.py\n"
     ]
    }
   ],
   "source": [
    "%%writefile --append ./source_files/transpile_remote.py\n",
    "# This cell is hidden from users. It checks the transpilation ran correctly.\n",
    "from qiskit import QuantumCircuit\n",
    "assert isinstance(result, QuantumCircuit)"
   ]
  },
  {
   "cell_type": "markdown",
   "metadata": {},
   "source": [
    "You can also create and run multiple parallel tasks as follows:"
   ]
  },
  {
   "cell_type": "code",
   "execution_count": 5,
   "metadata": {},
   "outputs": [
    {
     "name": "stdout",
     "output_type": "stream",
     "text": [
      "Appending to ./source_files/transpile_remote.py\n"
     ]
    }
   ],
   "source": [
    "%%writefile --append ./source_files/transpile_remote.py\n",
    "\n",
    "transpile_worker_references = [\n",
    "    transpile_remote(circuit, optimization_level, backend)\n",
    "    for circuit in arguments.get(\"circuit_list\")\n",
    "]\n",
    "\n",
    "results = get(transpile_worker_references)\n",
    "save_result(results)  # Overwrites any previously saved results"
   ]
  },
  {
   "cell_type": "code",
   "execution_count": 6,
   "metadata": {},
   "outputs": [
    {
     "name": "stdout",
     "output_type": "stream",
     "text": [
      "Appending to ./source_files/transpile_remote.py\n"
     ]
    }
   ],
   "source": [
    "%%writefile --append ./source_files/transpile_remote.py\n",
    "# This cell is hidden from users. It checks the transpilation ran correctly.\n",
    "assert isinstance(results[0], QuantumCircuit)"
   ]
  },
  {
   "cell_type": "code",
   "execution_count": 7,
   "metadata": {},
   "outputs": [
    {
     "name": "stdout",
     "output_type": "stream",
     "text": [
      "Job still running, waiting 5s then retrying (9)\r"
     ]
    }
   ],
   "source": [
    "# This cell is hidden from users.\n",
    "# It uploads the serverless program and checks it runs.\n",
    "\n",
    "from qiskit.circuit.random import random_circuit\n",
    "from qiskit_serverless import IBMServerlessClient, QiskitFunction\n",
    "import time\n",
    "\n",
    "TITLE = \"transpile_remote_serverless_test\"  # TODO: Randomize names to avoid conflict\n",
    "serverless = IBMServerlessClient()\n",
    "transpile_remote_demo = QiskitFunction(\n",
    "    title=TITLE,\n",
    "    entrypoint=\"transpile_remote.py\",\n",
    "    working_dir=\"./source_files/\",\n",
    "\tdependencies=[\"qiskit-aer==0.14.1\"],\n",
    ")\n",
    "serverless.upload(transpile_remote_demo)\n",
    "job = serverless.get(TITLE).run(\n",
    "    circuit=random_circuit(3,3),\n",
    "    circuit_list=[random_circuit(3,3) for _ in range(3)],\n",
    "    backend=\"ibm_kyiv\",\n",
    "    optimization_level=1,\n",
    ")\n",
    "for retry in range(20):\n",
    "    status = job.status()\n",
    "    if status == \"DONE\":\n",
    "        break\n",
    "    if status == \"ERROR\":\n",
    "        raise Exception(\"Something went wrong. See following serverless logs:\\n\\n\" + job.logs())\n",
    "    print(f\"Job still running, waiting 5s then retrying ({retry})\", end=\"\\r\")\n",
    "    time.sleep(5)"
   ]
  },
  {
   "cell_type": "markdown",
   "metadata": {},
   "source": [
    "### Explore different task configurations\n",
    "\n",
    "You can flexibly allocate CPU, GPU, and memory for your tasks via `@distribute_task()`. For Qiskit Serverless on IBM Quantum&trade; Platform, each program is equipped with 16 CPU cores and 32 GB RAM, which can be allocated dynamically as needed.\n",
    "\n",
    "CPU cores can be allocated as full CPU cores, or even fractional allocations, as shown in the following.\n",
    "\n",
    "Memory is allocated in number of bytes. Recall that there are 1024 bytes in a kilobyte, 1024 kilobytes in a megabyte, and 1024 megabytes in a gigabyte. To allocate 2 GB of memory for your worker, you need to allocate `\"mem\": 2 * 1024 * 1024 * 1024`."
   ]
  },
  {
   "cell_type": "code",
   "execution_count": 8,
   "metadata": {},
   "outputs": [
    {
     "name": "stdout",
     "output_type": "stream",
     "text": [
      "Overwriting ./source_files/transpile_remote.py\n"
     ]
    }
   ],
   "source": [
    "%%writefile ./source_files/transpile_remote.py\n",
    "\n",
    "@distribute_task(target={\n",
    "    \"cpu\": 16,\n",
    "    \"mem\": 32 * 1024 * 1024 * 1024\n",
    "})\n",
    "def transpile_remote(circuit, optimization_level, backend):\n",
    "    return None"
   ]
  },
  {
   "cell_type": "code",
   "execution_count": 9,
   "metadata": {},
   "outputs": [],
   "source": [
    "# This cell is hidden from users\n",
    "# Clean up file afterwards\n",
    "Path(\"./source_files/transpile_remote.py\").unlink()"
   ]
  },
  {
   "cell_type": "markdown",
   "metadata": {},
   "source": [
    "## Automatic QPU selection\n",
    "\n",
    "This example demonstrates how to use `IBMQPUSelector` to automate the process of selecting which qubits to use from a set of available QPUs. Instead of manually selecting a QPU, Qiskit Serverless automatically allocates a QPU according to desired criteria. `IBMQPUSelector`s are imported from server-side `qiskit_serverless_tools.selectors` modules, and must be invoked from your uploaded program.\n",
    "\n",
    "Here, `IBMLeastNoisyQPUSelector` finds the QPU that yields the least-noisy qubit subgraph for the input circuit, from among the QPUs available to you through your IBM Quantum account.\n",
    "\n",
    "For each `IBMQPUSelector`, the context is set in the constructor. All `IBMQPUSelectors` require Qiskit Runtime credentials. The `IBMLeastNoisyQPUSelector` requires a circuit and transpile options specifying how the circuit should be optimized for each QPU, to determine the most optimal QPU and qubit layout.\n",
    "\n",
    "All `IBMQPUSelectors` implement a `get_backend` method, which retrieves the optimal QPU with respect to the given context. The `get_backend` method also allows for additional filtering of the QPUs. It is implemented using the same interface as the [QiskitRuntimeService.backends](/api/qiskit-ibm-runtime/qiskit_ibm_runtime.QiskitRuntimeService#backends) method."
   ]
  },
  {
   "cell_type": "code",
   "execution_count": 10,
   "metadata": {},
   "outputs": [
    {
     "name": "stdout",
     "output_type": "stream",
     "text": [
      "Overwriting ./source_files/transpile_parallel.py\n"
     ]
    }
   ],
   "source": [
    "%%writefile ./source_files/transpile_parallel.py\n",
    "\n",
    "from qiskit_ibm_runtime import QiskitRuntimeService\n",
    "from qiskit.circuit.random import random_circuit\n",
    "from qiskit_serverless_tools.selectors import IBMLeastNoisyQPUSelector\n",
    "\n",
    "service = QiskitRuntimeService()\n",
    "\n",
    "abstract_circuit = random_circuit(\n",
    "    num_qubits=100, depth=4, measure=True\n",
    ")\n",
    "\n",
    "selector = IBMLeastNoisyQPUSelector(\n",
    "    service, circuit=abstract_circuit, transpile_options={\"optimization_level\": 3}\n",
    ")\n",
    "backend = selector.get_backend(min_num_qubits=127)\n",
    "target_circuit = selector.optimized_circuit"
   ]
  },
  {
   "cell_type": "markdown",
   "metadata": {},
   "source": [
    "You can also use the `IBMLeastBusyQPUSelector` to find a QPU that can support the circuit width but with the shortest queue."
   ]
  },
  {
   "cell_type": "code",
   "execution_count": 11,
   "metadata": {},
   "outputs": [
    {
     "name": "stdout",
     "output_type": "stream",
     "text": [
      "Appending to ./source_files/transpile_parallel.py\n"
     ]
    }
   ],
   "source": [
    "%%writefile --append ./source_files/transpile_parallel.py\n",
    "\n",
    "from qiskit.transpiler.preset_passmanagers import generate_preset_pass_manager\n",
    "from qiskit_serverless_tools.selectors import IBMLeastBusyQPUSelector\n",
    "\n",
    "backend = IBMLeastBusyQPUSelector(service).get_backend(min_num_qubits=127)\n",
    "pm = generate_preset_pass_manager(optimization_level=3, backend=backend)\n",
    "target_circuit = pm.run(abstract_circuit)"
   ]
  },
  {
   "cell_type": "markdown",
   "metadata": {},
   "source": [
    "## Manage data across your program\n",
    "\n",
    "Qiskit Serverless allows you to manage files in the `/data` directory across all your programs. This includes several limitations:\n",
    "\n",
    "- Only `tar` and `h5` files are supported today\n",
    "- This is only a flat `/data` storage, and cannot have `/data/folder/` subdirectories\n",
    "\n",
    "The following shows how to upload files. Be sure you have authenticated to Qiskit Serverless with your [IBM Quantum account](https://quantum.ibm.com/account) (see [Deploy to IBM Quantum Platform](./serverless-first-program#deploy-to-ibm-quantum-platform) for instructions)."
   ]
  },
  {
   "cell_type": "code",
   "execution_count": 12,
   "metadata": {},
   "outputs": [
    {
     "data": {
      "text/plain": [
       "'{\"message\":\"/usr/src/app/media/5e1f442128cdf60018496a04/transpile_demo.tar\"}'"
      ]
     },
     "execution_count": 12,
     "metadata": {},
     "output_type": "execute_result"
    }
   ],
   "source": [
    "import tarfile\n",
    "\n",
    "# Create a tar\n",
    "filename = \"transpile_demo.tar\"\n",
    "file = tarfile.open(filename,\"w\")\n",
    "file.add(\"./source_files/transpile_parallel.py\")\n",
    "file.close()\n",
    "\n",
    "# Upload the tar to Serverless data directory\n",
    "serverless.file_upload(filename)"
   ]
  },
  {
   "cell_type": "markdown",
   "metadata": {},
   "source": [
    "Next, you can list all the files in your `data` directory. This data is accessible to all programs."
   ]
  },
  {
   "cell_type": "code",
   "execution_count": 13,
   "metadata": {},
   "outputs": [
    {
     "data": {
      "text/plain": [
       "['transpile_demo.tar']"
      ]
     },
     "execution_count": 13,
     "metadata": {},
     "output_type": "execute_result"
    }
   ],
   "source": [
    "serverless.files()"
   ]
  },
  {
   "cell_type": "markdown",
   "metadata": {},
   "source": [
    "This can be done from a program by using `file_download()` to download the file to the program environment, and uncompressing the `tar`."
   ]
  },
  {
   "cell_type": "code",
   "execution_count": 14,
   "metadata": {},
   "outputs": [
    {
     "name": "stdout",
     "output_type": "stream",
     "text": [
      "Appending to ./source_files/transpile_parallel.py\n"
     ]
    }
   ],
   "source": [
    "%%writefile --append ./source_files/transpile_parallel.py\n",
    "\n",
    "import tarfile\n",
    "\n",
    "files = serverless.files()\n",
    "demo_file = files[0]\n",
    "downloaded_tar = serverless.file_download(demo_file)\n",
    "\n",
    "print(downloaded_tar)\n",
    "with tarfile.open(downloaded_tar, 'r') as tar:\n",
    "    tar.extractall()"
   ]
  },
  {
   "cell_type": "code",
   "execution_count": 15,
   "metadata": {},
   "outputs": [
    {
     "name": "stdout",
     "output_type": "stream",
     "text": [
      "Job still running, waiting 5s then retrying (3)\r"
     ]
    },
    {
     "ename": "Exception",
     "evalue": "Something went wrong. See following serverless logs:\n\n2024-09-13 15:49:52,472\tINFO job_manager.py:531 -- Runtime env is setting up.\nTraceback (most recent call last):\n  File \"/tmp/ray/session_2024-09-13_15-49-42_152664_1/runtime_resources/working_dir_files/_ray_pkg_f23b08bce382b975/transpile_parallel.py\", line 4, in <module>\n    from qiskit_serverless_tools.selectors import IBMLeastNoisyQPUSelector\nModuleNotFoundError: No module named 'qiskit_serverless_tools'\n",
     "output_type": "error",
     "traceback": [
      "\u001b[0;31m---------------------------------------------------------------------------\u001b[0m",
      "\u001b[0;31mException\u001b[0m                                 Traceback (most recent call last)",
      "Cell \u001b[0;32mIn[15], line 28\u001b[0m\n\u001b[1;32m     26\u001b[0m     \u001b[38;5;28;01mbreak\u001b[39;00m\n\u001b[1;32m     27\u001b[0m \u001b[38;5;28;01mif\u001b[39;00m status \u001b[38;5;241m==\u001b[39m \u001b[38;5;124m\"\u001b[39m\u001b[38;5;124mERROR\u001b[39m\u001b[38;5;124m\"\u001b[39m:\n\u001b[0;32m---> 28\u001b[0m     \u001b[38;5;28;01mraise\u001b[39;00m \u001b[38;5;167;01mException\u001b[39;00m(\u001b[38;5;124m\"\u001b[39m\u001b[38;5;124mSomething went wrong. See following serverless logs:\u001b[39m\u001b[38;5;130;01m\\n\u001b[39;00m\u001b[38;5;130;01m\\n\u001b[39;00m\u001b[38;5;124m\"\u001b[39m \u001b[38;5;241m+\u001b[39m job\u001b[38;5;241m.\u001b[39mlogs())\n\u001b[1;32m     29\u001b[0m \u001b[38;5;28mprint\u001b[39m(\u001b[38;5;124mf\u001b[39m\u001b[38;5;124m\"\u001b[39m\u001b[38;5;124mJob still running, waiting 5s then retrying (\u001b[39m\u001b[38;5;132;01m{\u001b[39;00mretry\u001b[38;5;132;01m}\u001b[39;00m\u001b[38;5;124m)\u001b[39m\u001b[38;5;124m\"\u001b[39m, end\u001b[38;5;241m=\u001b[39m\u001b[38;5;124m\"\u001b[39m\u001b[38;5;130;01m\\r\u001b[39;00m\u001b[38;5;124m\"\u001b[39m)\n\u001b[1;32m     30\u001b[0m time\u001b[38;5;241m.\u001b[39msleep(\u001b[38;5;241m5\u001b[39m)\n",
      "\u001b[0;31mException\u001b[0m: Something went wrong. See following serverless logs:\n\n2024-09-13 15:49:52,472\tINFO job_manager.py:531 -- Runtime env is setting up.\nTraceback (most recent call last):\n  File \"/tmp/ray/session_2024-09-13_15-49-42_152664_1/runtime_resources/working_dir_files/_ray_pkg_f23b08bce382b975/transpile_parallel.py\", line 4, in <module>\n    from qiskit_serverless_tools.selectors import IBMLeastNoisyQPUSelector\nModuleNotFoundError: No module named 'qiskit_serverless_tools'\n"
     ]
    }
   ],
   "source": [
    "# This cell is hidden from users.\n",
    "# It uploads the serverless program and checks it runs.\n",
    "\n",
    "from qiskit.circuit.random import random_circuit\n",
    "from qiskit_serverless import IBMServerlessClient, QiskitFunction\n",
    "import time\n",
    "\n",
    "TITLE = \"transpile_remote_serverless_test\"  # TODO: Randomize names to avoid conflict\n",
    "serverless = IBMServerlessClient()\n",
    "transpile_remote_demo = QiskitFunction(\n",
    "    title=TITLE,\n",
    "    entrypoint=\"transpile_parallel.py\",\n",
    "    working_dir=\"./source_files/\",\n",
    "\tdependencies=[\"qiskit-aer==0.14.1\"],\n",
    ")\n",
    "serverless.upload(transpile_remote_demo)\n",
    "job = serverless.get(TITLE).run(\n",
    "    circuit=random_circuit(3,3),\n",
    "    circuit_list=[random_circuit(3,3) for _ in range(3)],\n",
    "    backend=\"ibm_kyiv\",\n",
    "    optimization_level=1,\n",
    ")\n",
    "for retry in range(20):\n",
    "    status = job.status()\n",
    "    if status == \"DONE\":\n",
    "        break\n",
    "    if status == \"ERROR\":\n",
    "        raise Exception(\"Something went wrong. See following serverless logs:\\n\\n\" + job.logs())\n",
    "    print(f\"Job still running, waiting 5s then retrying ({retry})\", end=\"\\r\")\n",
    "    time.sleep(5)"
   ]
  },
  {
   "cell_type": "markdown",
   "metadata": {},
   "source": [
    "At this point, your program can interact with the files, as you would a local experiment. `file_upload()` , `file_download()`, and `file_delete()` can be called from your local experiment, or your uploaded program, for consistent and flexible data management."
   ]
  },
  {
   "cell_type": "markdown",
   "metadata": {},
   "source": [
    "## Next steps\n",
    "\n",
    "<Admonition type=\"info\" title=\"Recommendations\">\n",
    "\n",
    "- See a full example that [ports existing code to Qiskit Serverless ](./serverless-port-code).\n",
    "- Read a paper in which researchers used Qiskit Serverless and quantum-centric supercomputing to [explore quantum chemistry](https://arxiv.org/abs/2405.05068v1).\n",
    "\n",
    "</Admonition>"
   ]
  }
 ],
 "metadata": {
  "description": "Manage compute and data across your Qiskit pattern with Qiskit Serverless.",
  "kernelspec": {
   "display_name": "Python 3 (ipykernel)",
   "language": "python",
   "name": "python3"
  },
  "language_info": {
   "codemirror_mode": {
    "name": "ipython",
    "version": 3
   },
   "file_extension": ".py",
   "mimetype": "text/x-python",
   "name": "python",
   "nbconvert_exporter": "python",
   "pygments_lexer": "ipython3",
   "version": "3.12.4"
  },
  "title": "Manage Qiskit Serverless compute and data resources"
 },
 "nbformat": 4,
 "nbformat_minor": 4
}
