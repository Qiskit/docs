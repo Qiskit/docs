{
 "cells": [
  {
   "cell_type": "markdown",
   "id": "98c9ba3e-e183-4e95-ab41-2e7b46a9a71a",
   "metadata": {},
   "source": [
    "# Manage Qiskit Serverless compute and data resources\n",
    "\n",
    "Qiskit Serverless allows you to manage compute and data across your [Qiskit pattern](./intro-to-patterns), including CPUs, QPUs, and other compute accelerators.\n",
    "\n",
    "## Parallel workflows"
   ]
  },
  {
   "cell_type": "markdown",
   "id": "0b1e328c-c0b2-41d5-8a03-8625bba3959a",
   "metadata": {},
   "source": [
    "For classical tasks that can be parallelized, use the `@distribute_task` decorater to define compute requirements needed to perform a task. Start by recalling the `transpile_parallel.py` example from the [Write your first Qiskit Serverless program](./serverless-first-program) topic:"
   ]
  },
  {
   "cell_type": "code",
   "execution_count": 1,
   "id": "2e8824d8-41cc-47fc-b42f-3aec8690d46b",
   "metadata": {
    "editable": true,
    "slideshow": {
     "slide_type": ""
    },
    "tags": [
     "remove-cell"
    ]
   },
   "outputs": [],
   "source": [
    "# This cell is hidden from users\n",
    "from pathlib import Path\n",
    "Path(\"./source_files\").mkdir(exist_ok=True, parents=True)"
   ]
  },
  {
   "cell_type": "code",
   "execution_count": 2,
   "id": "a3b54f11-6336-4385-90fb-ee1ccd37459e",
   "metadata": {},
   "outputs": [
    {
     "name": "stdout",
     "output_type": "stream",
     "text": [
      "Writing ./source_files/transpile_remote.py\n"
     ]
    }
   ],
   "source": [
    "%%writefile ./source_files/transpile_remote.py\n",
    "\n",
    "from qiskit.transpiler.preset_passmanagers import generate_preset_pass_manager\n",
    "from qiskit_ibm_runtime import QiskitRuntimeService\n",
    "from qiskit_serverless import distribute_task\n",
    "\n",
    "service = QiskitRuntimeService()\n",
    "\n",
    "@distribute_task(target={\"cpu\": 1})\n",
    "def transpile_remote(circuit, optimization_level, backend):\n",
    "    \"\"\"Transpiles an abstract circuit (or list of circuits) into an ISA circuit for a given backend.\"\"\"\n",
    "    pass_manager = generate_preset_pass_manager(\n",
    "        optimization_level=optimization_level,\n",
    "\t\tbackend=service.backend(backend)\n",
    "    )\n",
    "    isa_circuit = pass_manager.run(circuit)\n",
    "    return isa_circuit"
   ]
  },
  {
   "cell_type": "markdown",
   "id": "0273d627-1ba3-4107-a9b8-6a0135547ed5",
   "metadata": {},
   "source": [
    "In this example, you decorated the `transpile_remote()` method with `@distribute_task(target={\"cpu\": 1})`. When run, this creates an asynchronous parallel worker task with a single CPU core, and returns with a reference to track the worker. To fetch the result, pass the reference to the `get()` method:"
   ]
  },
  {
   "cell_type": "code",
   "execution_count": 3,
   "id": "79da6436-fdac-42bc-9065-116c3dca38cb",
   "metadata": {},
   "outputs": [
    {
     "name": "stdout",
     "output_type": "stream",
     "text": [
      "Appending to ./source_files/transpile_remote.py\n"
     ]
    }
   ],
   "source": [
    "%%writefile --append ./source_files/transpile_remote.py\n",
    "\n",
    "from qiskit_serverless import get, get_arguments, save_result\n",
    "\n",
    "arguments = get_arguments()\n",
    "circuit = arguments.get(\"circuit\")\n",
    "optimization_level = arguments.get(\"optimization_level\")\n",
    "backend = arguments.get(\"backend\")\n",
    "\n",
    "transpile_worker_reference = transpile_remote(\n",
    "    circuit,\n",
    "    optimization_level,\n",
    "    backend\n",
    ")\n",
    "result = get(transpile_worker_reference)\n",
    "save_result(result)"
   ]
  },
  {
   "cell_type": "code",
   "execution_count": 4,
   "id": "b54a47bb-9522-413e-b6a5-02859712b3e3",
   "metadata": {
    "editable": true,
    "slideshow": {
     "slide_type": ""
    },
    "tags": [
     "remove-cell"
    ]
   },
   "outputs": [
    {
     "name": "stdout",
     "output_type": "stream",
     "text": [
      "Appending to ./source_files/transpile_remote.py\n"
     ]
    }
   ],
   "source": [
    "%%writefile --append ./source_files/transpile_remote.py\n",
    "# This cell is hidden from users. It checks the transpilation ran correctly.\n",
    "from qiskit import QuantumCircuit\n",
    "assert isinstance(result, QuantumCircuit)"
   ]
  },
  {
   "cell_type": "markdown",
   "id": "934fe28a-f0fc-4331-90e3-41679b1ebaca",
   "metadata": {},
   "source": [
    "You can also create and run multiple parallel tasks as follows:"
   ]
  },
  {
   "cell_type": "code",
   "execution_count": 5,
   "id": "0383ae42-a3e3-4567-8b80-c8bff9b2616e",
   "metadata": {},
   "outputs": [
    {
     "name": "stdout",
     "output_type": "stream",
     "text": [
      "Appending to ./source_files/transpile_remote.py\n"
     ]
    }
   ],
   "source": [
    "%%writefile --append ./source_files/transpile_remote.py\n",
    "\n",
    "transpile_worker_references = [\n",
    "    transpile_remote(circuit, optimization_level, backend)\n",
    "    for circuit in arguments.get(\"circuit_list\")\n",
    "]\n",
    "\n",
    "results = get(transpile_worker_references)\n",
    "save_result(results)  # Overwrites any previously saved results"
   ]
  },
  {
   "cell_type": "code",
   "execution_count": 6,
   "id": "b872a4b0-280a-41e8-8fa3-6a633ea64b2e",
   "metadata": {
    "editable": true,
    "slideshow": {
     "slide_type": ""
    },
    "tags": [
     "remove-cell"
    ]
   },
   "outputs": [
    {
     "name": "stdout",
     "output_type": "stream",
     "text": [
      "Appending to ./source_files/transpile_remote.py\n"
     ]
    }
   ],
   "source": [
    "%%writefile --append ./source_files/transpile_remote.py\n",
    "# This cell is hidden from users. It checks the transpilation ran correctly.\n",
    "assert isinstance(results[0], QuantumCircuit)"
   ]
  },
  {
   "cell_type": "code",
   "execution_count": 7,
   "id": "ad1914fa-bfd0-4aa0-936b-fa41bde6090e",
   "metadata": {
    "editable": true,
    "slideshow": {
     "slide_type": ""
    },
    "tags": [
     "remove-cell"
    ]
   },
   "outputs": [
    {
     "name": "stdout",
     "output_type": "stream",
     "text": [
      "Job still running, waiting 5s then retrying (9)\r"
     ]
    }
   ],
   "source": [
    "# This cell is hidden from users.\n",
    "# It uploads the serverless program and checks it runs.\n",
    "\n",
    "from qiskit.circuit.random import random_circuit\n",
    "from qiskit_serverless import IBMServerlessClient, QiskitFunction\n",
    "from IPython.display import clear_output\n",
    "import time\n",
    "\n",
    "TITLE = \"transpile_remote_serverless_test\"  # TODO: Randomize names to avoid conflict\n",
    "serverless = IBMServerlessClient()\n",
    "transpile_remote_demo = QiskitFunction(\n",
    "    title=TITLE,\n",
    "    entrypoint=\"transpile_remote.py\",\n",
    "    working_dir=\"./source_files/\",\n",
    "\tdependencies=[\"qiskit-aer==0.14.1\"],\n",
    ")\n",
    "serverless.upload(transpile_remote_demo)\n",
    "job = serverless.get(TITLE).run(\n",
    "    circuit=random_circuit(3,3),\n",
    "    circuit_list=[random_circuit(3,3) for _ in range(3)],\n",
    "    backend=\"ibm_kyiv\",\n",
    "    optimization_level=1,\n",
    ")\n",
    "for retry in range(20):\n",
    "    status = job.status()\n",
    "    if status == \"DONE\":\n",
    "        break\n",
    "    if status == \"ERROR\":\n",
    "        raise Exception(\"Something went wrong. See following serverless logs:\\n\\n\" + job.logs())\n",
    "    clear_output()\n",
    "    print(f\"Job still running, waiting 5s then retrying ({retry})\")\n",
    "    time.sleep(5)"
   ]
  },
  {
   "cell_type": "markdown",
   "id": "062db02d-862b-495d-8b90-dc2960bb8427",
   "metadata": {},
   "source": [
    "### Explore different task configurations\n",
    "\n",
    "You can flexibly allocate CPU, GPU, and memory for your tasks via `@distribute_task()`. For Qiskit Serverless on IBM Quantum&trade; Platform, each program is equipped with 16 CPU cores and 32 GB RAM, which can be allocated dynamically as needed.\n",
    "\n",
    "CPU cores can be allocated as full CPU cores, or even fractional allocations, as shown in the following.\n",
    "\n",
    "Memory is allocated in number of bytes. Recall that there are 1024 bytes in a kilobyte, 1024 kilobytes in a megabyte, and 1024 megabytes in a gigabyte. To allocate 2 GB of memory for your worker, you need to allocate `\"mem\": 2 * 1024 * 1024 * 1024`."
   ]
  },
  {
   "cell_type": "code",
   "execution_count": 8,
   "id": "1fc1cc82-71c1-467e-bedb-465ed61a6dbe",
   "metadata": {},
   "outputs": [
    {
     "name": "stdout",
     "output_type": "stream",
     "text": [
      "Overwriting ./source_files/transpile_remote.py\n"
     ]
    }
   ],
   "source": [
    "%%writefile ./source_files/transpile_remote.py\n",
    "\n",
    "@distribute_task(target={\n",
    "    \"cpu\": 16,\n",
    "    \"mem\": 32 * 1024 * 1024 * 1024\n",
    "})\n",
    "def transpile_remote(circuit, optimization_level, backend):\n",
    "    return None"
   ]
  },
  {
   "cell_type": "code",
   "execution_count": 9,
   "id": "7aa5bcb1-ac02-49c7-bc2a-1b98bcb9db36",
   "metadata": {
    "editable": true,
    "slideshow": {
     "slide_type": ""
    },
    "tags": [
     "remove-cell"
    ]
   },
   "outputs": [],
   "source": [
    "# This cell is hidden from users\n",
    "# Clean up file afterwards\n",
    "Path(\"./source_files/transpile_remote.py\").unlink()"
   ]
  },
  {
   "cell_type": "markdown",
   "id": "50ea5816-1fc7-4e83-998e-cb01e0fc4624",
   "metadata": {},
   "source": [
    "## Automatic QPU selection\n",
    "\n",
    "This example demonstrates how to use `IBMQPUSelector` to automate the process of selecting which qubits to use from a set of available QPUs. Instead of manually selecting a QPU, Qiskit Serverless automatically allocates a QPU according to desired criteria. `IBMQPUSelector`s are imported from server-side `qiskit_serverless_tools.selectors` modules, and must be invoked from your uploaded program.\n",
    "\n",
    "Here, `IBMLeastNoisyQPUSelector` finds the QPU that yields the least-noisy qubit subgraph for the input circuit, from among the QPUs available to you through your IBM Quantum account.\n",
    "\n",
    "For each `IBMQPUSelector`, the context is set in the constructor. All `IBMQPUSelectors` require Qiskit Runtime credentials. The `IBMLeastNoisyQPUSelector` requires a circuit and transpile options specifying how the circuit should be optimized for each QPU, to determine the most optimal QPU and qubit layout.\n",
    "\n",
    "All `IBMQPUSelectors` implement a `get_backend` method, which retrieves the optimal QPU with respect to the given context. The `get_backend` method also allows for additional filtering of the QPUs. It is implemented using the same interface as the [QiskitRuntimeService.backends](/api/qiskit-ibm-runtime/qiskit_ibm_runtime.QiskitRuntimeService#backends) method."
   ]
  },
  {
   "cell_type": "code",
   "execution_count": 10,
   "id": "67eb3309-03ff-4c10-82b9-e90f49796814",
   "metadata": {},
   "outputs": [
    {
     "name": "stdout",
     "output_type": "stream",
     "text": [
      "Overwriting ./source_files/transpile_parallel.py\n"
     ]
    }
   ],
   "source": [
    "%%writefile ./source_files/transpile_parallel.py\n",
    "\n",
    "from qiskit_ibm_runtime import QiskitRuntimeService\n",
    "from qiskit.circuit.random import random_circuit\n",
    "from qiskit_serverless_tools.selectors import IBMLeastNoisyQPUSelector\n",
    "\n",
    "service = QiskitRuntimeService()\n",
    "\n",
    "abstract_circuit = random_circuit(\n",
    "    num_qubits=100, depth=4, measure=True\n",
    ")\n",
    "\n",
    "selector = IBMLeastNoisyQPUSelector(\n",
    "    service, circuit=abstract_circuit, transpile_options={\"optimization_level\": 3}\n",
    ")\n",
    "backend = selector.get_backend(min_num_qubits=127)\n",
    "target_circuit = selector.optimized_circuit"
   ]
  },
  {
   "cell_type": "markdown",
   "id": "7328d590-a667-4cce-bbdb-5c44b6afac87",
   "metadata": {},
   "source": [
    "You can also use the `IBMLeastBusyQPUSelector` to find a QPU that can support the circuit width but with the shortest queue."
   ]
  },
  {
   "cell_type": "code",
   "execution_count": 11,
   "id": "0b97e663-716b-4e2f-a91b-ff8dd256b540",
   "metadata": {},
   "outputs": [
    {
     "name": "stdout",
     "output_type": "stream",
     "text": [
      "Appending to ./source_files/transpile_parallel.py\n"
     ]
    }
   ],
   "source": [
    "%%writefile --append ./source_files/transpile_parallel.py\n",
    "\n",
    "from qiskit.transpiler.preset_passmanagers import generate_preset_pass_manager\n",
    "from qiskit_serverless_tools.selectors import IBMLeastBusyQPUSelector\n",
    "\n",
    "backend = IBMLeastBusyQPUSelector(service).get_backend(min_num_qubits=127)\n",
    "pm = generate_preset_pass_manager(optimization_level=3, backend=backend)\n",
    "target_circuit = pm.run(abstract_circuit)"
   ]
  },
  {
   "cell_type": "markdown",
   "id": "f53b0bf4-7275-4717-81ac-a205f99fd11e",
   "metadata": {},
   "source": [
    "## Manage data across your program\n",
    "\n",
    "Qiskit Serverless allows you to manage files in the `/data` directory across all your programs. This includes several limitations:\n",
    "\n",
    "- Only `tar` and `h5` files are supported today\n",
    "- This is only a flat `/data` storage, and cannot have `/data/folder/` subdirectories\n",
    "\n",
    "The following shows how to upload files. Be sure you have authenticated to Qiskit Serverless with your [IBM Quantum account](https://quantum.ibm.com/account) (see [Deploy to IBM Quantum Platform](./serverless-first-program#deploy-to-ibm-quantum-platform) for instructions)."
   ]
  },
  {
   "cell_type": "code",
   "execution_count": 12,
   "id": "de39c5ec-bf97-42d4-bd52-8ad26890a662",
   "metadata": {},
   "outputs": [
    {
     "data": {
      "text/plain": [
       "'{\"message\":\"/usr/src/app/media/5e1f442128cdf60018496a04/transpile_demo.tar\"}'"
      ]
     },
     "execution_count": 12,
     "metadata": {},
     "output_type": "execute_result"
    }
   ],
   "source": [
    "import tarfile\n",
    "\n",
    "# Create a tar\n",
    "filename = \"transpile_demo.tar\"\n",
    "file = tarfile.open(filename,\"w\")\n",
    "file.add(\"./source_files/transpile_parallel.py\")\n",
    "file.close()\n",
    "\n",
    "# Upload the tar to Serverless data directory\n",
    "serverless.file_upload(filename)"
   ]
  },
  {
   "cell_type": "markdown",
   "id": "fb27e9bc-3db1-4a17-959a-c29b5f982ec2",
   "metadata": {},
   "source": [
    "Next, you can list all the files in your `data` directory. This data is accessible to all programs."
   ]
  },
  {
   "cell_type": "code",
   "execution_count": 13,
   "id": "7d7aebec-95df-4509-a1c6-b117476c0f12",
   "metadata": {},
   "outputs": [
    {
     "data": {
      "text/plain": [
       "['transpile_demo.tar']"
      ]
     },
     "execution_count": 13,
     "metadata": {},
     "output_type": "execute_result"
    }
   ],
   "source": [
    "serverless.files()"
   ]
  },
  {
   "cell_type": "markdown",
   "id": "1aa656cc-f6a8-43a9-9c84-f018d0a96608",
   "metadata": {},
   "source": [
    "This can be done from a program by using `file_download()` to download the file to the program environment, and uncompressing the `tar`."
   ]
  },
  {
   "cell_type": "code",
   "execution_count": 14,
   "id": "8c3a7f05-1429-42ea-bb19-4356a6c618b1",
   "metadata": {},
   "outputs": [
    {
     "name": "stdout",
     "output_type": "stream",
     "text": [
      "Appending to ./source_files/transpile_parallel.py\n"
     ]
    }
   ],
   "source": [
    "%%writefile --append ./source_files/transpile_parallel.py\n",
    "\n",
    "import tarfile\n",
    "\n",
    "files = serverless.files()\n",
    "demo_file = files[0]\n",
    "downloaded_tar = serverless.file_download(demo_file)\n",
    "\n",
    "print(downloaded_tar)\n",
    "with tarfile.open(downloaded_tar, 'r') as tar:\n",
    "    tar.extractall()"
   ]
  },
  {
   "cell_type": "code",
   "execution_count": 15,
   "id": "252f0990-5643-46d4-9a58-c77fb50d17f4",
   "metadata": {
    "editable": true,
    "slideshow": {
     "slide_type": ""
    },
    "tags": [
     "remove-cell"
    ]
   },
   "outputs": [
    {
     "name": "stdout",
     "output_type": "stream",
     "text": [
      "Job still running, waiting 5s then retrying (3)\r"
     ]
    },
    {
     "ename": "Exception",
     "evalue": "Something went wrong. See following serverless logs:\n\n2024-09-13 15:49:52,472\tINFO job_manager.py:531 -- Runtime env is setting up.\nTraceback (most recent call last):\n  File \"/tmp/ray/session_2024-09-13_15-49-42_152664_1/runtime_resources/working_dir_files/_ray_pkg_f23b08bce382b975/transpile_parallel.py\", line 4, in <module>\n    from qiskit_serverless_tools.selectors import IBMLeastNoisyQPUSelector\nModuleNotFoundError: No module named 'qiskit_serverless_tools'\n",
     "output_type": "error",
     "traceback": [
      "\u001b[0;31m---------------------------------------------------------------------------\u001b[0m",
      "\u001b[0;31mException\u001b[0m                                 Traceback (most recent call last)",
      "Cell \u001b[0;32mIn[15], line 28\u001b[0m\n\u001b[1;32m     26\u001b[0m     \u001b[38;5;28;01mbreak\u001b[39;00m\n\u001b[1;32m     27\u001b[0m \u001b[38;5;28;01mif\u001b[39;00m status \u001b[38;5;241m==\u001b[39m \u001b[38;5;124m\"\u001b[39m\u001b[38;5;124mERROR\u001b[39m\u001b[38;5;124m\"\u001b[39m:\n\u001b[0;32m---> 28\u001b[0m     \u001b[38;5;28;01mraise\u001b[39;00m \u001b[38;5;167;01mException\u001b[39;00m(\u001b[38;5;124m\"\u001b[39m\u001b[38;5;124mSomething went wrong. See following serverless logs:\u001b[39m\u001b[38;5;130;01m\\n\u001b[39;00m\u001b[38;5;130;01m\\n\u001b[39;00m\u001b[38;5;124m\"\u001b[39m \u001b[38;5;241m+\u001b[39m job\u001b[38;5;241m.\u001b[39mlogs())\n\u001b[1;32m     29\u001b[0m \u001b[38;5;28mprint\u001b[39m(\u001b[38;5;124mf\u001b[39m\u001b[38;5;124m\"\u001b[39m\u001b[38;5;124mJob still running, waiting 5s then retrying (\u001b[39m\u001b[38;5;132;01m{\u001b[39;00mretry\u001b[38;5;132;01m}\u001b[39;00m\u001b[38;5;124m)\u001b[39m\u001b[38;5;124m\"\u001b[39m, end\u001b[38;5;241m=\u001b[39m\u001b[38;5;124m\"\u001b[39m\u001b[38;5;130;01m\\r\u001b[39;00m\u001b[38;5;124m\"\u001b[39m)\n\u001b[1;32m     30\u001b[0m time\u001b[38;5;241m.\u001b[39msleep(\u001b[38;5;241m5\u001b[39m)\n",
      "\u001b[0;31mException\u001b[0m: Something went wrong. See following serverless logs:\n\n2024-09-13 15:49:52,472\tINFO job_manager.py:531 -- Runtime env is setting up.\nTraceback (most recent call last):\n  File \"/tmp/ray/session_2024-09-13_15-49-42_152664_1/runtime_resources/working_dir_files/_ray_pkg_f23b08bce382b975/transpile_parallel.py\", line 4, in <module>\n    from qiskit_serverless_tools.selectors import IBMLeastNoisyQPUSelector\nModuleNotFoundError: No module named 'qiskit_serverless_tools'\n"
     ]
    }
   ],
   "source": [
    "# This cell is hidden from users.\n",
    "# It uploads the serverless program and checks it runs.\n",
    "\n",
    "from qiskit.circuit.random import random_circuit\n",
    "from qiskit_serverless import IBMServerlessClient, QiskitFunction\n",
    "import time\n",
    "\n",
    "TITLE = \"transpile_remote_serverless_test\"  # TODO: Randomize names to avoid conflict\n",
    "serverless = IBMServerlessClient()\n",
    "transpile_remote_demo = QiskitFunction(\n",
    "    title=TITLE,\n",
    "    entrypoint=\"transpile_parallel.py\",\n",
    "    working_dir=\"./source_files/\",\n",
    "\tdependencies=[\"qiskit-aer==0.14.1\"],\n",
    ")\n",
    "serverless.upload(transpile_remote_demo)\n",
    "job = serverless.get(TITLE).run(\n",
    "    circuit=random_circuit(3,3),\n",
    "    circuit_list=[random_circuit(3,3) for _ in range(3)],\n",
    "    backend=\"ibm_kyiv\",\n",
    "    optimization_level=1,\n",
    ")\n",
    "for retry in range(20):\n",
    "    status = job.status()\n",
    "    if status == \"DONE\":\n",
    "        break\n",
    "    if status == \"ERROR\":\n",
    "        raise Exception(\"Something went wrong. See following serverless logs:\\n\\n\" + job.logs())\n",
    "    clear_output()\n",
    "    print(f\"Job still running, waiting 5s then retrying ({retry})\")\n",
    "    time.sleep(5)"
   ]
  },
  {
   "cell_type": "markdown",
   "id": "4ba0a4e5-35ab-4620-8b5b-b2844ec364e3",
   "metadata": {},
   "source": [
    "At this point, your program can interact with the files, as you would a local experiment. `file_upload()` , `file_download()`, and `file_delete()` can be called from your local experiment, or your uploaded program, for consistent and flexible data management."
   ]
  },
  {
   "cell_type": "markdown",
   "id": "c1bf6b41-67e6-4cc9-ab09-32e6d739fa35",
   "metadata": {},
   "source": [
    "## Next steps\n",
    "\n",
    "<Admonition type=\"info\" title=\"Recommendations\">\n",
    "\n",
    "- See a full example that [ports existing code to Qiskit Serverless ](./serverless-port-code).\n",
    "- Read a paper in which researchers used Qiskit Serverless and quantum-centric supercomputing to [explore quantum chemistry](https://arxiv.org/abs/2405.05068v1).\n",
    "\n",
    "</Admonition>"
   ]
  }
 ],
 "metadata": {
  "description": "Manage compute and data across your Qiskit pattern with Qiskit Serverless.",
  "kernelspec": {
   "display_name": "Python 3",
   "language": "python",
   "name": "python3"
  },
  "language_info": {
   "codemirror_mode": {
    "name": "ipython",
    "version": 3
   },
   "file_extension": ".py",
   "mimetype": "text/x-python",
   "name": "python",
   "nbconvert_exporter": "python",
   "pygments_lexer": "ipython3",
   "version": "3"
  },
  "title": "Manage Qiskit Serverless compute and data resources"
 },
 "nbformat": 4,
 "nbformat_minor": 4
}
