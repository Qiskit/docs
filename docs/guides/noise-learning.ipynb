{
 "cells": [
  {
   "cell_type": "markdown",
   "id": "1b2370f0-a4ee-49b1-9e53-e4527d37bc6f",
   "metadata": {},
   "source": [
    "# Noise learning helper\n",
    "\n",
    "The error mitigation techniques [PEA](./error-mitigation-and-suppression-techniques#probabilistic-error-amplification-pea) and [PEC](./error-mitigation-and-suppression-techniques#probabilistic-error-cancellation-pec) both utilize a noise learning component based on a [Pauli-Lindblad noise model](https://arxiv.org/abs/2201.09866), which is typically managed during execution after submitting one or more jobs through `qiskit-ibm-runtime`. However, versions of `qiskit-ibm-runtime` 0.27.1 and later include a [`NoiseLearner`](../api/qiskit-ibm-runtime/noise_learner) and associated  `NoiseLearnerOptions` class for executing and storing the results of these noise learning experiments. This page provides an overview of its usage and the associated options available.\n",
    "\n",
    "\n",
    "## Overview\n",
    "\n",
    "The `NoiseLearner` class performs experiments which characterizes noise processes based on a Pauli-Lindblad noise model for one (or more) circuits. It possesses a `run()` method which will execute the learning experiments and takes as input either a list of circuits or a [PUB](./primitive-input-output#overview-of-pubs) and returns a `NoiseLearnerResult` containing the learned noise channels and metadata about the job(s) submitted. Below is a code snippet demonstrating the usage of the helper program."
   ]
  },
  {
   "cell_type": "code",
   "execution_count": null,
   "id": "c5118119-5892-4ad9-9908-107795a1f1fa",
   "metadata": {},
   "outputs": [],
   "source": [
    "from qiskit import QuantumRegister, QuantumCircuit\n",
    "from qiskit.transpiler.preset_passmanagers import generate_preset_pass_manager\n",
    "\n",
    "from qiskit_ibm_runtime import QiskitRuntimeService\n",
    "from qiskit_ibm_runtime.noise_learner import NoiseLearner\n",
    "from qiskit_ibm_runtime.options import NoiseLearnerOptions\n",
    "\n",
    "# Build a simple GHZ circuit with three entangling layers\n",
    "circuit_to_learn = QuantumCircuit(3)\n",
    "circuit_to_learn.h(0)\n",
    "\n",
    "circuit_to_learn.cx(0, 1)\n",
    "circuit_to_learn.cx(1, 2)\n",
    "circuit_to_learn.cx(0, 1)\n",
    "\n",
    "# Choose a backend to run on\n",
    "service = QiskitRuntimeService()\n",
    "backend = service.least_busy()\n",
    "\n",
    "# Transpile the circuit for execution\n",
    "pm = generate_preset_pass_manager(backend=backend, optimization_level=3)\n",
    "circuit_to_run = pm.run(circuit_to_learn)\n",
    "\n",
    "# Instantiate a NoiseLearner object and execute the noise learning program\n",
    "learner = NoiseLearner(mode=backend)\n",
    "job = learner.run([circuit_to_run])\n",
    "result = job.result()"
   ]
  },
  {
   "cell_type": "markdown",
   "id": "1859540c-a597-411a-ab98-1b436b284f8a",
   "metadata": {},
   "source": [
    "The resulting `NoiseLearnerResult.data` is a list of [`LayerError`](../api/qiskit-ibm-runtime/qiskit_ibm_runtime.utils.noise_learner_result.LayerError) objects containing the [noise model](https://arxiv.org/abs/2201.09866) for each individual entangling layer that belongs to the target circuit(s). Each `LayerError` stores the layer information, in the form of a circuit and a set of qubit labels, alongside the [`PauliLindBladError`](../api/qiskit-ibm-runtime/qiskit_ibm_runtime.utils.noise_learner_result.PauliLindbladError) for the noise model that was learned for the given layer."
   ]
  },
  {
   "cell_type": "code",
   "execution_count": 5,
   "id": "33d8cc11-6c6f-4838-8038-dd9994476db4",
   "metadata": {},
   "outputs": [
    {
     "name": "stdout",
     "output_type": "stream",
     "text": [
      "Noise learner result contains 3 entries and has the following data:\n",
      " NoiseLearnerResult(data=[LayerError(circuit=<qiskit.circuit.quantumcircuit.QuantumCircuit object at 0x7f5140f739d0>, qubits=[0, 1], error=PauliLindbladError(generators=['IX', 'IY', 'IZ', 'XI', 'XX', 'XY', 'XZ', 'YI', 'YX', 'YY', 'YZ', 'ZI',\n",
      " 'ZX', 'ZY', 'ZZ'], rates=[0.00037, 0.00046, 0.00035, 0.00127, 0.00067, 0.0, 0.0, 0.00067, 0.00127, 0.0, 0.0, 0.00071, 0.0, 0.00035, 0.00046]))), LayerError(circuit=<qiskit.circuit.quantumcircuit.QuantumCircuit object at 0x7f5140f73410>, qubits=[0, 1, 2], error=PauliLindbladError(generators=['IIX', 'IIY', 'IIZ', 'IXI', 'IXX', 'IXY', 'IXZ', 'IYI', 'IYX', 'IYY',\n",
      " 'IYZ', 'IZI', 'IZX', 'IZY', 'IZZ', 'XII', 'XXI', 'XYI', 'XZI', 'YII',\n",
      " 'YXI', 'YYI', 'YZI', 'ZII', 'ZXI', 'ZYI', 'ZZI'], rates=[0.00068, 0.00023, 0.00041, 0.00093, 0.00056, 0.00034, 0.0001, 0.00023, 0.00126, 0.0, 0.0, 0.00094, 5e-05, 0.00041, 0.00023, 0.00093, 0.0, 0.0, 0.0, 0.00259, 9e-05, 9e-05, 0.0, 0.01374, 0.00024, 0.00024, 0.0]))), LayerError(circuit=<qiskit.circuit.quantumcircuit.QuantumCircuit object at 0x7f5140f722d0>, qubits=[0, 1, 2], error=PauliLindbladError(generators=['IIX', 'IIY', 'IIZ', 'IXI', 'IXX', 'IXY', 'IXZ', 'IYI', 'IYX', 'IYY',\n",
      " 'IYZ', 'IZI', 'IZX', 'IZY', 'IZZ', 'XII', 'XXI', 'XYI', 'XZI', 'YII',\n",
      " 'YXI', 'YYI', 'YZI', 'ZII', 'ZXI', 'ZYI', 'ZZI'], rates=[0.00068, 0.00095, 0.00704, 0.00063, 0.00037, 5e-05, 0.0, 0.0, 0.00021, 0.00026, 0.00019, 0.00019, 0.00027, 0.00032, 0.00025, 0.00083, 0.00097, 0.00028, 0.00017, 0.00097, 0.00083, 0.00026, 0.00038, 0.00149, 0.00025, 0.0009, 0.00061])))], metadata={'backend': 'ibm_brisbane', 'input_options': {'max_layers_to_learn': 4, 'shots_per_randomization': 128, 'num_randomizations': 32, 'layer_pair_depths': [0, 1, 2, 4, 16, 32], 'twirling_strategy': 'active-accum'}})\n",
      "\n",
      "The layer error model for the first layer has data:\n",
      " LayerError(circuit=<qiskit.circuit.quantumcircuit.QuantumCircuit object at 0x7f5140f739d0>, qubits=[0, 1], error=PauliLindbladError(generators=['IX', 'IY', 'IZ', 'XI', 'XX', 'XY', 'XZ', 'YI', 'YX', 'YY', 'YZ', 'ZI',\n",
      " 'ZX', 'ZY', 'ZZ'], rates=[0.00037, 0.00046, 0.00035, 0.00127, 0.00067, 0.0, 0.0, 0.00067, 0.00127, 0.0, 0.0, 0.00071, 0.0, 0.00035, 0.00046])))\n",
      "\n",
      "And the Pauli Lindblad model has has the following data: \n",
      "PauliLindbladError(generators=['IX', 'IY', 'IZ', 'XI', 'XX', 'XY', 'XZ', 'YI', 'YX', 'YY', 'YZ', 'ZI',\n",
      " 'ZX', 'ZY', 'ZZ'], rates=[0.00037, 0.00046, 0.00035, 0.00127, 0.00067, 0.0, 0.0, 0.00067, 0.00127, 0.0, 0.0, 0.00071, 0.0, 0.00035, 0.00046])\n",
      "\n"
     ]
    }
   ],
   "source": [
    "print(f'Noise learner result contains {len(result.data)} entries and has the following data:\\n {result}\\n')\n",
    "print(f'The layer error model for the first layer has data:\\n {result.data[0]}\\n')\n",
    "print(f'And the Pauli Lindblad model has has the following data: \\n{result.data[0].error}\\n')"
   ]
  },
  {
   "cell_type": "markdown",
   "id": "a27a38f1-393d-49f9-92c3-a8634bfb1a60",
   "metadata": {},
   "source": [
    "The `LayerError.error` attribute of the noise learning result contains the generators and error rates of the fitted Pauli Lindblad model, which has the form:\n",
    "\n",
    "$$ \\Lambda(\\rho) = \\exp{\\sum_j r_j \\left(P_j \\rho P_j^\\dagger - \\rho\\right)} $$\n",
    "\n",
    "where the $r_j$ are the `LayerError.rates` and $P_j$ are the Pauli operators specified in `LayerError.generators`."
   ]
  },
  {
   "cell_type": "markdown",
   "id": "7ebb4b7d-ef45-4996-bf5a-125d0831ebca",
   "metadata": {},
   "source": [
    "## Noise learning options\n",
    "\n",
    "There are a few options available to input into a `NoiseLearner` object, can be set with when instantiated. These are encapsulated by the `qiskit_ibm_runtime.options.NoiseLearnerOptions` class and include:\n",
    "\n",
    "- `max_layers_to_learn`: The maximum number of unique entangling layers to learn (the default value is `4` and can be set to `None` to indicate no limit on the number of layers)\n",
    "- `num_randomizations`: Total number of random circuits to use per learning circuit configuration\n",
    "- `shots_per_randomization`: Total number of shots per learning circuit\n",
    "- `layer_pair_depths`: The circuit depths to us in the learning experiments (measured in number of pairs)\n",
    "- `twirling_strategy`: The twirling strategy used in the layers of two-qubit twirled gates. The allowed values are:\n",
    "    - `\"active\"`: only instruction qubits are twirled in each individual twirled layer\n",
    "    - `\"active-circuit\"`: in each twirled layer, the union of all qubits with an instruction are twirled\n",
    "    - `\"active-accum\"`: in each twirled layer, the union of all qubits with an instruction in the circuit *up to the current layer* are twirled\n",
    "    - `\"all\"`: in each twirled layer, *all* qubits in the circuit are twirled\n",
    "\n",
    "Below is a simple example showing how to use the `NoiseLearnerOptions` in a `NoiseLeaner` experiment:"
   ]
  },
  {
   "cell_type": "code",
   "execution_count": null,
   "id": "8f35d68a-b459-4f1c-ae44-a01bbe700ed0",
   "metadata": {},
   "outputs": [],
   "source": [
    "# Build a larger GHZ circuit\n",
    "circuit = QuantumCircuit(10)\n",
    "circuit.h(0)\n",
    "circuit.cx(range(0, 10, 2), range(1, 10, 2))\n",
    "# Choose a backend to run on\n",
    "service = QiskitRuntimeService()\n",
    "backend = service.least_busy()\n",
    "\n",
    "# Transpile the circuit for execution\n",
    "pm = generate_preset_pass_manager(backend=backend, optimization_level=3)\n",
    "circuit_to_run = pm.run(circuit_to_learn)\n",
    "\n",
    "# Instantiate a noise learner options object\n",
    "learner_options = NoiseLearnerOptions(\n",
    "                    max_layers_to_learn = 3,\n",
    "                    num_randomizations = 32,\n",
    "                    twirling_strategy = \"all\"\n",
    "                )\n",
    "\n",
    "# Instantiate a NoiseLearner object and execute the noise learning program\n",
    "learner = NoiseLearner(mode=backend, options=learner_options)\n",
    "job = learner.run([circuit_to_run])\n",
    "result = job.result()"
   ]
  }
 ],
 "metadata": {
  "description": "Get started with the noise learning helper program to save the noise models created when executing workloads in Qiskit IBM Runtime",
  "kernelspec": {
   "display_name": "Python 3",
   "language": "python",
   "name": "python3"
  },
  "language_info": {
   "codemirror_mode": {
    "name": "ipython",
    "version": 3
   },
   "file_extension": ".py",
   "mimetype": "text/x-python",
   "name": "python",
   "nbconvert_exporter": "python",
   "pygments_lexer": "ipython3",
   "version": "3"
  },
  "title": "Noise learning helper"
 },
 "nbformat": 4,
 "nbformat_minor": 2
}
