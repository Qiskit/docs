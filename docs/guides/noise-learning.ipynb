{
 "cells": [
  {
   "cell_type": "markdown",
   "metadata": {},
   "source": [
    "# Noise learning helper\n",
    "\n",
    "The error mitigation techniques [TREX](./error-mitigation-and-suppression-techniques#twirled-readout-error-extinction-trex) and [PEC](./error-mitigation-and-suppression-techniques#probabilistic-error-cancellation-pec) both utilize a noise learning component based on a [Pauli-Lindblad noise model](https://www.nature.com/articles/s41567-023-02042-2) which is typically managed during execution after submitting one or more jobs through `qiskit-ibm-runtime`. However, as of `qiskit-ibm-runtime` 0.27.1 and later, a [`NoiseLearner`](../api/qiskit-ibm-runtime/noise_learner), [`LayerNoiseLearningOptions`](../api/qiskit-ibm-runtime/qiskit_ibm_runtime.options.LayerNoiseLearningOptions), and a [`MeasureNoiseLearningOptions`](../api/qiskit-ibm-runtime/qiskit_ibm_runtime.options.MeasureNoiseLearningOptions.mdx) class for executing and storing the results of these noise learning experiments now exists. This page provides an overview of its usage and the associated options available.\n",
    "\n",
    "\n",
    "\n",
    "## Overview \n",
    "\n",
    "The `NoiseLearner` class performs experiments which characterizes noise processes based on a Pauli-Lindblad noise model for one (or more) circuits. It possesses a `run()` method which will execute the learning experiments and takes as input either a list of circuits or a [PUB](./primitive-input-output#overview-of-pubs) and returns a `NoiseLearnerResult` containing the learned noise channels and metadata about the job(s) submitted. Below is a code snippet demonstrating the usage of the helper program."
   ]
  },
  {
   "cell_type": "code",
   "execution_count": null,
   "metadata": {},
   "outputs": [],
   "source": [
    "from qiskit import QuantumRegister, QuantumCircuit\n",
    "from qiskit.quantum_info import SparsePauliOp\n",
    "from qiskit.transpiler import Layout\n",
    "from qiskit.transpiler.preset_passmanagers import generate_preset_pass_manager\n",
    " \n",
    "from qiskit_ibm_runtime import QiskitRuntimeService, EstimatorV2\n",
    "from qiskit_ibm_runtime.noise_learner import NoiseLearner\n",
    "from qiskit_ibm_runtime.options import NoiseLearnerOptions, EstimatorOptions\n",
    "\n",
    "# Build a simple GHZ circuit with three entangling layers\n",
    "circuit_to_learn = QuantumCircuit(3)\n",
    "circuit_to_learn.h(0)\n",
    "circuit_to_learn.cx(0, 1)\n",
    "circuit_to_learn.cx(1, 2)\n",
    "circuit_to_learn.cx(0, 1)\n",
    "\n",
    "# Choose a backend to run on\n",
    "service = QiskitRuntimeService()\n",
    "backend = service.least_busy()\n",
    "\n",
    "# Transpile the circuit for execution\n",
    "pm = generate_preset_pass_manager(backend=backend, optimization_level=3)\n",
    "circuit_to_run = pm.run(circuit_to_learn)\n",
    "\n",
    "# Instantiate a NoiserLearner object and execute the noise learning program\n",
    "learner = NoiseLearner(backend)\n",
    "job = learner.run([circuit_to_run])\n",
    "result = job.result()   \n",
    "print(result)"
   ]
  },
  {
   "cell_type": "markdown",
   "metadata": {},
   "source": [
    "The `NoiserLearnerResult.data` is a list of `LayerError` objects containing the noise model for each of the entangling layers chosen to characterize (the maximum number of the layers to learn can be specified in the `NoiserLearnerOptions`). These come in the form of one or more `LayerError` data containers which store the circuit, qubits, and `PauliLindBladError` for each layer of the noise model that was learned."
   ]
  },
  {
   "cell_type": "code",
   "execution_count": 7,
   "metadata": {},
   "outputs": [],
   "source": [
    "job = service.job(\"ctx5pptv0kkg008q1880\")\n",
    "result = job.result()"
   ]
  },
  {
   "cell_type": "code",
   "execution_count": 16,
   "metadata": {},
   "outputs": [
    {
     "name": "stdout",
     "output_type": "stream",
     "text": [
      "Noise learner result contains 3 entries and has the following data:\n",
      " NoiseLearnerResult(data=[LayerError(circuit=<qiskit.circuit.quantumcircuit.QuantumCircuit object at 0x7fe0b32f2650>, qubits=[0, 1], error=PauliLindbladError(generators=['IX', 'IY', 'IZ', 'XI', 'XX', 'XY', 'XZ', 'YI', 'YX', 'YY', 'YZ', 'ZI',\n",
      " 'ZX', 'ZY', 'ZZ'], rates=[0.00037, 0.00046, 0.00035, 0.00127, 0.00067, 0.0, 0.0, 0.00067, 0.00127, 0.0, 0.0, 0.00071, 0.0, 0.00035, 0.00046]))), LayerError(circuit=<qiskit.circuit.quantumcircuit.QuantumCircuit object at 0x7fe0b898f190>, qubits=[0, 1, 2], error=PauliLindbladError(generators=['IIX', 'IIY', 'IIZ', 'IXI', 'IXX', 'IXY', 'IXZ', 'IYI', 'IYX', 'IYY',\n",
      " 'IYZ', 'IZI', 'IZX', 'IZY', 'IZZ', 'XII', 'XXI', 'XYI', 'XZI', 'YII',\n",
      " 'YXI', 'YYI', 'YZI', 'ZII', 'ZXI', 'ZYI', 'ZZI'], rates=[0.00068, 0.00023, 0.00041, 0.00093, 0.00056, 0.00034, 0.0001, 0.00023, 0.00126, 0.0, 0.0, 0.00094, 5e-05, 0.00041, 0.00023, 0.00093, 0.0, 0.0, 0.0, 0.00259, 9e-05, 9e-05, 0.0, 0.01374, 0.00024, 0.00024, 0.0]))), LayerError(circuit=<qiskit.circuit.quantumcircuit.QuantumCircuit object at 0x7fe0b32f2c90>, qubits=[0, 1, 2], error=PauliLindbladError(generators=['IIX', 'IIY', 'IIZ', 'IXI', 'IXX', 'IXY', 'IXZ', 'IYI', 'IYX', 'IYY',\n",
      " 'IYZ', 'IZI', 'IZX', 'IZY', 'IZZ', 'XII', 'XXI', 'XYI', 'XZI', 'YII',\n",
      " 'YXI', 'YYI', 'YZI', 'ZII', 'ZXI', 'ZYI', 'ZZI'], rates=[0.00068, 0.00095, 0.00704, 0.00063, 0.00037, 5e-05, 0.0, 0.0, 0.00021, 0.00026, 0.00019, 0.00019, 0.00027, 0.00032, 0.00025, 0.00083, 0.00097, 0.00028, 0.00017, 0.00097, 0.00083, 0.00026, 0.00038, 0.00149, 0.00025, 0.0009, 0.00061])))], metadata={'backend': 'ibm_brisbane', 'input_options': {'max_layers_to_learn': 4, 'shots_per_randomization': 128, 'num_randomizations': 32, 'layer_pair_depths': [0, 1, 2, 4, 16, 32], 'twirling_strategy': 'active-accum'}})\n",
      "\n",
      "The layer error model for the first layer has data:\n",
      " LayerError(circuit=<qiskit.circuit.quantumcircuit.QuantumCircuit object at 0x7fe0b32f2650>, qubits=[0, 1], error=PauliLindbladError(generators=['IX', 'IY', 'IZ', 'XI', 'XX', 'XY', 'XZ', 'YI', 'YX', 'YY', 'YZ', 'ZI',\n",
      " 'ZX', 'ZY', 'ZZ'], rates=[0.00037, 0.00046, 0.00035, 0.00127, 0.00067, 0.0, 0.0, 0.00067, 0.00127, 0.0, 0.0, 0.00071, 0.0, 0.00035, 0.00046])))\n",
      "\n",
      "And the Pauli Lindblad model has has the following data: \n",
      "PauliLindbladError(generators=['IX', 'IY', 'IZ', 'XI', 'XX', 'XY', 'XZ', 'YI', 'YX', 'YY', 'YZ', 'ZI',\n",
      " 'ZX', 'ZY', 'ZZ'], rates=[0.00037, 0.00046, 0.00035, 0.00127, 0.00067, 0.0, 0.0, 0.00067, 0.00127, 0.0, 0.0, 0.00071, 0.0, 0.00035, 0.00046])\n",
      "\n"
     ]
    }
   ],
   "source": [
    "print(f'Noise learner result contains {len(result.data)} entries and has the following data:\\n {result}\\n')\n",
    "print(f'The layer error model for the first layer has data:\\n {result.data[0]}\\n')\n",
    "print(f'And the Pauli Lindblad model has has the following data: \\n{result.data[0].error}\\n')"
   ]
  },
  {
   "cell_type": "markdown",
   "metadata": {},
   "source": [
    "The `LayerError.error` attribute of the noise learning result contains the generators and error rates of the fitted Pauli Lindblad model, which has the form\n",
    "\n",
    "$$ \\Lambda(\\rho) = \\exp{\\sum_j r_j \\left(P_j \\rho P_j^\\dagger - \\rho\\right)} $$\n",
    "\n",
    "where the $r_j$ are the `LayerError.rates` and $P_j$ are the Pauli operators specified in `LayerError.generators`."
   ]
  },
  {
   "cell_type": "code",
   "execution_count": null,
   "metadata": {},
   "outputs": [],
   "source": []
  }
 ],
 "metadata": {
  "kernelspec": {
   "display_name": "qiskit_1-0_scratch_space-fyWgEqUn-py3.11",
   "language": "python",
   "name": "python3"
  },
  "language_info": {
   "codemirror_mode": {
    "name": "ipython",
    "version": 3
   },
   "file_extension": ".py",
   "mimetype": "text/x-python",
   "name": "python",
   "nbconvert_exporter": "python",
   "pygments_lexer": "ipython3",
   "version": "3.11.7"
  }
 },
 "nbformat": 4,
 "nbformat_minor": 2
}
