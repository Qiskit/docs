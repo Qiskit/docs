{
 "cells": [
  {
   "cell_type": "markdown",
   "metadata": {},
   "source": [
    "# Multi-product formula (MPF)\n",
    "\n",
    "Multi-product formulas (MPF) can be used to more accurately simulate the dynamics of a quantum system at the cost of increased runtime. This is a post-processing technique which mitigates the error of expectation values for time evolved states.\n",
    "\n",
    "Classical computing is used to solve a system of linear equations which provide coefficients to a weighted combination of several circuit executions. Using this weighted combination can reduce the error associated with simulating time evolution, given a good selection of Trotter steps. The MPF tool will ingest a selection of data --- including the number of Trotter steps and the order of the Trotter approximation --- to prepare and solve (or approximate the solution of) the associated system of linear equations which you can then use to post-process expectation value measurements of a time evolved state."
   ]
  },
  {
   "cell_type": "markdown",
   "metadata": {},
   "source": [
    "## Install MPF package\n",
    "\n",
    "There are two ways of installing the MPF package. Via PyPI and building from source. We also recommend installing these in a [virtual environment](https://docs.python.org/3.10/tutorial/venv.html) to ensure separation between package dependencies.\n",
    "\n",
    "### Install from PyPI\n",
    "\n",
    "The most straightforward way to install the `qiskit-addon-mpf` package is via PyPI.\n",
    "```bash\n",
    "pip install qiskit-addon-mpf\n",
    "```\n",
    "\n",
    "### Build from source\n",
    "Users who wish to develop in the repository or who want to install it manually may do so by first cloning the repository\n",
    "```bash\n",
    "git clone git@github.com:Qiskit/qiskit-addon-mpf.git\n",
    "```\n",
    "\n",
    "and install the package via `pip`. The repository also contains example notebooks which can be run, and if you plan on developing in the repository, you may also want to install the `dev` dependencies.\n",
    "\n",
    "Adjust the options to suit your needs.\n",
    "```bash\n",
    "pip install tox -e notebook -e '.[notebook-dependencies, dev]'\n",
    "```"
   ]
  },
  {
   "cell_type": "markdown",
   "metadata": {},
   "source": [
    "## Theoretical Background\n",
    "\n"
   ]
  }
 ],
 "metadata": {
  "language_info": {
   "name": "python"
  }
 },
 "nbformat": 4,
 "nbformat_minor": 2
}
