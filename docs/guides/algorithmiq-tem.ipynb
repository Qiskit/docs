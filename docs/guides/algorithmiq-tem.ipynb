{
 "cells": [
  {
   "cell_type": "markdown",
   "id": "f7d9993f",
   "metadata": {},
   "source": [
    "{/* cspell:ignore POVM, mathbf, Filippov, Lindblad, Leahy, Rossi, García, Pérez  */}"
   ]
  },
  {
   "cell_type": "markdown",
   "id": "dde95705",
   "metadata": {},
   "source": [
    "# Tensor-network error mitigation (TEM): A Qiskit Function by Algorithmiq\n",
    "\n",
    "<Admonition type=\"note\">\n",
    "Qiskit Functions are an experimental feature available only to IBM Quantum&trade; Premium Plan users. They are in preview release status and subject to change.\n",
    "</Admonition>\n",
    "\n",
    "## Overview\n",
    "\n",
    "Algorithmiq’s Tensor-network Error Mitigation (TEM) method is a hybrid quantum-classical algorithm designed for performing noise mitigation entirely at the classical post-processing stage. With TEM, the user can compute the expectation values of observables mitigating the inevitable noise-induced errors that occur on quantum hardware with increased accuracy and cost efficiency, making it a highly attractive option for quantum researchers and industry practitioners alike. \n",
    "\n",
    "The method consists of constructing a tensor network representing the inverse of the global noise channel affecting the state of the quantum processor and then applying the map to informationally complete measurement outcomes acquired from the noisy state to obtain unbiased estimators for the observables. \n",
    "\n",
    "As an advantage, TEM leverages informationally complete measurements to give access to a vast set of mitigated expectation values of observables and has optimal sampling overhead on the quantum hardware, as described in Filippov at al. (2023), [arXiv:2307.11740](https://arxiv.org/abs/2307.11740), and  Filippov at al. (2024), [arXiv:2403.13542](https://arxiv.org/abs/2403.13542). The measurement overhead refers to the number of additional measurements required to perform efficient error mitigation, a critical factor in the feasibility of quantum computations. Therefore, TEM has the potential to enable quantum advantage in complex scenarios, such as applications in the fields of quantum chaos, many-body physics, Hubbard dynamics, and small molecule chemistry simulations. \n",
    "\n",
    "The main features and benefits of TEM can be summarized as:\n",
    "\n",
    "1.  **Optimal measurement overhead**: TEM is optimal with respect to [theoretical bounds](https://journals.aps.org/prl/abstract/10.1103/PhysRevLett.131.210601), meaning that no method can achieve a smaller measurement overhead. In other words, TEM requires the minimum number of additional measurements to perform error mitigation. This in turns means that TEM uses minimal quantum runtime.\n",
    "2.  **Cost-effectiveness**: Since TEM handles noise mitigation entirely in the post-processing stage, there is no need to add extra circuits to the quantum computer, which not only makes the computational cheaper but also diminishes the risk of introducing additional errors due to the imperfections of quantum devices.\n",
    "3.  **Estimation of multiple observables**: Thanks to informationally-complete measurements, TEM efficiently estimates multiple observables with the same measurement data from the quantum computer.\n",
    "4.  **Measurement error mitigation**: The TEM Qiskit Function also includes a proprietary measurement error mitigation method able to significantly reduce readout errors after a short calibration run [arXiv:2409.02575](https://arxiv.org/abs/2409.02575).\n",
    "5.  **Accuracy**: TEM significantly improves the accuracy and reliability of digital quantum simulations, making quantum algorithms more precise and dependable.\n"
   ]
  },
  {
   "cell_type": "markdown",
   "id": "5f761442",
   "metadata": {},
   "source": [
    "## Description\n",
    "\n",
    "The TEM function allows you to obtain error-mitigated expectation values for multiple observables on a quantum circuit with minimal sampling overhead. The circuit is measured with an informationally complete positive operator-valued measure (IC-POVM), and the collected measurement outcomes are processed on a classical computer. This measurement is used to perform the tensor network methods and build a noise-inversion map. The function applies a map that fully inverts the whole noisy circuit using tensor networks to represent the noisy layers.\n",
    "\n",
    "![TEM schematics](/images/guides/algorithmiq-tem/tem_scheme.svg \"Error-mitigated estimation of an observable O via post-processing measurement outcomes of the noisy quantum processor. U and N denote an ideal quantum operation and the associated noise map, which can be generally non-local (and extended to grey boxes). D stands for a tensor of operators that are dual to the effects in the IC measurement. The noise mitigation module M is a tensor network that is efficiently contracted from the middle out. The first iteration of the contraction is represented by the dotted purple line, the second one by the dashed line, and the third one by the solid line.\")\n",
    "\n",
    "Once the circuits are submitted to the function, they are transpiled and optimized to minimize the number of layers with two-qubit gates (the noisier gates on quantum devices). The noise affecting the layers is learned through [Qiskit Runtime](/api/qiskit-ibm-runtime/qiskit_ibm_runtime.noise_learner.NoiseLearner) using a sparse Pauli-Lindblad noise model as described in E. van den Berg, Z. Minev, A. Kandala, K. Temme, Nat. Phys. (2023). [arXiv:2201.09866](https://arxiv.org/abs/2201.09866).\n",
    "\n",
    "The noise model is an accurate description of the noise on the device able to capture subtle features, including qubit cross-talk. However, noise on the devices can fluctuate and drift and the learned noise might not be accurate at the point at which the estimation is done. This might result in inaccurate results. "
   ]
  },
  {
   "cell_type": "markdown",
   "id": "2995da29",
   "metadata": {},
   "source": [
    "## Get started\n",
    "\n",
    "Authenticate using your [IBM Quantum&trade; Platform API token](http://quantum.ibm.com/), and select the TEM as follows:"
   ]
  },
  {
   "cell_type": "code",
   "execution_count": null,
   "id": "cc0a8093",
   "metadata": {},
   "outputs": [],
   "source": [
    "from qiskit_ibm_catalog import QiskitFunctionsCatalog\n",
    "\n",
    "tem_function_name = \"algorithmiq/tem\"\n",
    "\n",
    "catalog = QiskitFunctionsCatalog(token=\"<YOUR_IQP_API_TOKEN>\")\n",
    "\n",
    "# Load your function\n",
    "tem = catalog.load(tem_function_name)"
   ]
  },
  {
   "cell_type": "markdown",
   "id": "ae7adcc7",
   "metadata": {},
   "source": [
    "## Example\n",
    "\n",
    "\n",
    "The following snippet shows an example where TEM is used to compute the expectation values of an observable given a simple quantum circuit.\n",
    "\n"
   ]
  },
  {
   "cell_type": "code",
   "execution_count": null,
   "id": "ab05b87f",
   "metadata": {},
   "outputs": [],
   "source": [
    "from qiskit import QuantumCircuit\n",
    "from qiskit.quantum_info import SparsePauliOp\n",
    "from qiskit_ibm_runtime import QiskitRuntimeService\n",
    "\n",
    "# Create a quantum circuit\n",
    "qc = QuantumCircuit(3)\n",
    "qc.u(0.4, 0.9, -0.3, 0)\n",
    "qc.u(-0.4, 0.2, 1.3, 1)\n",
    "qc.u(-1.2, -1.2, 0.3, 2)\n",
    "for _ in range(2):\n",
    "    qc.barrier()\n",
    "    qc.cx(0, 1)\n",
    "    qc.cx(2, 1)\n",
    "    qc.barrier()\n",
    "    qc.u(0.4, 0.9, -0.3, 0)\n",
    "    qc.u(-0.4, 0.2, 1.3, 1)\n",
    "    qc.u(-1.2, -1.2, 0.3, 2)\n",
    "\n",
    "# Define the observables\n",
    "observable = SparsePauliOp(\"IYX\", 1.0)\n",
    "\n",
    "# Define the execution options\n",
    "service = QiskitRuntimeService()\n",
    "backend_name = service.least_busy(operational=True).name\n",
    "\n",
    "instance = \"<IQP_HUB/IQP_GROUP/IQP_PROJECT>\"\n",
    "\n",
    "pub = (qc, [observable])\n",
    "options = {\n",
    "    \"num_max_shots\": 100,\n",
    "}\n",
    "job = tem.run(pubs=[pub], instance=instance, backend_name=backend_name, options=options)"
   ]
  },
  {
   "cell_type": "markdown",
   "id": "6e2a97e2",
   "metadata": {},
   "source": [
    "Use the Qiskit Serverless APIs to check your Qiskit Function workload's status:"
   ]
  },
  {
   "cell_type": "code",
   "execution_count": null,
   "id": "47b0db71",
   "metadata": {},
   "outputs": [],
   "source": [
    "print(job.status())"
   ]
  },
  {
   "cell_type": "markdown",
   "id": "fbaeace8",
   "metadata": {},
   "source": [
    "You can return the results as:"
   ]
  },
  {
   "cell_type": "code",
   "execution_count": null,
   "id": "ad5b9a53",
   "metadata": {},
   "outputs": [],
   "source": [
    "result = job.result()"
   ]
  },
  {
   "cell_type": "markdown",
   "id": "e5e138d3",
   "metadata": {},
   "source": [
    "<Admonition type=\"info\">\n",
    "  The expected value for the noiseless circuit for the given operator should be around `0.18409094298943401`.\n",
    "</Admonition>\n",
    "\n",
    "\n"
   ]
  },
  {
   "cell_type": "markdown",
   "id": "c6ffb685",
   "metadata": {},
   "source": [
    "## Inputs\n",
    "\n",
    "**Parameters**\n",
    "Name | Type | Description | Required | Default | Example\n",
    "-- | -- | -- | -- | -- | --\n",
    "`pubs` | Iterable[EstimatorPubLike] | An iterable of PUB-like (primitive unified bloc) objects, such as tuples `(circuit, observables)` or `(circuit, observables, parameters, precision)`. See [Overview of PUBs](/guides/primitive-input-output#overview-of-pubs) for more information. The circuits don't need to be ISA circuits. | Yes | N/A | (circuit, observables)\n",
    "`instance` | str | The hub/group/project to use in that format. | Yes | N/A |\"hub1/group1/project1\"\n",
    "`backend_name` | str | Name of the backend to make the query.| No | If not provided, the least busy backend will be used. | \"ibm_fez\"\n",
    "`options` | dict | Input options. See `Options` section for more details. | No | See `Options` section for more details.| \\{\"max_bond_dimension\": 100\\}\n",
    "\n",
    "\n",
    "<Admonition type=\"caution\"> TEM does not currently support parametrized circuits. The `parameters` argument should be set to `None` if `precision` is specified.</Admonition>"
   ]
  },
  {
   "cell_type": "markdown",
   "id": "1ebd5f9b",
   "metadata": {},
   "source": [
    "\n",
    "### Options\n",
    "\n",
    "A dictionary containing the advanced options for the TEM. The dictionary may contain the keys in the following table. If any of the options are not provided, the default value listed in the table will be used. The default values are good for typical use of TEM.\n",
    "\n",
    "Name | Choices | Description  | Default\n",
    "-- | -- | -- | -- \n",
    "`max_bond_dimension` | int | The maximum bond dimension to be used for the tensor networks. | 500 | \n",
    "`tem_compression_cutoff` | float | The cutoff value to be used for the tensor networks. | 1e-16\n",
    "`num_max_shots` | int | The maximum number of shots. | 100000\n",
    "`num_randomizations` | int | The number of randomizations to be used for gate twirling. | 32\n",
    "`mitigate_readout_error` | bool | A Boolean flag indicating whether to perform readout error mitigation or not. | True\n",
    "`num_readout_calibration_shots` | int | The number of shots to be used for readout error mitigation. | 10000\n",
    "`default_precision` | float | The default precision to be used for the PUBs for which the precision is not specified. |0.02\n"
   ]
  },
  {
   "cell_type": "markdown",
   "id": "7a04364c",
   "metadata": {},
   "source": [
    "## Outputs\n",
    "\n",
    "A Qiskit [PrimitiveResults](/api/qiskit/qiskit.primitives.PrimitiveResult) containing the TEM mitigated result. The result for each PUB is returned as a [PubResult](/api/qiskit/qiskit.primitives.PubResult) containing the following fields:\n",
    " \n",
    "\n",
    "Name |Type | Description\n",
    "-- | -- | --\n",
    "data | DataBin | A Qiskit [DataBin](/api/qiskit/qiskit.primitives.DataBin) containing the TEM-mitigated observable and its standard error. The DataBin has the following fields: <ul><li>`evs`: The TEM-mitigated observable value.</li><li>`stds`: The standard error of the TEM-mitigated observable.</li></ul>\n",
    "metadadata | dict | A dictionary containing additional results. The dictionary contains the following keys: <ul><li>`\"evs_non_mitigated\"`: The observable value without error mitigation.</li><li>`\"stds_non_mitigated\"`: The standard error of the result without error mitigation.</li><li>`\"evs_mitigated_no_readout_mitigation\"`: The observable value with error mitigation but without readout error mitigation.</li><li>`\"stds_mitigated_no_readout_mitigation\"`: The standard error of the result with error mitigation but without readout error mitigation.</li><li>`\"evs_non_mitigated_with_readout_mitigation\"`: The observable value without error mitigation but with readout error mitigation.</li><li>`\"stds_non_mitigated_with_readout_mitigation\"`: The standard error of the result without error mitigation but with readout error mitigation.</li></ul>"
   ]
  },
  {
   "cell_type": "markdown",
   "id": "fd045ee6",
   "metadata": {},
   "source": [
    "## Fetching error messages\n",
    "\n",
    "If your workload status is ERROR, use job.result() to fetch the error message as follows:"
   ]
  },
  {
   "cell_type": "code",
   "execution_count": null,
   "id": "0433171c",
   "metadata": {},
   "outputs": [],
   "source": [
    "print(job.result())"
   ]
  },
  {
   "cell_type": "markdown",
   "id": "e9ec2e67",
   "metadata": {},
   "source": [
    "## Get support\n",
    "\n",
    "Reach out to [qiskit_ibm@algorithmiq.fi](mailto:qiskit_ibm@algorithmiq.fi)\n",
    "\n",
    "Be sure to include the following information:\n",
    "- Qiskit Function Job ID (`qiskit-ibm-catalog`), `job.job_id`\n",
    "- A detailed description of the issue\n",
    "- Any relevant error messages or codes\n",
    "- Steps to reproduce the issue"
   ]
  },
  {
   "cell_type": "markdown",
   "id": "5a6a25c8",
   "metadata": {},
   "source": [
    "## Next steps\n",
    "\n",
    "<Admonition type=\"tip\" title=\"Recommendations\">\n",
    "\n",
    "- [Request access to Algorithmiq Tensor-network error mitigation](https://quantum.ibm.com/functions?id=4b1b9d76-c18b-4788-b70b-15125111fbe6)\n",
    "\n",
    "</Admonition>"
   ]
  },
  {
   "cell_type": "markdown",
   "id": "81d96082",
   "metadata": {},
   "source": []
  }
 ],
 "metadata": {
  "description": "Introduction to TEM, a Qiskit Function by Algorithmiq, to compute estimations with software post-processing error mitigation using tensor networks.",
  "kernelspec": {
   "display_name": "Python 3",
   "language": "python",
   "name": "python3"
  },
  "language_info": {
   "codemirror_mode": {
    "name": "ipython",
    "version": 3
   },
   "file_extension": ".py",
   "mimetype": "text/x-python",
   "name": "python",
   "nbconvert_exporter": "python",
   "pygments_lexer": "ipython3",
   "version": "3"
  },
  "title": "Tensor-network error mitigation (TEM) - A Qiskit Function by Algorithmiq"
 },
 "nbformat": 4,
 "nbformat_minor": 5
}
