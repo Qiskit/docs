{
 "cells": [
  {
   "cell_type": "markdown",
   "metadata": {
    "editable": true,
    "slideshow": {
     "slide_type": ""
    },
    "tags": []
   },
   "source": [
    "# Build a function template for Hamiltonian simulation"
   ]
  },
  {
   "cell_type": "markdown",
   "metadata": {
    "editable": true,
    "slideshow": {
     "slide_type": ""
    },
    "tags": [
     "version-info"
    ]
   },
   "source": [
    "<details>\n",
    "<summary><b>Package versions</b></summary>\n",
    "\n",
    "The code on this page was developed using the following requirements.\n",
    "We recommend using these versions or newer.\n",
    "\n",
    "```\n",
    "qiskit[all]~=1.2.4\n",
    "qiskit-ibm-runtime~=0.32.0\n",
    "qiskit-serverless~=0.18.0\n",
    "qiskit-ibm-catalog~=0.2.0\n",
    "qiskit-addon-aqc-tensor[quimb-jax]~=0.1.0\n",
    "mergedeep==1.3.4\n",
    "```\n",
    "</details>"
   ]
  },
  {
   "cell_type": "markdown",
   "metadata": {
    "editable": true,
    "slideshow": {
     "slide_type": ""
    },
    "tags": []
   },
   "source": [
    "By now you've seen a basic example of how to get started writing, uploading, and running a program with Qiskit Serverless. The workloads you are building for your own use cases are likely not so simple. For example, you might need to carefully consider what domain-level inputs and outputs are relevant for your application, how to make sure your program can be reusable across a range of those inputs, and what kind of information you need returned to you during the execution of your job so that you can better evaluate the progress of your workload. You may even want to incorporate a dry run mode that lets you test the impact of a set of particular inputs before sending the resulting circuits to hardware.\n",
    "\n",
    "\n",
    "A function template is an example of a realistic workload using a specific application domain to contextualize these aspects. It is meant to be a starting point for you to take and modify for your own needs so that you don't have to start from scratch.\n",
    "\n",
    "\n",
    "Here, we will see a function template for addressing Hamiltonian simulation problems."
   ]
  },
  {
   "cell_type": "markdown",
   "metadata": {
    "editable": true,
    "slideshow": {
     "slide_type": ""
    },
    "tags": []
   },
   "source": [
    "## Write the function template\n",
    "\n",
    "We will write a function template for Hamiltonian simulation using the AQC-Tensor Qiskit addon to map the problem description to a reduced-depth circuit for execution on hardware.\n",
    "\n",
    "We will save the following code to `./source_files/function_template_hamsim.py`. This file is the function template we'll upload to and run remotely with Qiskit Serverless."
   ]
  },
  {
   "cell_type": "code",
   "execution_count": 1,
   "metadata": {
    "editable": true,
    "slideshow": {
     "slide_type": ""
    },
    "tags": [
     "remove-cell"
    ]
   },
   "outputs": [],
   "source": [
    "# This cell is hidden from users, it just creates a new folder\n",
    "from pathlib import Path\n",
    "\n",
    "Path(\"./source_files\").mkdir(exist_ok=True)"
   ]
  },
  {
   "cell_type": "markdown",
   "metadata": {
    "editable": true,
    "slideshow": {
     "slide_type": ""
    },
    "tags": []
   },
   "source": [
    "### Get the domain-level inputs\n",
    "\n",
    "We start by getting the inputs for our template. In this case, we have domain-specific inputs relevant for Hamiltonian simulation (such as the Hamiltonian and observable) and capability-specific options (such as how much we want to compress the initial layers of our Trotter circuit using AQC-Tensor or advanced options for fine-tuning error suppression and mitigation beyond the defaults we have baked into for this example)."
   ]
  },
  {
   "cell_type": "code",
   "execution_count": 2,
   "metadata": {
    "editable": true,
    "slideshow": {
     "slide_type": ""
    },
    "tags": []
   },
   "outputs": [
    {
     "name": "stdout",
     "output_type": "stream",
     "text": [
      "Overwriting ./source_files/function_template_hamsim.py\n"
     ]
    }
   ],
   "source": [
    "%%writefile ./source_files/function_template_hamsim.py\n",
    "\n",
    "from qiskit import QuantumCircuit\n",
    "from qiskit_serverless import get_arguments, save_result\n",
    "\n",
    "\n",
    "# Extract parameters from arguments\n",
    "#\n",
    "# We do this at the top of the program so we can fail early if any required arguments are missing or invalid.\n",
    "\n",
    "arguments = get_arguments()\n",
    "\n",
    "dry_run = arguments.get(\"dry_run\", False)\n",
    "backend_name = arguments[\"backend_name\"]\n",
    "\n",
    "aqc_evolution_time = arguments[\"aqc_evolution_time\"]\n",
    "aqc_ansatz_num_trotter_steps = arguments[\"aqc_ansatz_num_trotter_steps\"]\n",
    "aqc_target_num_trotter_steps = arguments[\"aqc_target_num_trotter_steps\"]\n",
    "\n",
    "remainder_evolution_time = arguments[\"remainder_evolution_time\"]\n",
    "remainder_num_trotter_steps = arguments[\"remainder_num_trotter_steps\"]\n",
    "\n",
    "# Stop if this fidelity is achieved\n",
    "aqc_stopping_fidelity = arguments.get(\"aqc_stopping_fidelity\", 1.0)\n",
    "# Stop after this number of iterations, even if stopping fidelity is not achieved\n",
    "aqc_max_iterations = arguments.get(\"aqc_max_iterations\", 500)\n",
    "\n",
    "hamiltonian = arguments[\"hamiltonian\"]\n",
    "observable = arguments[\"observable\"]\n",
    "initial_state = arguments.get(\"initial_state\", QuantumCircuit(hamiltonian.num_qubits))"
   ]
  },
  {
   "cell_type": "code",
   "execution_count": 4,
   "metadata": {
    "editable": true,
    "slideshow": {
     "slide_type": ""
    },
    "tags": []
   },
   "outputs": [
    {
     "name": "stdout",
     "output_type": "stream",
     "text": [
      "Appending to ./source_files/function_template_hamsim.py\n"
     ]
    }
   ],
   "source": [
    "%%writefile --append ./source_files/function_template_hamsim.py\n",
    "\n",
    "import numpy as np\n",
    "import json\n",
    "from mergedeep import merge\n",
    "\n",
    "\n",
    "# Configure `EstimatorOptions`, to control the parameters of our hardware experiment\n",
    "#\n",
    "# Set default options\n",
    "estimator_default_options = {\n",
    "    \"resilience\": {\n",
    "        \"measure_mitigation\": True,\n",
    "        \"zne_mitigation\": True,\n",
    "        \"zne\": {\n",
    "            \"amplifier\": \"gate_folding\",\n",
    "            \"noise_factors\": [1, 2, 3],\n",
    "            \"extrapolated_noise_factors\": list(np.linspace(0, 3, 31)),\n",
    "            \"extrapolator\": [\"exponential\", \"linear\", \"fallback\"],\n",
    "        },\n",
    "        \"measure_noise_learning\": {\n",
    "            \"num_randomizations\": 512,\n",
    "            \"shots_per_randomization\": 512,\n",
    "        },\n",
    "    },\n",
    "    \"twirling\": {\n",
    "        \"enable_gates\": True,\n",
    "        \"enable_measure\": True,\n",
    "        \"num_randomizations\": 300,\n",
    "        \"shots_per_randomization\": 100,\n",
    "        \"strategy\": \"active\",\n",
    "    },\n",
    "}\n",
    "# Merge with user-provided options\n",
    "estimator_options = merge(\n",
    "    arguments.get(\"estimator_options\", {}), estimator_default_options\n",
    ")\n"
   ]
  },
  {
   "cell_type": "markdown",
   "metadata": {},
   "source": [
    "When the function template is running, it is helpful to return information in the logs, using print statements, so that you can better evaluate the progress of your workload. Here is a simple example of printing the estimator_options so that there is a record of the actual Estimator options used. There are many more example like this throughout the program to report back progress during execution. Including the value of the objective function during the iterative component of AQC-Tensor, or the two-qubit depth of the final ISA circuit intended for execution on hardware."
   ]
  },
  {
   "cell_type": "code",
   "execution_count": null,
   "metadata": {},
   "outputs": [],
   "source": [
    "print(\"estimator_options =\", json.dumps(estimator_options, indent=4))"
   ]
  },
  {
   "cell_type": "markdown",
   "metadata": {},
   "source": [
    "### Validate the inputs\n",
    "\n",
    "An important aspect of ensuring reusability of the template across a range of inputs is to validate the inputs. Here is an example of how we check that the stopping fidelity during AQC-Tensor has been specified appropriately and, if not, return an informative error message for how to fix the error."
   ]
  },
  {
   "cell_type": "code",
   "execution_count": null,
   "metadata": {},
   "outputs": [],
   "source": [
    "%%writefile --append ./source_files/function_template_hamsim.py\n",
    "\n",
    "# Perform parameter validation\n",
    "\n",
    "if not 0.0 < aqc_stopping_fidelity <= 1.0:\n",
    "    raise ValueError(\n",
    "        f\"Invalid stopping fidelity: {aqc_stopping_fidelity} - must be positive float no greater than 1\"\n",
    "    )"
   ]
  },
  {
   "cell_type": "markdown",
   "metadata": {
    "editable": true,
    "slideshow": {
     "slide_type": ""
    },
    "tags": []
   },
   "source": [
    "This `print()` call is also the first example of logging, so that there is a record of the actual Estimator options used.  There are many more throughout the program below to report progress throughout the job."
   ]
  },
  {
   "cell_type": "markdown",
   "metadata": {
    "editable": true,
    "slideshow": {
     "slide_type": ""
    },
    "tags": []
   },
   "source": [
    "### Perform the Hamiltonian simulation workflow using AQC-Tensor\n",
    "\n",
    "First, we prepare a dictionary to hold all output of the function template. Keys will be added to this dict throughout the workflow, and it will be returned at the conclusion of the program."
   ]
  },
  {
   "cell_type": "code",
   "execution_count": 5,
   "metadata": {
    "editable": true,
    "slideshow": {
     "slide_type": ""
    },
    "tags": []
   },
   "outputs": [
    {
     "name": "stdout",
     "output_type": "stream",
     "text": [
      "Appending to ./source_files/function_template_hamsim.py\n"
     ]
    }
   ],
   "source": [
    "%%writefile --append ./source_files/function_template_hamsim.py\n",
    "\n",
    "output = {}"
   ]
  },
  {
   "cell_type": "markdown",
   "metadata": {
    "editable": true,
    "slideshow": {
     "slide_type": ""
    },
    "tags": []
   },
   "source": [
    "#### Step 1: Map\n",
    "\n",
    "The AQC-Tensor optimization happens in step 1 of a Qiskit pattern.  First, a target state is constructed, here from a target circuit that evolves the same hamiltonian for the same time period as the AQC portion.  Then, an ansatz is generated from an equivalent circuit but with fewer Trotter steps.  In the main portion of the AQC algorithm, that ansatz is brought closer to the target state in an iterative process.  Then, the result is combined with the remainder of the Trotter steps needed to reach the desired evolution time.\n",
    "\n",
    "Note the additional examples of logging incorporated below."
   ]
  },
  {
   "cell_type": "code",
   "execution_count": 6,
   "metadata": {
    "editable": true,
    "slideshow": {
     "slide_type": ""
    },
    "tags": []
   },
   "outputs": [
    {
     "name": "stdout",
     "output_type": "stream",
     "text": [
      "Appending to ./source_files/function_template_hamsim.py\n"
     ]
    }
   ],
   "source": [
    "%%writefile --append ./source_files/function_template_hamsim.py\n",
    "\n",
    "import datetime\n",
    "import quimb.tensor\n",
    "from scipy.optimize import OptimizeResult, minimize\n",
    "from qiskit.synthesis import SuzukiTrotter\n",
    "from qiskit_addon_utils.problem_generators import generate_time_evolution_circuit\n",
    "from qiskit_addon_aqc_tensor.ansatz_generation import (\n",
    "    generate_ansatz_from_circuit,\n",
    "    AnsatzBlock,\n",
    ")\n",
    "from qiskit_addon_aqc_tensor.simulation import (\n",
    "    tensornetwork_from_circuit,\n",
    "    compute_overlap,\n",
    ")\n",
    "from qiskit_addon_aqc_tensor.simulation.quimb import QuimbSimulator\n",
    "from qiskit_addon_aqc_tensor.objective import OneMinusFidelity\n",
    "\n",
    "print(\"Hamiltonian:\", hamiltonian)\n",
    "print(\"Observable:\", observable)\n",
    "simulator_settings = QuimbSimulator(quimb.tensor.CircuitMPS, autodiff_backend=\"jax\")\n",
    "\n",
    "# Construct the AQC target circuit\n",
    "aqc_target_circuit = initial_state.copy()\n",
    "if aqc_evolution_time:\n",
    "    aqc_target_circuit.compose(\n",
    "        generate_time_evolution_circuit(\n",
    "            hamiltonian,\n",
    "            synthesis=SuzukiTrotter(reps=aqc_target_num_trotter_steps),\n",
    "            time=aqc_evolution_time,\n",
    "        ),\n",
    "        inplace=True,\n",
    "    )\n",
    "\n",
    "# Construct matrix-product state representation of the AQC target state\n",
    "aqc_target_mps = tensornetwork_from_circuit(aqc_target_circuit, simulator_settings)\n",
    "print(\"Target MPS maximum bond dimension:\", aqc_target_mps.psi.max_bond())\n",
    "output[\"target_bond_dimension\"] = aqc_target_mps.psi.max_bond()\n",
    "\n",
    "# Generate an ansatz and initial parameters from a Trotter circuit with fewer steps\n",
    "aqc_good_circuit = initial_state.copy()\n",
    "if aqc_evolution_time:\n",
    "    aqc_good_circuit.compose(\n",
    "        generate_time_evolution_circuit(\n",
    "            hamiltonian,\n",
    "            synthesis=SuzukiTrotter(reps=aqc_ansatz_num_trotter_steps),\n",
    "            time=aqc_evolution_time,\n",
    "        ),\n",
    "        inplace=True,\n",
    "    )\n",
    "aqc_ansatz, aqc_initial_parameters = generate_ansatz_from_circuit(aqc_good_circuit)\n",
    "print(\"Number of AQC parameters:\", len(aqc_initial_parameters))\n",
    "output[\"num_aqc_parameters\"] = len(aqc_initial_parameters)\n",
    "\n",
    "# Calculate fidelity of ansatz circuit vs. the target state, before optimization\n",
    "good_mps = tensornetwork_from_circuit(aqc_good_circuit, simulator_settings)\n",
    "starting_fidelity = abs(compute_overlap(good_mps, aqc_target_mps)) ** 2\n",
    "print(\"Starting fidelity of AQC portion:\", starting_fidelity)\n",
    "output[\"aqc_starting_fidelity\"] = starting_fidelity\n",
    "\n",
    "# Optimize the parameters of the ansatz using MPS calculations\n",
    "def callback(intermediate_result: OptimizeResult):\n",
    "    fidelity = 1 - intermediate_result.fun\n",
    "    print(f\"{datetime.datetime.now()} Intermediate result: Fidelity {fidelity:.8f}\")\n",
    "    if intermediate_result.fun < stopping_point:\n",
    "        raise StopIteration\n",
    "\n",
    "\n",
    "objective = OneMinusFidelity(aqc_target_mps, aqc_ansatz, simulator_settings)\n",
    "stopping_point = 1.0 - aqc_stopping_fidelity\n",
    "\n",
    "result = minimize(\n",
    "    objective,\n",
    "    aqc_initial_parameters,\n",
    "    method=\"L-BFGS-B\",\n",
    "    jac=True,\n",
    "    options={\"maxiter\": aqc_max_iterations},\n",
    "    callback=callback,\n",
    ")\n",
    "if result.status not in (\n",
    "    0,\n",
    "    1,\n",
    "    99,\n",
    "):  # 0 => success; 1 => max iterations reached; 99 => early termination via StopIteration\n",
    "    raise RuntimeError(\n",
    "        f\"Optimization failed: {result.message} (status={result.status})\"\n",
    "    )\n",
    "print(f\"Done after {result.nit} iterations.\")\n",
    "output[\"num_iterations\"] = result.nit\n",
    "aqc_final_parameters = result.x\n",
    "output[\"aqc_final_parameters\"] = list(aqc_final_parameters)\n",
    "\n",
    "# Construct optimized circuit for initial portion of time evolution\n",
    "aqc_final_circuit = aqc_ansatz.assign_parameters(aqc_final_parameters)\n",
    "\n",
    "# Calculate fidelity after optimization\n",
    "aqc_final_mps = tensornetwork_from_circuit(aqc_final_circuit, simulator_settings)\n",
    "aqc_fidelity = abs(compute_overlap(aqc_final_mps, aqc_target_mps)) ** 2\n",
    "print(\"Fidelity of AQC portion:\", aqc_fidelity)\n",
    "output[\"aqc_fidelity\"] = aqc_fidelity\n",
    "\n",
    "# Construct final circuit, with remainder of time evolution\n",
    "final_circuit = aqc_final_circuit.copy()\n",
    "if remainder_evolution_time:\n",
    "    remainder_circuit = generate_time_evolution_circuit(\n",
    "        hamiltonian,\n",
    "        synthesis=SuzukiTrotter(reps=remainder_num_trotter_steps),\n",
    "        time=remainder_evolution_time,\n",
    "    )\n",
    "    final_circuit.compose(remainder_circuit, inplace=True)"
   ]
  },
  {
   "cell_type": "markdown",
   "metadata": {
    "editable": true,
    "slideshow": {
     "slide_type": ""
    },
    "tags": []
   },
   "source": [
    "#### Step 2: Optimize\n",
    "\n",
    "After the AQC portion of the workflow, the `final_circuit` is transpiled to hardware as usual."
   ]
  },
  {
   "cell_type": "code",
   "execution_count": 7,
   "metadata": {
    "editable": true,
    "slideshow": {
     "slide_type": ""
    },
    "tags": []
   },
   "outputs": [
    {
     "name": "stdout",
     "output_type": "stream",
     "text": [
      "Appending to ./source_files/function_template_hamsim.py\n"
     ]
    }
   ],
   "source": [
    "%%writefile --append ./source_files/function_template_hamsim.py\n",
    "\n",
    "from qiskit_ibm_runtime import QiskitRuntimeService\n",
    "from qiskit.transpiler.preset_passmanagers import generate_preset_pass_manager\n",
    "\n",
    "service = QiskitRuntimeService()\n",
    "backend = service.backend(backend_name)\n",
    "\n",
    "# Transpile pubs (circuits and observables) to match ISA\n",
    "pass_manager = generate_preset_pass_manager(backend=backend, optimization_level=3)\n",
    "isa_circuit = pass_manager.run(final_circuit)\n",
    "isa_observable = observable.apply_layout(isa_circuit.layout)\n",
    "\n",
    "isa_2qubit_depth = isa_circuit.depth(lambda x: x.operation.num_qubits == 2)\n",
    "print(\"ISA circuit two-qubit depth:\", isa_2qubit_depth)\n",
    "output[\"twoqubit_depth\"] = isa_2qubit_depth"
   ]
  },
  {
   "cell_type": "markdown",
   "metadata": {
    "editable": true,
    "slideshow": {
     "slide_type": ""
    },
    "tags": []
   },
   "source": [
    "#### Exit early if using dry run mode\n",
    "\n",
    "If dry run mode has been selected then the program is stopped before executing on hardware. This can be useful if, for example, you want first to inspect the two-qubit depth of the ISA circuit before deciding to execute on hardware."
   ]
  },
  {
   "cell_type": "code",
   "execution_count": 8,
   "metadata": {
    "editable": true,
    "slideshow": {
     "slide_type": ""
    },
    "tags": []
   },
   "outputs": [
    {
     "name": "stdout",
     "output_type": "stream",
     "text": [
      "Appending to ./source_files/function_template_hamsim.py\n"
     ]
    }
   ],
   "source": [
    "%%writefile --append ./source_files/function_template_hamsim.py\n",
    "\n",
    "# Exit now if dry run; don't execute on hardware\n",
    "if dry_run:\n",
    "    import sys\n",
    "\n",
    "    print(\"Aborting before hardware execution since `dry_run` is True.\")\n",
    "    save_result(output)\n",
    "    sys.exit(0)"
   ]
  },
  {
   "cell_type": "markdown",
   "metadata": {
    "editable": true,
    "slideshow": {
     "slide_type": ""
    },
    "tags": []
   },
   "source": [
    "#### Step 3: Execute on hardware"
   ]
  },
  {
   "cell_type": "code",
   "execution_count": 9,
   "metadata": {
    "editable": true,
    "slideshow": {
     "slide_type": ""
    },
    "tags": []
   },
   "outputs": [
    {
     "name": "stdout",
     "output_type": "stream",
     "text": [
      "Appending to ./source_files/function_template_hamsim.py\n"
     ]
    }
   ],
   "source": [
    "%%writefile --append ./source_files/function_template_hamsim.py\n",
    "\n",
    "# ## Step 3: Execute quantum experiments on backend\n",
    "from qiskit_ibm_runtime import EstimatorV2 as Estimator\n",
    "\n",
    "\n",
    "estimator = Estimator(backend, options=estimator_options)\n",
    "\n",
    "# Submit the underlying Estimator job. Note that this is not the\n",
    "# actual function job.\n",
    "job = estimator.run([(isa_circuit, isa_observable)])\n",
    "print(\"Job ID:\", job.job_id())\n",
    "output[\"job_id\"] = job.job_id()\n",
    "\n",
    "# Wait until job is complete\n",
    "hw_results = job.result()\n",
    "hw_results_dicts = [pub_result.data.__dict__ for pub_result in hw_results]\n",
    "\n",
    "# Save hardware results to serverless output dict\n",
    "output[\"hw_results\"] = hw_results_dicts\n",
    "\n",
    "# Re-organize expectation values\n",
    "hw_expvals = [pub_result_data[\"evs\"].tolist() for pub_result_data in hw_results_dicts]\n",
    "\n",
    "# Save expectation values to serverless\n",
    "print(\"Hardware expectation values\", hw_expvals)\n",
    "output[\"hw_expvals\"] = hw_expvals[0]"
   ]
  },
  {
   "cell_type": "markdown",
   "metadata": {
    "editable": true,
    "slideshow": {
     "slide_type": ""
    },
    "tags": []
   },
   "source": [
    "#### Save the output\n",
    "\n",
    "This function template returns the relevant domain-level output for this Hamiltonian simulation workflow (expectaton values) in addition to important metadata generated along the way."
   ]
  },
  {
   "cell_type": "code",
   "execution_count": 10,
   "metadata": {
    "editable": true,
    "slideshow": {
     "slide_type": ""
    },
    "tags": []
   },
   "outputs": [
    {
     "name": "stdout",
     "output_type": "stream",
     "text": [
      "Appending to ./source_files/function_template_hamsim.py\n"
     ]
    }
   ],
   "source": [
    "%%writefile --append ./source_files/function_template_hamsim.py\n",
    "\n",
    "save_result(output)"
   ]
  },
  {
   "cell_type": "markdown",
   "metadata": {
    "editable": true,
    "slideshow": {
     "slide_type": ""
    },
    "tags": []
   },
   "source": [
    "This workflow grew out of a Jupyter notebook.  Link to it. FIXME"
   ]
  },
  {
   "cell_type": "markdown",
   "metadata": {
    "editable": true,
    "slideshow": {
     "slide_type": ""
    },
    "tags": []
   },
   "source": [
    "## Deploy to IBM Quantum Platform\n",
    "\n",
    "The previous section created a program to be run remotely. The code cells in this section upload that program to Qiskit Serverless.\n",
    "\n",
    "Use `qiskit-ibm-catalog` to authenticate to `QiskitServerless` with your API token, which you can find in your [IBM Quantum account](https://quantum.ibm.com/account), and upload the program.\n",
    "\n",
    "You can use `save_account()` to save your credentials (See the \"Authenticate to the service\" step in the [Set up to use IBM Quantum Platform](./setup-channel#set-up-to-use-ibm-quantum-platform) section). Note that this writes your credentials to the same file as [`QiskitRuntimeService.save_account()`](/api/qiskit-ibm-runtime/qiskit_ibm_runtime.QiskitRuntimeService#save_account)."
   ]
  },
  {
   "cell_type": "code",
   "execution_count": 11,
   "metadata": {
    "editable": true,
    "slideshow": {
     "slide_type": ""
    },
    "tags": []
   },
   "outputs": [],
   "source": [
    "from qiskit_ibm_catalog import QiskitServerless, QiskitFunction\n",
    "\n",
    "# Authenticate to the remote cluster and submit the pattern for remote execution\n",
    "serverless = QiskitServerless()"
   ]
  },
  {
   "cell_type": "markdown",
   "metadata": {
    "editable": true,
    "slideshow": {
     "slide_type": ""
    },
    "tags": []
   },
   "source": [
    "This program has custom `pip` dependencies, so we add them to a `dependencies` array when constructing the `QiskitFunction` instance:"
   ]
  },
  {
   "cell_type": "code",
   "execution_count": 29,
   "metadata": {
    "editable": true,
    "slideshow": {
     "slide_type": ""
    },
    "tags": []
   },
   "outputs": [],
   "source": [
    "template = QiskitFunction(\n",
    "    title=\"function_template_hamsim\",\n",
    "    entrypoint=\"hfunction_template_hamsim.py\",\n",
    "    working_dir=\"./source_files/\",\n",
    "    dependencies=[\n",
    "        \"qiskit-addon-utils==0.1.0\",\n",
    "        \"qiskit-addon-aqc-tensor[quimb-jax]==0.1.0\",\n",
    "        \"mergedeep\",\n",
    "    ],\n",
    ")"
   ]
  },
  {
   "cell_type": "code",
   "execution_count": 30,
   "metadata": {
    "editable": true,
    "slideshow": {
     "slide_type": ""
    },
    "tags": []
   },
   "outputs": [
    {
     "data": {
      "text/plain": [
       "QiskitFunction(function_template_hamsim)"
      ]
     },
     "execution_count": 30,
     "metadata": {},
     "output_type": "execute_result"
    }
   ],
   "source": [
    "serverless.upload(template)"
   ]
  },
  {
   "cell_type": "markdown",
   "metadata": {
    "editable": true,
    "slideshow": {
     "slide_type": ""
    },
    "tags": []
   },
   "source": [
    "To check if the program successfully uploaded, use `serverless.list()`:"
   ]
  },
  {
   "cell_type": "code",
   "execution_count": 31,
   "metadata": {
    "editable": true,
    "slideshow": {
     "slide_type": ""
    },
    "tags": []
   },
   "outputs": [
    {
     "data": {
      "text/plain": [
       "[QiskitFunction(function_template_hamsim)]"
      ]
     },
     "execution_count": 31,
     "metadata": {},
     "output_type": "execute_result"
    }
   ],
   "source": [
    "serverless.list()"
   ]
  },
  {
   "cell_type": "markdown",
   "metadata": {
    "editable": true,
    "slideshow": {
     "slide_type": ""
    },
    "tags": []
   },
   "source": [
    "## Run the function template remotely\n",
    "\n",
    "Now that we have uploaded the function template, we can run it remotely with Qiskit Serverless. First, we load the template by name:"
   ]
  },
  {
   "cell_type": "code",
   "execution_count": 32,
   "metadata": {
    "editable": true,
    "slideshow": {
     "slide_type": ""
    },
    "tags": []
   },
   "outputs": [],
   "source": [
    "template = serverless.load(\"function_template_hamsim\")"
   ]
  },
  {
   "cell_type": "markdown",
   "metadata": {
    "editable": true,
    "slideshow": {
     "slide_type": ""
    },
    "tags": []
   },
   "source": [
    "Then, we run the template with the domain-level inputs for Hamiltonian simulation. In this example, we specify a simple 4-qubit hamiltonian along with an observable."
   ]
  },
  {
   "cell_type": "code",
   "execution_count": 33,
   "metadata": {
    "editable": true,
    "slideshow": {
     "slide_type": ""
    },
    "tags": []
   },
   "outputs": [],
   "source": [
    "from qiskit.quantum_info import SparsePauliOp\n",
    "\n",
    "hamiltonian = SparsePauliOp.from_sparse_list(\n",
    "    [(\"XX\", (i, i + 1), 1.0) for i in range(3)], num_qubits=4\n",
    ") + SparsePauliOp.from_sparse_list(\n",
    "    [(\"YY\", (i, i + 1), 1.0) for i in range(3)], num_qubits=4\n",
    ")\n",
    "observable = SparsePauliOp.from_sparse_list([(\"ZZ\", (1, 2), 1.0)], num_qubits=4)"
   ]
  },
  {
   "cell_type": "code",
   "execution_count": 34,
   "metadata": {
    "editable": true,
    "slideshow": {
     "slide_type": ""
    },
    "tags": []
   },
   "outputs": [
    {
     "name": "stdout",
     "output_type": "stream",
     "text": [
      "bd22fb47-ee0d-499f-8e85-2b55b526e23b\n"
     ]
    }
   ],
   "source": [
    "job = template.run(\n",
    "    dry_run=True,\n",
    "    hamiltonian=hamiltonian,\n",
    "    observable=observable,\n",
    "    backend_name=\"ibm_fez\",\n",
    "    estimator_options={},\n",
    "    aqc_evolution_time=0.2,\n",
    "    aqc_ansatz_num_trotter_steps=1,\n",
    "    aqc_target_num_trotter_steps=32,\n",
    "    remainder_evolution_time=0.2,\n",
    "    remainder_num_trotter_steps=4,\n",
    "    aqc_max_iterations=300,\n",
    ")\n",
    "print(job.job_id)"
   ]
  },
  {
   "cell_type": "markdown",
   "metadata": {
    "editable": true,
    "slideshow": {
     "slide_type": ""
    },
    "tags": []
   },
   "source": [
    "We can check the status of our job:"
   ]
  },
  {
   "cell_type": "code",
   "execution_count": null,
   "metadata": {
    "editable": true,
    "slideshow": {
     "slide_type": ""
    },
    "tags": []
   },
   "outputs": [],
   "source": [
    "job.status()"
   ]
  },
  {
   "cell_type": "markdown",
   "metadata": {},
   "source": [
    "Once the job is running, we can fetch logs created from the `print()` outputs. These can provide actionable information about the progress of our Hamiltonian simulation workflow. For example, the value of the objective function during the iterative component of AQC, or the two-qubit depth of the final ISA circuit intended for execution on hardware."
   ]
  },
  {
   "cell_type": "code",
   "execution_count": null,
   "metadata": {
    "editable": true,
    "slideshow": {
     "slide_type": ""
    },
    "tags": []
   },
   "outputs": [],
   "source": [
    "job.logs()"
   ]
  },
  {
   "cell_type": "markdown",
   "metadata": {
    "editable": true,
    "slideshow": {
     "slide_type": ""
    },
    "tags": []
   },
   "source": [
    "Block until a result is available. And once the job is done, we can retrieve the results. These include the domain-level output of Hamiltonian simulation (expectation value) and useful metadata."
   ]
  },
  {
   "cell_type": "code",
   "execution_count": null,
   "metadata": {
    "editable": true,
    "slideshow": {
     "slide_type": ""
    },
    "tags": []
   },
   "outputs": [],
   "source": [
    "job.result()"
   ]
  },
  {
   "cell_type": "markdown",
   "metadata": {
    "editable": true,
    "slideshow": {
     "slide_type": ""
    },
    "tags": []
   },
   "source": [
    "## Next steps\n",
    "\n",
    "<Admonition type=\"info\" title=\"Recommendations\">\n",
    "\n",
    "- See an [example of this function template](https://qiskit.github.io/qiskit-addon-aqc-tensor/) in action on a large-scale Hamiltonian simulation problem. \n",
    "{/* - For a deeper dive into the AQC-Tensor Qiskit addon, check out the tutorial on the Learning Platform (add-link-when-live). */}\n",
    "\n",
    "</Admonition>"
   ]
  },
  {
   "cell_type": "code",
   "execution_count": null,
   "metadata": {
    "editable": true,
    "slideshow": {
     "slide_type": ""
    },
    "tags": [
     "remove-cell"
    ]
   },
   "outputs": [],
   "source": [
    "# This cell is hidden from users, it just deletes the working folder we created\n",
    "import shutil\n",
    "\n",
    "shutil.rmtree(\"./source_files/\")"
   ]
  }
 ],
 "metadata": {
  "description": "How to create a parallel transpilation program and deploy it to IBM Quantum Platform to use as a reusable remote service.",
  "kernelspec": {
   "display_name": "Python 3 (ipykernel)",
   "language": "python",
   "name": "python3"
  },
  "language_info": {
   "codemirror_mode": {
    "name": "ipython",
    "version": 3
   },
   "file_extension": ".py",
   "mimetype": "text/x-python",
   "name": "python",
   "nbconvert_exporter": "python",
   "pygments_lexer": "ipython3",
   "version": "3.11.10"
  },
  "title": "Write your first Qiskit Serverless program"
 },
 "nbformat": 4,
 "nbformat_minor": 4
}
