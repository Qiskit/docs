{
 "cells": [
  {
   "cell_type": "markdown",
   "id": "6ec2a7ce-6d72-401c-aecd-59f2f519153a",
   "metadata": {},
   "source": [
    "# Run your first Qiskit Serverless workload remotely"
   ]
  },
  {
   "cell_type": "markdown",
   "id": "1ffb4bbc-6702-4424-bc38-226eb3194a07",
   "metadata": {
    "tags": [
     "version-info"
    ]
   },
   "source": [
    "<details>\n",
    "<summary>Package versions</summary>\n",
    "\n",
    "The code on this page was developed using the following requirements.\n",
    "We recommend using these versions or newer.\n",
    "\n",
    "```\n",
    "qiskit[all]~=1.2.4\n",
    "qiskit-aer~=0.15.1\n",
    "qiskit-ibm-runtime~=0.31.0\n",
    "qiskit-serverless~=0.17.1\n",
    "qiskit-ibm-catalog~=0.1\n",
    "```\n",
    "</details>"
   ]
  },
  {
   "cell_type": "markdown",
   "id": "33bc7389-22b7-4ddd-ae7d-1c4fd603d793",
   "metadata": {},
   "source": [
    "This section explores how to use `qiskit-ibm-catalog` to list programs available in Qiskit Serverless, pass inputs into these programs, run them remotely, check their status, and retrieve results and logs.\n",
    "\n",
    "Be sure you have authenticated to Qiskit Serverless with your [IBM Quantum account](https://quantum.ibm.com/account) (see [Deploy to IBM Quantum Platform](./serverless-first-program#deploy-to-ibm-quantum-platform) for instructions)."
   ]
  },
  {
   "cell_type": "markdown",
   "id": "ec693d85-baaf-487e-aaff-3867512a4790",
   "metadata": {},
   "source": [
    "## List programs available\n",
    "\n",
    "You can use `QiskitServerless.list()` to print out a list of the available programs to run with Qiskit Serverless. This includes the previously uploaded [`transpile_remote_serverless`](./serverless-first-program)."
   ]
  },
  {
   "cell_type": "code",
   "execution_count": 1,
   "id": "4eaad0dc-9b42-48fa-ad08-4e0f9c4d90bc",
   "metadata": {},
   "outputs": [
    {
     "data": {
      "text/plain": [
       "[QiskitFunction(transpile_remote_serverless_test_7b71d607),\n",
       " QiskitFunction(transpile_remote_serverless_test_6169e40a),\n",
       " QiskitFunction(transpile_remote_serverless_test_3e28580a),\n",
       " QiskitFunction(transpile_remote_serverless_test_7e16ef16),\n",
       " QiskitFunction(transpile_remote_serverless_test_47c755bf),\n",
       " QiskitFunction(transpile_remote_serverless_test_579ed35c-3f56-484c-8a64-58dc953ed845),\n",
       " QiskitFunction(transpile_remote_serverless_test_47c79b69),\n",
       " QiskitFunction(transpile_remote_serverless_test_53c0786c),\n",
       " QiskitFunction(transpile_remote_serverless_test_094ae798-88f7-46ab-8997-5a0bf503d908),\n",
       " QiskitFunction(transpile_remote_serverless_test_35fb8da4-0fa3-4596-85c4-3a13d67f8c6a),\n",
       " QiskitFunction(transpile_remote_serverless_test_426d1904),\n",
       " QiskitFunction(transpile_remote_serverless_test_ebd79361),\n",
       " QiskitFunction(transpile_remote_serverless),\n",
       " QiskitFunction(transpile_remote_serverless_test_a966c167),\n",
       " QiskitFunction(transpile_remote_serverless_test_d19e6f7e-3de0-4dde-b978-bdd03fba9845),\n",
       " QiskitFunction(transpile_remote_serverless_test_b4d7a503),\n",
       " QiskitFunction(transpile_remote_serverless_test_ceb9a116),\n",
       " QiskitFunction(transpile_remote_serverless_test_355478eb),\n",
       " QiskitFunction(transpile_remote_serverless_test),\n",
       " QiskitFunction(transpile_remote_serverless_test_8e84c5f0-962d-4cd0-bca8-ebe1e227552f),\n",
       " QiskitFunction(transpile_remote_serverless_test_4532e330),\n",
       " QiskitFunction(transpile_remote_serverless_test_7659964c),\n",
       " QiskitFunction(transpile_remote_serverless_test_5d216ee7),\n",
       " QiskitFunction(transpile_remote_serverless_test_d0757405),\n",
       " QiskitFunction(transpile_remote_serverless_test_0f048273),\n",
       " QiskitFunction(transpile_remote_serverless_test_6a68a773),\n",
       " QiskitFunction(transpile_remote_serverless_test_f9b5609f),\n",
       " QiskitFunction(transpile_remote_serverless_test_701468af-437d-4737-8a00-843f0431a09c),\n",
       " QiskitFunction(transpile_remote_serverless_test_e81ddca0),\n",
       " QiskitFunction(transpile_remote_serverless_test_c1de9270),\n",
       " QiskitFunction(transpile_remote_serverless_test_3826f696),\n",
       " QiskitFunction(transpile_remote_serverless_test_2da7da19),\n",
       " QiskitFunction(transpile_remote_serverless_test_74c54154),\n",
       " QiskitFunction(transpile_remote_serverless_test_e51063a5),\n",
       " QiskitFunction(transpile_remote_serverless_test_69c1b2c6),\n",
       " QiskitFunction(transpile_remote_serverless_test_abb21121),\n",
       " QiskitFunction(transpile_remote_serverless_test_0990ad64),\n",
       " QiskitFunction(transpile_remote_serverless_test_65db9226),\n",
       " QiskitFunction(transpile_remote_serverless_test_f7057422),\n",
       " QiskitFunction(transpile_remote_serverless_test_9fad0bc6)]"
      ]
     },
     "execution_count": 1,
     "metadata": {},
     "output_type": "execute_result"
    }
   ],
   "source": [
    "from qiskit_ibm_catalog import QiskitServerless\n",
    "\n",
    "serverless = QiskitServerless()\n",
    "serverless.list()"
   ]
  },
  {
   "cell_type": "markdown",
   "id": "e1a5d0f7-e4d9-4289-ac87-ca25e76f968d",
   "metadata": {},
   "source": [
    "## Run an uploaded program and pass inputs\n",
    "\n",
    "First, set up your inputs. Your program has three inputs: `circuits`, `backend`, and `optimization_level`. You can use `random_circuit` to create 30 random circuits:"
   ]
  },
  {
   "cell_type": "code",
   "execution_count": 2,
   "id": "46108a95-11f8-4ecf-83bb-131c3e7ea4c2",
   "metadata": {},
   "outputs": [
    {
     "data": {
      "image/svg+xml": [
       "<?xml version=\"1.0\" encoding=\"UTF-8\"?><!DOCTYPE svg  PUBLIC '-//W3C//DTD SVG 1.1//EN'  'http://www.w3.org/Graphics/SVG/1.1/DTD/svg11.dtd'><svg width=\"544.62pt\" height=\"264.71pt\" version=\"1.1\" viewBox=\"0 0 544.62 264.71\" xmlns=\"http://www.w3.org/2000/svg\" xmlns:xlink=\"http://www.w3.org/1999/xlink\"><defs><style type=\"text/css\">*{stroke-linejoin: round; stroke-linecap: butt}</style></defs><path d=\"m0 264.71h544.62v-264.71h-544.62z\" fill=\"#ffffff\"/><path d=\"m64.609 44.283h468.18\" clip-path=\"url(#09b99c31b18)\" fill=\"none\" stroke=\"#000000\" stroke-linecap=\"square\" stroke-width=\"2\"/><path d=\"m64.609 90.637h468.18\" clip-path=\"url(#09b99c31b18)\" fill=\"none\" stroke=\"#000000\" stroke-linecap=\"square\" stroke-width=\"2\"/><path d=\"m64.609 136.99h468.18\" clip-path=\"url(#09b99c31b18)\" fill=\"none\" stroke=\"#000000\" stroke-linecap=\"square\" stroke-width=\"2\"/><path d=\"m64.609 183.35h468.18\" clip-path=\"url(#09b99c31b18)\" fill=\"none\" stroke=\"#000000\" stroke-linecap=\"square\" stroke-width=\"2\"/><path d=\"m73.88 234.33 4.6354-9.2708\" clip-path=\"url(#09b99c31b18)\" fill=\"none\" stroke=\"#778899\" stroke-linecap=\"square\"/><path d=\"m64.609 228.19h468.18\" clip-path=\"url(#09b99c31b18)\" fill=\"none\" stroke=\"#778899\" stroke-linecap=\"square\" stroke-width=\"2\"/><path d=\"m64.609 231.21h468.18\" clip-path=\"url(#09b99c31b18)\" fill=\"none\" stroke=\"#778899\" stroke-linecap=\"square\" stroke-width=\"2\"/><path d=\"m361.74 219.15h12.052l-6.026 8.6914z\" clip-path=\"url(#09b99c31b18)\" fill=\"#778899\"/><path d=\"m408.09 219.15h12.052l-6.026 8.6914z\" clip-path=\"url(#09b99c31b18)\" fill=\"#778899\"/><path d=\"m454.45 219.15h12.052l-6.026 8.6914z\" clip-path=\"url(#09b99c31b18)\" fill=\"#778899\"/><path d=\"m500.8 219.15h12.052l-6.026 8.6914z\" clip-path=\"url(#09b99c31b18)\" fill=\"#778899\"/><path d=\"m59.974 21.106h-1158.8v278.12h1158.8z\" clip-path=\"url(#09b99c31b18)\" fill=\"#ffffff\" stroke=\"#ffffff\" stroke-width=\"1.5\"/><path d=\"m182.35 44.283v46.354\" clip-path=\"url(#09b99c31b18)\" fill=\"none\" stroke=\"#002d9c\" stroke-linecap=\"square\" stroke-width=\"2\"/><path d=\"m228.7 183.35v-139.06\" clip-path=\"url(#09b99c31b18)\" fill=\"none\" stroke=\"#9f1853\" stroke-linecap=\"square\" stroke-width=\"2\"/><path d=\"m369.27 44.283v174.87\" clip-path=\"url(#09b99c31b18)\" fill=\"none\" stroke=\"#778899\" stroke-linecap=\"square\" stroke-width=\"2\"/><path d=\"m366.26 44.283v174.87\" clip-path=\"url(#09b99c31b18)\" fill=\"none\" stroke=\"#778899\" stroke-linecap=\"square\" stroke-width=\"2\"/><path d=\"m415.62 90.637v128.52\" clip-path=\"url(#09b99c31b18)\" fill=\"none\" stroke=\"#778899\" stroke-linecap=\"square\" stroke-width=\"2\"/><path d=\"m412.61 90.637v128.52\" clip-path=\"url(#09b99c31b18)\" fill=\"none\" stroke=\"#778899\" stroke-linecap=\"square\" stroke-width=\"2\"/><path d=\"m461.98 136.99v82.162\" clip-path=\"url(#09b99c31b18)\" fill=\"none\" stroke=\"#778899\" stroke-linecap=\"square\" stroke-width=\"2\"/><path d=\"m458.97 136.99v82.162\" clip-path=\"url(#09b99c31b18)\" fill=\"none\" stroke=\"#778899\" stroke-linecap=\"square\" stroke-width=\"2\"/><path d=\"m508.33 183.35v35.808\" clip-path=\"url(#09b99c31b18)\" fill=\"none\" stroke=\"#778899\" stroke-linecap=\"square\" stroke-width=\"2\"/><path d=\"m505.32 183.35v35.808\" clip-path=\"url(#09b99c31b18)\" fill=\"none\" stroke=\"#778899\" stroke-linecap=\"square\" stroke-width=\"2\"/><path d=\"m176.32 50.309 12.052-12.052\" clip-path=\"url(#09b99c31b18)\" fill=\"none\" stroke=\"#002d9c\" stroke-linecap=\"square\" stroke-width=\"2\"/><path d=\"m176.32 38.257 12.052 12.052\" clip-path=\"url(#09b99c31b18)\" fill=\"none\" stroke=\"#002d9c\" stroke-linecap=\"square\" stroke-width=\"2\"/><path d=\"m176.32 96.663 12.052-12.052\" clip-path=\"url(#09b99c31b18)\" fill=\"none\" stroke=\"#002d9c\" stroke-linecap=\"square\" stroke-width=\"2\"/><path d=\"m176.32 84.611 12.052 12.052\" clip-path=\"url(#09b99c31b18)\" fill=\"none\" stroke=\"#002d9c\" stroke-linecap=\"square\" stroke-width=\"2\"/><path d=\"m87.573 198.41h50.489v-169.19h-50.489z\" clip-path=\"url(#09b99c31b18)\" fill=\"#9f1853\" stroke=\"#9f1853\" stroke-width=\"1.5\"/><path d=\"m167.28 198.41h30.13v-30.13h-30.13z\" clip-path=\"url(#09b99c31b18)\" fill=\"#fa4d56\" stroke=\"#fa4d56\" stroke-width=\"1.5\"/><path d=\"m228.7 95.157c1.1986 0 2.3482-0.4762 3.1958-1.3237 0.84753-0.84753 1.3237-1.9972 1.3237-3.1958s-0.4762-2.3482-1.3237-3.1958c-0.84753-0.84753-1.9972-1.3237-3.1958-1.3237-1.1986 0-2.3482 0.4762-3.1958 1.3237-0.84753 0.84753-1.3237 1.9972-1.3237 3.1958s0.4762 2.3482 1.3237 3.1958c0.84753 0.84753 1.9972 1.3237 3.1958 1.3237z\" clip-path=\"url(#09b99c31b18)\" fill=\"#9f1853\" stroke=\"#9f1853\" stroke-width=\"1.5\"/><path d=\"m228.7 141.51c1.1986 0 2.3482-0.4762 3.1958-1.3237s1.3237-1.9972 1.3237-3.1958c0-1.1986-0.4762-2.3482-1.3237-3.1958-0.84753-0.84753-1.9972-1.3237-3.1958-1.3237-1.1986 0-2.3482 0.4762-3.1958 1.3237-0.84753 0.84753-1.3237 1.9972-1.3237 3.1958 0 1.1986 0.4762 2.3482 1.3237 3.1958 0.84753 0.84753 1.9972 1.3237 3.1958 1.3237z\" clip-path=\"url(#09b99c31b18)\" fill=\"#9f1853\" stroke=\"#9f1853\" stroke-width=\"1.5\"/><path d=\"m228.7 48.803c1.1986 0 2.3482-0.4762 3.1958-1.3237s1.3237-1.9972 1.3237-3.1958c0-1.1986-0.4762-2.3482-1.3237-3.1958s-1.9972-1.3237-3.1958-1.3237c-1.1986 0-2.3482 0.4762-3.1958 1.3237-0.84753 0.84753-1.3237 1.9972-1.3237 3.1958 0 1.1986 0.4762 2.3482 1.3237 3.1958 0.84753 0.84753 1.9972 1.3237 3.1958 1.3237z\" clip-path=\"url(#09b99c31b18)\" fill=\"#9f1853\" stroke=\"#9f1853\" stroke-width=\"1.5\"/><path d=\"m213.64 198.41h30.13v-30.13h-30.13z\" clip-path=\"url(#09b99c31b18)\" fill=\"#9f1853\" stroke=\"#9f1853\" stroke-width=\"1.5\"/><path d=\"m272.99 198.41h50.489v-169.19h-50.489z\" clip-path=\"url(#09b99c31b18)\" fill=\"#9f1853\" stroke=\"#9f1853\" stroke-width=\"1.5\"/><path d=\"m352.7 59.348h30.13v-30.13h-30.13z\" clip-path=\"url(#09b99c31b18)\" fill=\"#a8a8a8\" stroke=\"#a8a8a8\" stroke-width=\"1.5\"/><path d=\"m378.31 48.803c0-2.7958-1.1118-5.4799-3.0887-7.4568s-4.661-3.0887-7.4568-3.0887c-2.7958 0-5.4799 1.1118-7.4568 3.0887s-3.0887 4.661-3.0887 7.4568\" clip-path=\"url(#09b99c31b18)\" fill=\"none\" stroke=\"#000000\" stroke-width=\"2\"/><path d=\"m367.76 48.803 10.546-10.546\" clip-path=\"url(#09b99c31b18)\" fill=\"none\" stroke=\"#000000\" stroke-linecap=\"square\" stroke-width=\"2\"/><path d=\"m399.05 105.7h30.13v-30.13h-30.13z\" clip-path=\"url(#09b99c31b18)\" fill=\"#a8a8a8\" stroke=\"#a8a8a8\" stroke-width=\"1.5\"/><path d=\"m424.66 95.157c0-2.7958-1.1118-5.4799-3.0887-7.4568s-4.661-3.0887-7.4568-3.0887-5.4799 1.1118-7.4568 3.0887-3.0887 4.661-3.0887 7.4568\" clip-path=\"url(#09b99c31b18)\" fill=\"none\" stroke=\"#000000\" stroke-width=\"2\"/><path d=\"m414.12 95.157 10.546-10.546\" clip-path=\"url(#09b99c31b18)\" fill=\"none\" stroke=\"#000000\" stroke-linecap=\"square\" stroke-width=\"2\"/><path d=\"m445.41 152.06h30.13v-30.13h-30.13z\" clip-path=\"url(#09b99c31b18)\" fill=\"#a8a8a8\" stroke=\"#a8a8a8\" stroke-width=\"1.5\"/><path d=\"m471.02 141.51c0-2.7958-1.1118-5.4799-3.0887-7.4568s-4.661-3.0887-7.4568-3.0887-5.4799 1.1118-7.4568 3.0887-3.0887 4.661-3.0887 7.4568\" clip-path=\"url(#09b99c31b18)\" fill=\"none\" stroke=\"#000000\" stroke-width=\"2\"/><path d=\"m460.47 141.51 10.546-10.546\" clip-path=\"url(#09b99c31b18)\" fill=\"none\" stroke=\"#000000\" stroke-linecap=\"square\" stroke-width=\"2\"/><path d=\"m491.76 198.41h30.13v-30.13h-30.13z\" clip-path=\"url(#09b99c31b18)\" fill=\"#a8a8a8\" stroke=\"#a8a8a8\" stroke-width=\"1.5\"/><path d=\"m517.37 187.86c0-2.7958-1.1118-5.4799-3.0887-7.4568s-4.661-3.0887-7.4568-3.0887-5.4799 1.1118-7.4568 3.0887-3.0887 4.661-3.0887 7.4568\" clip-path=\"url(#09b99c31b18)\" fill=\"none\" stroke=\"#000000\" stroke-width=\"2\"/><path d=\"m506.83 187.86 10.546-10.546\" clip-path=\"url(#09b99c31b18)\" fill=\"none\" stroke=\"#000000\" stroke-linecap=\"square\" stroke-width=\"2\"/><g clip-path=\"url(#09b99c31b18)\"><g transform=\"translate(37.301 48.734) scale(.1625 -.1625)\"><defs><path id=\"DejaVuSans-Oblique-71\" transform=\"scale(.015625)\" d=\"m2669 525q-231-303-546-460-314-156-695-156-531 0-833 358-301 358-301 986 0 506 186 978t533 847q225 244 517 375t614 131q387 0 637-153t363-462l100 525h578l-934-4813h-579l360 1844zm-1778 813q0-463 193-705 194-242 560-242 544 0 928 520t384 1264q0 450-199 689-198 239-569 239-272 0-504-127-231-126-403-370-181-256-286-600-104-343-104-668z\"/><path id=\"DejaVuSans-30\" transform=\"scale(.015625)\" d=\"m2034 4250q-487 0-733-480-245-479-245-1442 0-959 245-1439 246-480 733-480 491 0 736 480 246 480 246 1439 0 963-246 1442-245 480-736 480zm0 500q785 0 1199-621 414-620 414-1801 0-1178-414-1799-414-620-1199-620-784 0-1198 620-414 621-414 1799 0 1181 414 1801 414 621 1198 621z\"/></defs><use xlink:href=\"#DejaVuSans-Oblique-71\"/><use transform=\"translate(63.477 -16.406) scale(.7)\" xlink:href=\"#DejaVuSans-30\"/></g></g><g clip-path=\"url(#09b99c31b18)\"><g transform=\"translate(37.301 95.088) scale(.1625 -.1625)\"><defs><path id=\"DejaVuSans-31\" transform=\"scale(.015625)\" d=\"m794 531h1031v3560l-1122-225v575l1116 225h631v-4135h1031v-531h-2687v531z\"/></defs><use xlink:href=\"#DejaVuSans-Oblique-71\"/><use transform=\"translate(63.477 -16.406) scale(.7)\" xlink:href=\"#DejaVuSans-31\"/></g></g><g clip-path=\"url(#09b99c31b18)\"><g transform=\"translate(37.301 141.44) scale(.1625 -.1625)\"><defs><path id=\"DejaVuSans-32\" transform=\"scale(.015625)\" d=\"m1228 531h2203v-531h-2962v531q359 372 979 998 621 627 780 809 303 340 423 576 121 236 121 464 0 372-261 606-261 235-680 235-297 0-627-103-329-103-704-313v638q381 153 712 231 332 78 607 78 725 0 1156-363 431-362 431-968 0-288-108-546-107-257-392-607-78-91-497-524-418-433-1181-1211z\"/></defs><use xlink:href=\"#DejaVuSans-Oblique-71\"/><use transform=\"translate(63.477 -16.406) scale(.7)\" xlink:href=\"#DejaVuSans-32\"/></g></g><g clip-path=\"url(#09b99c31b18)\"><g transform=\"translate(37.301 187.8) scale(.1625 -.1625)\"><defs><path id=\"DejaVuSans-33\" transform=\"scale(.015625)\" d=\"m2597 2516q453-97 707-404 255-306 255-756 0-690-475-1069-475-378-1350-378-293 0-604 58t-642 174v609q262-153 574-231 313-78 654-78 593 0 904 234t311 681q0 413-289 645-289 233-804 233h-544v519h569q465 0 712 186t247 536q0 359-255 551-254 193-729 193-260 0-557-57-297-56-653-174v562q360 100 674 150t592 50q719 0 1137-327 419-326 419-882 0-388-222-655t-631-370z\"/></defs><use xlink:href=\"#DejaVuSans-Oblique-71\"/><use transform=\"translate(63.477 -16.406) scale(.7)\" xlink:href=\"#DejaVuSans-33\"/></g></g><g clip-path=\"url(#09b99c31b18)\"><g transform=\"translate(69.245 222.9) scale(.104 -.104)\"><defs><path id=\"DejaVuSans-34\" transform=\"scale(.015625)\" d=\"m2419 4116-1594-2491h1594v2491zm-166 550h794v-3041h666v-525h-666v-1100h-628v1100h-2106v609l1940 2957z\"/></defs><use xlink:href=\"#DejaVuSans-34\"/></g></g><g clip-path=\"url(#09b99c31b18)\"><g transform=\"translate(46.403 234.18) scale(.1625 -.1625)\"><defs><path id=\"DejaVuSans-63\" transform=\"scale(.015625)\" d=\"m3122 3366v-538q-244 135-489 202t-495 67q-560 0-870-355-309-354-309-995t309-996q310-354 870-354 250 0 495 67t489 202v-532q-241-112-499-168-257-57-548-57-791 0-1257 497-465 497-465 1341 0 856 470 1346 471 491 1290 491 265 0 518-55 253-54 491-163z\"/></defs><use xlink:href=\"#DejaVuSans-63\"/></g></g><g clip-path=\"url(#09b99c31b18)\"><g transform=\"translate(90.818 186.93) scale(.13 -.13)\" fill=\"#ffffff\"><use xlink:href=\"#DejaVuSans-30\"/></g></g><g clip-path=\"url(#09b99c31b18)\"><g transform=\"translate(90.818 140.58) scale(.13 -.13)\" fill=\"#ffffff\"><use xlink:href=\"#DejaVuSans-31\"/></g></g><g clip-path=\"url(#09b99c31b18)\"><g transform=\"translate(90.818 47.87) scale(.13 -.13)\" fill=\"#ffffff\"><use xlink:href=\"#DejaVuSans-32\"/></g></g><g clip-path=\"url(#09b99c31b18)\"><g transform=\"translate(90.818 94.224) scale(.13 -.13)\" fill=\"#ffffff\"><use xlink:href=\"#DejaVuSans-33\"/></g></g><g clip-path=\"url(#09b99c31b18)\"><g transform=\"translate(98.831 117.4) scale(.13 -.13)\" fill=\"#ffffff\"><defs><path id=\"DejaVuSans-52\" transform=\"scale(.015625)\" d=\"m2841 2188q203-69 395-294t386-619l641-1275h-679l-596 1197q-232 469-449 622t-592 153h-688v-1972h-631v4666h1425q800 0 1194-335 394-334 394-1009 0-441-205-732-205-290-595-402zm-1582 1959v-1656h794q456 0 689 211t233 620-233 617-689 208h-794z\"/><path id=\"DejaVuSans-78\" transform=\"scale(.015625)\" d=\"m3513 3500-1266-1703 1331-1797h-678l-1019 1375-1018-1375h-679l1360 1831-1244 1669h678l928-1247 928 1247h679z\"/></defs><use xlink:href=\"#DejaVuSans-52\"/><use x=\"69.482422\" xlink:href=\"#DejaVuSans-63\"/><use x=\"124.462891\" xlink:href=\"#DejaVuSans-63\"/><use x=\"179.443359\" xlink:href=\"#DejaVuSans-63\"/><use x=\"234.423828\" xlink:href=\"#DejaVuSans-78\"/></g></g><g clip-path=\"url(#09b99c31b18)\"><g transform=\"translate(177.46 186.93) scale(.13 -.13)\"><defs><path id=\"DejaVuSans-48\" transform=\"scale(.015625)\" d=\"m628 4666h631v-1913h2294v1913h631v-4666h-631v2222h-2294v-2222h-631v4666z\"/></defs><use xlink:href=\"#DejaVuSans-48\"/></g></g><g clip-path=\"url(#09b99c31b18)\"><g transform=\"translate(218.69 187.79) scale(.13 -.13)\" fill=\"#ffffff\"><defs><path id=\"STIXSizeOneSym-Regular-221a\" transform=\"scale(.015625)\" d=\"m6970 9933-3597-11821h-269l-1478 4806q-71 231-161 333-89 103-236 103-218 0-435-173l-77 128 1049 806h160l1453-4717h26l3200 10535h365z\"/><path id=\"DejaVuSans-58\" transform=\"scale(.015625)\" d=\"m403 4666h678l1160-1735 1165 1735h678l-1500-2241 1600-2425h-678l-1312 1984-1322-1984h-681l1665 2491-1453 2175z\"/></defs><use transform=\"translate(0 17.094) scale(.56391)\" xlink:href=\"#STIXSizeOneSym-Regular-221a\"/><use transform=\"translate(72.088 .84375)\" xlink:href=\"#DejaVuSans-58\"/><path d=\"m59.588 97.5v6.25h93.506v-6.25h-93.506z\"/></g></g><g clip-path=\"url(#09b99c31b18)\"><g transform=\"translate(276.23 186.93) scale(.13 -.13)\" fill=\"#ffffff\"><use xlink:href=\"#DejaVuSans-30\"/></g></g><g clip-path=\"url(#09b99c31b18)\"><g transform=\"translate(276.23 47.87) scale(.13 -.13)\" fill=\"#ffffff\"><use xlink:href=\"#DejaVuSans-31\"/></g></g><g clip-path=\"url(#09b99c31b18)\"><g transform=\"translate(276.23 140.58) scale(.13 -.13)\" fill=\"#ffffff\"><use xlink:href=\"#DejaVuSans-32\"/></g></g><g clip-path=\"url(#09b99c31b18)\"><g transform=\"translate(276.23 94.224) scale(.13 -.13)\" fill=\"#ffffff\"><use xlink:href=\"#DejaVuSans-33\"/></g></g><g clip-path=\"url(#09b99c31b18)\"><g transform=\"translate(284.25 117.4) scale(.13 -.13)\" fill=\"#ffffff\"><use xlink:href=\"#DejaVuSans-52\"/><use x=\"69.482422\" xlink:href=\"#DejaVuSans-63\"/><use x=\"124.462891\" xlink:href=\"#DejaVuSans-63\"/><use x=\"179.443359\" xlink:href=\"#DejaVuSans-63\"/><use x=\"234.423828\" xlink:href=\"#DejaVuSans-78\"/></g></g><g clip-path=\"url(#09b99c31b18)\"><g transform=\"translate(379.35 222.9) scale(.104 -.104)\"><use xlink:href=\"#DejaVuSans-30\"/></g></g><g clip-path=\"url(#09b99c31b18)\"><g transform=\"translate(425.71 222.9) scale(.104 -.104)\"><use xlink:href=\"#DejaVuSans-31\"/></g></g><g clip-path=\"url(#09b99c31b18)\"><g transform=\"translate(472.06 222.9) scale(.104 -.104)\"><use xlink:href=\"#DejaVuSans-32\"/></g></g><g clip-path=\"url(#09b99c31b18)\"><g transform=\"translate(518.41 222.9) scale(.104 -.104)\"><use xlink:href=\"#DejaVuSans-33\"/></g></g><defs><clipPath id=\"09b99c31b18\"><rect x=\"7.2\" y=\"7.2\" width=\"530.22\" height=\"250.31\"/></clipPath></defs></svg>"
      ],
      "text/plain": [
       "<Figure size 956.385x451.5 with 1 Axes>"
      ]
     },
     "execution_count": 2,
     "metadata": {},
     "output_type": "execute_result"
    }
   ],
   "source": [
    "from qiskit.circuit.random import random_circuit\n",
    "\n",
    "qc_random = [(random_circuit(4, 4, measure=True)) for _ in range(30)]\n",
    "qc_random[0].draw(output='mpl', idle_wires=False)"
   ]
  },
  {
   "cell_type": "markdown",
   "id": "61c17ded-b832-4db1-ba9a-60772362daea",
   "metadata": {},
   "source": [
    "Next, use `QiskitRuntimeService` and `least_busy` to select a `backend`:"
   ]
  },
  {
   "cell_type": "code",
   "execution_count": 3,
   "id": "ebefb5ac-c8a8-4350-b16f-0677f0e412e5",
   "metadata": {},
   "outputs": [
    {
     "name": "stdout",
     "output_type": "stream",
     "text": [
      "ibm_brisbane\n"
     ]
    }
   ],
   "source": [
    "from qiskit_ibm_runtime import QiskitRuntimeService\n",
    "\n",
    "service = QiskitRuntimeService()\n",
    "backend = service.least_busy(operational=True, simulator=False)\n",
    "print(backend.name)"
   ]
  },
  {
   "cell_type": "markdown",
   "id": "6a6ba35b-b98b-41b1-8dd4-c7cf2fc8b637",
   "metadata": {},
   "source": [
    "Set your optimization level:"
   ]
  },
  {
   "cell_type": "code",
   "execution_count": 4,
   "id": "cab2773b-f72a-49fe-a274-169a10e89c5e",
   "metadata": {},
   "outputs": [],
   "source": [
    "optimization_level = 3"
   ]
  },
  {
   "cell_type": "markdown",
   "id": "f522b54f-93e5-45e9-9dc7-a2287eb4c707",
   "metadata": {},
   "source": [
    "Select your program with `serverless.load('PROGRAM_NAME')`:"
   ]
  },
  {
   "cell_type": "code",
   "execution_count": 5,
   "id": "e9b7e7c1-07b1-4777-bb08-1522433901c6",
   "metadata": {},
   "outputs": [],
   "source": [
    "transpile_remote_serverless = serverless.load('transpile_remote_serverless')"
   ]
  },
  {
   "cell_type": "markdown",
   "id": "8e256a2a-6b14-4194-8fee-df986c7ebc6c",
   "metadata": {},
   "source": [
    "Next, pass your inputs and run it in a pythonic fashion as follows:"
   ]
  },
  {
   "cell_type": "code",
   "execution_count": 6,
   "id": "85b1aace-e7d7-4e2e-bb77-44fb514d0236",
   "metadata": {},
   "outputs": [],
   "source": [
    "job = transpile_remote_serverless.run(\n",
    "    circuits=qc_random,\n",
    "    backend=backend.name,\n",
    "    optimization_level=optimization_level\n",
    ")"
   ]
  },
  {
   "cell_type": "code",
   "execution_count": 7,
   "id": "2e8b4ec2-b7e3-4218-8742-b67f2a1d82e0",
   "metadata": {},
   "outputs": [
    {
     "data": {
      "text/plain": [
       "'d50894a7-aa31-46a0-b852-0151f7ea2aec'"
      ]
     },
     "execution_count": 7,
     "metadata": {},
     "output_type": "execute_result"
    }
   ],
   "source": [
    "job.job_id"
   ]
  },
  {
   "cell_type": "markdown",
   "id": "87dbb375-cd24-4d0f-a2fc-c653db8345e3",
   "metadata": {},
   "source": [
    "## Check job status\n",
    "\n",
    "With your Qiskit Serverless `job_id`, you can check the status of running jobs. This includes the following statuses:\n",
    "\n",
    "- **`QUEUED`**: The remote program is in the Qiskit Serverless queue. The queue priority is currently based on how much you've used Qiskit Serverless\n",
    "- **`INITIALIZING`**: The remote program is starting; this includes setting up the remote environment and installing dependencies\n",
    "- **`RUNNING`**: The program is running. At this stage, if you have `print()` outputs in your program, you can retrieve logs using `job.logs()`\n",
    "- **`DONE`**: The program is complete, and you can retrieve data stored in `save_result()` with `job.results()`"
   ]
  },
  {
   "cell_type": "code",
   "execution_count": 8,
   "id": "f4877d45-c350-4855-b1ca-868a6ad8cfa4",
   "metadata": {},
   "outputs": [
    {
     "data": {
      "text/plain": [
       "'QUEUED'"
      ]
     },
     "execution_count": 8,
     "metadata": {},
     "output_type": "execute_result"
    }
   ],
   "source": [
    "job.status()"
   ]
  },
  {
   "cell_type": "markdown",
   "id": "3fa9c01e-18a4-482c-bad6-69dee5acece4",
   "metadata": {},
   "source": [
    "<Admonition type=\"tip\">\n",
    "Currently, the IBM Quantum workloads table only reflects Qiskit Runtime workloads. Use `job.status()` to see your Qiskit Serverless workload's current status.\n",
    "</Admonition>"
   ]
  },
  {
   "cell_type": "markdown",
   "id": "65566f2c-8d5b-4493-819b-4389155c3d69",
   "metadata": {},
   "source": [
    "## Retrieve logs and results\n",
    "\n",
    "As mentioned before, once a program is `RUNNING`, you can use `job.logs()` to fetch logs created from `print()` outputs:"
   ]
  },
  {
   "cell_type": "code",
   "execution_count": 9,
   "id": "cbf12a1b-bfff-4eb2-82f1-298de1e9c114",
   "metadata": {},
   "outputs": [
    {
     "name": "stdout",
     "output_type": "stream",
     "text": [
      "No logs yet.\n"
     ]
    }
   ],
   "source": [
    "logs = job.logs()\n",
    "print(logs)"
   ]
  },
  {
   "cell_type": "markdown",
   "id": "bff87452-bf98-4c7a-85c8-d280d89a7970",
   "metadata": {},
   "source": [
    "Once a program is `DONE`, you can use `job.results()` to fetch the result stored in `save_result()`:"
   ]
  },
  {
   "cell_type": "code",
   "execution_count": 10,
   "id": "bc4fbe20-456c-4ce4-bf26-dfdb8b68e89f",
   "metadata": {},
   "outputs": [
    {
     "name": "stdout",
     "output_type": "stream",
     "text": [
      "{}\n"
     ]
    }
   ],
   "source": [
    "result = job.result()\n",
    "print(result)"
   ]
  },
  {
   "cell_type": "markdown",
   "id": "925a8d81-e85b-4e26-a9e1-3a01e8e0785b",
   "metadata": {},
   "source": [
    "At any time, you can also cancel a job:"
   ]
  },
  {
   "cell_type": "code",
   "execution_count": 11,
   "id": "c0d999d9-af9e-4312-b5bb-f60f714257ba",
   "metadata": {},
   "outputs": [
    {
     "data": {
      "text/plain": [
       "'Job has been stopped.'"
      ]
     },
     "execution_count": 11,
     "metadata": {},
     "output_type": "execute_result"
    }
   ],
   "source": [
    "job.stop()"
   ]
  },
  {
   "cell_type": "markdown",
   "id": "ca9791df-60c2-49d8-8541-741078ea63c6",
   "metadata": {},
   "source": [
    "## List previously run jobs run with Qiskit Serverless\n",
    "\n",
    "You can use `jobs()` to list all jobs submitted to Qiskit Serverless:"
   ]
  },
  {
   "cell_type": "code",
   "execution_count": 12,
   "id": "ba9365c4-b07d-4dc6-9594-edc07c44bc63",
   "metadata": {},
   "outputs": [
    {
     "data": {
      "text/plain": [
       "[<Job | d50894a7-aa31-46a0-b852-0151f7ea2aec>,\n",
       " <Job | 562b8b51-a524-45b2-b40c-b43b6f92d904>,\n",
       " <Job | ca6f6a77-218f-451f-a604-bd654e648e80>,\n",
       " <Job | c5878089-a60c-4992-b89e-e24c9ba41cbc>,\n",
       " <Job | dc04398c-11e6-4920-8c22-cc6014923cb4>,\n",
       " <Job | db82e9a2-bcc2-416f-af4a-87fe7ae414cd>,\n",
       " <Job | 7949ba96-2884-408d-9873-7ad715256746>,\n",
       " <Job | 831f7d04-3a26-43aa-86bf-2437a3113f27>,\n",
       " <Job | 38d496d4-8985-4d35-ad29-e05a4d268702>,\n",
       " <Job | a256c173-3395-4941-a66f-1bd34f5f9c7b>]"
      ]
     },
     "execution_count": 12,
     "metadata": {},
     "output_type": "execute_result"
    }
   ],
   "source": [
    "old_jobs = serverless.jobs()\n",
    "old_jobs"
   ]
  },
  {
   "cell_type": "markdown",
   "id": "fd3415a0-0e55-4991-8764-c9fe66eb2664",
   "metadata": {},
   "source": [
    "You've successfully run your first Qiskit Serverless program!"
   ]
  },
  {
   "cell_type": "markdown",
   "id": "5db59260-8e39-434b-a60d-3d620b9e6995",
   "metadata": {},
   "source": [
    "## Next steps\n",
    "\n",
    "<Admonition type=\"info\" title=\"Recommendations\">\n",
    "\n",
    "- Explore [compute and data management tools](./serverless-manage-resources) available to your program, including parallelization.\n",
    "\n",
    "</Admonition>"
   ]
  }
 ],
 "metadata": {
  "description": "How to list programs available in Serverless, pass inputs into these programs, run them remotely, check status, and retrieve results and logs.",
  "kernelspec": {
   "display_name": "Python 3",
   "language": "python",
   "name": "python3"
  },
  "language_info": {
   "codemirror_mode": {
    "name": "ipython",
    "version": 3
   },
   "file_extension": ".py",
   "mimetype": "text/x-python",
   "name": "python",
   "nbconvert_exporter": "python",
   "pygments_lexer": "ipython3",
   "version": "3"
  },
  "title": "Run your first Qiskit Serverless workload remotely"
 },
 "nbformat": 4,
 "nbformat_minor": 2
}
