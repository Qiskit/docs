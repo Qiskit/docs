{
 "cells": [
  {
   "cell_type": "markdown",
   "id": "6ec2a7ce-6d72-401c-aecd-59f2f519153a",
   "metadata": {},
   "source": [
    "# Run your first Serverless workload remotely\n",
    "\n",
    "This section explores how to list programs available in Serverless, pass inputs into these programs, run them remotely, check their status, and retrieve results and logs.\n",
    "\n",
    "Be sure you have authenticated to Qiskit Serverless with your [IBM Quantum account](https://quantum.ibm.com/account) (see [Deploy to IBM Quantum Platform](./serverless-first-program#deploy-to-ibm-quantum-platform) for instructions)."
   ]
  },
  {
   "cell_type": "markdown",
   "id": "ec693d85-baaf-487e-aaff-3867512a4790",
   "metadata": {},
   "source": [
    "## List programs available\n",
    "\n",
    "You can use [`ServerlessClient.list()`](https://qiskit.github.io/qiskit-serverless/stubs/qiskit_serverless.core.ServerlessClient.html#qiskit_serverless.core.ServerlessClient) to print out a list of the available programs to run with Qiskit Serverless."
   ]
  },
  {
   "cell_type": "code",
   "id": "4eaad0dc-9b42-48fa-ad08-4e0f9c4d90bc",
   "execution_count": 1,
   "metadata": {},
   "outputs": [
    {
     "data": {
      "text/plain": [
       "[QiskitFunction(transpile_remote_serverless)]"
      ]
     },
     "execution_count": 1,
     "metadata": {},
     "output_type": "execute_result"
    }
   ],
   "source": [
    "from qiskit_serverless import IBMServerlessClient\n",
    "serverless = IBMServerlessClient()\n",
    "serverless.list()"
   ]
  },
  {
   "cell_type": "markdown",
   "id": "e1a5d0f7-e4d9-4289-ac87-ca25e76f968d",
   "metadata": {},
   "source": [
    "## Run an uploaded program and pass inputs\n",
    "\n",
    "First, set up your inputs. Your program has three inputs: `circuits`, `backend`, and `optimization_level`. You can use `random_circuit` to create 30 random circuits:"
   ]
  },
  {
   "cell_type": "code",
   "execution_count": 4,
   "id": "46108a95-11f8-4ecf-83bb-131c3e7ea4c2",
   "metadata": {},
   "outputs": [
    {
     "data": {
      "image/svg+xml": [
       "<?xml version=\"1.0\" encoding=\"UTF-8\"?><!DOCTYPE svg  PUBLIC '-//W3C//DTD SVG 1.1//EN'  'http://www.w3.org/Graphics/SVG/1.1/DTD/svg11.dtd'><svg width=\"637.33pt\" height=\"264.71pt\" version=\"1.1\" viewBox=\"0 0 637.33 264.71\" xmlns=\"http://www.w3.org/2000/svg\" xmlns:xlink=\"http://www.w3.org/1999/xlink\"><defs><style type=\"text/css\">*{stroke-linejoin: round; stroke-linecap: butt}</style></defs><path d=\"m0 264.71h637.33v-264.71h-637.33z\" fill=\"#ffffff\"/><path d=\"m64.609 44.283h560.88\" clip-path=\"url(#a5d9558bc0d)\" fill=\"none\" stroke=\"#000000\" stroke-linecap=\"square\" stroke-width=\"2\"/><path d=\"m64.609 90.637h560.88\" clip-path=\"url(#a5d9558bc0d)\" fill=\"none\" stroke=\"#000000\" stroke-linecap=\"square\" stroke-width=\"2\"/><path d=\"m64.609 136.99h560.88\" clip-path=\"url(#a5d9558bc0d)\" fill=\"none\" stroke=\"#000000\" stroke-linecap=\"square\" stroke-width=\"2\"/><path d=\"m64.609 183.35h560.88\" clip-path=\"url(#a5d9558bc0d)\" fill=\"none\" stroke=\"#000000\" stroke-linecap=\"square\" stroke-width=\"2\"/><path d=\"m73.88 234.33 4.6354-9.2708\" clip-path=\"url(#a5d9558bc0d)\" fill=\"none\" stroke=\"#778899\" stroke-linecap=\"square\"/><path d=\"m64.609 228.19h560.88\" clip-path=\"url(#a5d9558bc0d)\" fill=\"none\" stroke=\"#778899\" stroke-linecap=\"square\" stroke-width=\"2\"/><path d=\"m64.609 231.21h560.88\" clip-path=\"url(#a5d9558bc0d)\" fill=\"none\" stroke=\"#778899\" stroke-linecap=\"square\" stroke-width=\"2\"/><path d=\"m454.45 219.15h12.052l-6.026 8.6914z\" clip-path=\"url(#a5d9558bc0d)\" fill=\"#778899\"/><path d=\"m500.8 219.15h12.052l-6.026 8.6914z\" clip-path=\"url(#a5d9558bc0d)\" fill=\"#778899\"/><path d=\"m547.15 219.15h12.052l-6.026 8.6914z\" clip-path=\"url(#a5d9558bc0d)\" fill=\"#778899\"/><path d=\"m593.51 219.15h12.052l-6.026 8.6914z\" clip-path=\"url(#a5d9558bc0d)\" fill=\"#778899\"/><path d=\"m59.974 21.106h-1158.8v278.12h1158.8z\" clip-path=\"url(#a5d9558bc0d)\" fill=\"#ffffff\" stroke=\"#ffffff\" stroke-width=\"1.5\"/><path d=\"m182.35 183.35v-92.708\" clip-path=\"url(#a5d9558bc0d)\" fill=\"none\" stroke=\"#9f1853\" stroke-linecap=\"square\" stroke-width=\"2\"/><path d=\"m461.98 44.283v174.87\" clip-path=\"url(#a5d9558bc0d)\" fill=\"none\" stroke=\"#778899\" stroke-linecap=\"square\" stroke-width=\"2\"/><path d=\"m458.97 44.283v174.87\" clip-path=\"url(#a5d9558bc0d)\" fill=\"none\" stroke=\"#778899\" stroke-linecap=\"square\" stroke-width=\"2\"/><path d=\"m508.33 90.637v128.52\" clip-path=\"url(#a5d9558bc0d)\" fill=\"none\" stroke=\"#778899\" stroke-linecap=\"square\" stroke-width=\"2\"/><path d=\"m505.32 90.637v128.52\" clip-path=\"url(#a5d9558bc0d)\" fill=\"none\" stroke=\"#778899\" stroke-linecap=\"square\" stroke-width=\"2\"/><path d=\"m554.69 136.99v82.162\" clip-path=\"url(#a5d9558bc0d)\" fill=\"none\" stroke=\"#778899\" stroke-linecap=\"square\" stroke-width=\"2\"/><path d=\"m551.67 136.99v82.162\" clip-path=\"url(#a5d9558bc0d)\" fill=\"none\" stroke=\"#778899\" stroke-linecap=\"square\" stroke-width=\"2\"/><path d=\"m601.04 183.35v35.808\" clip-path=\"url(#a5d9558bc0d)\" fill=\"none\" stroke=\"#778899\" stroke-linecap=\"square\" stroke-width=\"2\"/><path d=\"m598.03 183.35v35.808\" clip-path=\"url(#a5d9558bc0d)\" fill=\"none\" stroke=\"#778899\" stroke-linecap=\"square\" stroke-width=\"2\"/><path d=\"m87.573 198.41h50.489v-169.19h-50.489z\" clip-path=\"url(#a5d9558bc0d)\" fill=\"#9f1853\" stroke=\"#9f1853\" stroke-width=\"1.5\"/><path d=\"m182.35 95.157c1.1986 0 2.3482-0.4762 3.1958-1.3237 0.84753-0.84753 1.3237-1.9972 1.3237-3.1958s-0.4762-2.3482-1.3237-3.1958c-0.84753-0.84753-1.9972-1.3237-3.1958-1.3237s-2.3482 0.4762-3.1958 1.3237c-0.84753 0.84753-1.3237 1.9972-1.3237 3.1958s0.4762 2.3482 1.3237 3.1958c0.84753 0.84753 1.9972 1.3237 3.1958 1.3237z\" clip-path=\"url(#a5d9558bc0d)\" fill=\"#9f1853\" stroke=\"#9f1853\" stroke-width=\"1.5\"/><path d=\"m167.28 198.41h30.13v-30.13h-30.13z\" clip-path=\"url(#a5d9558bc0d)\" fill=\"#9f1853\" stroke=\"#9f1853\" stroke-width=\"1.5\"/><path d=\"m167.28 59.348h30.13v-30.13h-30.13z\" clip-path=\"url(#a5d9558bc0d)\" fill=\"#fa4d56\" stroke=\"#fa4d56\" stroke-width=\"1.5\"/><path d=\"m213.64 152.06h30.13v-30.13h-30.13z\" clip-path=\"url(#a5d9558bc0d)\" fill=\"#33b1ff\" stroke=\"#33b1ff\" stroke-width=\"1.5\"/><path d=\"m272.99 198.41h50.489v-169.19h-50.489z\" clip-path=\"url(#a5d9558bc0d)\" fill=\"#9f1853\" stroke=\"#9f1853\" stroke-width=\"1.5\"/><path d=\"m375.88 59.348h30.13v-30.13h-30.13z\" clip-path=\"url(#a5d9558bc0d)\" fill=\"#33b1ff\" stroke=\"#33b1ff\" stroke-width=\"1.5\"/><path d=\"m369.51 198.41h42.859v-122.84h-42.859z\" clip-path=\"url(#a5d9558bc0d)\" fill=\"#9f1853\" stroke=\"#9f1853\" stroke-width=\"1.5\"/><path d=\"m445.41 59.348h30.13v-30.13h-30.13z\" clip-path=\"url(#a5d9558bc0d)\" fill=\"#a8a8a8\" stroke=\"#a8a8a8\" stroke-width=\"1.5\"/><path d=\"m471.02 48.803c0-2.7958-1.1118-5.4799-3.0887-7.4568s-4.661-3.0887-7.4568-3.0887-5.4799 1.1118-7.4568 3.0887-3.0887 4.661-3.0887 7.4568\" clip-path=\"url(#a5d9558bc0d)\" fill=\"none\" stroke=\"#000000\" stroke-width=\"2\"/><path d=\"m460.47 48.803 10.546-10.546\" clip-path=\"url(#a5d9558bc0d)\" fill=\"none\" stroke=\"#000000\" stroke-linecap=\"square\" stroke-width=\"2\"/><path d=\"m491.76 105.7h30.13v-30.13h-30.13z\" clip-path=\"url(#a5d9558bc0d)\" fill=\"#a8a8a8\" stroke=\"#a8a8a8\" stroke-width=\"1.5\"/><path d=\"m517.37 95.157c0-2.7958-1.1118-5.4799-3.0887-7.4568s-4.661-3.0887-7.4568-3.0887-5.4799 1.1118-7.4568 3.0887-3.0887 4.661-3.0887 7.4568\" clip-path=\"url(#a5d9558bc0d)\" fill=\"none\" stroke=\"#000000\" stroke-width=\"2\"/><path d=\"m506.83 95.157 10.546-10.546\" clip-path=\"url(#a5d9558bc0d)\" fill=\"none\" stroke=\"#000000\" stroke-linecap=\"square\" stroke-width=\"2\"/><path d=\"m538.12 152.06h30.13v-30.13h-30.13z\" clip-path=\"url(#a5d9558bc0d)\" fill=\"#a8a8a8\" stroke=\"#a8a8a8\" stroke-width=\"1.5\"/><path d=\"m563.73 141.51c0-2.7958-1.1118-5.4799-3.0887-7.4568s-4.661-3.0887-7.4568-3.0887-5.4799 1.1118-7.4568 3.0887-3.0887 4.661-3.0887 7.4568\" clip-path=\"url(#a5d9558bc0d)\" fill=\"none\" stroke=\"#000000\" stroke-width=\"2\"/><path d=\"m553.18 141.51 10.546-10.546\" clip-path=\"url(#a5d9558bc0d)\" fill=\"none\" stroke=\"#000000\" stroke-linecap=\"square\" stroke-width=\"2\"/><path d=\"m584.47 198.41h30.13v-30.13h-30.13z\" clip-path=\"url(#a5d9558bc0d)\" fill=\"#a8a8a8\" stroke=\"#a8a8a8\" stroke-width=\"1.5\"/><path d=\"m610.08 187.86c0-2.7958-1.1118-5.4799-3.0887-7.4568s-4.661-3.0887-7.4568-3.0887-5.4799 1.1118-7.4568 3.0887-3.0887 4.661-3.0887 7.4568\" clip-path=\"url(#a5d9558bc0d)\" fill=\"none\" stroke=\"#000000\" stroke-width=\"2\"/><path d=\"m599.53 187.86 10.546-10.546\" clip-path=\"url(#a5d9558bc0d)\" fill=\"none\" stroke=\"#000000\" stroke-linecap=\"square\" stroke-width=\"2\"/><g clip-path=\"url(#a5d9558bc0d)\"><g transform=\"translate(37.301 48.734) scale(.1625 -.1625)\"><defs><path id=\"DejaVuSans-Oblique-71\" transform=\"scale(.015625)\" d=\"m2669 525q-231-303-546-460-314-156-695-156-531 0-833 358-301 358-301 986 0 506 186 978t533 847q225 244 517 375t614 131q387 0 637-153t363-462l100 525h578l-934-4813h-579l360 1844zm-1778 813q0-463 193-705 194-242 560-242 544 0 928 520t384 1264q0 450-199 689-198 239-569 239-272 0-504-127-231-126-403-370-181-256-286-600-104-343-104-668z\"/><path id=\"DejaVuSans-30\" transform=\"scale(.015625)\" d=\"m2034 4250q-487 0-733-480-245-479-245-1442 0-959 245-1439 246-480 733-480 491 0 736 480 246 480 246 1439 0 963-246 1442-245 480-736 480zm0 500q785 0 1199-621 414-620 414-1801 0-1178-414-1799-414-620-1199-620-784 0-1198 620-414 621-414 1799 0 1181 414 1801 414 621 1198 621z\"/></defs><use xlink:href=\"#DejaVuSans-Oblique-71\"/><use transform=\"translate(63.477 -16.406) scale(.7)\" xlink:href=\"#DejaVuSans-30\"/></g></g><g clip-path=\"url(#a5d9558bc0d)\"><g transform=\"translate(37.301 95.088) scale(.1625 -.1625)\"><defs><path id=\"DejaVuSans-31\" transform=\"scale(.015625)\" d=\"m794 531h1031v3560l-1122-225v575l1116 225h631v-4135h1031v-531h-2687v531z\"/></defs><use xlink:href=\"#DejaVuSans-Oblique-71\"/><use transform=\"translate(63.477 -16.406) scale(.7)\" xlink:href=\"#DejaVuSans-31\"/></g></g><g clip-path=\"url(#a5d9558bc0d)\"><g transform=\"translate(37.301 141.44) scale(.1625 -.1625)\"><defs><path id=\"DejaVuSans-32\" transform=\"scale(.015625)\" d=\"m1228 531h2203v-531h-2962v531q359 372 979 998 621 627 780 809 303 340 423 576 121 236 121 464 0 372-261 606-261 235-680 235-297 0-627-103-329-103-704-313v638q381 153 712 231 332 78 607 78 725 0 1156-363 431-362 431-968 0-288-108-546-107-257-392-607-78-91-497-524-418-433-1181-1211z\"/></defs><use xlink:href=\"#DejaVuSans-Oblique-71\"/><use transform=\"translate(63.477 -16.406) scale(.7)\" xlink:href=\"#DejaVuSans-32\"/></g></g><g clip-path=\"url(#a5d9558bc0d)\"><g transform=\"translate(37.301 187.8) scale(.1625 -.1625)\"><defs><path id=\"DejaVuSans-33\" transform=\"scale(.015625)\" d=\"m2597 2516q453-97 707-404 255-306 255-756 0-690-475-1069-475-378-1350-378-293 0-604 58t-642 174v609q262-153 574-231 313-78 654-78 593 0 904 234t311 681q0 413-289 645-289 233-804 233h-544v519h569q465 0 712 186t247 536q0 359-255 551-254 193-729 193-260 0-557-57-297-56-653-174v562q360 100 674 150t592 50q719 0 1137-327 419-326 419-882 0-388-222-655t-631-370z\"/></defs><use xlink:href=\"#DejaVuSans-Oblique-71\"/><use transform=\"translate(63.477 -16.406) scale(.7)\" xlink:href=\"#DejaVuSans-33\"/></g></g><g clip-path=\"url(#a5d9558bc0d)\"><g transform=\"translate(69.245 222.9) scale(.104 -.104)\"><defs><path id=\"DejaVuSans-34\" transform=\"scale(.015625)\" d=\"m2419 4116-1594-2491h1594v2491zm-166 550h794v-3041h666v-525h-666v-1100h-628v1100h-2106v609l1940 2957z\"/></defs><use xlink:href=\"#DejaVuSans-34\"/></g></g><g clip-path=\"url(#a5d9558bc0d)\"><g transform=\"translate(46.403 234.18) scale(.1625 -.1625)\"><defs><path id=\"DejaVuSans-63\" transform=\"scale(.015625)\" d=\"m3122 3366v-538q-244 135-489 202t-495 67q-560 0-870-355-309-354-309-995t309-996q310-354 870-354 250 0 495 67t489 202v-532q-241-112-499-168-257-57-548-57-791 0-1257 497-465 497-465 1341 0 856 470 1346 471 491 1290 491 265 0 518-55 253-54 491-163z\"/></defs><use xlink:href=\"#DejaVuSans-63\"/></g></g><g clip-path=\"url(#a5d9558bc0d)\"><g transform=\"translate(90.818 47.87) scale(.13 -.13)\" fill=\"#ffffff\"><use xlink:href=\"#DejaVuSans-30\"/></g></g><g clip-path=\"url(#a5d9558bc0d)\"><g transform=\"translate(90.818 94.224) scale(.13 -.13)\" fill=\"#ffffff\"><use xlink:href=\"#DejaVuSans-31\"/></g></g><g clip-path=\"url(#a5d9558bc0d)\"><g transform=\"translate(90.818 186.93) scale(.13 -.13)\" fill=\"#ffffff\"><use xlink:href=\"#DejaVuSans-32\"/></g></g><g clip-path=\"url(#a5d9558bc0d)\"><g transform=\"translate(90.818 140.58) scale(.13 -.13)\" fill=\"#ffffff\"><use xlink:href=\"#DejaVuSans-33\"/></g></g><g clip-path=\"url(#a5d9558bc0d)\"><g transform=\"translate(98.831 117.4) scale(.13 -.13)\" fill=\"#ffffff\"><defs><path id=\"DejaVuSans-52\" transform=\"scale(.015625)\" d=\"m2841 2188q203-69 395-294t386-619l641-1275h-679l-596 1197q-232 469-449 622t-592 153h-688v-1972h-631v4666h1425q800 0 1194-335 394-334 394-1009 0-441-205-732-205-290-595-402zm-1582 1959v-1656h794q456 0 689 211t233 620-233 617-689 208h-794z\"/><path id=\"DejaVuSans-78\" transform=\"scale(.015625)\" d=\"m3513 3500-1266-1703 1331-1797h-678l-1019 1375-1018-1375h-679l1360 1831-1244 1669h678l928-1247 928 1247h679z\"/></defs><use xlink:href=\"#DejaVuSans-52\"/><use x=\"69.482422\" xlink:href=\"#DejaVuSans-63\"/><use x=\"124.462891\" xlink:href=\"#DejaVuSans-63\"/><use x=\"179.443359\" xlink:href=\"#DejaVuSans-63\"/><use x=\"234.423828\" xlink:href=\"#DejaVuSans-78\"/></g></g><g clip-path=\"url(#a5d9558bc0d)\"><g transform=\"translate(177.46 186.93) scale(.13 -.13)\" fill=\"#ffffff\"><defs><path id=\"DejaVuSans-48\" transform=\"scale(.015625)\" d=\"m628 4666h631v-1913h2294v1913h631v-4666h-631v2222h-2294v-2222h-631v4666z\"/></defs><use xlink:href=\"#DejaVuSans-48\"/></g></g><g clip-path=\"url(#a5d9558bc0d)\"><g transform=\"translate(177.46 47.87) scale(.13 -.13)\"><use xlink:href=\"#DejaVuSans-48\"/></g></g><g clip-path=\"url(#a5d9558bc0d)\"><g transform=\"translate(222.34 148.24) scale(.08 -.08)\"><defs><path id=\"DejaVuSans-35\" transform=\"scale(.015625)\" d=\"m691 4666h2478v-532h-1900v-1143q137 47 274 70 138 23 276 23 781 0 1237-428 457-428 457-1159 0-753-469-1171-469-417-1322-417-294 0-599 50-304 50-629 150v635q281-153 581-228t634-75q541 0 856 284 316 284 316 772 0 487-316 771-315 285-856 285-253 0-505-56-251-56-513-175v2344z\"/><path id=\"DejaVuSans-2e\" transform=\"scale(.015625)\" d=\"m684 794h660v-794h-660v794z\"/><path id=\"DejaVuSans-39\" transform=\"scale(.015625)\" d=\"m703 97v575q238-113 481-172 244-59 479-59 625 0 954 420 330 420 377 1277-181-269-460-413-278-144-615-144-700 0-1108 423-408 424-408 1159 0 718 425 1152 425 435 1131 435 810 0 1236-621 427-620 427-1801 0-1103-524-1761-523-658-1407-658-238 0-482 47-243 47-506 141zm1256 1978q425 0 673 290 249 291 249 798 0 503-249 795-248 292-673 292t-673-292-248-795q0-507 248-798 248-290 673-290z\"/></defs><use xlink:href=\"#DejaVuSans-35\"/><use x=\"63.623047\" xlink:href=\"#DejaVuSans-2e\"/><use x=\"95.410156\" xlink:href=\"#DejaVuSans-39\"/></g></g><g clip-path=\"url(#a5d9558bc0d)\"><g transform=\"translate(220.77 136.06) scale(.13 -.13)\"><defs><path id=\"DejaVuSans-55\" transform=\"scale(.015625)\" d=\"m556 4666h635v-2835q0-750 271-1080 272-329 882-329 606 0 878 329 272 330 272 1080v2835h634v-2913q0-912-452-1378-451-466-1332-466-885 0-1337 466-451 466-451 1378v2913z\"/></defs><use transform=\"translate(0 .09375)\" xlink:href=\"#DejaVuSans-55\"/><use transform=\"translate(74.15 -16.312) scale(.7)\" xlink:href=\"#DejaVuSans-31\"/></g></g><g clip-path=\"url(#a5d9558bc0d)\"><g transform=\"translate(276.23 94.224) scale(.13 -.13)\" fill=\"#ffffff\"><use xlink:href=\"#DejaVuSans-30\"/></g></g><g clip-path=\"url(#a5d9558bc0d)\"><g transform=\"translate(276.23 47.87) scale(.13 -.13)\" fill=\"#ffffff\"><use xlink:href=\"#DejaVuSans-31\"/></g></g><g clip-path=\"url(#a5d9558bc0d)\"><g transform=\"translate(276.23 140.58) scale(.13 -.13)\" fill=\"#ffffff\"><use xlink:href=\"#DejaVuSans-32\"/></g></g><g clip-path=\"url(#a5d9558bc0d)\"><g transform=\"translate(276.23 186.93) scale(.13 -.13)\" fill=\"#ffffff\"><use xlink:href=\"#DejaVuSans-33\"/></g></g><g clip-path=\"url(#a5d9558bc0d)\"><g transform=\"translate(284.25 117.4) scale(.13 -.13)\" fill=\"#ffffff\"><use xlink:href=\"#DejaVuSans-52\"/><use x=\"69.482422\" xlink:href=\"#DejaVuSans-63\"/><use x=\"124.462891\" xlink:href=\"#DejaVuSans-63\"/><use x=\"179.443359\" xlink:href=\"#DejaVuSans-63\"/><use x=\"234.423828\" xlink:href=\"#DejaVuSans-78\"/></g></g><g clip-path=\"url(#a5d9558bc0d)\"><g transform=\"translate(382.04 55.53) scale(.08 -.08)\"><defs><path id=\"DejaVuSans-38\" transform=\"scale(.015625)\" d=\"m2034 2216q-450 0-708-241-257-241-257-662 0-422 257-663 258-241 708-241t709 242q260 243 260 662 0 421-258 662-257 241-711 241zm-631 268q-406 100-633 378-226 279-226 679 0 559 398 884 399 325 1092 325 697 0 1094-325t397-884q0-400-227-679-226-278-629-378 456-106 710-416 255-309 255-755 0-679-414-1042-414-362-1186-362-771 0-1186 362-414 363-414 1042 0 446 256 755 257 310 713 416zm-231 997q0-362 226-565 227-203 636-203 407 0 636 203 230 203 230 565 0 363-230 566-229 203-636 203-409 0-636-203-226-203-226-566z\"/></defs><use xlink:href=\"#DejaVuSans-35\"/><use x=\"63.623047\" xlink:href=\"#DejaVuSans-2e\"/><use x=\"95.410156\" xlink:href=\"#DejaVuSans-32\"/><use x=\"159.033203\" xlink:href=\"#DejaVuSans-38\"/></g></g><g clip-path=\"url(#a5d9558bc0d)\"><g transform=\"translate(383.01 43.351) scale(.13 -.13)\"><defs><path id=\"DejaVuSans-5a\" transform=\"scale(.015625)\" d=\"m359 4666h3666v-482l-2950-3653h3022v-531h-3809v481l2950 3653h-2879v532z\"/></defs><use transform=\"translate(0 .09375)\" xlink:href=\"#DejaVuSans-52\"/><use transform=\"translate(70.439 -16.312) scale(.7)\" xlink:href=\"#DejaVuSans-5a\"/></g></g><g clip-path=\"url(#a5d9558bc0d)\"><g transform=\"translate(372.76 186.93) scale(.13 -.13)\" fill=\"#ffffff\"><use xlink:href=\"#DejaVuSans-30\"/></g></g><g clip-path=\"url(#a5d9558bc0d)\"><g transform=\"translate(372.76 140.58) scale(.13 -.13)\" fill=\"#ffffff\"><use xlink:href=\"#DejaVuSans-31\"/></g></g><g clip-path=\"url(#a5d9558bc0d)\"><g transform=\"translate(372.76 94.224) scale(.13 -.13)\" fill=\"#ffffff\"><use xlink:href=\"#DejaVuSans-32\"/></g></g><g clip-path=\"url(#a5d9558bc0d)\"><g transform=\"translate(380.53 140.58) scale(.13 -.13)\" fill=\"#ffffff\"><use xlink:href=\"#DejaVuSans-52\"/><use x=\"69.482422\" xlink:href=\"#DejaVuSans-63\"/><use x=\"124.462891\" xlink:href=\"#DejaVuSans-63\"/><use x=\"179.443359\" xlink:href=\"#DejaVuSans-78\"/></g></g><g clip-path=\"url(#a5d9558bc0d)\"><g transform=\"translate(472.06 222.9) scale(.104 -.104)\"><use xlink:href=\"#DejaVuSans-30\"/></g></g><g clip-path=\"url(#a5d9558bc0d)\"><g transform=\"translate(518.41 222.9) scale(.104 -.104)\"><use xlink:href=\"#DejaVuSans-31\"/></g></g><g clip-path=\"url(#a5d9558bc0d)\"><g transform=\"translate(564.77 222.9) scale(.104 -.104)\"><use xlink:href=\"#DejaVuSans-32\"/></g></g><g clip-path=\"url(#a5d9558bc0d)\"><g transform=\"translate(611.12 222.9) scale(.104 -.104)\"><use xlink:href=\"#DejaVuSans-33\"/></g></g><defs><clipPath id=\"a5d9558bc0d\"><rect x=\"7.2\" y=\"7.2\" width=\"622.93\" height=\"250.31\"/></clipPath></defs></svg>"
      ],
      "text/plain": [
       "<Figure size 1123.61x451.5 with 1 Axes>"
      ]
     },
     "execution_count": 2,
     "metadata": {},
     "output_type": "execute_result"
    }
   ],
   "source": [
    "from qiskit.circuit.random import random_circuit\n",
    "\n",
    "qc_random = [(random_circuit(4, 4, measure=True)) for _ in range(30)]\n",
    "qc_random[0].draw(output='mpl', idle_wires=False)"
   ]
  },
  {
   "cell_type": "markdown",
   "id": "61c17ded-b832-4db1-ba9a-60772362daea",
   "metadata": {},
   "source": [
    "Next, use `QiskitRuntimeService` and `least_busy` to select a `backend`:"
   ]
  },
  {
   "cell_type": "code",
   "id": "ebefb5ac-c8a8-4350-b16f-0677f0e412e5",
   "execution_count": 3,
   "metadata": {},
   "outputs": [
    {
     "name": "stdout",
     "output_type": "stream",
     "text": [
      "ibm_nazca\n"
     ]
    }
   ],
   "source": [
    "from qiskit_ibm_runtime import QiskitRuntimeService\n",
    "\n",
    "service = QiskitRuntimeService()\n",
    "backend = service.least_busy(operational=True, simulator=False)\n",
    "print(backend.name)"
   ]
  },
  {
   "cell_type": "markdown",
   "id": "6a6ba35b-b98b-41b1-8dd4-c7cf2fc8b637",
   "metadata": {},
   "source": [
    "Set your optimization level:"
   ]
  },
  {
   "cell_type": "code",
   "execution_count": 6,
   "id": "cab2773b-f72a-49fe-a274-169a10e89c5e",
   "metadata": {},
   "outputs": [],
   "source": [
    "optimization_level = 3"
   ]
  },
  {
   "cell_type": "markdown",
   "id": "f522b54f-93e5-45e9-9dc7-a2287eb4c707",
   "metadata": {},
   "source": [
    "Select your program with `serverless.get('PROGRAM_NAME')`:"
   ]
  },
  {
   "cell_type": "code",
   "id": "e9b7e7c1-07b1-4777-bb08-1522433901c6",
   "execution_count": null,
   "metadata": {},
   "outputs": [],
   "source": [
    "transpile_remote_serverless = serverless.get('transpile_remote_serverless')"
   ]
  },
  {
   "cell_type": "markdown",
   "id": "8e256a2a-6b14-4194-8fee-df986c7ebc6c",
   "metadata": {},
   "source": [
    "Next, pass your inputs and run it in a pythonic fashion as follows:"
   ]
  },
  {
   "cell_type": "code",
   "id": "85b1aace-e7d7-4e2e-bb77-44fb514d0236",
   "execution_count": null,
   "metadata": {},
   "outputs": [],
   "source": [
    "job = transpile_remote_serverless.run(\n",
    "    circuits=qc_random,\n",
    "    backend=backend.name,\n",
    "    optimization_level=optimization_level\n",
    ")"
   ]
  },
  {
   "cell_type": "code",
   "execution_count": null,
   "id": "2e8b4ec2-b7e3-4218-8742-b67f2a1d82e0",
   "metadata": {},
   "outputs": [
    {
     "data": {
      "text/plain": [
       "'727e921d-512d-4b7d-af97-fe29e93ce7ea'"
      ]
     },
     "execution_count": 9,
     "metadata": {},
     "output_type": "execute_result"
    }
   ],
   "source": [
    "job.job_id"
   ]
  },
  {
   "cell_type": "markdown",
   "id": "87dbb375-cd24-4d0f-a2fc-c653db8345e3",
   "metadata": {},
   "source": [
    "## Check job status\n",
    "\n",
    "With your Qiskit Serverless `job_id`, you can check the status of running jobs. This includes the following statuses:\n",
    "\n",
    "- **`QUEUED`**: The remote program is in the Qiskit Serverless queue. The queue priority is currently based on how much you've used Qiskit Serverless\n",
    "- **`INITIALIZING`**: The remote program is starting; this includes setting up the remote environment and installing dependencies\n",
    "- **`RUNNING`**: The program is running. At this stage, if you have `print()` outputs in your program, you should be able to retrieve logs using `job.logs()`\n",
    "- **`DONE`**: The program is complete, and you can retrieve data stored in `save_result()` with `job.results()`"
   ]
  },
  {
   "cell_type": "code",
   "execution_count": 5,
   "id": "f4877d45-c350-4855-b1ca-868a6ad8cfa4",
   "metadata": {},
   "outputs": [
    {
     "data": {
      "text/plain": [
       "'QUEUED'"
      ]
     },
     "execution_count": 5,
     "metadata": {},
     "output_type": "execute_result"
    }
   ],
   "source": [
    "job.status()"
   ]
  },
  {
   "cell_type": "markdown",
   "id": "65566f2c-8d5b-4493-819b-4389155c3d69",
   "metadata": {},
   "source": [
    "## Retrieve logs and results\n",
    "\n",
    "As mentioned before, once a program is `RUNNING`, you can use `job.logs()` to fetch logs created from `print()` outputs:"
   ]
  },
  {
   "cell_type": "code",
   "execution_count": 67,
   "id": "cbf12a1b-bfff-4eb2-82f1-298de1e9c114",
   "metadata": {},
   "outputs": [
    {
     "name": "stdout",
     "output_type": "stream",
     "text": [
      "No logs yet.\n"
     ]
    }
   ],
   "source": [
    "logs = job.logs()\n",
    "print(logs)"
   ]
  },
  {
   "cell_type": "markdown",
   "id": "bff87452-bf98-4c7a-85c8-d280d89a7970",
   "metadata": {},
   "source": [
    "Once a program is `DONE`, you can use `job.results()` to fetch the result stored in `save_result()`:"
   ]
  },
  {
   "cell_type": "code",
   "execution_count": 48,
   "id": "bc4fbe20-456c-4ce4-bf26-dfdb8b68e89f",
   "metadata": {},
   "outputs": [
    {
     "name": "stdout",
     "output_type": "stream",
     "text": [
      "{}\n"
     ]
    }
   ],
   "source": [
    "result = job.result()\n",
    "print(result)"
   ]
  },
  {
   "cell_type": "markdown",
   "id": "925a8d81-e85b-4e26-a9e1-3a01e8e0785b",
   "metadata": {},
   "source": [
    "At any time, you can also cancel a job:"
   ]
  },
  {
   "cell_type": "code",
   "id": "c0d999d9-af9e-4312-b5bb-f60f714257ba",
   "execution_count": 11,
   "metadata": {},
   "outputs": [
    {
     "data": {
      "text/plain": [
       "'Job has been stopped.'"
      ]
     },
     "execution_count": 11,
     "metadata": {},
     "output_type": "execute_result"
    }
   ],
   "source": [
    "job.stop()"
   ]
  },
  {
   "cell_type": "markdown",
   "id": "ca9791df-60c2-49d8-8541-741078ea63c6",
   "metadata": {},
   "source": [
    "## List previously run jobs run with Serverless\n",
    "\n",
    "You can use `get_jobs()` to list all jobs submitted to Qiskit Serverless:"
   ]
  },
  {
   "cell_type": "code",
   "execution_count": 4,
   "id": "ba9365c4-b07d-4dc6-9594-edc07c44bc63",
   "metadata": {},
   "outputs": [
    {
     "data": {
      "text/plain": [
       "[<Job | 90e1109e-809f-4768-a2dc-f45bf71a97b4>,\n",
       " <Job | 313050f2-aa78-4d7d-99f4-44bdfe98e4d7>]"
      ]
     },
     "execution_count": 4,
     "metadata": {},
     "output_type": "execute_result"
    }
   ],
   "source": [
    "old_jobs = serverless.get_jobs()\n",
    "old_jobs"
   ]
  },
  {
   "cell_type": "markdown",
   "id": "fd3415a0-0e55-4991-8764-c9fe66eb2664",
   "metadata": {},
   "source": [
    "You've successfully run your first Qiskit Serverless program. Next, you can explore [compute and data management tools](./serverless-manage-resources) available to your program, including parallelization."
   ]
  },
  {
   "cell_type": "markdown",
   "id": "5db59260-8e39-434b-a60d-3d620b9e6995",
   "metadata": {},
   "source": [
    "## Next steps\n",
    "\n",
    "<Admonition type=\"info\" title=\"Recommendations\">\n",
    "\n",
    "- Read how to [manage Qiskit Serverless compute and data resources](./serverless-manage-resources).\n",
    "\n",
    "</Admonition>"
   ]
  }
 ],
 "metadata": {
  "description": "How to list programs available in Serverless, pass inputs into these programs, run them remotely, check status, and retrieve results and logs.",
  "kernelspec": {
   "display_name": "Python 3",
   "language": "python",
   "name": "python3"
  },
  "language_info": {
   "codemirror_mode": {
    "name": "ipython",
    "version": 3
   },
   "file_extension": ".py",
   "mimetype": "text/x-python",
   "name": "python",
   "nbconvert_exporter": "python",
   "pygments_lexer": "ipython3",
   "version": "3"
  },
  "title": "Run your first Qiskit Serverless workload remotely"
 },
 "nbformat": 4,
 "nbformat_minor": 2
}
