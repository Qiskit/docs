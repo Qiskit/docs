{
 "cells": [
  {
   "cell_type": "markdown",
   "id": "9b3c4f91-e6a2-4e81-bae4-04848c03ff3d",
   "metadata": {},
   "source": [
    "# Debug Qiskit Runtime jobs\n",
    "{/* cspell:ignore ZIIIII, IZIIII,IIZIII, IIIZII, IIIIZI, IIIIIZ, rdiff */}\n",
    "\n",
    "Before submitting a resource-intensive Qiskit Runtime workload to execute on hardware, you can use the the Qiskit Runtime [`Neat` (Noisy Estimator Analyzer Tool)](/api/qiskit-ibm-runtime/qiskit_ibm_runtime.debug_tools.Neat#neat) class to verify that your Estimator workload is set up correctly, is likely to return  accurate results, uses the most appropriate options for the specified problem, and more.\n",
    "\n",
    "`Neat` Cliffordizes the input circuits for efficient simulation, while retaining its structure and depth. Clifford circuits suffer similar levels of noise and are a good proxy for studying the original circuit of interest.\n",
    "\n",
    "\n",
    "The following examples illustrate situations where `Neat` can be a useful resource."
   ]
  },
  {
   "cell_type": "markdown",
   "id": "0e566aa2-3a0e-4ede-bf8b-c5d2988dd50e",
   "metadata": {},
   "source": [
    "## Define the estimation problem\n",
    "\n",
    "First, import the relevant packages and [authenticate to the Qiskit Runtime service.](/guides/setup-channel)"
   ]
  },
  {
   "cell_type": "code",
   "execution_count": 24,
   "id": "653dea9f-caba-4ba5-9681-80f6c90e867b",
   "metadata": {},
   "outputs": [],
   "source": [
    "import numpy as np\n",
    "import random\n",
    "\n",
    "from qiskit.circuit import QuantumCircuit\n",
    "from qiskit.transpiler.preset_passmanagers import generate_preset_pass_manager\n",
    "from qiskit.quantum_info import SparsePauliOp\n",
    "\n",
    "from qiskit_ibm_runtime import QiskitRuntimeService, EstimatorV2 as Estimator\n",
    "from qiskit_ibm_runtime.debug_tools import Neat\n",
    "\n",
    "from qiskit_aer.noise import NoiseModel, depolarizing_error"
   ]
  },
  {
   "cell_type": "code",
   "execution_count": 38,
   "id": "c5d0e164-8f0b-45b9-a93d-768cfdeed57d",
   "metadata": {},
   "outputs": [],
   "source": [
    "# Choose the least busy backend\n",
    "service = QiskitRuntimeService()\n",
    "backend = service.least_busy(operational=True, simulator=False)\n",
    "\n",
    "# Generate a preset pass manager\n",
    "pm = generate_preset_pass_manager(backend=backend, optimization_level=0)\n",
    "\n",
    "# Set the random seed\n",
    "random.seed(10)"
   ]
  },
  {
   "cell_type": "markdown",
   "id": "bda932ca-5de6-4d3c-9067-91ec4a1759f3",
   "metadata": {},
   "source": [
    "## Initialize a target circuit\n",
    "\n",
    "Consider a six-qubit circuit that has the following properties:\n",
    "\n",
    "* Alternates random `RZ` rotations to layers of `CNOT` gates.\n",
    "* Has a mirror structure, that is, it applies a unitary `U` followed by its inverse."
   ]
  },
  {
   "cell_type": "code",
   "execution_count": 40,
   "id": "e456726b-98c6-4e17-b8d4-39167e117800",
   "metadata": {},
   "outputs": [],
   "source": [
    "def generate_circuit(n_qubits, n_layers):\n",
    "    r\"\"\"\n",
    "    A function to generate a pseudo-random a circuit with ``n_qubits`` qubits and\n",
    "    ``2*n_layers`` entangling layers of the type used in this notebook.\n",
    "    \"\"\"\n",
    "    # An array of random angles\n",
    "    angles = [\n",
    "        [random.random() for q in range(n_qubits)] for s in range(n_layers)\n",
    "    ]\n",
    "\n",
    "    qc = QuantumCircuit(n_qubits)\n",
    "    qubits = list(range(n_qubits))\n",
    "\n",
    "    # do random circuit\n",
    "    for layer in range(n_layers):\n",
    "        # rotations\n",
    "        for q_idx, qubit in enumerate(qubits):\n",
    "            qc.rz(angles[layer][q_idx], qubit)\n",
    "\n",
    "        # cx gates\n",
    "        control_qubits = (\n",
    "            qubits[::2] if layer % 2 == 0 else qubits[1 : n_qubits - 1 : 2]\n",
    "        )\n",
    "        for qubit in control_qubits:\n",
    "            qc.cx(qubit, qubit + 1)\n",
    "\n",
    "    # undo random circuit\n",
    "    for layer in range(n_layers)[::-1]:\n",
    "        # cx gates\n",
    "        control_qubits = (\n",
    "            qubits[::2] if layer % 2 == 0 else qubits[1 : n_qubits - 1 : 2]\n",
    "        )\n",
    "        for qubit in control_qubits:\n",
    "            qc.cx(qubit, qubit + 1)\n",
    "\n",
    "        # rotations\n",
    "        for q_idx, qubit in enumerate(qubits):\n",
    "            qc.rz(-angles[layer][q_idx], qubit)\n",
    "\n",
    "    return pm.run(qc)\n",
    "\n",
    "# Generate a random circuit\n",
    "qc = generate_circuit(6, 3)\n",
    "isa_qc = pm.run(qc)\n",
    "\n",
    "qc.draw(\"mpl\", idle_wires=0)"
   ]
  },
  {
   "cell_type": "markdown",
   "id": "e4935708-669b-4839-acd6-c2249e2b5c2d",
   "metadata": {},
   "source": [
    "Choose single-Pauli `Z` errors as observables and use them to initialize the primitive unified blocs (PUBs)."
   ]
  },
  {
   "cell_type": "code",
   "execution_count": 41,
   "id": "6f424f2d-f483-4ae3-be56-471ffb9bc397",
   "metadata": {},
   "outputs": [
    {
     "name": "stdout",
     "output_type": "stream",
     "text": [
      "Observables: ['ZIIIII', 'IZIIII', 'IIZIII', 'IIIZII', 'IIIIZI', 'IIIIIZ']\n"
     ]
    }
   ],
   "source": [
    "# Initialize the observables\n",
    "obs = [\"ZIIIII\", \"IZIIII\", \"IIZIII\", \"IIIZII\", \"IIIIZI\", \"IIIIIZ\"]\n",
    "print(f\"Observables: {obs}\")\n",
    "\n",
    "# Map the observables to the backend's layout\n",
    "isa_obs = [SparsePauliOp(o).apply_layout(isa_qc.layout) for o in obs]\n",
    "\n",
    "# Initialize the PUBs, which consist of six-qubit circuits with `n_layers` 1, ..., 6\n",
    "all_n_layers = [1, 2, 3, 4, 5, 6]\n",
    "\n",
    "pubs = [(generate_circuit(6, n) for n in all_n_layers)]"
   ]
  },
  {
   "cell_type": "markdown",
   "id": "9d6d1944-b02a-4bcd-b648-5a735bb0626a",
   "metadata": {},
   "source": [
    "## Cliffordize the circuits\n",
    "\n",
    "The previously defined PUB circuits are not Clifford, which makes them difficult to simulate classically. However, you can use the `Neat` [`to_clifford`](/api/qiskit-ibm-runtime/qiskit_ibm_runtime.debug_tools.Neat#to_clifford) method to map tham to Clifford circuits for more efficient simulation.  The [`to_clifford`](/api/qiskit-ibm-runtime/qiskit_ibm_runtime.debug_tools.Neat#to_clifford) method is a wrapper around the [`ConvertISAToClifford`](/api/qiskit-ibm-runtime/qiskit_ibm_runtime.transpiler.passes.ConvertISAToClifford) transpiler pass. In particular, it replaces non-Clifford single-qubit gates in the original circuit with Clifford single-qubit gates, but it does not mutate the two-qubit gates, number of qubits, and circuit depth. \n",
    "\n",
    "The simulation can be done in both ideal ([`ideal_sim`](/api/qiskit-ibm-runtime/qiskit_ibm_runtime.debug_tools.Neat#ideal_sim)) and noisy ([`noisy_sim`](/api/qiskit-ibm-runtime/qiskit_ibm_runtime.debug_tools.Neat#noisy_sim)) conditions. The simulated results support mathematical operations, and can therefore be compared with each other (or with experimental results) to calculate figures of merit.  \n",
    "\n",
    "See [Efficient simulation of stabilizer circuits with Qiskit Aer primitives](/guides/simulate-stabilizer-circuits) for more information about Clifford circuit simulation."
   ]
  },
  {
   "cell_type": "markdown",
   "metadata": {},
   "source": [
    "First, initialize `Neat`."
   ]
  },
  {
   "cell_type": "code",
   "execution_count": 42,
   "id": "868e3490-047a-4eec-b037-8b1277790051",
   "metadata": {},
   "outputs": [],
   "source": [
    "# You could specify a custom `NoiseModel` here. If `None`, `Neat`\n",
    "# pulls the noise model from the given backend\n",
    "noise_model = None\n",
    "\n",
    "# Initialize `Neat`\n",
    "analyzer = Neat(backend, noise_model)"
   ]
  },
  {
   "cell_type": "markdown",
   "id": "44f78f03-94fe-4501-9764-09a6a5b5af14",
   "metadata": {},
   "source": [
    "Next, Cliffordize the PUBs."
   ]
  },
  {
   "cell_type": "code",
   "execution_count": 43,
   "id": "edc076fd-2ad6-4e0b-9d14-1151c0cd3785",
   "metadata": {},
   "outputs": [],
   "source": [
    "clifford_pubs = analyzer.to_clifford(pubs)\n",
    "\n",
    "clifford_pubs[0].circuit.draw(\"mpl\", idle_wires=0)"
   ]
  },
  {
   "cell_type": "markdown",
   "id": "1355b3b7-cd22-4c42-b516-7746f3936515",
   "metadata": {},
   "source": [
    "## Application 1: Analyze the impact of noise on the circuit outputs\n",
    "\n",
    "This example shows how to use `Neat` objects to study the impact of different noise models on PUBs as a function of circuit depth. This can be useful to set up expectations on the quality of the experimental results before running a job on a QPU. To learn more, see [Exact and noisy simulation with Qiskit Aer primitives.](/guides/simulate-with-qiskit-aer#exact-and-noisy-simulation-with-qiskit-aer-primitives)\n",
    "\n",
    "Begin by performing ideal and noisy classical simulations."
   ]
  },
  {
   "cell_type": "code",
   "execution_count": 44,
   "id": "0ae3e992-3209-48f4-bfff-7f68f9de69d4",
   "metadata": {},
   "outputs": [
    {
     "name": "stdout",
     "output_type": "stream",
     "text": [
      "Ideal results:\n",
      " NeatResult([NeatPubResult(vals=array([1., 1., 1., 1., 1., 1.])), NeatPubResult(vals=array([1., 1., 1., 1., 1., 1.])), NeatPubResult(vals=array([1., 1., 1., 1., 1., 1.])), NeatPubResult(vals=array([1., 1., 1., 1., 1., 1.])), NeatPubResult(vals=array([1., 1., 1., 1., 1., 1.]))])\n",
      "\n",
      "Noisy results:\n",
      " NeatResult([NeatPubResult(vals=array([0.96484375, 0.9765625 , 0.93359375, 0.93164062, 0.9921875 ,\n",
      "       0.98828125])), NeatPubResult(vals=array([0.95703125, 0.953125  , 0.921875  , 0.93554688, 0.98242188,\n",
      "       0.99414062])), NeatPubResult(vals=array([0.88476562, 0.89257812, 0.87695312, 0.87890625, 0.97265625,\n",
      "       0.984375  ])), NeatPubResult(vals=array([0.82617188, 0.82617188, 0.78515625, 0.82617188, 0.9453125 ,\n",
      "       0.97460938])), NeatPubResult(vals=array([0.77734375, 0.78515625, 0.7265625 , 0.796875  , 0.9375    ,\n",
      "       0.96289062]))])\n",
      "\n"
     ]
    }
   ],
   "source": [
    "# Perform a noiseless simulation\n",
    "ideal_results = analyzer.ideal_sim(clifford_pubs)\n",
    "print(f\"Ideal results:\\n {ideal_results}\\n\")\n",
    "\n",
    "# Perform a noisy simulation with the backend's noise model\n",
    "noisy_results = analyzer.noisy_sim(clifford_pubs)\n",
    "print(f\"Noisy results:\\n {noisy_results}\\n\")"
   ]
  },
  {
   "cell_type": "markdown",
   "id": "40ec3432-f4a3-4088-8059-db906defe130",
   "metadata": {},
   "source": [
    "These results support mathematical operators and can be used to compute figures of merit.\n",
    "The remainder of the guide uses the relative difference as a figure of merit to compare ideal results with noisy or experimental results, but similar figures of merit can be set up in a similar way.\n",
    "\n",
    "The relative difference shows that the impact of noise grows with the circuits' sizes."
   ]
  },
  {
   "cell_type": "code",
   "execution_count": 45,
   "id": "c78bbb86-c632-4c49-bb43-3ab9532d9b4f",
   "metadata": {},
   "outputs": [
    {
     "name": "stdout",
     "output_type": "stream",
     "text": [
      "Mean rel. diff. between ideal and noisy results:\n",
      "  3.55%\n",
      "\n",
      "Mean rel. diff. between ideal and noisy results:\n",
      "  4.27%\n",
      "\n",
      "Mean rel. diff. between ideal and noisy results:\n",
      "  8.49%\n",
      "\n",
      "Mean rel. diff. between ideal and noisy results:\n",
      "  13.6%\n",
      "\n",
      "Mean rel. diff. between ideal and noisy results:\n",
      "  16.89%\n",
      "\n"
     ]
    }
   ],
   "source": [
    "# Figure of merit: Relative difference\n",
    "def rdiff(res1, re2):\n",
    "    r\"\"\"The relative difference between `res1` and re2`.\n",
    "\n",
    "    --> The closer to `0`, the better.\n",
    "    \"\"\"\n",
    "    d = abs(res1 - re2) / res1\n",
    "    return np.round(d.vals * 100, 2)\n",
    "\n",
    "\n",
    "for idx, (ideal_res, noisy_res) in enumerate(\n",
    "    zip(ideal_results, noisy_results)\n",
    "):\n",
    "    vals = rdiff(ideal_res, noisy_res)\n",
    "\n",
    "    # Print the mean relative difference for the observables\n",
    "    mean_vals = np.round(np.mean(vals), 2)\n",
    "    print(\n",
    "        f\"Mean relative difference between ideal and noisy results for circuits with {all_n_layers[idx]}:\\n  {mean_vals}%\\n\"\n",
    "    )"
   ]
  },
  {
   "cell_type": "markdown",
   "id": "ccfbe164-34b0-4a21-9529-d4f015ca4a2b",
   "metadata": {},
   "source": [
    "You can specify different noise models in the analyzer. For example, you can study the impact of depolarizing noise on your PUBs."
   ]
  },
  {
   "cell_type": "code",
   "execution_count": 46,
   "id": "d1051097-7111-498f-8177-3cbad849bd36",
   "metadata": {},
   "outputs": [
    {
     "name": "stdout",
     "output_type": "stream",
     "text": [
      "Mean rel. diff. between ideal and noisy results:\n",
      "  4.1%\n",
      "\n",
      "Mean rel. diff. between ideal and noisy results:\n",
      "  7.88%\n",
      "\n",
      "Mean rel. diff. between ideal and noisy results:\n",
      "  14.16%\n",
      "\n",
      "Mean rel. diff. between ideal and noisy results:\n",
      "  17.22%\n",
      "\n",
      "Mean rel. diff. between ideal and noisy results:\n",
      "  22.82%\n",
      "\n"
     ]
    }
   ],
   "source": [
    "# Set up a noise model with strength 0.02 on every two-qubit gate\n",
    "noise_model = NoiseModel()\n",
    "for qubits in backend.coupling_map:\n",
    "    noise_model.add_quantum_error(\n",
    "        depolarizing_error(0.02, 2), [\"ecr\", \"cx\"], qubits\n",
    "    )\n",
    "\n",
    "# Update the analyzer's noise model\n",
    "analyzer.noise_model = noise_model\n",
    "\n",
    "# Perform a noiseless simulation\n",
    "ideal_results = analyzer.ideal_sim(clifford_pubs)\n",
    "\n",
    "# Perform a noisy simulation with the backend's noise model\n",
    "noisy_results = analyzer.noisy_sim(clifford_pubs)\n",
    "\n",
    "# Compare the results\n",
    "for idx, (ideal_res, noisy_res) in enumerate(\n",
    "    zip(ideal_results, noisy_results)\n",
    "):\n",
    "    values = rdiff(ideal_res, noisy_res)\n",
    "\n",
    "    # Print the mean relative difference for the observables\n",
    "    mean_values = np.round(np.mean(values), 2)\n",
    "    print(\n",
    "        f\"Mean relative difference between ideal and noisy results for circuits with {all_n_layers[idx]}:\\n  {mean_values}%\\n\"\n",
    "    )"
   ]
  },
  {
   "cell_type": "markdown",
   "id": "ce26d190-965c-4291-905c-959975f5f5dc",
   "metadata": {},
   "source": [
    "As shown, given a noise model, you can try to quantify the impact of noise on the (Cliffordized version of the) PUBs of interest before running them on a QPU."
   ]
  },
  {
   "cell_type": "markdown",
   "id": "2037373d-686f-47ba-9516-ae8cd4a0659c",
   "metadata": {},
   "source": [
    "## Application 2: Benchmark different strategies\n",
    "\n",
    "This example uses `Neat` to help identify the best options for your PUBs. To do so, consider running an estimation problem with [Probabilistic Error Amplification (PEA)](/guides/error-mitigation-and-suppression-techniques#probabilistic-error-amplification-pea). Which noise amplification factors will  work best?"
   ]
  },
  {
   "cell_type": "code",
   "execution_count": 47,
   "id": "db320a15-4a14-4129-bf6d-e71fa0c10115",
   "metadata": {},
   "outputs": [],
   "source": [
    "# Generate a circuit with six qubits and six layers\n",
    "qc = generate_circuit(6, 3)\n",
    "\n",
    "# Use the same observables as previously\n",
    "pubs = [(qc, isa_obs)]\n",
    "clifford_pubs = analyzer.to_clifford(pubs)"
   ]
  },
  {
   "cell_type": "code",
   "execution_count": 48,
   "id": "d63f55da-7744-46e2-a2f3-7362911e470a",
   "metadata": {},
   "outputs": [],
   "source": [
    "noise_factors = [\n",
    "    [1, 1.1],\n",
    "    [1, 1.1, 1.2],\n",
    "    [1, 1.5, 2],\n",
    "    [1, 1.5, 2, 2.5, 3],\n",
    "    [1, 4],\n",
    "]"
   ]
  },
  {
   "cell_type": "code",
   "execution_count": 49,
   "id": "3fb22cc4-6c81-489c-beba-23c53a0c965e",
   "metadata": {},
   "outputs": [],
   "source": [
    "# Run the PUBs on a QPU\n",
    "estimator = Estimator(backend)\n",
    "estimator.options.default_shots = 100000\n",
    "estimator.options.twirling.enable_gates = True\n",
    "estimator.options.twirling.enable_measure = True\n",
    "estimator.options.twirling.shots_per_randomization = 100\n",
    "estimator.options.resilience.measure_mitigation = True\n",
    "estimator.options.resilience.zne_mitigation = True\n",
    "estimator.options.resilience.zne.amplifier = \"pea\"\n",
    "\n",
    "jobs = []\n",
    "for factors in noise_factors:\n",
    "    estimator.options.resilience.zne.noise_factors = factors\n",
    "    jobs.append(estimator.run(clifford_pubs))\n",
    "\n",
    "results = [job.result() for job in jobs]"
   ]
  },
  {
   "cell_type": "code",
   "execution_count": 50,
   "id": "a326fd18-30cf-470b-af54-47ac5b113f78",
   "metadata": {},
   "outputs": [],
   "source": [
    "# Perform a noiseless simulation\n",
    "ideal_results = analyzer.ideal_sim(clifford_pubs)"
   ]
  },
  {
   "cell_type": "code",
   "execution_count": 51,
   "id": "a9344fbf-06ad-44c9-bd86-c3a50527d184",
   "metadata": {},
   "outputs": [
    {
     "name": "stdout",
     "output_type": "stream",
     "text": [
      "Mean rel. diff. for factors [1, 1.1]:\n",
      "  76.88%\n",
      "\n",
      "Mean rel. diff. for factors [1, 1.1, 1.2]:\n",
      "  8.23%\n",
      "\n",
      "Mean rel. diff. for factors [1, 1.5, 2]:\n",
      "  17.5%\n",
      "\n",
      "Mean rel. diff. for factors [1, 1.5, 2, 2.5, 3]:\n",
      "  12.22%\n",
      "\n",
      "Mean rel. diff. for factors [1, 4]:\n",
      "  12.73%\n",
      "\n"
     ]
    }
   ],
   "source": [
    "# Look at the mean relative difference to quickly tell the best choice for your options\n",
    "for factors, res in zip(noise_factors, results):\n",
    "    d = rdiff(ideal_results[0], res[0])\n",
    "    print(\n",
    "        f\"Mean relative difference for factors {factors}:\\n  {np.round(np.mean(d), 2)}%\\n\"\n",
    "    )"
   ]
  },
  {
   "cell_type": "markdown",
   "id": "4542a9c8-273f-4fef-9954-6ca420dd5b4f",
   "metadata": {},
   "source": [
    "The result with the smallest difference helps you decide which options to choose."
   ]
  }
 ],
 "metadata": {
  "description": "Use the Qiskit Runtime Debugging tools module and `Neat` class to debug and analyze jobs.",
  "kernelspec": {
   "display_name": "Python 3",
   "language": "python",
   "name": "python3"
  },
  "language_info": {
   "codemirror_mode": {
    "name": "ipython",
    "version": 3
   },
   "file_extension": ".py",
   "mimetype": "text/x-python",
   "name": "python",
   "nbconvert_exporter": "python",
   "pygments_lexer": "ipython3",
   "version": "3"
  },
  "title": "Debug Qiskit Runtime jobs"
 },
 "nbformat": 4,
 "nbformat_minor": 4
}
