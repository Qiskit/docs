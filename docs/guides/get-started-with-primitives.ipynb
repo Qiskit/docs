{
 "cells": [
  {
   "cell_type": "markdown",
   "id": "14079bff-5acd-4e9a-8c52-73d32c91bed0",
   "metadata": {},
   "source": [
    "# Get started with primitives\n",
    "\n",
    "The steps in this topic describes how to set up primitives, explore the options you can use to configure them, and invoke them in a program.\n",
    "\n",
    "<Admonition type=\"note\">\n",
    "    While this documentation uses the primitives from Qiskit Runtime, which allow you to use IBM&reg; backends, the primitives can be run on any provider by using the [backend primitives](#backend) instead.  Additionally, you can use the *reference* primitives to run on a local statevector simulator.  See [Exact simulation with Qiskit primitives](simulate-with-qiskit-sdk-primitives) for details.\n",
    "</Admonition>"
   ]
  },
  {
   "cell_type": "markdown",
   "id": "d30f2d12-a722-443e-a5c4-2d6b689ab7f5",
   "metadata": {},
   "source": [
    "<span id=\"start-estimator\"></span>\n",
    "## Get started with Estimator\n",
    "\n",
    "{/*Verified the v2 examples 2/29 */}\n",
    "\n",
    "### 1. Initialize the account\n",
    "\n",
    "Because Qiskit Runtime Estimator is a managed service, you first need to initialize your account. You can then select the QPU you want to use to calculate the expectation value.\n",
    "\n",
    "Follow the steps in the [Install and set up topic](install-qiskit) if you don't already have an account."
   ]
  },
  {
   "cell_type": "code",
   "execution_count": 1,
   "id": "2a542fe3-e233-4b54-821d-e12830a76b03",
   "metadata": {
    "vscode": {
     "languageId": "plaintext"
    }
   },
   "outputs": [
    {
     "name": "stdout",
     "output_type": "stream",
     "text": [
      "ibm_cusco\n"
     ]
    }
   ],
   "source": [
    "from qiskit_ibm_runtime import QiskitRuntimeService\n",
    "\n",
    "service = QiskitRuntimeService()\n",
    "backend = service.least_busy(operational=True, simulator=False, min_num_qubits=127)\n",
    "\n",
    "print(backend.name)"
   ]
  },
  {
   "cell_type": "markdown",
   "id": "61ce8a47-0554-47fc-b594-5d5836130022",
   "metadata": {},
   "source": [
    "### 2. Create a circuit and an observable\n",
    "\n",
    "You need at least one circuit and one observable as inputs to the Estimator primitive."
   ]
  },
  {
   "cell_type": "code",
   "execution_count": 2,
   "id": "19fd16fe-0744-4fa0-b4dc-837b1e52c4f0",
   "metadata": {},
   "outputs": [
    {
     "name": "stdout",
     "output_type": "stream",
     "text": [
      ">>> Observable: ['IIIIIIIIIIIIIIIIIIIIIIIIIIIIIIIIIIIIIIIIIIIIIIIIII...',\n",
      " 'IIIIIIIIIIIIIIIIIIIIIIIIIIIIIIIIIIIIIIIIIIIIIIIIII...',\n",
      " 'IIIIIIIIIIIIIIIIIIIIIIIIIIIIIIIIIIIIIIIIIIIIIIIIII...',\n",
      " 'IIIIIIIIIIIIIIIIIIIIIIIIIIIIIIIIIIIIIIIIIIIIIIIIII...',\n",
      " 'IIIIIIIIIIIIIIIIIIIIIIIIIIIIIIIIIIIIIIIIIIIIIIIIII...',\n",
      " 'IIIIIIIIIIIIIIIIIIIIIIIIIIIIIIIIIIIIIIIIIIIIIIIIII...',\n",
      " 'IIIIIIIIIIIIIIIIIIIIIIIIIIIIIIIIIIIIIIIIIIIIIIIIII...',\n",
      " 'IIIIIIIIIIIIIIIIIIIIIIIIIIIIIIIIIIIIIIIIIIIIIIIIII...',\n",
      " 'IIIIIIIIIIIIIIIIIIIIIIIIIIIIIIIIIIIIIIIIIIIIIIIIII...',\n",
      " 'IIIIIIIIIIIIIIIIIIIIIIIIIIIIIIIIIIIIIIIIIIIIIIIIII...',\n",
      " 'IIIIIIIIIIIIIIIIIIIIIIIIIIIIIIIIIIIIIIIIIIIIIIIIII...',\n",
      " 'IIIIIIIIIIIIIIIIIIIIIIIIIIIIIIIIIIIIIIIIIIIIIIIIII...',\n",
      " 'IIIIIIIIIIIIIIIIIIIIIIIIIIIIIIIIIIIIIIIIIIIIIIIIII...',\n",
      " 'IIIIIIIIIIIIIIIIIIIIIIIIIIIIIIIIIIIIIIIIIIIIIIIIII...',\n",
      " 'IIIIIIIIIIIIIIIIIIIIIIIIIIIIIIIIIIIIIIIIIIIIIIIIII...', ...]\n"
     ]
    }
   ],
   "source": [
    "from qiskit.circuit.library import QAOAAnsatz\n",
    "from qiskit.quantum_info import SparsePauliOp\n",
    "\n",
    "entanglement = [tuple(edge) for edge in backend.coupling_map.get_edges()]\n",
    "observable = SparsePauliOp.from_sparse_list(\n",
    "    [(\"ZZ\", [i, j], 0.5) for i, j in entanglement],\n",
    "    num_qubits=backend.num_qubits\n",
    ")\n",
    "circuit = QAOAAnsatz(observable, reps=2)\n",
    "# the circuit is parametrized, so we will define the parameter values for execution\n",
    "param_values = [0.1, 0.2, 0.3, 0.4]\n",
    "\n",
    "print(f\">>> Observable: {observable.paulis}\")"
   ]
  },
  {
   "cell_type": "markdown",
   "id": "74322f47-61a0-4efc-a7c5-f8d4a9c18fb6",
   "metadata": {},
   "source": [
    "The circuit and observable need to be transformed to only use instructions supported by the QPU (referred to as *instruction set architecture (ISA)* circuits). We'll use the transpiler to do this."
   ]
  },
  {
   "cell_type": "code",
   "execution_count": 3,
   "id": "b8635a25-bd1c-40f4-aabb-a91730e399e2",
   "metadata": {
    "vscode": {
     "languageId": "plaintext"
    }
   },
   "outputs": [
    {
     "name": "stdout",
     "output_type": "stream",
     "text": [
      ">>> Circuit ops (ISA): OrderedDict({'rz': 2729, 'sx': 1209, 'ecr': 576, 'x': 274})\n"
     ]
    }
   ],
   "source": [
    "from qiskit.transpiler.preset_passmanagers import generate_preset_pass_manager\n",
    "\n",
    "pm = generate_preset_pass_manager(optimization_level=1, backend=backend)\n",
    "isa_circuit = pm.run(circuit)\n",
    "isa_observable = observable.apply_layout(isa_circuit.layout)\n",
    "print(f\">>> Circuit ops (ISA): {isa_circuit.count_ops()}\")"
   ]
  },
  {
   "cell_type": "markdown",
   "id": "c5d28704-4a41-4ac0-8769-39fb43da837f",
   "metadata": {},
   "source": [
    "### 3. Initialize Qiskit Runtime Estimator\n",
    "\n",
    "When you initialize the Estimator, use the `mode` parameter to specify the mode you want it to run in.  Possible values are `batch`, `session`, or `backend` objects for batch, session, and job execution mode, respectively. For more information, see [Introduction to Qiskit Runtime execution modes.](execution-modes)"
   ]
  },
  {
   "cell_type": "code",
   "execution_count": 4,
   "id": "bf57cca3-1ae9-410c-a75c-8cc7e248c1bf",
   "metadata": {},
   "outputs": [],
   "source": [
    "from qiskit_ibm_runtime import EstimatorV2 as Estimator\n",
    "\n",
    "estimator = Estimator(mode=backend)"
   ]
  },
  {
   "cell_type": "markdown",
   "id": "ab9bc5bc-d553-403f-9128-3c83a13f3c5b",
   "metadata": {},
   "source": [
    "### 4. Invoke the Estimator and get results\n",
    "\n",
    "Next, invoke the `run()` method to calculate expectation values for the input circuits and observables. The circuit, observable, and optional parameter value sets are input as *primitive unified bloc* (PUB) tuples."
   ]
  },
  {
   "cell_type": "code",
   "execution_count": 5,
   "id": "dc280093-30b8-4efd-a159-138af1242004",
   "metadata": {},
   "outputs": [
    {
     "name": "stdout",
     "output_type": "stream",
     "text": [
      ">>> Job ID: cwge6580r6b0008pfrk0\n",
      ">>> Job Status: QUEUED\n"
     ]
    }
   ],
   "source": [
    "job = estimator.run([(isa_circuit, isa_observable, param_values)])\n",
    "print(f\">>> Job ID: {job.job_id()}\")\n",
    "print(f\">>> Job Status: {job.status()}\")"
   ]
  },
  {
   "cell_type": "code",
   "execution_count": 6,
   "id": "612be948-7a11-4169-a325-2f09948adc44",
   "metadata": {},
   "outputs": [
    {
     "name": "stdout",
     "output_type": "stream",
     "text": [
      ">>> PrimitiveResult([PubResult(data=DataBin(evs=np.ndarray(<shape=(), dtype=float64>), stds=np.ndarray(<shape=(), dtype=float64>), ensemble_standard_error=np.ndarray(<shape=(), dtype=float64>)), metadata={'shots': 4096, 'target_precision': 0.015625, 'circuit_metadata': {}, 'resilience': {}, 'num_randomizations': 32})], metadata={'dynamical_decoupling': {'enable': False, 'sequence_type': 'XX', 'extra_slack_distribution': 'middle', 'scheduling_method': 'alap'}, 'twirling': {'enable_gates': False, 'enable_measure': True, 'num_randomizations': 'auto', 'shots_per_randomization': 'auto', 'interleave_randomizations': True, 'strategy': 'active-accum'}, 'resilience': {'measure_mitigation': True, 'zne_mitigation': False, 'pec_mitigation': False}, 'version': 2})\n",
      "  > Expectation value: 1.1780506867370983\n",
      "  > Metadata: {'shots': 4096, 'target_precision': 0.015625, 'circuit_metadata': {}, 'resilience': {}, 'num_randomizations': 32}\n"
     ]
    }
   ],
   "source": [
    "result = job.result()\n",
    "print(f\">>> {result}\")\n",
    "print(f\"  > Expectation value: {result[0].data.evs}\")\n",
    "print(f\"  > Metadata: {result[0].metadata}\")"
   ]
  }
 ],
 "metadata": {
  "description": "How to use the Estimator and Sampler primitives in Qiskit Runtime.",
  "kernelspec": {
   "display_name": "Python 3",
   "language": "python",
   "name": "python3"
  },
  "language_info": {
   "codemirror_mode": {
    "name": "ipython",
    "version": 3
   },
   "file_extension": ".py",
   "mimetype": "text/x-python",
   "name": "python",
   "nbconvert_exporter": "python",
   "pygments_lexer": "ipython3",
   "version": "3"
  },
  "title": "Get started with primitives"
 },
 "nbformat": 4,
 "nbformat_minor": 4
}
