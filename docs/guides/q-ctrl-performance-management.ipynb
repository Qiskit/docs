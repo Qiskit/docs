{
 "cells": [
  {
   "cell_type": "markdown",
   "id": "dde95705",
   "metadata": {},
   "source": [
    "# Performance Management: A Qiskit Function by Q-CTRL Fire Opal\n",
    "\n",
    "<Admonition type=\"note\">\n",
    "Qiskit Functions are an experimental feature available only to IBM Quantum&trade; Premium Plan users. They are in preview release status and subject to change.\n",
    "</Admonition>\n",
    "\n",
    "## Overview\n",
    "\n",
    "Fire Opal Performance Management makes it simple for anyone to achieve meaningful results from quantum computers at scale without needing to be quantum hardware experts. When running circuits with Fire Opal Performance Management, AI-driven error suppression techniques are automatically applied, enabling the scaling of larger problems with more gates and qubits. This approach reduces the number of shots required to reach the correct answer, with no added overhead — resulting in significant savings in both compute time and cost.\n",
    "\n",
    "Performance Management suppresses errors and increases the probability of getting the correct answer on noisy hardware. In other words, it increases the signal-to-noise ratio. The following image shows how increased accuracy enabled by Performance Management can reduce the need for additional shots in the case of a 10-qubit Quantum Fourier Transform algorithm. With only 30 shots, Q-CTRL reaches the 99% confidence threshold, whereas the default (`QiskitRuntime` Sampler, `optimization_level`=3 and `resilience_level`=1, `ibm_sherbrooke`) requires 170,000 shots. By getting the right answer faster, you save significant compute runtime.\n",
    "\n",
    "![Visualization of the improved runtime](/images/guides/qctrl-performance-management/achieve_more.svg)\n",
    "\n",
    "The Performance Management function can be used with any algorithm, and you can easily use it in place of the standard [Qiskit Runtime primitives](./primitives). Behind the scenes, multiple error suppression techniques work together to prevent errors from happening at runtime. All Fire Opal pipeline methods are pre-configured and algorithm-agnostic, meaning you always get the best performance out of the box.\n",
    "\n",
    "To get access to Performance Management, [contact Q-CTRL](https://form.typeform.com/to/JKHcaxlv?typeform-source=q-ctrl.com#product=Fire%20Opal)."
   ]
  },
  {
   "cell_type": "markdown",
   "id": "5f761442",
   "metadata": {},
   "source": [
    "## Description\n",
    "\n",
    "Fire Opal Performance Management has two options for execution that are similar to the Qiskit Runtime primitives, so you can easily swap in the Q-CTRL Sampler and Estimator. The general workflow for using the Performance Management function is:\n",
    "1. Define your circuit (and operators in the case of the Estimator).\n",
    "2. Run the circuit.\n",
    "3. Retrieve the results.\n",
    "\n",
    "To reduce hardware noise, Fire Opal employs a range of AI-driven error suppression techniques depicted in the following image. With Fire Opal, the entire pipeline is completely automated with zero need for configuration.\n",
    "\n",
    "Fire Opal's pipeline eliminates the need for additional overhead, such as increased quantum runtime or extra physical qubits. Note that classical processing time remains a factor (refer to the Benchmarks section for estimates, where \"Total time\" reflects both classical and quantum processing). In contrast to error mitigation, which requires overhead in the form of sampling, Fire Opal's error suppression works at both the gate and pulse levels to address various sources of noise and to prevent the likelihood of an error occurring. By preventing errors, the need for expensive post-processing is eliminated.\n",
    "\n",
    "The following image depicts the error suppression methods automated by Fire Opal Performance Management.\n",
    "\n",
    "![Visualization of the error suppression pipeline](/images/guides/qctrl-performance-management/error_suppression.svg)\n",
    "\n",
    "The function offers two primitives, Sampler and Estimator, and the inputs and outputs of both follow the implemented spec for [Qiskit Runtime V2 primitives](../guides/primitive-input-output). See the Inputs and Outputs sections for detailed interface information."
   ]
  },
  {
   "cell_type": "markdown",
   "id": "64534d1a",
   "metadata": {},
   "source": [
    "## Benchmarks\n",
    "\n",
    "[Published algorithmic benchmarking](https://journals.aps.org/prapplied/abstract/10.1103/PhysRevApplied.20.024034) results demonstrate significant performance improvement across various algorithms, including Bernstein-Vazirani, quantum Fourier transform, Grover’s search, quantum approximate optimization algorithm, and variational quantum eigensolver. The rest of this section provides more details about types of algorithms you can run, as well as the expected performance and runtimes.\n",
    "\n",
    "The following independent studies demonstrate how Q-CTRL's Performance Management enables algorithmic research at record-breaking scale:\n",
    "- [Parametrized Energy-Efficient Quantum Kernels for Network Service Fault Diagnosis](https://arxiv.org/abs/2405.09724v1) - up to 50-qubit quantum kernel learning\n",
    "- [Tensor-based quantum phase difference estimation for large-scale demonstration](https://arxiv.org/abs/2408.04946) - up to 33-qubit quantum phase estimation\n",
    "- [Hierarchical Learning for Quantum ML: Novel Training Technique for Large-Scale Variational Quantum Circuits](https://arxiv.org/abs/2311.12929) - up to 21-qubit quantum data loading\n",
    "\n",
    "The following table provides a rough guide on accuracy and runtimes from prior benchmarking runs on `ibm_fez`. Performance on other devices may vary. The usage time is based on an assumption of 10,000 shots per circuit. The \"Number of qubits\" indicated is not a hard limitation but represents rough thresholds where you can expect extremely consistent solution accuracy. Larger problem sizes have been successfully solved, and testing beyond these limits is encouraged.\n",
    "\n",
    "\n",
    "| Example    | Number of qubits | Accuracy | Measure of accuracy | Total time (s) | Runtime usage (s) | Primitive (Mode) |\n",
    "| ---------  | ---------------- | -------------------------- | -------- | ---------- | ------------- |------------- |\n",
    "| Bernstein–Vazirani  |  50Q    | 100%  | Success Rate (Percentage of runs where the correct answer is the highest count bitstring)     | 10    | 8         | Sampler |\n",
    "| Quantum Fourier Transform | 30Q              | 100% | Success Rate (Percentage of runs where the correct answer is the highest count bitstring)      | 10    | 8        | Sampler |\n",
    "| Quantum Phase Estimation  | 30Q   | 99.9998%  | Accuracy of the angle found: `1- abs(real_angle - angle_found)/pi`  | 10  | 8  | Sampler |\n",
    "| Quantum simulation: Ising model (15 steps) | 20Q  | 99.775%   |  $A$ (defined below)  |  60 (per step)  | 15 (per step)   | Estimator |\n",
    "| Quantum simulation 2: molecular dynamics (20 time points) | 34Q  |  96.78%  |  $A_{mean}$ (defined below)   | 10 (per time point)    | 6 (per time point)  | Estimator |\n",
    "\n",
    "Defining the accuracy of the measurement of an expectation value - the metric $A$ is defined as follows:\n",
    "$$\n",
    "A = 1 - \\frac{|\\epsilon^{ideal} - \\epsilon^{meas}|}{\\epsilon^{ideal}_{max} - \\epsilon^{ideal}_{min}},\n",
    "$$\n",
    "where $ \\epsilon^{ideal} $ = ideal expectation value,  $ \\epsilon^{meas} $ = measured expectation value, $\\epsilon^{ideal}_{max} $ = ideal maximum value, and $\\epsilon^{ideal}_{min}$ = ideal minimum value. $A_{mean}$ is simply the average of the value of $A$ across multiple measurements.\n",
    "\n",
    "This metric is used because it is invariant to global shifts and scaling in the range of attainable values. In other words, regardless of whether you shift the range of possible expectation values higher or lower or increase the spread, the value of $A$ should remain consistent."
   ]
  },
  {
   "cell_type": "markdown",
   "id": "870af0fe",
   "metadata": {},
   "source": [
    "## Get started\n",
    "\n",
    "Authenticate using your [IBM Quantum Platform API token](http://quantum.ibm.com/), and select the Qiskit Function as follows:"
   ]
  },
  {
   "cell_type": "code",
   "execution_count": null,
   "id": "11af8fb4",
   "metadata": {},
   "outputs": [],
   "source": [
    "from qiskit_ibm_catalog import QiskitFunctionsCatalog\n",
    "\n",
    "# Credentials\n",
    "token = \"<YOUR_IQP_API_TOKEN>\"\n",
    "hub = \"<YOUR_IQP_HUB>\"\n",
    "group = \"<YOUR_IQP_GROUP>\"\n",
    "project = \"<YOUR_IQP_PROJECT>\"\n",
    "\n",
    "# Authentication\n",
    "catalog = QiskitFunctionsCatalog(token=token)\n",
    "\n",
    "# Access Function\n",
    "perf_mgmt = catalog.load(\"q-ctrl/performance-management\")"
   ]
  },
  {
   "cell_type": "markdown",
   "id": "2947b5c3",
   "metadata": {},
   "source": [
    "## Estimator Primitive"
   ]
  },
  {
   "cell_type": "markdown",
   "id": "df2788d5",
   "metadata": {},
   "source": [
    "### Estimator Example\n",
    "\n",
    "Use Fire Opal Performance Management's Estimator primitive to determine the expectation value of a single circuit-observable pair."
   ]
  },
  {
   "cell_type": "markdown",
   "id": "82932760",
   "metadata": {},
   "source": [
    "In addition to the `qiskit-ibm-catalog` and `qiskit` packages, you will also use the `numpy` package to run this example. You can install this package by uncommenting the following cell if you are running this example in a notebook using the IPython kernel."
   ]
  },
  {
   "cell_type": "code",
   "execution_count": null,
   "id": "70bb93ef",
   "metadata": {},
   "outputs": [],
   "source": [
    "# %pip install numpy"
   ]
  },
  {
   "cell_type": "markdown",
   "id": "02b2a79a",
   "metadata": {},
   "source": [
    "**1. Create the circuit**\n",
    "\n",
    "As an example, generate a random Hermitian operator and an observable to input to the Performance Management function."
   ]
  },
  {
   "cell_type": "code",
   "execution_count": 28,
   "id": "32037218",
   "metadata": {},
   "outputs": [],
   "source": [
    "import numpy as np\n",
    "from qiskit.circuit.library import IQP\n",
    "from qiskit.quantum_info import random_hermitian, SparsePauliOp\n",
    "\n",
    "n_qubits = 50\n",
    "\n",
    "# Generate a random circuit\n",
    "mat = np.real(random_hermitian(n_qubits, seed=1234))\n",
    "circuit = IQP(mat)\n",
    "circuit.measure_all()\n",
    "\n",
    "# Define observables as a string\n",
    "observable = SparsePauliOp(\"Z\" * n_qubits)"
   ]
  },
  {
   "cell_type": "code",
   "execution_count": 29,
   "id": "476fae6a",
   "metadata": {},
   "outputs": [],
   "source": [
    "# Create PUB tuple\n",
    "estimator_pubs = [(circuit, observable)]"
   ]
  },
  {
   "cell_type": "markdown",
   "id": "09e64cd7",
   "metadata": {},
   "source": [
    "**2. Run the circuit**\n",
    "\n",
    "Run the circuit and optionally define the backend and number of shots."
   ]
  },
  {
   "cell_type": "code",
   "execution_count": 30,
   "id": "26952e1f",
   "metadata": {},
   "outputs": [],
   "source": [
    "# Choose a backend or remove this option to default to the least busy device\n",
    "backend_name = \"<CHOOSE_A_BACKEND>\"\n",
    "\n",
    "# Run the circuit using the sampler\n",
    "qctrl_estimator_job = perf_mgmt.run(\n",
    "    primitive=\"estimator\",\n",
    "    pubs=estimator_pubs,\n",
    "    instance=hub + \"/\" + group + \"/\" + project,\n",
    "    backend_name=backend_name,\n",
    ")"
   ]
  },
  {
   "cell_type": "markdown",
   "id": "c07af9d0",
   "metadata": {},
   "source": [
    "You can use the familiar [Qiskit Serverless APIs](./serverless) to check your Qiskit Function workload's status:"
   ]
  },
  {
   "cell_type": "code",
   "execution_count": 41,
   "id": "2b309861",
   "metadata": {},
   "outputs": [
    {
     "data": {
      "text/plain": [
       "'DONE'"
      ]
     },
     "execution_count": 41,
     "metadata": {},
     "output_type": "execute_result"
    }
   ],
   "source": [
    "qctrl_estimator_job.status()"
   ]
  },
  {
   "cell_type": "markdown",
   "id": "23556c8e",
   "metadata": {},
   "source": [
    "**3. Retrieve the result**"
   ]
  },
  {
   "cell_type": "code",
   "execution_count": 42,
   "id": "8be67088",
   "metadata": {},
   "outputs": [],
   "source": [
    "# Retrieve the counts from the result list\n",
    "result = qctrl_estimator_job.result()"
   ]
  },
  {
   "cell_type": "markdown",
   "id": "7375fcad",
   "metadata": {},
   "source": [
    "The results have the same format as an [Estimator result](/guides/primitive-input-output#estimator-output):"
   ]
  },
  {
   "cell_type": "code",
   "execution_count": 44,
   "id": "ef85a036",
   "metadata": {},
   "outputs": [
    {
     "name": "stdout",
     "output_type": "stream",
     "text": [
      "The result of the submitted job had 1 PUB and has a value:\n",
      " PrimitiveResult([PubResult(data=DataBin(evs=np.ndarray(<shape=(1,), dtype=float64>), stds=np.ndarray(<shape=(1,), dtype=float64>)), metadata={'precision': None})], metadata={})\n",
      "\n",
      "The associated PubResult of this job has the following DataBins:\n",
      " DataBin(evs=np.ndarray(<shape=(1,), dtype=float64>), stds=np.ndarray(<shape=(1,), dtype=float64>))\n",
      "\n",
      "And this DataBin has attributes: dict_keys(['evs', 'stds'])\n",
      "The expectation values measured from this PUB are: \n",
      "[-0.01464844]\n"
     ]
    }
   ],
   "source": [
    "print(\n",
    "    f\"The result of the submitted job had {len(result)} PUB and has a value:\\n {result}\\n\"\n",
    ")\n",
    "print(\n",
    "    f\"The associated PubResult of this job has the following DataBins:\\n {result[0].data}\\n\"\n",
    ")\n",
    "print(f\"And this DataBin has attributes: {result[0].data.keys()}\")\n",
    "print(f\"The expectation values measured from this PUB are: \\n{result[0].data.evs}\")"
   ]
  },
  {
   "cell_type": "markdown",
   "id": "20cb6ab1",
   "metadata": {},
   "source": [
    "### Estimator inputs\n",
    "<Admonition type=\"caution\">Fire Opal Performance Management accepts abstract circuits, in contrast to the native Qiskit Runtime primitives, which only accept circuits that are written in the target backend’s Instruction Set Architecture (ISA). For best results, do not transpile circuits before submitting via the Performance Management function. </Admonition>\n",
    "\n",
    "| Name  | Type  | Description | Required | Default  | Example |\n",
    "|------|------|----------|----------|-----------|-----------|\n",
    "| pubs       | `QctrlEstimatorPubLike` or `list[QctrlEstimatorPubLike]` | One or more tuples containing the inputs listed under `EstimatorPubLike` components   | Yes   | N/A   | `(circuit, observables, parameter_values)`   |\n",
    "| instance   | `str`   | The hub/group/project to use in that format  | No  | A Premium access instance is randomly chosen if your account has access to multiple instances | `\"hub1/group1/project1\"`     |\n",
    "| backend_name| `str`  | The name of the backend | No  |  The least busy backend that your instance has access to | `\"ibm_fez\"` |\n",
    "| options| `dict`  | Input options; see Options section for more details | No  |  See the Options section for details | `{\"default_shots\": 2048}` |\n",
    "\n",
    "**`QctrlEstimatorPubLike` components (derived from the [Qiskit Runtime PUB definition]((/guides/primitive-input-output#estimator-pub))):**\n",
    "- A single circuit defined as a `QuantumCircuit` or in OpenQASM 2.0 or 3.0 string format.\n",
    "- One or more observables that specify the expectation values to estimate, in any of the formats denoted in the list \"Supported observables formats\".\n",
    "- (Optional) A collection of parameter values to bind the circuit against, which follow the same [array broadcasting rules](./primitive-input-output#broadcasting-rules) as the `QiskitRuntime` primitives.\n",
    "- (Optional) A target precision for expectation values to estimate.\n",
    "- (Optional) A real number representing the precision, or a dictionary of run options, such as the shot count.\n",
    "\n",
    "**Supported observables formats:**\n",
    "- Any one of the `ObservablesArrayLike` formats, such as `Pauli`, `SparsePauliOp`, `PauliList`, or `str`\n",
    "- A Pauli string: `\"XY\"`\n",
    "- A dictionary - Pauli strings with coefficients: `{\"XY\": 0.5, \"YZ\": 0.3}`\n",
    "- A list of Pauli strings: `[\"XY\", \"YZ\", \"ZX\"]`\n",
    "- A list of Pauli strings with coefficients: `[(\"XY\", 0.5), (\"YZ\", 0.3)]`\n",
    "- A nested list of Pauli strings: `[[\"XY\", \"YZ\"], [\"ZX\", \"XX\"]]`\n",
    "- A nested list of Pauli strings with coefficients: `[[(\"XY\", 0.1), (\"YZ\", 0.2)], [(\"ZX\", 0.3), (\"XX\", 0.4)]]`\n",
    "\n",
    "**Supported backends:**\n",
    "The following list of backends are currently supported. If your device is not listed, [reach out to Q-CTRL](https://form.typeform.com/to/iuujEAEI?typeform-source=q-ctrl.com) to add support.\n",
    "- ibm_brisbane  \n",
    "- ibm_brussels  \n",
    "- ibm_cleveland  \n",
    "- ibm_fez  \n",
    "- ibm_kawasaki  \n",
    "- ibm_kyiv  \n",
    "- ibm_nazca  \n",
    "- ibm_quebec  \n",
    "- ibm_rensselaer  \n",
    "- ibm_sherbrooke  \n",
    "- ibm_strasbourg  \n",
    "- ibm_torino\n",
    "\n",
    "**Options:**\n",
    "| Name   | Type   | Description  | Default |\n",
    "|--------|----------|-----------------------|---------------------|\n",
    "| session_id | `str`  | An existing Qiskit Runtime session ID  | `\"cw4r3je6f0t010870y3g\"` |\n",
    "| default_shots | `int`  | The number of shots to use for each circuit  | `2048` |\n",
    "| default_precision | `float`  | The target precision for expectation values to estimate for each circuit  | `0.015625` |\n",
    "\n",
    "### Estimator outputs\n",
    "| Name   | Type   | Description  | Example |\n",
    "|--------|---------------------------------|------------------------------------|---------------------|\n",
    "| N/A | `PrimitiveResult`  | The [`PrimitiveResult`](https://docs.quantum.ibm.com/api/qiskit/qiskit.primitives.PrimitiveResult) corresponding to the list of input PUBs | `PubResult(data=DataBin(evs=[0.1234], stds=[0.1]))` |"
   ]
  },
  {
   "cell_type": "markdown",
   "id": "a78ce8bd",
   "metadata": {},
   "source": [
    "## Sampler Primitive"
   ]
  },
  {
   "cell_type": "markdown",
   "id": "b1300f06",
   "metadata": {},
   "source": [
    "### Sampler Example\n",
    "\n",
    "Use Fire Opal Performance Management's Sampler primitive to run a Bernstein–Vazirani circuit. This algorithm, used to find a hidden string from the outputs of a black box function, is a common benchmarking algorithm because there is a single correct answer."
   ]
  },
  {
   "cell_type": "markdown",
   "id": "144e48f3",
   "metadata": {},
   "source": [
    "**1. Create the circuit**\n",
    "\n",
    "Define the correct answer to the algorithm, the hidden bitstring, and the Bernstein–Vazirani circuit. You can adjust the width of the circuit by simply changing the `circuit_width`."
   ]
  },
  {
   "cell_type": "code",
   "execution_count": null,
   "id": "2cd807b1",
   "metadata": {},
   "outputs": [],
   "source": [
    "import qiskit\n",
    "\n",
    "circuit_width = 35\n",
    "hidden_bitstring = \"1\" * circuit_width\n",
    "\n",
    "# Create circuit, reserving one qubit for BV oracle\n",
    "bv_circuit = qiskit.QuantumCircuit(circuit_width + 1, circuit_width)\n",
    "bv_circuit.x(circuit_width)\n",
    "bv_circuit.h(range(circuit_width + 1))\n",
    "for input_qubit, bit in enumerate(reversed(hidden_bitstring)):\n",
    "    if bit == \"1\":\n",
    "        bv_circuit.cx(input_qubit, circuit_width)\n",
    "bv_circuit.barrier()\n",
    "bv_circuit.h(range(circuit_width + 1))\n",
    "bv_circuit.barrier()\n",
    "for input_qubit in range(circuit_width):\n",
    "    bv_circuit.measure(input_qubit, input_qubit)\n",
    "\n",
    "# Create PUB tuple\n",
    "sampler_pubs = [(bv_circuit,)]"
   ]
  },
  {
   "cell_type": "markdown",
   "id": "85d3c00b",
   "metadata": {},
   "source": [
    "**2. Run the circuit**\n",
    "\n",
    "Run the circuit and optionally define the backend and number of shots."
   ]
  },
  {
   "cell_type": "code",
   "execution_count": null,
   "id": "2595df84",
   "metadata": {},
   "outputs": [],
   "source": [
    "# Choose a backend or remove this option to default to the least busy device\n",
    "backend_name = \"<CHOOSE_A_BACKEND>\"\n",
    "\n",
    "# Run the circuit using the sampler\n",
    "qctrl_sampler_job = perf_mgmt.run(\n",
    "    primitive=\"sampler\",\n",
    "    pubs=sampler_pubs,\n",
    "    instance=hub + \"/\" + group + \"/\" + project,\n",
    "    backend_name=backend_name,\n",
    ")"
   ]
  },
  {
   "cell_type": "markdown",
   "metadata": {},
   "source": [
    "Check your Qiskit Function workload's [status](https://docs.quantum.ibm.com/guides/functions#check-job-status) or return [results](https://docs.quantum.ibm.com/guides/functions#retrieve-results) as follows:"
   ]
  },
  {
   "cell_type": "code",
   "execution_count": null,
   "metadata": {},
   "outputs": [
    {
     "name": "stdout",
     "output_type": "stream",
     "text": [
      "DONE\n"
     ]
    }
   ],
   "source": [
    "qctrl_sampler_job.status()"
   ]
  },
  {
   "cell_type": "markdown",
   "metadata": {},
   "source": [
    "**3. Retrieve the result**"
   ]
  },
  {
   "cell_type": "code",
   "execution_count": null,
   "metadata": {},
   "outputs": [],
   "source": [
    "# Retrieve the job results\n",
    "sampler_result = qctrl_sampler_job.result()"
   ]
  },
  {
   "cell_type": "code",
   "execution_count": null,
   "metadata": {},
   "outputs": [
    {
     "name": "stdout",
     "output_type": "stream",
     "text": [
      "Counts for the meas output register: {'00000000000000000000000000000001110': 2, '00000000000000000000000000000011110': 2, '00000000000000000000000000000100000': 2, '00000000000000000000000000000101110': 2, '00000000000000000000000000000111110': 1, '00000000000000000000000000000111111': 1, '00000000000000000000000000001000001': 1, '00000000000000000000000000001111110': 1, '00000000000000000000000000010001010': 2, '00000000000000000000000000010011010': 2, '00000000000000000000000000010110110': 2, '00000000000000000000000000100111101': 2, '00000000000000000000000000101111111': 1, '00000000000000000000000000111111011': 1, '00000000000000000000000000111111111': 1, '00000000000000000000000001000110111': 2, '00000000000000000000000001001011111': 2, '00000000000000000000000001001111110': 5, '00000000000000000000000001011110101': 2, '00000000000000000000000001011111010': 2, '00000000000000000000000001100111110': 2, '00000000000000000000000001111111110': 2, '00000000000000000000000010000000100': 2, '00000000000000000000000010000111100': 2, '00000000000000000000000011101011101': 1, '00000000000000000000000011101110110': 1, '00000000000000000000000011101111010': 1, '00000000000000000000000011110101110': 2, '00000000000000000000000011111111110': 2, '00000000000000000000000100000000000': 2, '00000000000000000000000100001011110': 2, '00000000000000000000000101010000010': 2, '00000000000000000000000101101111110': 2, '00000000000000000000000101111111101': 2, '00000000000000000000000110001111111': 2, '00000000000000000000000110101111010': 1, '00000000000000000000000110101111110': 1, '00000000000000000000000111000111110': 2, '00000000000000000000000111011101110': 2, '00000000000000000000001000111101011': 1, '00000000000000000000001001001111110': 2, '00000000000000000000001010000111111': 2, '00000000000000000000001010001000000': 1, '00000000000000000000001011000011000': 2, '00000000000000000000001011101110110': 1, '00000000000000000000001101111110111': 2, '00000000000000000000001110101101110': 1, '00000000000000000000001110101111101': 1, '00000000000000000000001110101111110': 1, '00000000000000000000001110101111111': 1, '00000000000000000000010000000111111': 1, '00000000000000000000010001001111111': 1, '00000000000000000000010010010010100': 2, '00000000000000000000010010100000001': 1, '00000000000000000000100000000010001': 1, '00000000000000000000100000010101010': 2, '00000000000000000000100000011111111': 2, '00000000000000000000100011011110111': 2, '00000000000000000000100100101111111': 1, '00000000000000000000100101001111101': 1, '00000000000000000000100110000001000': 1, '00000000000000000000101000001100001': 1, '00000000000000000000101001100111110': 2, '00000000000000000000101101001010111': 1, '00000000000000000000101110011111111': 2, '00000000000000000000101110111011111': 1, '00000000000000000000101110111111101': 1, '00000000000000000000101111101111110': 1, '00000000000000000000101111111110110': 1, '00000000000000000001000000001110111': 1, '00000000000000000001000000001111111': 1, '00000000000000000001000000010000001': 2, '00000000000000000001000000101111110': 2, '00000000000000000001000001000110001': 1, '00000000000000000001000001011011111': 2, '00000000000000000001000001011111111': 2, '00000000000000000001000001100111111': 2, '00000000000000000001000001101111001': 1, '00000000000000000001000010001011110': 2, '00000000000000000001000010001111110': 2, '00000000000000000001000010011000000': 1, '00000000000000000001000110101101110': 2, '00000000000000000001001001010000000': 2, '00000000000000000010000011101111100': 1, '00000000000000000010000111100101110': 2, '00000000000000000010001011101111111': 1, '00000000000000000010010001001111011': 1, '00000000000000000010101111101111110': 1, '00000000000000000011000001010001101': 2, '00000000000000000011000001111010001': 1, '00000000000000000011000011101111100': 1, '00000000000000000011101111011111110': 2, '00000000000000000011101111110111111': 2, '00000000000000000100000000000000011': 1, '00000000000000000100000001000111110': 2, '00000000000000000100001110011111101': 2, '00000000000000000100010011101010000': 1, '00000000000000000101000000010001111': 2, '00000000000000000110000001100111110': 2, '00000000000000000110001110111111110': 2, '00000000000000000110011111111110111': 1, '00000000000000001000000000011111111': 2, '00000000000000001000000011111011111': 2, '00000000000000001000000110101111101': 1, '00000000000000001000001101111101110': 2, '00000000000000001000001101111111110': 2, '00000000000000001000001101111111111': 2, '00000000000000001000010001011101110': 2, '00000000000000001000100010000010000': 1, '00000000000000001000100111101111100': 1, '00000000000000001001000000010001010': 2, '00000000000000001001000010110111101': 2, '00000000000000001001011110101111111': 1, '00000000000000001001100010000111100': 1, '00000000000000001001100011000000000': 1, '00000000000000001010000000000000110': 2, '00000000000000001010000000010111110': 2, '00000000000000001010000110000010111': 2, '00000000000000001011011110101111110': 1, '00000000000000001101011010111111111': 2, '00000000000000001110001110101110111': 1, '00000000000000001110111011011111110': 2, '00000000000000001111111111011101101': 2, '00000000000000010000000000000110110': 1, '00000000000000010000000001010111110': 2, '00000000000000010000000011011111111': 2, '00000000000000010000000011101101001': 1, '00000000000000010000000100100111100': 1, '00000000000000010000000100101111100': 1, '00000000000000010001101101111101110': 1, '00000000000000010100100000001101111': 1, '00000000000000010101000000000111010': 1, '00000000000000011000000001001110010': 1, '00000000000000011000000111011111110': 2, '00000000000000011011111110111111110': 1, '00000000000000011100000110001111111': 1, '00000000000000100000000001000110110': 2, '00000000000000100000000011011111100': 2, '00000000000000100000000011101111111': 1, '00000000000000100011000011101011111': 1, '00000000000000101000000101110100101': 2, '00000000000000110111111111101111101': 1, '00000000000000111011111111111111010': 1, '00000000000000111110111110101110111': 1, '00000000000000111111111100111111110': 1, '00000000000001000000000000000111111': 2, '00000000000001000000000001010000011': 2, '00000000000001000000000011101111111': 2, '00000000000001000000000011111111110': 2, '00000000000001000000001001100111110': 2, '00000000000001000000101101111110111': 1, '00000000000001000011111011111011100': 1, '00000000000001000011111101101111010': 1, '00000000000001001000000001101000000': 1, '00000000000001101000000011101111111': 2, '00000000000001111011111011111111111': 2, '00000000000001111111111010111111101': 1, '00000000000010000000000001000111110': 2, '00000000000010000000000010010111111': 2, '00000000000010000000000011111011111': 2, '00000000000010000000000100000000010': 2, '00000000000010000000011111101111110': 1, '00000000000010000000100011011111110': 2, '00000000000010000001000111101111111': 2, '00000000000010100000000010000100001': 2, '00000000000010100000100101101101111': 1, '00000000000010100001000101010001010': 2, '00000000000011001111011100001101110': 2, '00000000000011010111101011111110110': 1, '00000000000011110110001111111100010': 1, '00000000000011111111111010011111110': 2, '00000000000011111111111011001101110': 1, '00000000000100000000000000010000010': 2, '00000000000100000000000000101101111': 2, '00000000000100000000000001111111111': 2, '00000000000100000000000011011111111': 2, '00000000000100000000000110100101101': 2, '00000000000100000000000111001111111': 2, '00000000000100000000010001011111100': 2, '00000000000100000001000000001011101': 2, '00000000000100000010000000111101110': 2, '00000000000100000010000001011100110': 2, '00000000000100000010000110111111111': 2, '00000000000100001000000010001011110': 2, '00000000000100001111011111101111110': 1, '00000000000100010000000011001111110': 2, '00000000000100010000100000000000110': 2, '00000000000100010100001011111111110': 2, '00000000000100100000000001001111111': 2, '00000000000100101000000001010001010': 2, '00000000000100110000010101101111111': 1, '00000000000101000000000010010101110': 2, '00000000000101000000000111011111111': 2, '00000000000101000000100011111111011': 1, '00000000000101000001000001011111010': 2, '00000000000110000000000001000101100': 2, '00000000000110000000000010000011111': 2, '00000000000110000000000101000001001': 1, '00000000000110111111101111111111111': 1, '00000000000110111111111100011111111': 1, '00000000000111101111010110110111110': 2, '00000000001000000000000110111111101': 1, '00000000001000000000100000000111111': 1, '00000000001000000000100100001001000': 1, '00000000001000000000100110101111111': 1, '00000000001000000000100111101111110': 1, '00000000001000000001000000100101010': 1, '00000000001000000100000110101000001': 1, '00000000001000001011111111111110001': 1, '00000000001000010001000100000101111': 1, '00000000001000010010000011110111100': 1, '00000000001000011111111100011101110': 1, '00000000001000011111111110111111110': 1, '00000000001001011110111111111111010': 1, '00000000001001110000000011101110110': 1, '00000000001010000111000111101101111': 1, '00000000001010011110110111111110110': 1, '00000000001100000000100011011111110': 1, '00000000001100000100001010011110111': 1, '00000000001100000101000000001011110': 1, '00000000001100000111110111111101111': 1, '00000000001100010101000010001010001': 1, '00000000001101011111101011111101111': 1, '00000000001101101111111011001111110': 1, '00000000001101110000000000010000101': 1, '00000000001101111110110101101111101': 1, '00000000001110001111111000011101111': 1, '00000000001110010000000001011110111': 1, '00000000001110100001101110101111110': 1, '00000000001110110110111111111111010': 1, '00000000001110111111111110111111110': 1, '00000000001111111011101111100111110': 1, '00000000001111111111011111111110101': 1, '00000000010000000000000000001111100': 1, '00000000010000000000000001000111011': 1, '00000000010000000000000001111110111': 1, '00000000010000000000000111101111110': 1, '00000000010000000000001000001100001': 1, '00000000010000000000010000011001010': 1, '00000000010000000000100001001011101': 1, '00000000010000000000101110100110011': 1, '00000000010000000001000000010001011': 1, '00000000010000000001000001011101110': 1, '00000000010000000001000010101111111': 1, '00000000010000000001001001001101001': 1, '00000000010000000010000001111111111': 1, '00000000010000000011000001010001010': 1, '00000000010000000100000011001000111': 1, '00000000010000001000100000010001000': 1, '00000000010000001011000000101111110': 1, '00000000010000010000000011011111110': 1, '00000000010000100100111001001101111': 1, '00000000010000111110000000100101101': 1, '00000000010000111111111101011111111': 1, '00000000010001000000101110001111111': 1, '00000000010001001000110010110111111': 1, '00000000010001100000001110111110100': 1, '00000000010010000100000100101111111': 1, '00000000010011101111011111100111110': 1, '00000000010100000001000010101111001': 1, '00000000010100000010000001001111110': 1, '00000000010100000100101011000111110': 1, '00000000010100001000000010101111111': 1, '00000000010100110101101111111101101': 1, '00000000010101011111111111111101111': 1, '00000000010111111111111001101101011': 1, '00000000010111111111111110100111111': 1, '00000000011000000000101110111111110': 1, '00000000011000000001000001000000001': 1, '00000000011000000010000000000111110': 1, '00000000011001000001001111110111100': 1, '00000000011001101010111110110111100': 1, '00000000011011111111011111100111100': 1, '00000000011100000000000011111111101': 1, '00000000011100000001000011110111110': 1, '00000000011100010000000111001101110': 1, '00000000011101011111111101011111001': 1, '00000000011110100111111101101110110': 1, '00000000011111101111011010100111111': 1, '00000000011111111100111011010111110': 1, '00000000011111111101011111110111110': 1, '00000000011111111110011111110111110': 1, '00000000011111111111011110101110110': 1, '00000000011111111111110111101111110': 1, '00000000011111111111111110110111110': 1, '00000000011111111111111110111110111': 1, '00000000100000000000000001100000011': 1, '00000000100000000000000010001011111': 1, '00000000100000000000000010001101111': 1, '00000000100000000000011101011111111': 1, '00000000100000000000101101101111111': 1, '00000000100000000001000010000100000': 1, '00000000100000000001000110111111101': 2, '00000000100000000001001110101111110': 1, '00000000100000000011000000110100000': 1, '00000000100000000011000011101111110': 1, '00000000100000010101000000100001111': 1, '00000000100000100000111111101011101': 1, '00000000100000110000010100101111101': 1, '00000000100000111111111100111111011': 1, '00000000100000111111111101011111111': 1, '00000000100100000000000111010111111': 2, '00000000100100000001001001110101110': 2, '00000000100100000001100011111101111': 1, '00000000100101111100111110000110111': 1, '00000000100111111111111111111001111': 1, '00000000101000000001000000000000011': 1, '00000000101000111110110011111111110': 1, '00000000101011111111011101111011011': 1, '00000000101100110111111110111001110': 1, '00000000101101011111110110111101110': 1, '00000000101110100100110000110111110': 1, '00000000101110111011111110011111011': 1, '00000000110100000001000101111110110': 1, '00000000110111110100000000011111111': 1, '00000000110111111000000000001101101': 1, '00000000110111111110010111011001100': 1, '00000000111111110111011110101111101': 1, '00000000111111111111011110111110110': 1, '00000001000000000000000111111111011': 2, '00000001000000000000100011011111110': 2, '00000001000000000001100101111110110': 1, '00000001000000000010011101110111100': 2, '00000001000001001111111111111011111': 2, '00000001000011111111111111101111111': 1, '00000001000100000000111111101101111': 1, '00000001000100000100011110001011111': 1, '00000001001100011111011011111010111': 1, '00000001001110110000000000101111111': 1, '00000001010000000000111001101111111': 1, '00000001010111111111101011111111110': 1, '00000001011111101011111101110111100': 1, '00000001011111111111111010110111100': 1, '00000001110000000001000111101011110': 1, '00000001111101101111111110101011110': 1, '00000001111101111011111111110110110': 1, '00000001111110111111111110110111110': 1, '00000001111111011110111101111111110': 1, '00000001111111111110001011101111110': 1, '00000010000000000000000001010001010': 2, '00000010000000000000001110110111100': 2, '00000010000000000000101100101111101': 1, '00000010000000000000101111011111111': 2, '00000010000000000000101111111111110': 2, '00000010000000000010000011101111111': 1, '00000010000000000111111101101110011': 1, '00000010000000001001001001011101110': 2, '00000010000000010000001000000111001': 1, '00000010000100000000000000011010000': 1, '00000010000100000000001011101111110': 1, '00000010000100000000010111001110111': 1, '00000010001010011111111110011110100': 1, '00000010001110111011110100110111010': 1, '00000010010111111101111111101111111': 1, '00000010011111111011110110101111110': 1, '00000010011111111111010111111111110': 1, '00000010100000000000000011111110111': 1, '00000010100000000000011001000110111': 1, '00000010100000010000000011110111010': 1, '00000010100000010000000110101001100': 1, '00000010110000001111000111100110101': 1, '00000010111110111111011110101111111': 1, '00000010111111111001010011101111111': 1, '00000010111111111111111110101111111': 1, '00000011011010011111101111101111111': 1, '00000011011111111011111111010111111': 1, '00000011011111111111111111111111010': 1, '00000011101111101111110110111111111': 1, '00000011101111110111111111101111110': 1, '00000011101111111011111111101111110': 1, '00000011101111111111111011111110110': 1, '00000011101111111111111111001011110': 1, '00000011111011111110011011111111101': 1, '00000011111011111111111111111111110': 1, '00000011111100111110111111011011111': 1, '00000011111111101111111101111111001': 1, '00000011111111111011111011101101111': 1, '00000011111111111111111110101110011': 1, '00000011111111111111111110111110110': 1, '00000011111111111111111110111111110': 1, '00000011111111111111111111110111101': 1, '00000100000000000000000001011110110': 1, '00000100000000000000000001111101110': 2, '00000100000000000000000010001110011': 1, '00000100000000000000000011000111111': 1, '00000100000000000000000111000111111': 1, '00000100000000000000001001011111111': 5, '00000100000000000000100001110111111': 1, '00000100000000000010000011111110111': 1, '00000100000000000011000000000100001': 1, '00000100000000010011000001001111111': 1, '00000100000000010101111011111111111': 1, '00000100000000011011111010111111111': 1, '00000100000001000000001000000011110': 1, '00000100000001010000010111101111100': 1, '00000100000011000001101111001111110': 1, '00000100000100000000000111111111100': 1, '00000100000100110011011101011101110': 1, '00000100001000000010111010101110110': 1, '00000100001101111111111111111111010': 1, '00000100001110010111111111111111111': 1, '00000100001110101111010011011111110': 1, '00000100001111111011110100101110110': 1, '00000100010000000000000001000000000': 1, '00000100010000000000100000000000001': 1, '00000100010111111111111111001110101': 1, '00000100010111111111111111101111110': 1, '00000100100011111110111110011111110': 1, '00000100100100000000001110010111111': 1, '00000100111111111100011100010101111': 1, '00000101000000001000001110101111101': 1, '00000101010000000000001111101111110': 1, '00000101011111111111111010011110110': 1, '00000101101111101111111011101111110': 1, '00000101101111110110111110110111111': 1, '00000101101111111111111011001110111': 1, '00000101111011111111111110111110011': 1, '00000101111110111111111111111111100': 1, '00000101111111111111111100100100111': 1, '00000101111111111111111111101111111': 1, '00000101111111111111111111111110110': 1, '00000101111111111111111111111111010': 1, '00000110000000000011011111101111110': 1, '00000110000000001000000011101111111': 1, '00000110010111111111111110111110110': 1, '00000110100000000000111111111111110': 1, '00000110100000100000000011111111111': 1, '00000111011110111111111001101111111': 1, '00000111101010101111110101010111111': 1, '00000111110111011111111101011111011': 1, '00000111110111110011111111011011111': 1, '00000111111100100001000011001000011': 1, '00000111111101110111111101100111111': 1, '00000111111111101110011101111111111': 1, '00000111111111111011111111111110100': 1, '00000111111111111101111111011111111': 1, '00001000000000000000000111101100100': 2, '00001000000000000000001111011110110': 2, '00001000000000000000010111111111010': 2, '00001000000000000000111011111111110': 2, '00001000000000000001000011001111111': 2, '00001000000000010000000001110111110': 2, '00001000000000101111111111101111111': 2, '00001000000010100000000001001011111': 2, '00001000000100000000100000000101101': 2, '00001000001000000001011010011101111': 1, '00001000001001111000001110001111110': 1, '00001000001001111110111111001001110': 1, '00001000001101111111110101101111100': 1, '00001000011010100100000000111111111': 1, '00001000011111101111111011101111110': 1, '00001000100000000000000011110101111': 2, '00001000100000000000111110111110101': 1, '00001000111000010010000001111011110': 1, '00001001001000000001101111101111100': 1, '00001001111111110111111110110010111': 1, '00001011011111111111111110111111110': 1, '00001011111101111111010001010000001': 1, '00001011111110101111111100111111111': 1, '00001011111111110110111111101111110': 1, '00001011111111111111011111101011100': 1, '00001011111111111111111000001111110': 1, '00001011111111111111111110111111111': 1, '00001011111111111111111111101011110': 1, '00001011111111111111111111101111010': 1, '00001011111111111111111111111111110': 1, '00001100000000000000000000001001001': 1, '00001100000000000000000100000111110': 2, '00001100000000000011000000000001011': 2, '00001100111111111011110111111111111': 1, '00001101101110111111111101111011110': 1, '00001101110111111100011011110111111': 2, '00001101111100000101000001010001001': 1, '00001101111111111011011001000001010': 1, '00001101111111111111011101111111011': 1, '00001101111111111111111011101111110': 1, '00001110000000000000000001000101111': 2, '00001110000000000000100011001111111': 1, '00001110000000000010010010000111111': 1, '00001110000110000000000001000111101': 2, '00001110100001000001100001001111110': 1, '00001111001110111011111110101110101': 1, '00001111011011111110111110101111111': 1, '00001111011110011111111111000111101': 1, '00001111011111111011111100100111110': 1, '00001111101111111011111010101111010': 1, '00001111111010111110111011001111111': 1, '00001111111011111111111111101111100': 1, '00001111111100001011111000010000011': 1, '00001111111110111011111010101111111': 1, '00001111111110111110110100111111100': 1, '00001111111111101111101011010110100': 1, '00001111111111110111111010101111001': 1, '00001111111111111011011011111111100': 1, '00001111111111111101011111111111011': 1, '00001111111111111111111100001011111': 1, '00001111111111111111111110001111110': 1, '00010000000000000000000001101110110': 2, '00010000000000000000000011101110111': 2, '00010000000000000000101110101111011': 1, '00010000000000000000111111111011100': 2, '00010000000000000001000010001110110': 2, '00010000000000000001001010000011110': 2, '00010000000000000010000001011111100': 2, '00010000000000000100100001000111111': 2, '00010000000000001000000001000010000': 2, '00010000000000001000000001001000001': 2, '00010000000000001000000001011110111': 2, '00010000000000001000000010000000011': 2, '00010000000000001000100000100000000': 2, '00010000000000001111111110111100110': 2, '00010000000000010110111111101111110': 1, '00010000000000011011000001111011111': 2, '00010000000001000000000010101111100': 2, '00010000000010100001000000010101110': 2, '00010000000111111111101110001110110': 1, '00010000000111111111111111100111111': 2, '00010000001000000000000001011111110': 2, '00010000001000010000000000000000001': 1, '00010000001000010010000001001111110': 1, '00010000001100011111111110100111111': 1, '00010000001111111111011011111111110': 1, '00010000010000000001000000100100111': 1, '00010000010000000001001101111101101': 2, '00010000010000010000000110110101101': 2, '00010000100000000000100010101011111': 1, '00010000100000001001001011111111000': 2, '00010000100000100111000001110101110': 2, '00010000100110111111111111101111110': 1, '00010000101000000000000000000111110': 1, '00010000101001111111111110101110101': 1, '00010000101110111111011111110001010': 1, '00010001000100000000000001001111111': 2, '00010001010000000000100111111111110': 2, '00010010000000000000000100000101010': 2, '00010010001110011110011011111111111': 1, '00010010101111110111111110101011101': 1, '00010011011111011011101111110111110': 1, '00010011110111011111111011111111111': 1, '00010011111011111111111111111110111': 1, '00010100000000110000010001001110101': 1, '00010100000100001010000111011110101': 2, '00010101111111011111010110000111111': 1, '00011000000000000000000001111010111': 2, '00011000000000000000000100000010011': 2, '00011000000000010001110000010000001': 2, '00011000000000100001010000101111110': 2, '00011000101111111011110001101101101': 1, '00011011111111111010110011100111111': 1, '00011011111111111111111111101111111': 1, '00011110010000000010000001000111111': 1, '00011111111111111111110111100110110': 1, '00011111111111111111111110011011010': 1, '00100000000000000000000100101100100': 1, '00100000000000000001010000001111100': 1, '00100000000000000011000110001101110': 1, '00100000000100101000000111111011110': 2, '00100010000000000011111110011111110': 1, '00100100011000000100000011001111110': 1, '00101110000000000000000001111011110': 2, '00110000000000000001111110111111101': 1, '00110000000000000010000000010101111': 2, '00110000000100000000100110100111011': 1, '00110000001111111111111000101101101': 1, '00110100000000000000100101111111110': 1, '00110101111111111111110111111101110': 1, '00110111111010111111111111111111111': 1, '00111000000000000000000101110111110': 2, '00111011101111111011111101010110110': 2, '00111011111111111111111111111011111': 1, '00111110111011110101111111101111111': 1, '00111111101011110111111111001111110': 1, '00111111111011111111110100111111110': 1, '00111111111111110011111110101111101': 1, '00111111111111111111111110011011101': 1, '00111111111111111111111111111111101': 1, '01000000000000000000001010011101110': 1, '01000000000000000000101101101111101': 1, '01000000000000000001000111101111011': 1, '01000000000000000001001110100000000': 1, '01000000000000000010000000001111010': 1, '01000000000000000010111111101110111': 1, '01000000000000000100010001110111110': 1, '01000000000000000100100011111111100': 1, '01000000000000001000000010110000001': 1, '01000000000000001000000101001111111': 1, '01000000000000001001111101110111111': 1, '01000000000000001010000010100110100': 1, '01000000000000010000000010100000001': 1, '01000000000000010011000000100101111': 1, '01000000000000100000000000100000000': 1, '01000000000000100001000001011101111': 1, '01000000000001000000000001011000010': 1, '01000000000001000000100011111111101': 1, '01000000000001000001000011001101111': 1, '01000000000001010000000011101111101': 1, '01000000000001110000100001101111110': 1, '01000000000010000110100000000000001': 1, '01000000000010100000000001010011010': 2, '01000000000011111111101011111111010': 1, '01000000000100000000011101100111101': 1, '01000000000111111011100011110111011': 1, '01000000000111111111111111110111111': 1, '01000000001011001111111110101011111': 1, '01000000001011111101111101111111110': 1, '01000000001011111111110111111110110': 1, '01000000001101011110111111111101110': 1, '01000000001111111111111110101101010': 1, '01000000001111111111111111111101110': 1, '01000000010000001000100011111111110': 1, '01000000010000010000001000111001110': 1, '01000000010001000010001001111101111': 1, '01000000010100011001100011011111110': 1, '01000000010111111111011010101111111': 1, '01000000011000111111111111111111101': 1, '01000000011010111111111110111011111': 1, '01000000011111111111111100101111110': 1, '01000000100000000010000001100011000': 1, '01000000100000000010000010011111111': 1, '01000000100011011111011111011111100': 1, '01000000101001100000000001100111110': 1, '01000001000000000000000010001101110': 1, '01000001000000000001100110001111110': 1, '01000001101111111111111110101101010': 1, '01000010000000000001000001001110110': 1, '01000010000100000001000111101101101': 1, '01000010001110101111110111111111100': 1, '01000010111111111111111000110111100': 1, '01000011111011101111111100111111101': 1, '01000011111110111111101111010111111': 1, '01000100000000000000010001000101110': 1, '01000100000000000000100000001111110': 1, '01000100000000000001000111101110111': 1, '01000100000000000010000001011111101': 1, '01000100000000000100001010101111111': 1, '01000100000000000101101111101101100': 1, '01000100000000001000000000000000001': 1, '01000100000000001000000000001111110': 1, '01000100000000001000001111001111110': 1, '01000100000000001000101101000111111': 1, '01000100000000011111111110110111100': 1, '01000100000010011001000101100111111': 1, '01000100000100000000000111101111110': 1, '01000100000100000000110101010111111': 1, '01000100000100001100011101111111110': 1, '01000100000100100010000101011111110': 1, '01000100000110100101000000001110111': 1, '01000100000111000001100100100110110': 1, '01000100010000000000100001000001000': 1, '01000100010000001110111000101111110': 1, '01000100010010111111101100111101110': 1, '01000100011100001010000010010101101': 1, '01000100100000000000000111100101111': 1, '01000100100100000000000000000111011': 1, '01000100100100000000001110111000000': 1, '01000101000000000000000101000111100': 1, '01000101100000000000000001000000111': 1, '01000101110101011111011010111111110': 1, '01000110000000000000001011110111110': 1, '01000110000000000000001111101111110': 1, '01000110000000100000000010111111101': 1, '01000110100100000000100111111111111': 1, '01000111011101111100000101000001100': 1, '01001000000000000001010001001101111': 1, '01001000000000000001100000001000001': 1, '01001000000000000010000000010011011': 1, '01001000001000000010111001111111110': 1, '01001000001110111101111111101011011': 1, '01001000111111111111111111111111111': 1, '01001001011011110110111100100111111': 1, '01001001101111111111111111111111110': 1, '01001001111110111111111101111111111': 1, '01001010101111110011110111111110111': 1, '01001010111111111110110111111101110': 1, '01001010111111111111011011110111100': 1, '01001011100000010010110111000111110': 1, '01001011101011011111011111100111111': 1, '01001011101101100111111011111111101': 1, '01001011101110111111111101011110100': 1, '01001011101111111101111010101111111': 1, '01001011101111111111111011010111110': 1, '01001011101111111111111100011001110': 1, '01001011101111111111111111110111101': 1, '01001011110000000000000011000001001': 1, '01001011110000000110000001000111101': 1, '01001011110111010111110111111111111': 1, '01001011110111111111111111111111110': 1, '01001011111000000000000000010100010': 1, '01001011111010000001100010010000001': 1, '01001011111010111111111110100111100': 1, '01001011111011100000000000000111011': 1, '01001011111011101011111111101111111': 1, '01001011111011110011111111111110111': 1, '01001011111011111101111011101111100': 1, '01001011111011111111111111111111110': 1, '01001011111100001111010011001011111': 1, '01001011111101101111111111111110110': 1, '01001011111101111110101010101011110': 1, '01001011111101111110111100101111000': 1, '01001011111101111111111111000111110': 1, '01001011111101111111111111101110010': 1, '01001011111110000000000100010110110': 1, '01001011111110010000000011011111110': 1, '01001011111110110111111111111001110': 1, '01001011111110111011001111110000110': 1, '01001011111110111011111111111111111': 1, '01001011111110111111011001010010000': 1, '01001011111110111111111100111111110': 1, '01001011111110111111111110111111111': 1, '01001011111111001111110110111111111': 1, '01001011111111101101011111111110011': 1, '01001011111111101111001111100110111': 1, '01001011111111101111011111100111100': 1, '01001011111111110010111011010101011': 1, '01001011111111110011111101111111101': 1, '01001011111111110110110111010101110': 1, '01001011111111110110111111100111111': 1, '01001011111111110111110111111011111': 1, '01001011111111110111111111111111110': 1, '01001011111111111010111111011101100': 1, '01001011111111111011111111010111110': 1, '01001011111111111011111111111111110': 1, '01001011111111111100011111101111110': 1, '01001011111111111100111111101110110': 1, '01001011111111111101111100111111001': 1, '01001011111111111101111111110101110': 1, '01001011111111111110101111110111110': 1, '01001011111111111110111101101111111': 1, '01001011111111111110111111100111110': 1, '01001011111111111110111111111111110': 1, '01001011111111111111010000101111110': 1, '01001011111111111111010110111110111': 1, '01001011111111111111100111011101110': 1, '01001011111111111111101100111111010': 1, '01001011111111111111101110011111111': 1, '01001011111111111111111101101011101': 1, '01001011111111111111111101111111111': 4, '01001011111111111111111110011111011': 1, '01001011111111111111111110110011111': 1, '01001011111111111111111111011011110': 1, '01001011111111111111111111011110110': 1, '01001011111111111111111111011111110': 1, '01001011111111111111111111101111110': 1, '01001011111111111111111111110111110': 1, '01001011111111111111111111111111101': 1, '01001100000000011111111101111111001': 1, '01001100100000010000100100011101111': 1, '01001101000000000000000110101110111': 1, '01001110000000000001000010111110111': 1, '01001110001100011111110111110111110': 1, '01001110100000000000000000000100111': 1, '01001111001111111100010010010000001': 1, '01001111011101111110111100111111010': 1, '01001111101011101111011110101111111': 1, '01001111101110111111110011000101111': 1, '01001111101111111111111010110110110': 1, '01001111101111111111111101110111111': 1, '01001111110011110111111111110111100': 1, '01001111110111111011101100001101111': 1, '01001111110111111111111111000111111': 1, '01001111111000000000000011011011111': 1, '01001111111100000001000000010111111': 1, '01001111111101011111111001111101111': 1, '01001111111111101101111101011111100': 1, '01001111111111101111000101011111111': 1, '01001111111111101111111111010111101': 1, '01001111111111111101111111011101110': 1, '01001111111111111110001101111111110': 1, '01001111111111111110011111111011110': 1, '01001111111111111111011111111111110': 1, '01010000000000000000100011101111110': 1, '01010000000000001111000001011111111': 2, '01010000000100001000011011101101111': 1, '01010000010000000001111010101111100': 1, '01010000011011011111111111110000100': 1, '01010000110000000000000000000000000': 1, '01010000110000000000000001001111110': 1, '01010000111110111111110111101110100': 1, '01010001000100000000000001000000001': 1, '01010001000100000000000001100001100': 1, '01010100000000000000000001000000001': 1, '01010100000000000000000111111111110': 1, '01010100000000000000001001000000010': 1, '01010100000100000000101111101111110': 1, '01011011111011111111111110101111111': 1, '01011011111110110110111111001111111': 1, '01011011111111111111011111101111110': 1, '01011011111111111111011111111111111': 1, '01011011111111111111101001101111100': 1, '01011011111111111111101110111101001': 1, '01011111001111111111111110111011001': 1, '01011111011111110111111111111111101': 1, '01011111110000000000000000010111011': 1, '01011111111010111010011111111111111': 1, '01011111111101010000000000001101111': 1, '01011111111101111111110111011101111': 1, '01011111111111111011111111110101101': 1, '01011111111111111111111110111111110': 1, '01100000010000000001011111110111110': 1, '01100100000000000000000111101111111': 1, '01100100000000001000000010001111110': 1, '01101011111110101110011111011111110': 1, '01101011111110111100111110111000111': 1, '01101011111110111111110100101111111': 1, '01101011111111101111010111111111110': 1, '01101011111111111110111010111111111': 1, '01101011111111111111111011101111100': 1, '01101111010011000000000010001111110': 1, '01110000000000001111111111111111111': 1, '01110000010111111111111111011111101': 1, '01110011111011011111111110111110110': 1, '01110100000000000111010011111111110': 1, '01110100000000010000100110101111111': 1, '01110101111111111111111100111101110': 1, '01111011110011111111111111110111111': 1, '01111011111010011011111110111101010': 1, '01111011111110111110011101101111110': 1, '01111011111111101111111111101111110': 1, '01111101101011111111111111011111111': 1, '01111101111111111011101011111111111': 1, '01111101111111111111111111011111110': 1, '01111110100000000000000011000000000': 1, '01111111011011111101111101111111101': 1, '01111111011110000100000111111111110': 1, '01111111011111111111111010110111111': 1, '01111111101010111111111110111110111': 1, '01111111101011111100111110101101111': 1, '01111111101111011111111111110010110': 1, '01111111101111100100000001111111110': 1, '01111111101111111101111111111111111': 1, '01111111110100000100000111101100100': 1, '01111111110111111111111100000101111': 1, '01111111110111111111111100101111110': 1, '01111111111000010100001101101111110': 1, '01111111111001011111010111111111111': 1, '01111111111010111111111100010111110': 1, '01111111111011000010000000010000011': 1, '01111111111011111111111101011111110': 1, '01111111111011111111111111111111101': 1, '01111111111110111111111001111111100': 1, '01111111111111011011111111011111111': 1, '01111111111111111011011111111010101': 1, '01111111111111111011111111111001110': 1, '01111111111111111110111011111101110': 1, '01111111111111111111011110111111110': 1, '01111111111111111111110000010001111': 1, '01111111111111111111110011000101100': 1, '10000000000000000000000000100111110': 2, '10000000000000000000000010010111111': 2, '10000000000000000000000011000000000': 2, '10000000000000000000100110100111101': 2, '10000000000000001011111111100111000': 1, '10000000000000100000000011101111111': 2, '10000000000011000000000000111111110': 2, '10000000000100000000000011101111100': 2, '10000000001001110000100011101001110': 1, '10000000101111000000000001001011011': 1, '10000000110111111111111110111111111': 1, '10000011111101010101111111111111100': 1, '10000100000000000001000101101110110': 1, '10000100000001000000100111110000001': 1, '10001011011011110111111111111011110': 1, '10010000000000000000001001111111111': 2, '10100001000000001001000010011111111': 2, '10100011011111111010111111111111010': 1, '10100011101111111110111111011001110': 1, '10100111111111111111011111111101110': 1, '10101011101111111111111110111101110': 2, '10101011111111011111101101101110110': 1, '10101100111011111111111101111110110': 1, '10101110100001111110111111011111101': 2, '10101111111111111110111100001111110': 1, '10101111111111111111000111111110111': 1, '10101111111111111111110111111111010': 1, '10110000010000000000000010101111010': 1, '10110000100011110101101111101101110': 2, '10110001110110100011000001010000101': 2, '10110100000000000000000000100000001': 2, '10110100011000001100011000101111111': 1, '10110111111111101101111111111110110': 1, '10110111111111111111111111111101100': 1, '10111011101111000000000100111111110': 2, '10111011101111111111111110100011100': 2, '10111011110000000010101000011101111': 2, '10111011110111111111110011011111101': 2, '10111011111111101111111100110100101': 1, '10111011111111110100000110111101111': 2, '10111011111111110111111000101111111': 1, '10111011111111111101111110111111110': 2, '10111011111111111111011001111101110': 2, '10111011111111111111111110101101101': 1, '10111011111111111111111111111011100': 2, '10111101111111101111111001001111111': 1, '10111110111011111111111101101111111': 1, '10111110111111111010111101101110111': 1, '10111110111111111111111111111111100': 1, '10111111011110100000101110101100111': 1, '10111111101111111110110101101111110': 1, '10111111101111111111011111110011010': 2, '10111111110000000000000010000000000': 2, '10111111111010101111111111110111111': 1, '10111111111011101111111100110111111': 1, '10111111111011110111011111110111111': 1, '10111111111011111100100001001101110': 1, '10111111111011111111111111011111110': 1, '10111111111100110111111111111111100': 1, '10111111111110111110111011011111100': 1, '10111111111110111111011110111111110': 1, '10111111111111110111111101111111111': 1, '10111111111111111011010001111100110': 1, '10111111111111111110011101011101110': 1, '10111111111111111110111110011101111': 1, '10111111111111111110111110111110011': 1, '10111111111111111110111111101111110': 1, '10111111111111111110111111111111110': 1, '10111111111111111111011110111111010': 1, '10111111111111111111111001111111110': 1, '10111111111111111111111010100111101': 1, '10111111111111111111111011101111111': 1, '10111111111111111111111100001110011': 1, '10111111111111111111111100111011110': 1, '10111111111111111111111110101011111': 1, '10111111111111111111111110101111111': 1, '10111111111111111111111111101101110': 1, '11000101111101111110111111101011110': 1, '11001011111111111111010011101111011': 1, '11001011111111111111111100000011111': 1, '11001011111111111111111111111111001': 1, '11001111010111111110110100111111110': 1, '11001111101111111111111110111111110': 1, '11001111111111111110111101111010110': 1, '11010100010000000000111111111111111': 1, '11010111111111111111111010111101110': 1, '11011000000001000001111111101111110': 1, '11011011111111011101111110111111101': 1, '11011011111111101110111111111111111': 1, '11011011111111111011111111111001111': 1, '11011101111111111111101111110100001': 1, '11011111110100111111111110111111111': 1, '11011111111110111110000000101111110': 1, '11011111111110111111111101011011100': 1, '11011111111111110010111111111011110': 1, '11011111111111110110111010011011111': 1, '11011111111111111011011110111101010': 1, '11011111111111111101011111111111010': 1, '11011111111111111111011001111011111': 1, '11011111111111111111101110111011110': 1, '11100000000000000001000101000100100': 2, '11100000000000001000100001001111110': 1, '11100000000000010010111111111111101': 1, '11100000000001000010000001111000001': 1, '11100000000100000000000111111011101': 2, '11100000000100010101000011001111110': 1, '11100000001000100000011110100101110': 1, '11100000001100011000000000001101110': 1, '11100000010000000100000111101110110': 1, '11100000010000010011011100001111110': 1, '11100001100000000000100111111111111': 1, '11100001111111110111011111111111111': 1, '11100010000000000010000000001011110': 1, '11100011101111101110111111111101101': 1, '11100100000000000000000111101111110': 1, '11100100000000000000100000011001010': 1, '11100100000000000111000111001011111': 1, '11100100000000010000000010111111111': 1, '11100100000001000000101010100110110': 1, '11100100000100000000000010101111111': 1, '11100100001100011111110010101111111': 1, '11100100001111101110111101101111111': 1, '11100100010111011111111101101101111': 1, '11100101000000001000000001100111011': 1, '11100101101111111111111101110111001': 1, '11100111011111000010100011011111110': 1, '11100111101111111111111111101010110': 1, '11100111111111111110011100111101110': 1, '11100111111111111110111011111101100': 1, '11100111111111111111110101111111111': 1, '11101000000000000000000010010010011': 1, '11101000000000101001011101110111110': 2, '11101001111111111011111111010101111': 1, '11101010010000000010000000001110011': 1, '11101010111110011110111100101111110': 1, '11101010111111110110001110101110110': 1, '11101011011111111111111111111101010': 1, '11101011100011111111110001011110111': 1, '11101011101101111111111111111101110': 1, '11101011110111101111010001101111011': 1, '11101011111011111111111110111111101': 1, '11101011111111001111111111111111101': 1, '11101011111111101111101111001111001': 1, '11101011111111110101111111011111011': 1, '11101011111111110111011110111111100': 1, '11101011111111110111111101110111110': 1, '11101011111111111011111111111111110': 1, '11101011111111111110011110011110110': 1, '11101011111111111110011110111110110': 1, '11101011111111111110110111111110101': 1, '11101011111111111111110001011110101': 1, '11101011111111111111111011101111110': 1, '11101011111111111111111011110111110': 1, '11101011111111111111111101101100111': 1, '11101011111111111111111111111111111': 1, '11101100000000000000000000100000010': 1, '11101100000001001111011110101111100': 1, '11101100001111111111111111100111111': 1, '11101100110000000100000001111110110': 1, '11101101101100011110111110111111110': 1, '11101101111010111111101010001111110': 1, '11101101111110100000000111101111101': 1, '11101101111110111111111110111111110': 1, '11101101111111101111111111101101110': 1, '11101101111111111111111110111101111': 1, '11101101111111111111111111110111111': 1, '11101101111111111111111111111111110': 1, '11101110100111111111111111111101111': 1, '11101110110000000000000000100010001': 1, '11101110111111111101011110111111110': 1, '11101110111111111111011100011011110': 1, '11101111001011011111111011111111011': 1, '11101111011101111101011011110110111': 1, '11101111011101111111111111111101111': 1, '11101111011111110110101110001011110': 1, '11101111011111111011011111110111111': 1, '11101111011111111111111111111111111': 1, '11101111100001111110110011101111101': 1, '11101111100111111111011111011101110': 1, '11101111100111111111111111111101000': 1, '11101111101101110111111111110111111': 1, '11101111101110101110111111111111111': 1, '11101111101111011000000001011111101': 1, '11101111101111011100011011111101111': 1, '11101111101111111011111110111111111': 1, '11101111101111111111011101101011010': 1, '11101111101111111111110001001011101': 1, '11101111101111111111110100111110100': 1, '11101111101111111111110111011111110': 1, '11101111101111111111111011101111011': 1, '11101111101111111111111011111001110': 1, '11101111110000000011000000000100011': 1, '11101111110011110110111111000101110': 1, '11101111110011111111111111011111111': 1, '11101111110100110010000000000110111': 1, '11101111110111110010101111110001010': 1, '11101111110111111111011000011111101': 1, '11101111111000110000000111001111110': 1, '11101111111001111101111111111111111': 1, '11101111111010000011011101000111110': 1, '11101111111010101110111111111010111': 1, '11101111111011011111111100110111111': 1, '11101111111011101111110111111011110': 1, '11101111111011111110111111011011101': 1, '11101111111011111111110011010001111': 1, '11101111111100011110100110011111111': 1, '11101111111100011111011111111111110': 1, '11101111111100111111111101110111110': 1, '11101111111101001111011111110110110': 1, '11101111111101011101111111100111111': 1, '11101111111101101110110110010011111': 1, '11101111111101111101111111110110100': 1, '11101111111101111111111111111011111': 1, '11101111111110000000001101000001101': 1, '11101111111110111111010111111111101': 1, '11101111111110111111011111111111110': 1, '11101111111110111111111110110101111': 1, '11101111111111100111011011111111111': 1, '11101111111111101110111111111111110': 1, '11101111111111101111101111111111110': 1, '11101111111111101111111111111101101': 1, '11101111111111110111101111111111111': 1, '11101111111111111001011111011110111': 1, '11101111111111111010111101111111110': 1, '11101111111111111011110000010001011': 1, '11101111111111111100111111111111101': 1, '11101111111111111110011100011111110': 1, '11101111111111111110110110010100010': 1, '11101111111111111110111001100011111': 1, '11101111111111111110111110111011111': 1, '11101111111111111111010100010001010': 1, '11101111111111111111011101010111101': 1, '11101111111111111111011101100111110': 1, '11101111111111111111011110001111110': 1, '11101111111111111111011110111111101': 1, '11101111111111111111011111111111001': 1, '11101111111111111111101011110111110': 1, '11101111111111111111110101100111110': 1, '11101111111111111111110101111111110': 1, '11101111111111111111110111110001011': 1, '11101111111111111111111000000111110': 1, '11101111111111111111111001010111110': 1, '11101111111111111111111011101111111': 1, '11101111111111111111111101111111100': 1, '11101111111111111111111110011100110': 1, '11101111111111111111111111011011111': 1, '11110000000000000000000000001001001': 1, '11110000000000000000000010001101010': 2, '11110000000000000000000010011001000': 2, '11110000000000000000000011101110100': 2, '11110000000000000000000111100110101': 2, '11110000000000000000001100111101011': 2, '11110000000000000000100111111111111': 2, '11110000000000000000101011001011111': 2, '11110000000000000001000011101111111': 2, '11110000000000000001000100000001111': 2, '11110000000000000001000100101111111': 2, '11110000000000000001001010101111100': 1, '11110000000000000010000001101111010': 1, '11110000000000000100000111111101111': 2, '11110000000000000100100000010001010': 2, '11110000000001010000101000100111110': 1, '11110000000001011110111110101111110': 1, '11110000000001111111111011111011100': 2, '11110000000100000100000000010101101': 2, '11110000000100001000000011101111110': 2, '11110000001100111111101111111011011': 1, '11110000001111111111111101110110101': 1, '11110000001111111111111110111101011': 1, '11110000010000000100000001111111111': 1, '11110000010000001011111000100111110': 1, '11110000010000101001011001000010110': 1, '11110000010111111110010110111101111': 1, '11110000011100111110111011101111000': 1, '11110000100000000000000010101111111': 1, '11110000100000010000000011111111101': 2, '11110000100111101100101101111111110': 2, '11110000101111110111111110111010100': 1, '11110000110000000000000011101110111': 1, '11110001000000000000000011110101110': 2, '11110001000001000000001000110100001': 2, '11110001010000001001011110110110110': 2, '11110001100000000001000011101111110': 1, '11110010000000010001000001011111111': 2, '11110010101000000000000100100001000': 1, '11110011010111111101111111111111110': 1, '11110011011111110110111101111111110': 1, '11110011011111111110110100101111111': 1, '11110011110111110111111101111111110': 1, '11110011111101110110111110111001110': 1, '11110011111101111101111011101011110': 1, '11110011111111111011111101101010101': 1, '11110011111111111101111111111111110': 1, '11110011111111111111010011111110010': 1, '11110011111111111111101111101111010': 1, '11110011111111111111111011111111110': 1, '11110100000000000000000000010101000': 1, '11110100000000000000000000011111111': 1, '11110100000000000000000001001111111': 1, '11110100000000000000000101001111101': 1, '11110100000000000000100001000010001': 1, '11110100000000000011000011110110001': 1, '11110100000000000100000110111011111': 1, '11110100000000000101000000000111111': 1, '11110100000000001001000000001110111': 1, '11110100000000001001000011011011111': 1, '11110100000000010000000010101111110': 1, '11110100000000110110111010111111110': 1, '11110100000010000010100000000000000': 1, '11110100000100000000000111101110110': 1, '11110100000100000000001001111110110': 1, '11110100000100000000100001100001011': 1, '11110100000100000010000001101110010': 1, '11110100000111111111111111111111110': 1, '11110100001000001001001000101111010': 1, '11110100001101011110111111001111111': 1, '11110100001111111010111110011110111': 1, '11110100010000000000000111110000110': 1, '11110100010000000001000001110111111': 1, '11110100010000000001001111101110011': 1, '11110100010100000001001111111101011': 1, '11110100010111111011111100100111110': 1, '11110100010111111110111110101101111': 1, '11110100011111110111110100111011111': 1, '11110100110000101110111111111111101': 1, '11110100110100001001000011101111111': 1, '11110101000000000001001011101101111': 1, '11110101010000001000000000010111010': 1, '11110101100000000000100000010001110': 1, '11110101110000000000000110101111110': 1, '11110101111011101001101110111111101': 1, '11110101111011111110111101111111111': 1, '11110101111101011111111111111011110': 1, '11110101111101111111011101010111111': 1, '11110101111111111011111011111111011': 1, '11110101111111111111000111111111110': 1, '11110101111111111111101110111101110': 1, '11110101111111111111111110111111110': 1, '11110110000000000000000001100111101': 1, '11110110000000000010000100101111110': 1, '11110110000001111111111111011111000': 1, '11110110000010000000000010100010100': 1, '11110110100001101000000000001010011': 1, '11110110101011011111111010001111110': 1, '11110111011111111011111100111111110': 1, '11110111101011111111110111111001110': 1, '11110111101111111001111111111111111': 1, '11110111101111111011111101111111110': 1, '11110111110001111111111110101111010': 1, '11110111111000000000000001000000011': 1, '11110111111000000000000010000000101': 1, '11110111111000000011000001011110111': 1, '11110111111101110111011111101111111': 1, '11110111111101111111111111101000111': 1, '11110111111111011111111111001111110': 1, '11110111111111111001111100011111110': 1, '11110111111111111010111101111111111': 1, '11110111111111111101111100111111111': 1, '11110111111111111101111110110011111': 1, '11110111111111111110011111111111101': 1, '11110111111111111110111111101111110': 1, '11110111111111111111101111111111101': 1, '11110111111111111111111010011110111': 1, '11110111111111111111111011011111111': 1, '11110111111111111111111011111110111': 1, '11110111111111111111111111001111111': 1, '11110111111111111111111111110011110': 1, '11111000000000000010100010101001110': 1, '11111000000000000100000010000000001': 1, '11111000000000001001001111110101100': 2, '11111000000010001110000010100000011': 1, '11111001111110110001011111001111110': 1, '11111001111111011111110111011111110': 1, '11111010001110011111111011111111100': 1, '11111010100000001111101110011011010': 1, '11111010110100110111111010001111101': 1, '11111010111011111111111110111111111': 1, '11111010111110111101111110110111110': 1, '11111010111111111101011011111111111': 1, '11111011011111011111101111101101010': 1, '11111011011111110111111110110001001': 1, '11111011011111111111110001000011110': 1, '11111011011111111111111100011011110': 1, '11111011011111111111111111110101110': 1, '11111011100111101011111011111111111': 1, '11111011101001001111001110101111111': 1, '11111011101111110111110100010111110': 1, '11111011101111111011111001111001110': 1, '11111011101111111011111110111111000': 1, '11111011110010111111101110011111110': 1, '11111011110011110000000001100000010': 1, '11111011110111110111111111010111110': 1, '11111011110111111101111011111110111': 1, '11111011110111111101111111111110101': 1, '11111011110111111111111100111111101': 1, '11111011110111111111111110011101011': 1, '11111011110111111111111111011111110': 1, '11111011110111111111111111101111111': 1, '11111011110111111111111111111100001': 1, '11111011110111111111111111111110001': 1, '11111011110111111111111111111110111': 1, '11111011111001101111111111111000110': 1, '11111011111001110111111101101111110': 1, '11111011111011101111110111101110110': 1, '11111011111011111011011111110101111': 1, '11111011111011111110111110101111001': 1, '11111011111011111110111111101110110': 1, '11111011111011111111010110110011111': 1, '11111011111011111111011110011111111': 1, '11111011111011111111111010101110111': 1, '11111011111011111111111111101110110': 1, '11111011111011111111111111101111111': 1, '11111011111100100000100111001111110': 1, '11111011111101111111111110111111011': 1, '11111011111110000000000011010010000': 1, '11111011111110100111111111111111101': 1, '11111011111110110111111110101011110': 1, '11111011111110111111111111100111110': 1, '11111011111111000000001111100111111': 1, '11111011111111011101111110111110000': 1, '11111011111111101010111111011111110': 1, '11111011111111101110111101101110111': 1, '11111011111111101111111111011101110': 1, '11111011111111110101101100111111111': 1, '11111011111111110110010111111111110': 1, '11111011111111110111011101101101111': 1, '11111011111111110111110111100101000': 1, '11111011111111110111111111101111111': 1, '11111011111111110111111111111101111': 1, '11111011111111110111111111111111100': 1, '11111011111111111011101111111110110': 1, '11111011111111111011111001010111010': 1, '11111011111111111011111001110111111': 1, '11111011111111111011111011101111110': 1, '11111011111111111011111100111110110': 1, '11111011111111111011111111001111110': 4, '11111011111111111011111111010101110': 1, '11111011111111111011111111101001110': 1, '11111011111111111100011111101110101': 1, '11111011111111111100111111111101110': 1, '11111011111111111110110011011101111': 1, '11111011111111111110111110111110001': 1, '11111011111111111110111111111111111': 1, '11111011111111111111001010101111011': 1, '11111011111111111111011000001110111': 1, '11111011111111111111011110011111110': 1, '11111011111111111111011110111011111': 1, '11111011111111111111011110111111110': 1, '11111011111111111111011111111101100': 1, '11111011111111111111101110111010010': 1, '11111011111111111111111000011101111': 1, '11111011111111111111111000100101111': 1, '11111011111111111111111000101111010': 1, '11111011111111111111111010001111011': 1, '11111011111111111111111010001111111': 1, '11111011111111111111111011101101110': 1, '11111011111111111111111100100111111': 1, '11111011111111111111111101110101110': 1, '11111011111111111111111101111111110': 1, '11111011111111111111111110111100111': 1, '11111011111111111111111110111111111': 4, '11111011111111111111111111101111100': 1, '11111011111111111111111111111111111': 1, '11111100000000000000000000111111111': 1, '11111100000000000000000001101101100': 1, '11111100000000000000101101110011011': 1, '11111100000000010001111111011111101': 1, '11111100000000100000101111011010111': 1, '11111100000001000000100111101111001': 1, '11111100000111111111100110111101101': 1, '11111100001101101111111110101101111': 1, '11111100010000000000100000011111100': 1, '11111100100000000000000011001101100': 1, '11111100100000000101000101101110111': 1, '11111100110000000000001000001111111': 1, '11111101011111011101111111111101100': 1, '11111101011111100001001001001111110': 1, '11111101011111111111101111011111100': 1, '11111101101111111111111110101111111': 1, '11111101110010111110011101111101111': 1, '11111101110011011111111110110111111': 1, '11111101110011111111111010101111100': 1, '11111101110111110110111111111000110': 1, '11111101110111111111111110111011110': 1, '11111101111011111111111001011011110': 1, '11111101111101101111110111111111110': 1, '11111101111101111111111111101111110': 1, '11111101111110000010111111011111110': 1, '11111101111110111111101111111011111': 1, '11111101111111011011111111100000001': 1, '11111101111111101101110111111111101': 1, '11111101111111101110110111110111101': 1, '11111101111111101111111111111011101': 1, '11111101111111110110111110110110110': 1, '11111101111111110111110111111111110': 1, '11111101111111110111111101111011110': 1, '11111101111111111100111110101110110': 1, '11111101111111111101110111111111111': 1, '11111101111111111110111111110110110': 1, '11111101111111111111011111100111111': 1, '11111101111111111111011111101110111': 1, '11111101111111111111011111101111110': 1, '11111101111111111111110111111111111': 1, '11111101111111111111111000001111110': 1, '11111101111111111111111001100000001': 1, '11111101111111111111111101110111110': 1, '11111101111111111111111111111111111': 1, '11111110000000000000000001011111110': 1, '11111110000000000000000011001111110': 1, '11111110000000000000001100100111110': 1, '11111110000000000001010001001111111': 1, '11111110000000001000000111111010011': 1, '11111110000000001111011011111111101': 1, '11111110000000001111111111101011111': 1, '11111110000000010001011111111111110': 1, '11111110001110111011111110110011100': 1, '11111110001110111111110100011111110': 1, '11111110011001111111111111101111110': 1, '11111110011110011011111111110110111': 1, '11111110100000000000000001001111101': 1, '11111110100100000000000111011110111': 1, '11111110101000000001000101111111110': 1, '11111110101011110111111100111111110': 1, '11111110101100000000001011110110111': 1, '11111110101111111111011011101111101': 1, '11111110110111110110111111011111111': 1, '11111110111010110010111111111111101': 1, '11111110111011111010011110011111111': 1, '11111110111110011110110111111011111': 1, '11111110111111111011111001011011000': 1, '11111110111111111111010111111011110': 1, '11111110111111111111111011011111110': 1, '11111110111111111111111100111101110': 1, '11111110111111111111111110110101111': 1, '11111111001010111111011101000101110': 1, '11111111001101110110111111111101111': 1, '11111111001111100111111011011110001': 1, '11111111001111111111011110000111110': 1, '11111111010111111111111001000001000': 1, '11111111011001111110000010011111110': 1, '11111111011010010000000000001101110': 1, '11111111011011110111101110110111111': 1, '11111111011011111111101111101111111': 1, '11111111011101001111111111100111110': 1, '11111111011101011111111110111111110': 1, '11111111011110010001000100001111111': 1, '11111111011111011111111111111111000': 1, '11111111011111100110111100101101110': 1, '11111111011111110111111000000001010': 1, '11111111011111110111111110001101110': 1, '11111111011111111101111111101100110': 1, '11111111011111111110111111111111101': 1, '11111111011111111111011010001101010': 1, '11111111011111111111111100111011111': 1, '11111111011111111111111110111101110': 1, '11111111011111111111111110111111111': 1, '11111111011111111111111111101001110': 1, '11111111011111111111111111101101011': 1, '11111111011111111111111111110110110': 1, '11111111011111111111111111111111110': 4, '11111111100000000000000001001111111': 1, '11111111100111111111101110011110101': 1, '11111111101001100000001111110100111': 1, '11111111101001110111111110001111110': 1, '11111111101010111110111100111101110': 1, '11111111101011010110101111111111110': 1, '11111111101011010111110011111111111': 1, '11111111101011111110011101110011010': 1, '11111111101011111110011110111010110': 1, '11111111101011111111011110100101110': 1, '11111111101011111111011111111111100': 1, '11111111101011111111110000110111101': 1, '11111111101101111110011101111111110': 1, '11111111101110100111110111101110111': 1, '11111111101110101100111110110111101': 1, '11111111101110110111111111110111011': 1, '11111111101110111000000011110111111': 1, '11111111101110111110111011111111010': 1, '11111111101110111111111100111101110': 1, '11111111101110111111111110110110110': 1, '11111111101111001111011100101111110': 1, '11111111101111011101101011111111110': 1, '11111111101111011111010111001110111': 1, '11111111101111011111011101111111111': 1, '11111111101111100111111111011111101': 1, '11111111101111101110101011111101111': 1, '11111111101111101111111111101111110': 1, '11111111101111101111111111111111111': 1, '11111111101111110000101110111111110': 1, '11111111101111110100000010100100011': 1, '11111111101111111001111111100111110': 1, '11111111101111111010111101011111111': 1, '11111111101111111101111001011111111': 1, '11111111101111111101111111111110111': 1, '11111111101111111110010001001101111': 1, '11111111101111111110011100111111011': 1, '11111111101111111110111001111111111': 1, '11111111101111111110111110100011011': 1, '11111111101111111110111111101111111': 1, '11111111101111111110111111111111101': 1, '11111111101111111111011010111111111': 1, '11111111101111111111011101101111111': 1, '11111111101111111111011111101111111': 1, '11111111101111111111110111111111110': 1, '11111111101111111111111011111111111': 1, '11111111101111111111111100110111011': 1, '11111111101111111111111101110111011': 1, '11111111101111111111111110111011100': 1, '11111111101111111111111111101011110': 1, '11111111101111111111111111111000101': 1, '11111111101111111111111111111011110': 1, '11111111101111111111111111111011111': 1, '11111111110000000010101100100110110': 1, '11111111110000000100000000110101111': 1, '11111111110010110110111111111111110': 1, '11111111110010111111111110110111010': 1, '11111111110011011010011110111111110': 1, '11111111110011111110111111110111110': 1, '11111111110011111111011110111111101': 1, '11111111110100011111111111011101110': 1, '11111111110100101011110111101101110': 1, '11111111110100110111011111000111111': 1, '11111111110101111111111001101111111': 1, '11111111110101111111111010111011110': 1, '11111111110110111111011111000111101': 1, '11111111110111011100111101011111100': 1, '11111111110111110011111111101111100': 1, '11111111110111110110110110100111110': 1, '11111111110111110111111101101111011': 1, '11111111110111110111111110111111000': 1, '11111111110111110111111111110111111': 1, '11111111110111111101111111011111111': 1, '11111111110111111101111111111111000': 1, '11111111110111111110110110111111111': 1, '11111111110111111110111011111111100': 1, '11111111110111111110111101111111110': 1, '11111111110111111110111110001101111': 1, '11111111110111111110111110101101110': 1, '11111111110111111111011011111101100': 1, '11111111110111111111110011001101110': 1, '11111111110111111111110110111111010': 1, '11111111110111111111111011101111100': 1, '11111111110111111111111110110110011': 1, '11111111110111111111111111111111110': 4, '11111111111001010110111110111111101': 1, '11111111111001110001001011101111110': 1, '11111111111001110011000000000101110': 1, '11111111111001111100001011101111110': 1, '11111111111010101011111111111101110': 1, '11111111111010101111010111110111111': 1, '11111111111010110111111111111101110': 1, '11111111111010111001111111111110111': 1, '11111111111010111111010111111100110': 1, '11111111111010111111011101111011110': 1, '11111111111010111111111001110110110': 1, '11111111111010111111111010101111111': 1, '11111111111010111111111111111110111': 1, '11111111111011000000100011110000000': 1, '11111111111011011101111111111111110': 1, '11111111111011011111111101101111111': 1, '11111111111011101000100001000000001': 1, '11111111111011101110111010101011110': 1, '11111111111011101111011110111111111': 1, '11111111111011110000001001000011111': 1, '11111111111011110011011110101101111': 1, '11111111111011110100000000101111110': 1, '11111111111011110110111101110011110': 1, '11111111111011110111001110111110111': 1, '11111111111011110111110010011111110': 1, '11111111111011111001011001011100001': 1, '11111111111011111011111111110110100': 1, '11111111111011111011111111111111110': 1, '11111111111011111101111010111110100': 1, '11111111111011111101111110010111101': 1, '11111111111011111101111111111110010': 1, '11111111111011111110111111100111010': 1, '11111111111011111111000001010111101': 1, '11111111111011111111010110111001010': 1, '11111111111011111111011111001111111': 1, '11111111111011111111011111101111101': 1, '11111111111011111111100111110101111': 1, '11111111111011111111101101111010111': 1, '11111111111011111111101111111100110': 1, '11111111111011111111110010110000001': 1, '11111111111011111111110110111011111': 1, '11111111111011111111111101100111010': 1, '11111111111011111111111110000111111': 1, '11111111111011111111111111001111110': 1, '11111111111011111111111111111001110': 1, '11111111111100000001000111101111110': 1, '11111111111100000111111001111101110': 1, '11111111111100010001000001101111111': 1, '11111111111100011100111010111110110': 1, '11111111111100011111111010011111110': 1, '11111111111100011111111101010110111': 1, '11111111111100011111111111101111101': 1, '11111111111100111111111101111101111': 1, '11111111111100111111111111111101100': 1, '11111111111101000000000000001001111': 1, '11111111111101001111101111110111101': 1, '11111111111101010111101111010111110': 1, '11111111111101010111111111111101100': 1, '11111111111101011001010001000101101': 1, '11111111111101011101111111111111111': 1, '11111111111101011110111110111110110': 1, '11111111111101011111111011011111110': 1, '11111111111101011111111110101111110': 1, '11111111111101011111111111001111100': 1, '11111111111101011111111111110110110': 1, '11111111111101101111111111100111110': 1, '11111111111101110001010000011001111': 1, '11111111111101110011111110111101110': 1, '11111111111101110110111110111111011': 1, '11111111111101110110111111111111111': 4, '11111111111101110111111101111111111': 1, '11111111111101111100111101110111010': 1, '11111111111101111100111111110111111': 1, '11111111111101111101111011101111111': 1, '11111111111101111101111111001111011': 1, '11111111111101111110111101111110111': 1, '11111111111101111110111111101111111': 1, '11111111111101111111011111110111110': 1, '11111111111101111111011111111110110': 1, '11111111111101111111100111101111111': 1, '11111111111101111111111011111001110': 1, '11111111111101111111111011111111111': 1, '11111111111101111111111101111001100': 1, '11111111111101111111111101111111101': 1, '11111111111101111111111110110111100': 1, '11111111111101111111111110111111100': 1, '11111111111110000000001100101111111': 1, '11111111111110101110111111100011010': 1, '11111111111110110101111111111111111': 1, '11111111111110110111110101111101110': 1, '11111111111110111100011111011111010': 1, '11111111111110111100101111001111110': 1, '11111111111110111110111110110111110': 1, '11111111111110111110111111100111110': 1, '11111111111110111111011110010111111': 1, '11111111111110111111110101100111110': 1, '11111111111110111111111101111011111': 1, '11111111111110111111111110011010111': 1, '11111111111110111111111110111101111': 1, '11111111111110111111111111111110100': 1, '11111111111110111111111111111111110': 1, '11111111111111001011111110111111111': 1, '11111111111111010111111011101100110': 1, '11111111111111011011111111111011101': 1, '11111111111111011110011011111110111': 1, '11111111111111011110110101111001011': 1, '11111111111111011111011010000000000': 1, '11111111111111011111011111111110110': 1, '11111111111111011111110111101011100': 1, '11111111111111011111111111011011111': 1, '11111111111111100110111011011111111': 1, '11111111111111100111111010111111110': 1, '11111111111111101010111111100101110': 1, '11111111111111101010111111111011111': 1, '11111111111111101011011111101111111': 1, '11111111111111101110000001000010000': 1, '11111111111111101110110111111111111': 1, '11111111111111101110111110011111111': 1, '11111111111111101111011110111111110': 1, '11111111111111101111101110111101110': 1, '11111111111111101111101111111110110': 1, '11111111111111101111110000010111011': 1, '11111111111111101111110010111111110': 1, '11111111111111101111111101101111110': 1, '11111111111111101111111110001000000': 1, '11111111111111101111111110110111110': 1, '11111111111111101111111110111111011': 3, '11111111111111101111111111011111101': 1, '11111111111111101111111111111101110': 1, '11111111111111110000010001111111110': 1, '11111111111111110001111110111111111': 1, '11111111111111110100111111101100110': 1, '11111111111111110101001001010100110': 1, '11111111111111110101011111111011010': 1, '11111111111111110101111011110000001': 1, '11111111111111110110101111101111111': 1, '11111111111111110110101111111101111': 1, '11111111111111110110111011111101111': 1, '11111111111111110110111011111111011': 1, '11111111111111110110111111011111010': 1, '11111111111111110110111111111100110': 1, '11111111111111110111011011111111110': 1, '11111111111111110111011100111101111': 1, '11111111111111110111011111101111111': 1, '11111111111111110111100111111111110': 1, '11111111111111110111110001010111101': 1, '11111111111111110111110001111111111': 1, '11111111111111110111111001000100001': 1, '11111111111111110111111110000111111': 1, '11111111111111110111111110110011110': 1, '11111111111111110111111111011011111': 1, '11111111111111110111111111011110010': 1, '11111111111111110111111111011111011': 1, '11111111111111110111111111111111101': 1, '11111111111111111000001001011111110': 1, '11111111111111111001111101111111010': 1, '11111111111111111010011110111111111': 1, '11111111111111111010101111001111101': 1, '11111111111111111010111011101111110': 1, '11111111111111111010111101110111110': 1, '11111111111111111011011110101111111': 1, '11111111111111111011011110111111101': 1, '11111111111111111011110101011110111': 1, '11111111111111111011111110111111110': 1, '11111111111111111011111111111011100': 1, '11111111111111111011111111111100101': 1, '11111111111111111100000101111111111': 1, '11111111111111111100000110001111110': 1, '11111111111111111100010101001101100': 1, '11111111111111111101001110101111111': 1, '11111111111111111101100101010111110': 1, '11111111111111111101101010101111101': 1, '11111111111111111101110001011011111': 1, '11111111111111111101110010110110110': 1, '11111111111111111101110011111111111': 1, '11111111111111111101110100110111111': 1, '11111111111111111101110111010111111': 1, '11111111111111111101111110100111111': 1, '11111111111111111101111110111010000': 1, '11111111111111111101111111101101111': 1, '11111111111111111110001101110111101': 1, '11111111111111111110010111111011110': 1, '11111111111111111110011100101110111': 1, '11111111111111111110101001111101101': 1, '11111111111111111110101110110111111': 1, '11111111111111111110101111111101010': 1, '11111111111111111110110011111111111': 1, '11111111111111111110110111011111110': 1, '11111111111111111110110111111110100': 1, '11111111111111111110110111111111100': 1, '11111111111111111110111001001111100': 1, '11111111111111111110111011111101100': 1, '11111111111111111110111101111011110': 1, '11111111111111111110111101111111111': 1, '11111111111111111110111110101011111': 1, '11111111111111111110111110110101110': 1, '11111111111111111110111110111101111': 1, '11111111111111111110111110111111110': 3, '11111111111111111110111111101010110': 1, '11111111111111111110111111101101100': 1, '11111111111111111110111111111101110': 1, '11111111111111111110111111111111111': 3, '11111111111111111111000111011111110': 1, '11111111111111111111001111110101111': 1, '11111111111111111111010101110110110': 1, '11111111111111111111010111100110111': 1, '11111111111111111111011001011001101': 1, '11111111111111111111011001111101110': 1, '11111111111111111111011011100111110': 1, '11111111111111111111011011111111111': 4, '11111111111111111111011100011110111': 1, '11111111111111111111011100111101110': 1, '11111111111111111111011101001111111': 1, '11111111111111111111011110011100111': 1, '11111111111111111111011110100111101': 1, '11111111111111111111011111101111100': 1, '11111111111111111111011111110101111': 1, '11111111111111111111011111111011111': 1, '11111111111111111111011111111101111': 1, '11111111111111111111011111111111110': 3, '11111111111111111111100011010011000': 1, '11111111111111111111110000001111110': 1, '11111111111111111111110101101111100': 1, '11111111111111111111110101111111111': 1, '11111111111111111111110110100111111': 1, '11111111111111111111110110111111111': 1, '11111111111111111111110111010111110': 1, '11111111111111111111110111011111011': 1, '11111111111111111111110111110111101': 1, '11111111111111111111110111110111110': 1, '11111111111111111111111000101111101': 1, '11111111111111111111111001011101100': 1, '11111111111111111111111001111101100': 1, '11111111111111111111111010111011111': 1, '11111111111111111111111010111110101': 1, '11111111111111111111111010111111110': 1, '11111111111111111111111011011111111': 1, '11111111111111111111111011100111111': 1, '11111111111111111111111011110111110': 1, '11111111111111111111111100010101011': 1, '11111111111111111111111100011100101': 1, '11111111111111111111111100011111100': 1, '11111111111111111111111100011111110': 1, '11111111111111111111111101010111110': 1, '11111111111111111111111101011111111': 4, '11111111111111111111111101101011110': 1, '11111111111111111111111101110111100': 1, '11111111111111111111111101111100101': 1, '11111111111111111111111101111111011': 3, '11111111111111111111111110000111100': 1, '11111111111111111111111110011111111': 1, '11111111111111111111111110100101011': 1, '11111111111111111111111110100111110': 1, '11111111111111111111111110101101111': 1, '11111111111111111111111110110110110': 1, '11111111111111111111111110111011110': 1, '11111111111111111111111110111011111': 1, '11111111111111111111111110111111010': 1, '11111111111111111111111110111111101': 6, '11111111111111111111111110111111111': 2, '11111111111111111111111111001110110': 1, '11111111111111111111111111011111101': 1, '11111111111111111111111111011111110': 1, '11111111111111111111111111100011110': 1, '11111111111111111111111111101100110': 1, '11111111111111111111111111101111101': 1, '11111111111111111111111111110000100': 1, '11111111111111111111111111110101110': 1, '11111111111111111111111111110111101': 1, '11111111111111111111111111110111110': 3, '11111111111111111111111111110111111': 3, '11111111111111111111111111111110101': 1, '11111111111111111111111111111110110': 1, '11111111111111111111111111111111100': 1, '11111111111111111111111111111111110': 1, '11111111111111111111111111111111111': 2}\n"
     ]
    }
   ],
   "source": [
    "# Get results for the first (and only) PUB\n",
    "pub_result = sampler_result[0]\n",
    "print(f\"Counts for the meas output register: {pub_result.data.c.get_counts()}\")"
   ]
  },
  {
   "cell_type": "markdown",
   "id": "773466d6",
   "metadata": {},
   "source": [
    "### Sampler inputs\n",
    "<Admonition type=\"caution\">Fire Opal Performance Management accepts abstract circuits, in contrast to the native Qiskit Runtime primitives, which only accept circuits that are written in the target backend’s Instruction Set Architecture (ISA). For best results, do not transpile circuits before submitting via the Performance Management function. </Admonition>\n",
    "\n",
    "| Name       | Type            | Description | Required | Default | Example |\n",
    "|------------|---------------|------------------|----------|----------|--------------------|\n",
    "| pubs       | `QctrlSamplerPubLike` or `list[QctrlSamplerPubLike]`   | One or more tuples containing the inputs listed under `SamplerPubLike` components     | Yes      | N/A | `(circuit, parameter_values)`            |\n",
    "| instance   | `str`     | The hub/group/project to use in that format        | No | A Premium access instance is randomly chosen if your account has access to multiple instances     | `\"hub1/group1/project1\"`   |\n",
    "| backend_name| `str`  | The name of the backend | No  |  The least busy backend that your instance has access to | `\"ibm_fez\"` |\n",
    "| options| `dict`  | Input options; see Options section for more details | No  |  See the Options section for details | `{\"default_shots\": 2048}` |\n",
    "\n",
    "**`QctrlSamplerPubLike` components (derived from the [Qiskit Runtime PUB definition]((/guides/primitive-input-output#sampler-pub))):**\n",
    "- A single circuit defined as a `QuantumCircuit` or in OpenQASM 2.0 or 3.0 string format.\n",
    "- (Optional) A collection of parameter values to bind the circuit against.\n",
    "- (Optional) An integer representing the shot count, or a dictionary of runtime options, such as the shot count\n",
    "\n",
    "**Supported backends:**\n",
    "The following list of backends are currently supported. If your device is not listed, [reach out to Q-CTRL](https://form.typeform.com/to/iuujEAEI?typeform-source=q-ctrl.com) to add support.\n",
    "- ibm_brisbane  \n",
    "- ibm_brussels  \n",
    "- ibm_cleveland  \n",
    "- ibm_fez  \n",
    "- ibm_kawasaki  \n",
    "- ibm_kyiv  \n",
    "- ibm_nazca  \n",
    "- ibm_quebec  \n",
    "- ibm_rensselaer  \n",
    "- ibm_sherbrooke  \n",
    "- ibm_strasbourg  \n",
    "- ibm_torino\n",
    "\n",
    "**Options:**\n",
    "| Name   | Type   | Description  | Default |\n",
    "|--------|----------|-----------------------|---------------------|\n",
    "| session_id | `str`  | An existing Qiskit Runtime session ID  | `\"cw4r3je6f0t010870y3g\"` |\n",
    "| default_shots | `int`  | The number of shots to use for each circuit  | `2048` |\n",
    "\n",
    "### Sampler outputs\n",
    "| Name   | Type                                   | Description                                                                               | Example                         |\n",
    "|--------|----------------------------------------|-------------------------------------------------------------------------------------------|---------------------------------|\n",
    "| N/A | `PrimitiveResult`  | The [`PrimitiveResult`](https://docs.quantum.ibm.com/api/qiskit/qiskit.primitives.PrimitiveResult) corresponding to the list of input PUBs | `FIX THIS - - - - - -- - -` |\n"
   ]
  },
  {
   "cell_type": "markdown",
   "id": "bb33258d",
   "metadata": {},
   "source": [
    "## Get support\n",
    "\n",
    "For any questions or issues, [contact Q-CTRL](https://form.typeform.com/to/iuujEAEI)."
   ]
  },
  {
   "cell_type": "markdown",
   "id": "2fe4a6ea",
   "metadata": {},
   "source": [
    "## Next steps\n",
    "\n",
    "<Admonition type=\"tip\" title=\"Recommendations\">\n",
    "\n",
    "- Request access to [Q-CTRL Performance Management](https://quantum.ibm.com/functions?id=c750648c-ba44-4137-8c34-4140a3aaa7a9)\n",
    "\n",
    "</Admonition>"
   ]
  }
 ],
 "metadata": {
  "description": "Apply automated error suppression using Fire Opal Performance Management by Q-CTRL",
  "kernelspec": {
   "display_name": "Python 3",
   "language": "python",
   "name": "python3"
  },
  "language_info": {
   "codemirror_mode": {
    "name": "ipython",
    "version": 3
   },
   "file_extension": ".py",
   "mimetype": "text/x-python",
   "name": "python",
   "nbconvert_exporter": "python",
   "pygments_lexer": "ipython3",
   "version": "3.12.5"
  },
  "title": "Performance Management - A Qiskit Function by Q-CTRL Fire Opal"
 },
 "nbformat": 4,
 "nbformat_minor": 5
}
