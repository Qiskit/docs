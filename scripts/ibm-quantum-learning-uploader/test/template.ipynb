{
 "cells": [
  {
   "cell_type": "markdown",
   "id": "e99ce807-9932-42ed-a8ef-453a9cd39d96",
   "metadata": {},
   "source": [
    "# Test lesson\n",
    "\n",
    "Here's a lesson to test the uploader tool. The last time this lesson was uploaded, it had uuid `_REPLACE_WITH_UUID_`.\n",
    "\n",
    "$$ m = \\frac{ath}{test} $$"
   ]
  },
  {
   "cell_type": "code",
   "execution_count": 1,
   "id": "b68c5cc1-e5f6-43f2-81e6-7a4efb36b74a",
   "metadata": {},
   "outputs": [
    {
     "name": "stdout",
     "output_type": "stream",
     "text": [
      "hey!\n"
     ]
    }
   ],
   "source": [
    "# Code block\n",
    "print(\"hey!\")"
   ]
  }
 ],
 "metadata": {
  "kernelspec": {
   "display_name": "Python 3",
   "language": "python",
   "name": "python3"
  },
  "language_info": {
   "codemirror_mode": {
    "name": "ipython",
    "version": 3
   },
   "file_extension": ".py",
   "mimetype": "text/x-python",
   "name": "python",
   "nbconvert_exporter": "python",
   "pygments_lexer": "ipython3",
   "version": "3"
  }
 },
 "nbformat": 4,
 "nbformat_minor": 5
}
